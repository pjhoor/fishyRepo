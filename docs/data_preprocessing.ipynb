{
 "cells": [
  {
   "cell_type": "markdown",
   "metadata": {},
   "source": [
    "# Dataset and Preprocessing\n"
   ]
  },
  {
   "cell_type": "markdown",
   "metadata": {},
   "source": [
    "First of all, for the first two bar charts, we needed the total amount of CO2 emitted per country, for all years. To get this, we filtered our dataset \"Total Emissions Per Country (2000-2020)\" to only keep the relevant data. We specifically selected the CO2 emissions only, and we had to choose between the values: 'All sectors without LULUCF' and 'All sectors with LULUCF'. LULUCF stands for Land-Use Change and Forestry which includes the emissions that are released when cutting down forests, but also the emissions that are absorbed when planting forests. Which means that this LULUCF value can be negative. Eventually we settled on the data without LULUCF, because otherwise some countries would have negative CO2 emissions, which would be confusing to visualize.\n",
    "After that, we combined this data with the total surface area of each country from our \"Global Data on Sustainable Energy (2000-2020)\" dataset. Then we made new columns for each year, containing the relative emissions, which are the emissions divided by the country surface area (kilotonnes CO2/km^2).\n",
    "\n",
    "\n",
    "For our world heat map, we needed to normalize these relative emissions to turn them into values from 0 to 1, so we used these normalized values to assign colors from green to yellow to red to each country in our heat map."
   ]
  },
  {
   "cell_type": "markdown",
   "metadata": {},
   "source": [
    "### Datasets used\n",
    "The dataset about total emissions per country during 2000-2020 can be downloaded [here](https://www.kaggle.com/datasets/justin2028/total-emissions-per-country-2000-2020 )\n",
    "\n",
    "The dataset about sustainable energy and other data per country during 2000-2020 can be downloaded [here](https://www.kaggle.com/datasets/anshtanwar/global-data-on-sustainable-energy/data)\n"
   ]
  },
  {
   "cell_type": "markdown",
   "metadata": {},
   "source": [
    "### Variable descriptions\n",
    "\n",
    "#### The variables used in the data story have the following:\n",
    "\n",
    "- Discrete / Categorical variables: `Element`, `Area`, `Item`, `Entity`\n",
    "- Discrete / Interval variables: `Year`\n",
    "- Continuous / Ratio variables: `20xx`(years 2000-2020), `Electricity from fossil fuels (TWh)`, `Electricity from nuclear (TWh)`, `Electricity from renewables (TWh)`,\n",
    "`Land Area (Km2)`\n",
    "\n",
    "\n",
    "#### The meaning of the variables is the following:\n",
    "The variables we used from the first dataset (Total emissions per country during 2000-2020) were:\n",
    "- `Element` means the type of emissions. We use the element CO2 for emissions.\n",
    "- `Area` is a country or continent in the world.\n",
    "- `Item` is the source of the emissions.\n",
    "- `20xx` (years 2000-2020) is the amount of kilotones CO2 that was emitted in the year. \n",
    "\n",
    "The variables we used from the second dataset (Global Data on Sustainable Energy (2000-2020)) were:\n",
    "\n",
    "- `Entity` means the name of the country or region, which is needed to get the data of countries and compare them. \n",
    "- `Year` is the year of the data 2000-2020, which is needed to analyze the data.\n",
    "- `Electricity from fossil fuels (TWh)` is the total electricity in TWh obtained from fossil fuels from a country.\n",
    "- `Electricity from nuclear (TWh)` is the total electricity in TWh obtained from nuclear sources from a country.\n",
    "- `Electricity from renewables (TWh)` is the total electricity in TWh obtained from renewable sources from a country.\n",
    "- `Land Area (Km2)` means the total area of the country or region in km², which we can use to fairly compare the sustainable energy between countries."
   ]
  }
 ],
 "metadata": {
  "language_info": {
   "name": "python"
  }
 },
 "nbformat": 4,
 "nbformat_minor": 2
}
