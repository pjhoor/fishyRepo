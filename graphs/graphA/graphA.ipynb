{
 "cells": [
  {
   "cell_type": "code",
   "execution_count": 125,
   "metadata": {},
   "outputs": [],
   "source": [
    "# Imports\n",
    "import pandas as pd\n",
    "import plotly.io as pio\n",
    "import plotly.graph_objs as go\n",
    "import plotly.express as px\n",
    "\n",
    "ems = pd.read_csv('../../datasets/emissions.csv')\n",
    "sus = pd.read_csv('../../datasets/sus.csv')\n",
    "popu = pd.read_csv('../../datasets/popu.csv')\n"
   ]
  },
  {
   "cell_type": "code",
   "execution_count": 126,
   "metadata": {},
   "outputs": [],
   "source": [
    "## Preprocessing\n",
    "\n",
    "# Filter the dataset\n",
    "filtered_ems = ems[((ems['Item'] == 'All sectors with LULUCF') | (ems['Item'] == 'All sectors without LULUCF')) & (ems['Element'] == 'Emissions (CO2)')]\n",
    "\n",
    "# Select the required columns\n",
    "filtered_ems = filtered_ems[['Area', 'Item', '2000', '2010', '2015', '2020']]\n",
    "\n",
    "# Write to a new dataset\n",
    "filtered_ems.to_csv('emissions.csv', index=False)\n",
    "\n",
    "\n",
    "# Get unique values of 'Entity' and 'Land Area(Km2)'\n",
    "area_values = sus[['Entity', 'Land Area(Km2)']]\n",
    "\n",
    "# Write to a new dataset\n",
    "area_values.to_csv('landAreas.csv', index=False)\n",
    "\n",
    "\n",
    "# Get unique value of 'Country/Territory' and '2000 Population' to '2020 Population'\n",
    "pop_values = popu[['Country/Territory', '2000 Population', '2010 Population', '2015 Population', '2020 Population']]\n",
    "\n",
    "# Write to a new dataset\n",
    "pop_values.to_csv('populations.csv', index=False)\n"
   ]
  },
  {
   "cell_type": "code",
   "execution_count": 127,
   "metadata": {},
   "outputs": [],
   "source": [
    "# Load the new datasets\n",
    "ems = pd.read_csv('emissions.csv')\n",
    "area = pd.read_csv('landAreas.csv')\n",
    "pop = pd.read_csv('populations.csv')\n",
    "\n",
    "# Select the years to calculate the relative values for\n",
    "years = ['2000', '2010', '2015', '2020']\n",
    "\n",
    "# Merge ems with area\n",
    "merge = ems.merge(area, left_on='Area', right_on='Entity', how='outer')\n",
    "\n",
    "# Merge the result with pop\n",
    "merge = merge.merge(pop, left_on='Area', right_on='Country/Territory', how='outer')\n",
    "\n",
    "# Remove rows with any empty cells from merge\n",
    "merge = merge.dropna()\n",
    "\n",
    "# Calculate the relative values and store them in new columns\n",
    "for year in years:\n",
    "    merge[year+'/area'] = (merge[year] / merge['Land Area(Km2)'])\n",
    "for year in years:\n",
    "    merge[year+'/pop'] = (merge[year] / merge[year+' Population'])\n",
    "\n",
    "merge = merge.drop(columns=['Entity', 'Country/Territory'])\n",
    "merge = merge[merge['Area'] != 'Bermuda']\n",
    "\n",
    "\n",
    "merge = merge.drop_duplicates()\n",
    "\n",
    "# Write merge to a new CSV file\n",
    "merge.to_csv('merge.csv', index=False)\n"
   ]
  },
  {
   "cell_type": "code",
   "execution_count": 128,
   "metadata": {},
   "outputs": [
    {
     "data": {
      "application/vnd.plotly.v1+json": {
       "config": {
        "plotlyServerURL": "https://plot.ly"
       },
       "data": [
        {
         "name": "2000",
         "type": "bar",
         "x": [
          "Afghanistan",
          "Albania",
          "Algeria",
          "Angola",
          "Antigua and Barbuda",
          "Argentina",
          "Armenia",
          "Aruba",
          "Australia",
          "Austria",
          "Azerbaijan",
          "Bahamas",
          "Bahrain",
          "Bangladesh",
          "Barbados",
          "Belarus",
          "Belgium",
          "Belize",
          "Benin",
          "Bhutan",
          "Bosnia and Herzegovina",
          "Botswana",
          "Brazil",
          "Bulgaria",
          "Burkina Faso",
          "Burundi",
          "Cambodia",
          "Cameroon",
          "Canada",
          "Central African Republic",
          "Chad",
          "Chile",
          "China",
          "Colombia",
          "Comoros",
          "Congo",
          "Costa Rica",
          "Croatia",
          "Cuba",
          "Cyprus",
          "Czechia",
          "Denmark",
          "Djibouti",
          "Dominica",
          "Dominican Republic",
          "Ecuador",
          "Egypt",
          "El Salvador",
          "Equatorial Guinea",
          "Eritrea",
          "Estonia",
          "Eswatini",
          "Ethiopia",
          "Fiji",
          "Finland",
          "France",
          "Gabon",
          "Gambia",
          "Georgia",
          "Germany",
          "Ghana",
          "Greece",
          "Grenada",
          "Guatemala",
          "Guinea",
          "Guinea-Bissau",
          "Guyana",
          "Haiti",
          "Honduras",
          "Hungary",
          "Iceland",
          "India",
          "Indonesia",
          "Iraq",
          "Ireland",
          "Israel",
          "Italy",
          "Jamaica",
          "Japan",
          "Jordan",
          "Kazakhstan",
          "Kenya",
          "Kiribati",
          "Kuwait",
          "Kyrgyzstan",
          "Latvia",
          "Lebanon",
          "Lesotho",
          "Liberia",
          "Libya",
          "Lithuania",
          "Luxembourg",
          "Madagascar",
          "Malawi",
          "Malaysia",
          "Maldives",
          "Mali",
          "Malta",
          "Mauritania",
          "Mauritius",
          "Mexico",
          "Mongolia",
          "Morocco",
          "Mozambique",
          "Myanmar",
          "Namibia",
          "Nauru",
          "Nepal",
          "Netherlands",
          "New Zealand",
          "Nicaragua",
          "Niger",
          "Nigeria",
          "North Macedonia",
          "Norway",
          "Oman",
          "Pakistan",
          "Panama",
          "Papua New Guinea",
          "Paraguay",
          "Peru",
          "Philippines",
          "Poland",
          "Portugal",
          "Qatar",
          "Romania",
          "Rwanda",
          "Saint Kitts and Nevis",
          "Saint Lucia",
          "Saint Vincent and the Grenadines",
          "Samoa",
          "Sao Tome and Principe",
          "Saudi Arabia",
          "Senegal",
          "Seychelles",
          "Sierra Leone",
          "Singapore",
          "Slovakia",
          "Slovenia",
          "Solomon Islands",
          "Somalia",
          "South Africa",
          "Spain",
          "Sri Lanka",
          "Suriname",
          "Sweden",
          "Switzerland",
          "Tajikistan",
          "Thailand",
          "Togo",
          "Tonga",
          "Trinidad and Tobago",
          "Tunisia",
          "Turkmenistan",
          "Tuvalu",
          "Uganda",
          "Ukraine",
          "United Arab Emirates",
          "Uruguay",
          "Uzbekistan",
          "Vanuatu",
          "Yemen",
          "Zambia",
          "Zimbabwe"
         ],
         "y": [
          0.0014013461508976895,
          0.1099439961040768,
          0.03865713778282357,
          0.013415416700088233,
          0.6670880361173814,
          0.05241294418069343,
          0.12201190196012507,
          13.314525139664806,
          0.04395980220172014,
          0.7852666595128234,
          0.5018937644341801,
          0.1413802421098141,
          27.555555555555557,
          0.1991782298262158,
          2.7046511627906975,
          0.2764282273603083,
          3.937444313417191,
          0.017343028825219892,
          0.013394105947328231,
          0.011954992967651195,
          0.27391136199386684,
          0.006583294655596239,
          0.040750865746726365,
          0.42385212709349834,
          0.003963894967177244,
          0.010632411067193676,
          0.011144640539122268,
          0.012521033148241628,
          0.05596479402924683,
          0.00046052547095912574,
          0.00040708722741433025,
          0.07975179924242425,
          0.4000902365957553,
          0.05047220588106172,
          0.0469351230425056,
          0.0019622601431136316,
          0.10706457925636008,
          0.3617697989186133,
          0.24220036983582896,
          0.7643498000216192,
          1.6316149154949222,
          1.2471197846567967,
          0.015917241379310342,
          0.17723035952063915,
          0.4031284980480789,
          0.07646703883820412,
          0.1473864366668331,
          0.2726581436243525,
          0.09848525899254928,
          0.005176870748299319,
          0.37746550809233215,
          0.06992398064961991,
          0.003196249207642851,
          0.045961475320126954,
          0.15913291635245236,
          0.6088838010503246,
          0.023978137013528,
          0.02501858407079646,
          0.0817503586800574,
          2.438202687789548,
          0.027124129575362737,
          0.6984103836855945,
          0.5499169054441261,
          0.09047745869647071,
          0.0062349251800843586,
          0.004245259515570934,
          0.008158632174871725,
          0.0490990990990991,
          0.044829155143188505,
          0.6289471986928666,
          0.0286152427184466,
          0.32811490896834233,
          0.14979467795600998,
          0.1814668379278011,
          0.5080904040463866,
          2.9860375541646604,
          1.5356208933430677,
          0.937221362933309,
          3.3963232648223016,
          0.1718116899106803,
          0.04716136371976953,
          0.018182786064679764,
          0.04134401972872996,
          3.1299809181726346,
          0.02387084835784767,
          0.11042422084255832,
          1.4894503846153846,
          0.061130291549991764,
          0.003930178056730329,
          0.02822328563147186,
          0.1919019908116386,
          3.3170920340293892,
          0.0032595679007088093,
          0.007593430336585531,
          0.3942485455377796,
          1.524530201342282,
          0.0007205900376715863,
          6.812120253164557,
          0.0010907926651790045,
          1.3232773529411765,
          0.21688139993636654,
          0.004805788061755011,
          0.07493001903482253,
          0.0018489329230153369,
          0.015580760828758844,
          0.002002021128435069,
          4.03252380952381,
          0.021103267405439562,
          4.5353537298702555,
          0.13473973173435305,
          0.028779627214850043,
          0.0006154696132596685,
          0.08750032475686537,
          0.4784778127795279,
          0.14697297422498934,
          0.0721389337641357,
          0.13720724285418198,
          0.0762264651286131,
          0.006524256762596145,
          0.009266580127448666,
          0.022639564088837986,
          0.24513333333333334,
          0.9888322113308922,
          0.686634169088622,
          3.3764894010012085,
          0.4012475303178392,
          0.02075708102361607,
          0.660816091954023,
          0.5680241883116883,
          0.38060359897172236,
          0.05100671140939597,
          0.057854066985645936,
          0.14490461415366868,
          0.02019601264728907,
          1.2613626373626372,
          0.005727627543908559,
          71.54581005586593,
          0.7766370959518711,
          0.7498357421200612,
          0.007995916389811739,
          0.0007943141845851296,
          0.3834007333338802,
          0.6071393236638503,
          0.15552507239750038,
          0.013682938591136614,
          0.11943281626489302,
          0.9560869249218693,
          0.01989590562109646,
          0.350813493919551,
          0.02384598045258431,
          0.12834805890227577,
          6.686817472698908,
          0.1234032149624106,
          0.0778098750256095,
          0.2823807692307692,
          0.005978310473867191,
          0.6167344876149449,
          1.381578947368421,
          0.030276820928978803,
          0.28234242288779615,
          0.007136762654852736,
          0.029321852839566034,
          0.002420882838305754,
          0.03733266454599662
         ]
        },
        {
         "name": "2010",
         "type": "bar",
         "x": [
          "Afghanistan",
          "Albania",
          "Algeria",
          "Angola",
          "Antigua and Barbuda",
          "Argentina",
          "Armenia",
          "Aruba",
          "Australia",
          "Austria",
          "Azerbaijan",
          "Bahamas",
          "Bahrain",
          "Bangladesh",
          "Barbados",
          "Belarus",
          "Belgium",
          "Belize",
          "Benin",
          "Bhutan",
          "Bosnia and Herzegovina",
          "Botswana",
          "Brazil",
          "Bulgaria",
          "Burkina Faso",
          "Burundi",
          "Cambodia",
          "Cameroon",
          "Canada",
          "Central African Republic",
          "Chad",
          "Chile",
          "China",
          "Colombia",
          "Comoros",
          "Congo",
          "Costa Rica",
          "Croatia",
          "Cuba",
          "Cyprus",
          "Czechia",
          "Denmark",
          "Djibouti",
          "Dominica",
          "Dominican Republic",
          "Ecuador",
          "Egypt",
          "El Salvador",
          "Equatorial Guinea",
          "Eritrea",
          "Estonia",
          "Eswatini",
          "Ethiopia",
          "Fiji",
          "Finland",
          "France",
          "Gabon",
          "Gambia",
          "Georgia",
          "Germany",
          "Ghana",
          "Greece",
          "Grenada",
          "Guatemala",
          "Guinea",
          "Guinea-Bissau",
          "Guyana",
          "Haiti",
          "Honduras",
          "Hungary",
          "Iceland",
          "India",
          "Indonesia",
          "Iraq",
          "Ireland",
          "Israel",
          "Italy",
          "Jamaica",
          "Japan",
          "Jordan",
          "Kazakhstan",
          "Kenya",
          "Kiribati",
          "Kuwait",
          "Kyrgyzstan",
          "Latvia",
          "Lebanon",
          "Lesotho",
          "Liberia",
          "Libya",
          "Lithuania",
          "Luxembourg",
          "Madagascar",
          "Malawi",
          "Malaysia",
          "Maldives",
          "Mali",
          "Malta",
          "Mauritania",
          "Mauritius",
          "Mexico",
          "Mongolia",
          "Morocco",
          "Mozambique",
          "Myanmar",
          "Namibia",
          "Nauru",
          "Nepal",
          "Netherlands",
          "New Zealand",
          "Nicaragua",
          "Niger",
          "Nigeria",
          "North Macedonia",
          "Norway",
          "Oman",
          "Pakistan",
          "Panama",
          "Papua New Guinea",
          "Paraguay",
          "Peru",
          "Philippines",
          "Poland",
          "Portugal",
          "Qatar",
          "Romania",
          "Rwanda",
          "Saint Kitts and Nevis",
          "Saint Lucia",
          "Saint Vincent and the Grenadines",
          "Samoa",
          "Sao Tome and Principe",
          "Saudi Arabia",
          "Senegal",
          "Seychelles",
          "Sierra Leone",
          "Singapore",
          "Slovakia",
          "Slovenia",
          "Solomon Islands",
          "Somalia",
          "South Africa",
          "Spain",
          "Sri Lanka",
          "Suriname",
          "Sweden",
          "Switzerland",
          "Tajikistan",
          "Thailand",
          "Togo",
          "Tonga",
          "Trinidad and Tobago",
          "Tunisia",
          "Turkmenistan",
          "Tuvalu",
          "Uganda",
          "Ukraine",
          "United Arab Emirates",
          "Uruguay",
          "Uzbekistan",
          "Vanuatu",
          "Yemen",
          "Zambia",
          "Zimbabwe"
         ],
         "y": [
          0.01323152875519372,
          0.17150619173507722,
          0.050635938164561134,
          0.018796021496751424,
          1.0344018058690745,
          0.06896133649834556,
          0.14759775409340012,
          14.046648044692738,
          0.052434099534698665,
          0.8474942828868143,
          0.34907621247113163,
          0.17323980400634098,
          41.4640522875817,
          0.3765997575104405,
          3.4209302325581397,
          0.3164344894026975,
          3.8165605345911953,
          0.023468170338761647,
          0.042018948340466336,
          0.02198260144814294,
          0.4349959958591324,
          0.007861035188145703,
          0.051535210556414746,
          0.41349137347919807,
          0.007732093362509117,
          0.011645706072583544,
          0.028434335901897423,
          0.018639575971731447,
          0.05445898562496307,
          0.00045779666893531773,
          0.0008998442367601246,
          0.0958344563388776,
          0.9702570509828111,
          0.06845668226637751,
          0.07313199105145414,
          0.0023140969869221103,
          0.1485518590998043,
          0.3836100964766583,
          0.31201938480966984,
          0.8248837963463409,
          1.4818057334127879,
          1.1053466839931312,
          0.022402155172413795,
          0.24380825565912118,
          0.4247044380521882,
          0.1313783277672176,
          0.21149368615507516,
          0.3051661042726106,
          0.30847385119960075,
          0.004264455782312925,
          0.4640757937560803,
          0.05899447131997236,
          0.00581900389386942,
          0.06285597023092919,
          0.1904508420943678,
          0.5973740332804702,
          0.02203941838179529,
          0.03884070796460177,
          0.10221233859397418,
          2.2250029409952328,
          0.041566575693929145,
          0.6451687292072418,
          0.7482808022922636,
          0.10285703790098173,
          0.01034341100721151,
          0.006816055363321799,
          0.008814568612218505,
          0.07650450450450451,
          0.07184494602551521,
          0.5730532742830116,
          0.037200776699029124,
          0.5375900863423462,
          0.2347665009773865,
          0.2566407417462704,
          0.4823503630613236,
          3.4357246027924893,
          1.3780513705448993,
          0.7053953234464562,
          3.2812268484219884,
          0.2314700812607732,
          0.09530569195199824,
          0.020764225050700677,
          0.0731331689272503,
          5.235716690986643,
          0.03256797915489295,
          0.13541533388038213,
          1.9221266346153845,
          0.07530719815516389,
          0.007005540141331969,
          0.036509542266728805,
          0.221612404287902,
          4.223511214230472,
          0.0034205447319693174,
          0.008996995374902941,
          0.645322831494602,
          3.1518456375838926,
          0.0016624683919909177,
          8.24890506329114,
          0.0019677209663335597,
          1.926643137254902,
          0.25517989182309897,
          0.009012625022696525,
          0.1222707423580786,
          0.004503490204908804,
          0.019956161743361445,
          0.0038584627777535144,
          2.116761904761905,
          0.03342822782832023,
          4.80978504200467,
          0.1270750414747915,
          0.034586177801641485,
          0.0009720599842146803,
          0.12719643893271904,
          0.35146035079531757,
          0.17597216200023472,
          0.16707592891760906,
          0.20173471759023734,
          0.12071068682047202,
          0.01032197519661222,
          0.012840931329163715,
          0.03383709819983567,
          0.28173,
          1.0442010329884708,
          0.5567832820023424,
          6.842742982910409,
          0.35170727921775574,
          0.02277697623206014,
          0.8454904214559387,
          0.5995146103896104,
          0.5688555269922879,
          0.06654539032144118,
          0.11951794258373206,
          0.26175867218064,
          0.03761653500879414,
          0.9810549450549451,
          0.008451352104822972,
          88.45628491620111,
          0.7876068114612013,
          0.790877028560154,
          0.01171373200442968,
          0.001014024781347966,
          0.4329458858656867,
          0.5615687516077329,
          0.2001371742112483,
          0.014907734098400684,
          0.12835363483938306,
          0.9571965016837464,
          0.022338653712699514,
          0.5285586217648893,
          0.04633524698423879,
          0.15733199464524766,
          12.519500780031201,
          0.1714442882464397,
          0.12030321655398483,
          0.28239615384615385,
          0.015520374380803026,
          0.5554524065943169,
          1.958133971291866,
          0.03615634310359504,
          0.24646848457755924,
          0.010182131429977849,
          0.04587399236317353,
          0.00346390864954067,
          0.021445553118690133
         ]
        },
        {
         "name": "2015",
         "type": "bar",
         "x": [
          "Afghanistan",
          "Albania",
          "Algeria",
          "Angola",
          "Antigua and Barbuda",
          "Argentina",
          "Armenia",
          "Aruba",
          "Australia",
          "Austria",
          "Azerbaijan",
          "Bahamas",
          "Bahrain",
          "Bangladesh",
          "Barbados",
          "Belarus",
          "Belgium",
          "Belize",
          "Benin",
          "Bhutan",
          "Bosnia and Herzegovina",
          "Botswana",
          "Brazil",
          "Bulgaria",
          "Burkina Faso",
          "Burundi",
          "Cambodia",
          "Cameroon",
          "Canada",
          "Central African Republic",
          "Chad",
          "Chile",
          "China",
          "Colombia",
          "Comoros",
          "Congo",
          "Costa Rica",
          "Croatia",
          "Cuba",
          "Cyprus",
          "Czechia",
          "Denmark",
          "Djibouti",
          "Dominica",
          "Dominican Republic",
          "Ecuador",
          "Egypt",
          "El Salvador",
          "Equatorial Guinea",
          "Eritrea",
          "Estonia",
          "Eswatini",
          "Ethiopia",
          "Fiji",
          "Finland",
          "France",
          "Gabon",
          "Gambia",
          "Georgia",
          "Germany",
          "Ghana",
          "Greece",
          "Grenada",
          "Guatemala",
          "Guinea",
          "Guinea-Bissau",
          "Guyana",
          "Haiti",
          "Honduras",
          "Hungary",
          "Iceland",
          "India",
          "Indonesia",
          "Iraq",
          "Ireland",
          "Israel",
          "Italy",
          "Jamaica",
          "Japan",
          "Jordan",
          "Kazakhstan",
          "Kenya",
          "Kiribati",
          "Kuwait",
          "Kyrgyzstan",
          "Latvia",
          "Lebanon",
          "Lesotho",
          "Liberia",
          "Libya",
          "Lithuania",
          "Luxembourg",
          "Madagascar",
          "Malawi",
          "Malaysia",
          "Maldives",
          "Mali",
          "Malta",
          "Mauritania",
          "Mauritius",
          "Mexico",
          "Mongolia",
          "Morocco",
          "Mozambique",
          "Myanmar",
          "Namibia",
          "Nauru",
          "Nepal",
          "Netherlands",
          "New Zealand",
          "Nicaragua",
          "Niger",
          "Nigeria",
          "North Macedonia",
          "Norway",
          "Oman",
          "Pakistan",
          "Panama",
          "Papua New Guinea",
          "Paraguay",
          "Peru",
          "Philippines",
          "Poland",
          "Portugal",
          "Qatar",
          "Romania",
          "Rwanda",
          "Saint Kitts and Nevis",
          "Saint Lucia",
          "Saint Vincent and the Grenadines",
          "Samoa",
          "Sao Tome and Principe",
          "Saudi Arabia",
          "Senegal",
          "Seychelles",
          "Sierra Leone",
          "Singapore",
          "Slovakia",
          "Slovenia",
          "Solomon Islands",
          "Somalia",
          "South Africa",
          "Spain",
          "Sri Lanka",
          "Suriname",
          "Sweden",
          "Switzerland",
          "Tajikistan",
          "Thailand",
          "Togo",
          "Tonga",
          "Trinidad and Tobago",
          "Tunisia",
          "Turkmenistan",
          "Tuvalu",
          "Uganda",
          "Ukraine",
          "United Arab Emirates",
          "Uruguay",
          "Uzbekistan",
          "Vanuatu",
          "Yemen",
          "Zambia",
          "Zimbabwe"
         ],
         "y": [
          0.012547720896002944,
          0.17018923055516907,
          0.07007561275554311,
          0.023333600705863478,
          1.0906546275395035,
          0.0717022730542368,
          0.17486467404095082,
          5.044972067039106,
          0.04906261545337815,
          0.7676096982270392,
          0.407621247113164,
          0.14794530912235193,
          46.02614379084967,
          0.5049845076114778,
          2.9776744186046513,
          0.29858526011560693,
          3.378593422431866,
          0.028082382652616915,
          0.050117339418586065,
          0.03615148200239621,
          0.37730081840732854,
          0.009404019046636757,
          0.061260344044050036,
          0.42619161428223556,
          0.013917541940189643,
          0.015720445562342797,
          0.047563178390918885,
          0.021521117280834594,
          0.05749183498302898,
          0.0005048283744044791,
          0.0009587227414330218,
          0.10891480790799052,
          1.1173114819692902,
          0.07715025770254015,
          0.07677404921700223,
          0.0024805929797318935,
          0.14661448140900196,
          0.3341348870905043,
          0.2673144145769439,
          0.7192735920441033,
          1.3157928769763283,
          0.7558797048312991,
          0.018754310344827586,
          0.24049267643142477,
          0.4842903842202589,
          0.14880085766378312,
          0.23256317339857208,
          0.3240340288009125,
          0.2485829382196713,
          0.00559608843537415,
          0.45123248872379945,
          0.05671389080856945,
          0.011592094539527302,
          0.11275582795228194,
          0.13429150216623045,
          0.5315462386669173,
          0.02492004244079397,
          0.04701769911504424,
          0.15121951219512195,
          2.12974830682703,
          0.06955012513991775,
          0.5124671673348137,
          0.748137535816619,
          0.1434488332154763,
          0.010186815913315463,
          0.007960138408304498,
          0.009369825416687988,
          0.11614414414414415,
          0.09157105897047016,
          0.5104000945951757,
          0.03642388349514563,
          0.7283262702132443,
          0.2725792554640971,
          0.3875961917972609,
          0.43584653107639093,
          3.3259508907077517,
          1.1390721444215837,
          0.7299426803748522,
          3.2264832885295176,
          0.2837411295919053,
          0.08813404528606554,
          0.02865614344027142,
          0.07761159062885327,
          5.6701088786620275,
          0.052302814189476424,
          0.2330146000092895,
          2.481731278846154,
          0.07696557404052051,
          0.011008449388968205,
          0.02801300339861555,
          0.2360791730474732,
          3.545630317092034,
          0.006060905456348024,
          0.009368353532966476,
          0.7596437136005482,
          4.382214765100671,
          0.002565376973887914,
          5.308768987341772,
          0.0029068594159309207,
          2.071005882352941,
          0.25455781100859054,
          0.015028826506473945,
          0.13165379016907403,
          0.009207135530035777,
          0.03341078190541224,
          0.004729392011568716,
          2.641285714285714,
          0.04640544635516813,
          4.313918108947356,
          0.14258549758590677,
          0.04066886553654982,
          0.0017213101815311761,
          0.12145906764469001,
          0.29274297048185743,
          0.16683095224859637,
          0.23295638126009693,
          0.22158159516138148,
          0.14309201803235216,
          0.014215389767522254,
          0.0153927009578318,
          0.038762846089684534,
          0.37843666666666664,
          0.9576570670163264,
          0.5586659003166615,
          10.435010193336785,
          0.31879240407565723,
          0.03634292656997494,
          0.9028544061302682,
          0.5863996753246753,
          0.5507578406169665,
          0.08357117626280466,
          0.13758373205741625,
          0.3262330847703622,
          0.05057898964020292,
          1.0612087912087913,
          0.013069417340395875,
          100.69525139664805,
          0.6862506372998879,
          0.663049376017363,
          0.010437084717607972,
          0.001045546430134069,
          0.41809874578579104,
          0.5257929833587273,
          0.3039475689681451,
          0.016798278598461724,
          0.09177539168767142,
          0.869237832206798,
          0.03934767522553782,
          0.5856651465544123,
          0.047797481729329926,
          0.16275769745649263,
          11.680967238689547,
          0.18544098771468737,
          0.15306289694734684,
          0.42411538461538456,
          0.019552933562342868,
          0.3630339822715599,
          3.0023923444976077,
          0.03852861561161081,
          0.24170764416629414,
          0.011089506932480104,
          0.026774349960603672,
          0.005694788059812547,
          0.03258035044797662
         ]
        },
        {
         "name": "2020",
         "type": "bar",
         "x": [
          "Afghanistan",
          "Albania",
          "Algeria",
          "Angola",
          "Antigua and Barbuda",
          "Argentina",
          "Armenia",
          "Aruba",
          "Australia",
          "Austria",
          "Azerbaijan",
          "Bahamas",
          "Bahrain",
          "Bangladesh",
          "Barbados",
          "Belarus",
          "Belgium",
          "Belize",
          "Benin",
          "Bhutan",
          "Bosnia and Herzegovina",
          "Botswana",
          "Brazil",
          "Bulgaria",
          "Burkina Faso",
          "Burundi",
          "Cambodia",
          "Cameroon",
          "Canada",
          "Central African Republic",
          "Chad",
          "Chile",
          "China",
          "Colombia",
          "Comoros",
          "Congo",
          "Costa Rica",
          "Croatia",
          "Cuba",
          "Cyprus",
          "Czechia",
          "Denmark",
          "Djibouti",
          "Dominica",
          "Dominican Republic",
          "Ecuador",
          "Egypt",
          "El Salvador",
          "Equatorial Guinea",
          "Eritrea",
          "Estonia",
          "Eswatini",
          "Ethiopia",
          "Fiji",
          "Finland",
          "France",
          "Gabon",
          "Gambia",
          "Georgia",
          "Germany",
          "Ghana",
          "Greece",
          "Grenada",
          "Guatemala",
          "Guinea",
          "Guinea-Bissau",
          "Guyana",
          "Haiti",
          "Honduras",
          "Hungary",
          "Iceland",
          "India",
          "Indonesia",
          "Iraq",
          "Ireland",
          "Israel",
          "Italy",
          "Jamaica",
          "Japan",
          "Jordan",
          "Kazakhstan",
          "Kenya",
          "Kiribati",
          "Kuwait",
          "Kyrgyzstan",
          "Latvia",
          "Lebanon",
          "Lesotho",
          "Liberia",
          "Libya",
          "Lithuania",
          "Luxembourg",
          "Madagascar",
          "Malawi",
          "Malaysia",
          "Maldives",
          "Mali",
          "Malta",
          "Mauritania",
          "Mauritius",
          "Mexico",
          "Mongolia",
          "Morocco",
          "Mozambique",
          "Myanmar",
          "Namibia",
          "Nauru",
          "Nepal",
          "Netherlands",
          "New Zealand",
          "Nicaragua",
          "Niger",
          "Nigeria",
          "North Macedonia",
          "Norway",
          "Oman",
          "Pakistan",
          "Panama",
          "Papua New Guinea",
          "Paraguay",
          "Peru",
          "Philippines",
          "Poland",
          "Portugal",
          "Qatar",
          "Romania",
          "Rwanda",
          "Saint Kitts and Nevis",
          "Saint Lucia",
          "Saint Vincent and the Grenadines",
          "Samoa",
          "Sao Tome and Principe",
          "Saudi Arabia",
          "Senegal",
          "Seychelles",
          "Sierra Leone",
          "Singapore",
          "Slovakia",
          "Slovenia",
          "Solomon Islands",
          "Somalia",
          "South Africa",
          "Spain",
          "Sri Lanka",
          "Suriname",
          "Sweden",
          "Switzerland",
          "Tajikistan",
          "Thailand",
          "Togo",
          "Tonga",
          "Trinidad and Tobago",
          "Tunisia",
          "Turkmenistan",
          "Tuvalu",
          "Uganda",
          "Ukraine",
          "United Arab Emirates",
          "Uruguay",
          "Uzbekistan",
          "Vanuatu",
          "Yemen",
          "Zambia",
          "Zimbabwe"
         ],
         "y": [
          0.01447035554942275,
          0.18341623765131487,
          0.07368651755165655,
          0.021568942006898212,
          1.065981941309255,
          0.062131959430297805,
          0.21480684530813973,
          4.9044692737430164,
          0.0461161199397511,
          0.7106174124548413,
          0.4182448036951501,
          0.13425925925925927,
          35.47712418300654,
          0.6345143472989357,
          2.6048837209302325,
          0.3020101156069364,
          2.977047955974843,
          0.024253243925803362,
          0.06553221395464474,
          0.05177892379017555,
          0.4279930464675664,
          0.011084867550238083,
          0.05324192644939917,
          0.33204078319609664,
          0.016886528081692196,
          0.019863456701401362,
          0.09662385726516971,
          0.020864883055695775,
          0.054715979596721774,
          0.0005057914810011172,
          0.0012390965732087228,
          0.1019448051570171,
          1.1998944957569897,
          0.07841567814840505,
          0.10241610738255034,
          0.0021578350300523277,
          0.16001956947162427,
          0.31081033325087465,
          0.21509545372541944,
          0.6674954059020647,
          1.1312865311711529,
          0.5674506891910707,
          0.01602586206896552,
          0.2010652463382157,
          0.4752509143209369,
          0.12369289147661351,
          0.2427484447551051,
          0.3195665605246899,
          0.2605967701686214,
          0.005748299319727891,
          0.35348293092774385,
          0.05177839207555863,
          0.014055392556370552,
          0.14234978658202913,
          0.1093022224193763,
          0.43763523200492077,
          0.019999906600365377,
          0.059991150442477874,
          0.13845050215208035,
          1.6910974673829624,
          0.08325892014941329,
          0.3954472290215752,
          0.7654154727793696,
          0.12930599050409133,
          0.0145507347767198,
          0.01079529411764706,
          0.010964962389925989,
          0.11185585585585586,
          0.08585333214381301,
          0.5331083114761147,
          0.02914271844660194,
          0.760876145291691,
          0.3110220737605201,
          0.48549337579879404,
          0.3719413416093152,
          3.0948483389504093,
          0.9528572376717329,
          0.6783004276226003,
          2.7411997544609785,
          0.21053927604038414,
          0.09909548974274285,
          0.027519242134718205,
          0.09419728729963009,
          5.96363228196206,
          0.05342808988202109,
          0.10138009258542477,
          1.725,
          0.07566002306045132,
          0.012956926972496835,
          0.024421155529286063,
          0.23525038284839203,
          3.1434648105181746,
          0.00622273401687446,
          0.01110698490935485,
          0.7951389583655453,
          5.596342281879195,
          0.003138401150789555,
          7.017468354430379,
          0.0035400213447171823,
          2.350662745098039,
          0.19928730512249443,
          0.02551786120722504,
          0.1413279587952077,
          0.01134629337736746,
          0.04354841570373261,
          0.004882808519311118,
          2.6231904761904765,
          0.0988578688825324,
          3.7338083431625066,
          0.12335365536122127,
          0.038275676919536705,
          0.0020718232044198894,
          0.16086290064171957,
          0.27700773927585265,
          0.1604072210795486,
          0.2516962843295638,
          0.3302369692059365,
          0.13564041368337312,
          0.018913903292714546,
          0.01610071984894973,
          0.03648357163309514,
          0.45714333333333335,
          0.932897324783728,
          0.4292358912072181,
          9.252549326773693,
          0.30208061545947623,
          0.03998025666337611,
          0.8875134099616858,
          0.5393842532467532,
          0.6201167095115682,
          0.12072765807135287,
          0.1365311004784689,
          0.285250431457559,
          0.05896646028405567,
          0.8772967032967033,
          0.017060217451909675,
          65.42081005586593,
          0.6289793004996431,
          0.5992497410348739,
          0.011663552048726466,
          0.00097999394658884,
          0.3934902263163507,
          0.4274491956388389,
          0.3502514860539552,
          0.016578006348431207,
          0.09190641690447374,
          0.7192535794752526,
          0.04524635669673838,
          0.564816417212348,
          0.06362967332922426,
          0.243144578313253,
          8.736349453978159,
          0.14534563901961983,
          0.16939151813153042,
          0.4860346153846154,
          0.025369443822135927,
          0.3076987822052854,
          2.150717703349282,
          0.045514627018131255,
          0.2589628967367009,
          0.013403068340306834,
          0.03148296866476756,
          0.008144902194738898,
          0.025729545471994103
         ]
        }
       ],
       "layout": {
        "barmode": "group",
        "template": {
         "data": {
          "bar": [
           {
            "error_x": {
             "color": "#2a3f5f"
            },
            "error_y": {
             "color": "#2a3f5f"
            },
            "marker": {
             "line": {
              "color": "#E5ECF6",
              "width": 0.5
             },
             "pattern": {
              "fillmode": "overlay",
              "size": 10,
              "solidity": 0.2
             }
            },
            "type": "bar"
           }
          ],
          "barpolar": [
           {
            "marker": {
             "line": {
              "color": "#E5ECF6",
              "width": 0.5
             },
             "pattern": {
              "fillmode": "overlay",
              "size": 10,
              "solidity": 0.2
             }
            },
            "type": "barpolar"
           }
          ],
          "carpet": [
           {
            "aaxis": {
             "endlinecolor": "#2a3f5f",
             "gridcolor": "white",
             "linecolor": "white",
             "minorgridcolor": "white",
             "startlinecolor": "#2a3f5f"
            },
            "baxis": {
             "endlinecolor": "#2a3f5f",
             "gridcolor": "white",
             "linecolor": "white",
             "minorgridcolor": "white",
             "startlinecolor": "#2a3f5f"
            },
            "type": "carpet"
           }
          ],
          "choropleth": [
           {
            "colorbar": {
             "outlinewidth": 0,
             "ticks": ""
            },
            "type": "choropleth"
           }
          ],
          "contour": [
           {
            "colorbar": {
             "outlinewidth": 0,
             "ticks": ""
            },
            "colorscale": [
             [
              0,
              "#0d0887"
             ],
             [
              0.1111111111111111,
              "#46039f"
             ],
             [
              0.2222222222222222,
              "#7201a8"
             ],
             [
              0.3333333333333333,
              "#9c179e"
             ],
             [
              0.4444444444444444,
              "#bd3786"
             ],
             [
              0.5555555555555556,
              "#d8576b"
             ],
             [
              0.6666666666666666,
              "#ed7953"
             ],
             [
              0.7777777777777778,
              "#fb9f3a"
             ],
             [
              0.8888888888888888,
              "#fdca26"
             ],
             [
              1,
              "#f0f921"
             ]
            ],
            "type": "contour"
           }
          ],
          "contourcarpet": [
           {
            "colorbar": {
             "outlinewidth": 0,
             "ticks": ""
            },
            "type": "contourcarpet"
           }
          ],
          "heatmap": [
           {
            "colorbar": {
             "outlinewidth": 0,
             "ticks": ""
            },
            "colorscale": [
             [
              0,
              "#0d0887"
             ],
             [
              0.1111111111111111,
              "#46039f"
             ],
             [
              0.2222222222222222,
              "#7201a8"
             ],
             [
              0.3333333333333333,
              "#9c179e"
             ],
             [
              0.4444444444444444,
              "#bd3786"
             ],
             [
              0.5555555555555556,
              "#d8576b"
             ],
             [
              0.6666666666666666,
              "#ed7953"
             ],
             [
              0.7777777777777778,
              "#fb9f3a"
             ],
             [
              0.8888888888888888,
              "#fdca26"
             ],
             [
              1,
              "#f0f921"
             ]
            ],
            "type": "heatmap"
           }
          ],
          "heatmapgl": [
           {
            "colorbar": {
             "outlinewidth": 0,
             "ticks": ""
            },
            "colorscale": [
             [
              0,
              "#0d0887"
             ],
             [
              0.1111111111111111,
              "#46039f"
             ],
             [
              0.2222222222222222,
              "#7201a8"
             ],
             [
              0.3333333333333333,
              "#9c179e"
             ],
             [
              0.4444444444444444,
              "#bd3786"
             ],
             [
              0.5555555555555556,
              "#d8576b"
             ],
             [
              0.6666666666666666,
              "#ed7953"
             ],
             [
              0.7777777777777778,
              "#fb9f3a"
             ],
             [
              0.8888888888888888,
              "#fdca26"
             ],
             [
              1,
              "#f0f921"
             ]
            ],
            "type": "heatmapgl"
           }
          ],
          "histogram": [
           {
            "marker": {
             "pattern": {
              "fillmode": "overlay",
              "size": 10,
              "solidity": 0.2
             }
            },
            "type": "histogram"
           }
          ],
          "histogram2d": [
           {
            "colorbar": {
             "outlinewidth": 0,
             "ticks": ""
            },
            "colorscale": [
             [
              0,
              "#0d0887"
             ],
             [
              0.1111111111111111,
              "#46039f"
             ],
             [
              0.2222222222222222,
              "#7201a8"
             ],
             [
              0.3333333333333333,
              "#9c179e"
             ],
             [
              0.4444444444444444,
              "#bd3786"
             ],
             [
              0.5555555555555556,
              "#d8576b"
             ],
             [
              0.6666666666666666,
              "#ed7953"
             ],
             [
              0.7777777777777778,
              "#fb9f3a"
             ],
             [
              0.8888888888888888,
              "#fdca26"
             ],
             [
              1,
              "#f0f921"
             ]
            ],
            "type": "histogram2d"
           }
          ],
          "histogram2dcontour": [
           {
            "colorbar": {
             "outlinewidth": 0,
             "ticks": ""
            },
            "colorscale": [
             [
              0,
              "#0d0887"
             ],
             [
              0.1111111111111111,
              "#46039f"
             ],
             [
              0.2222222222222222,
              "#7201a8"
             ],
             [
              0.3333333333333333,
              "#9c179e"
             ],
             [
              0.4444444444444444,
              "#bd3786"
             ],
             [
              0.5555555555555556,
              "#d8576b"
             ],
             [
              0.6666666666666666,
              "#ed7953"
             ],
             [
              0.7777777777777778,
              "#fb9f3a"
             ],
             [
              0.8888888888888888,
              "#fdca26"
             ],
             [
              1,
              "#f0f921"
             ]
            ],
            "type": "histogram2dcontour"
           }
          ],
          "mesh3d": [
           {
            "colorbar": {
             "outlinewidth": 0,
             "ticks": ""
            },
            "type": "mesh3d"
           }
          ],
          "parcoords": [
           {
            "line": {
             "colorbar": {
              "outlinewidth": 0,
              "ticks": ""
             }
            },
            "type": "parcoords"
           }
          ],
          "pie": [
           {
            "automargin": true,
            "type": "pie"
           }
          ],
          "scatter": [
           {
            "fillpattern": {
             "fillmode": "overlay",
             "size": 10,
             "solidity": 0.2
            },
            "type": "scatter"
           }
          ],
          "scatter3d": [
           {
            "line": {
             "colorbar": {
              "outlinewidth": 0,
              "ticks": ""
             }
            },
            "marker": {
             "colorbar": {
              "outlinewidth": 0,
              "ticks": ""
             }
            },
            "type": "scatter3d"
           }
          ],
          "scattercarpet": [
           {
            "marker": {
             "colorbar": {
              "outlinewidth": 0,
              "ticks": ""
             }
            },
            "type": "scattercarpet"
           }
          ],
          "scattergeo": [
           {
            "marker": {
             "colorbar": {
              "outlinewidth": 0,
              "ticks": ""
             }
            },
            "type": "scattergeo"
           }
          ],
          "scattergl": [
           {
            "marker": {
             "colorbar": {
              "outlinewidth": 0,
              "ticks": ""
             }
            },
            "type": "scattergl"
           }
          ],
          "scattermapbox": [
           {
            "marker": {
             "colorbar": {
              "outlinewidth": 0,
              "ticks": ""
             }
            },
            "type": "scattermapbox"
           }
          ],
          "scatterpolar": [
           {
            "marker": {
             "colorbar": {
              "outlinewidth": 0,
              "ticks": ""
             }
            },
            "type": "scatterpolar"
           }
          ],
          "scatterpolargl": [
           {
            "marker": {
             "colorbar": {
              "outlinewidth": 0,
              "ticks": ""
             }
            },
            "type": "scatterpolargl"
           }
          ],
          "scatterternary": [
           {
            "marker": {
             "colorbar": {
              "outlinewidth": 0,
              "ticks": ""
             }
            },
            "type": "scatterternary"
           }
          ],
          "surface": [
           {
            "colorbar": {
             "outlinewidth": 0,
             "ticks": ""
            },
            "colorscale": [
             [
              0,
              "#0d0887"
             ],
             [
              0.1111111111111111,
              "#46039f"
             ],
             [
              0.2222222222222222,
              "#7201a8"
             ],
             [
              0.3333333333333333,
              "#9c179e"
             ],
             [
              0.4444444444444444,
              "#bd3786"
             ],
             [
              0.5555555555555556,
              "#d8576b"
             ],
             [
              0.6666666666666666,
              "#ed7953"
             ],
             [
              0.7777777777777778,
              "#fb9f3a"
             ],
             [
              0.8888888888888888,
              "#fdca26"
             ],
             [
              1,
              "#f0f921"
             ]
            ],
            "type": "surface"
           }
          ],
          "table": [
           {
            "cells": {
             "fill": {
              "color": "#EBF0F8"
             },
             "line": {
              "color": "white"
             }
            },
            "header": {
             "fill": {
              "color": "#C8D4E3"
             },
             "line": {
              "color": "white"
             }
            },
            "type": "table"
           }
          ]
         },
         "layout": {
          "annotationdefaults": {
           "arrowcolor": "#2a3f5f",
           "arrowhead": 0,
           "arrowwidth": 1
          },
          "autotypenumbers": "strict",
          "coloraxis": {
           "colorbar": {
            "outlinewidth": 0,
            "ticks": ""
           }
          },
          "colorscale": {
           "diverging": [
            [
             0,
             "#8e0152"
            ],
            [
             0.1,
             "#c51b7d"
            ],
            [
             0.2,
             "#de77ae"
            ],
            [
             0.3,
             "#f1b6da"
            ],
            [
             0.4,
             "#fde0ef"
            ],
            [
             0.5,
             "#f7f7f7"
            ],
            [
             0.6,
             "#e6f5d0"
            ],
            [
             0.7,
             "#b8e186"
            ],
            [
             0.8,
             "#7fbc41"
            ],
            [
             0.9,
             "#4d9221"
            ],
            [
             1,
             "#276419"
            ]
           ],
           "sequential": [
            [
             0,
             "#0d0887"
            ],
            [
             0.1111111111111111,
             "#46039f"
            ],
            [
             0.2222222222222222,
             "#7201a8"
            ],
            [
             0.3333333333333333,
             "#9c179e"
            ],
            [
             0.4444444444444444,
             "#bd3786"
            ],
            [
             0.5555555555555556,
             "#d8576b"
            ],
            [
             0.6666666666666666,
             "#ed7953"
            ],
            [
             0.7777777777777778,
             "#fb9f3a"
            ],
            [
             0.8888888888888888,
             "#fdca26"
            ],
            [
             1,
             "#f0f921"
            ]
           ],
           "sequentialminus": [
            [
             0,
             "#0d0887"
            ],
            [
             0.1111111111111111,
             "#46039f"
            ],
            [
             0.2222222222222222,
             "#7201a8"
            ],
            [
             0.3333333333333333,
             "#9c179e"
            ],
            [
             0.4444444444444444,
             "#bd3786"
            ],
            [
             0.5555555555555556,
             "#d8576b"
            ],
            [
             0.6666666666666666,
             "#ed7953"
            ],
            [
             0.7777777777777778,
             "#fb9f3a"
            ],
            [
             0.8888888888888888,
             "#fdca26"
            ],
            [
             1,
             "#f0f921"
            ]
           ]
          },
          "colorway": [
           "#636efa",
           "#EF553B",
           "#00cc96",
           "#ab63fa",
           "#FFA15A",
           "#19d3f3",
           "#FF6692",
           "#B6E880",
           "#FF97FF",
           "#FECB52"
          ],
          "font": {
           "color": "#2a3f5f"
          },
          "geo": {
           "bgcolor": "white",
           "lakecolor": "white",
           "landcolor": "#E5ECF6",
           "showlakes": true,
           "showland": true,
           "subunitcolor": "white"
          },
          "hoverlabel": {
           "align": "left"
          },
          "hovermode": "closest",
          "mapbox": {
           "style": "light"
          },
          "paper_bgcolor": "white",
          "plot_bgcolor": "#E5ECF6",
          "polar": {
           "angularaxis": {
            "gridcolor": "white",
            "linecolor": "white",
            "ticks": ""
           },
           "bgcolor": "#E5ECF6",
           "radialaxis": {
            "gridcolor": "white",
            "linecolor": "white",
            "ticks": ""
           }
          },
          "scene": {
           "xaxis": {
            "backgroundcolor": "#E5ECF6",
            "gridcolor": "white",
            "gridwidth": 2,
            "linecolor": "white",
            "showbackground": true,
            "ticks": "",
            "zerolinecolor": "white"
           },
           "yaxis": {
            "backgroundcolor": "#E5ECF6",
            "gridcolor": "white",
            "gridwidth": 2,
            "linecolor": "white",
            "showbackground": true,
            "ticks": "",
            "zerolinecolor": "white"
           },
           "zaxis": {
            "backgroundcolor": "#E5ECF6",
            "gridcolor": "white",
            "gridwidth": 2,
            "linecolor": "white",
            "showbackground": true,
            "ticks": "",
            "zerolinecolor": "white"
           }
          },
          "shapedefaults": {
           "line": {
            "color": "#2a3f5f"
           }
          },
          "ternary": {
           "aaxis": {
            "gridcolor": "white",
            "linecolor": "white",
            "ticks": ""
           },
           "baxis": {
            "gridcolor": "white",
            "linecolor": "white",
            "ticks": ""
           },
           "bgcolor": "#E5ECF6",
           "caxis": {
            "gridcolor": "white",
            "linecolor": "white",
            "ticks": ""
           }
          },
          "title": {
           "x": 0.05
          },
          "xaxis": {
           "automargin": true,
           "gridcolor": "white",
           "linecolor": "white",
           "ticks": "",
           "title": {
            "standoff": 15
           },
           "zerolinecolor": "white",
           "zerolinewidth": 2
          },
          "yaxis": {
           "automargin": true,
           "gridcolor": "white",
           "linecolor": "white",
           "ticks": "",
           "title": {
            "standoff": 15
           },
           "zerolinecolor": "white",
           "zerolinewidth": 2
          }
         }
        },
        "title": {
         "text": "Values for the years 2000-2010-2015-2020"
        },
        "xaxis": {
         "title": {
          "text": "Country"
         }
        },
        "yaxis": {
         "title": {
          "text": "Value"
         }
        }
       }
      }
     },
     "metadata": {},
     "output_type": "display_data"
    }
   ],
   "source": [
    "# Plotting the graph\n",
    "\n",
    "# Select the years to plot\n",
    "years = ['2000', '2010', '2015', '2020']\n",
    "\n",
    "# Create a new Figure\n",
    "fig = go.Figure()\n",
    "\n",
    "# Add a bar for each year\n",
    "for year in years:\n",
    "    fig.add_trace(go.Bar(\n",
    "        x=mergeN['Area'],\n",
    "        y=mergeN[year+'rel'],\n",
    "        name=year\n",
    "    ))\n",
    "\n",
    "# Change the bar mode to group\n",
    "fig.update_layout(barmode='group')\n",
    "\n",
    "# Add labels and title\n",
    "fig.update_layout(\n",
    "    title='Values for the years 2000-2010-2015-2020',\n",
    "    xaxis_title='Country',\n",
    "    yaxis_title='Value'\n",
    ")\n",
    "\n",
    "# Show the plot\n",
    "fig.show()"
   ]
  },
  {
   "cell_type": "code",
   "execution_count": 129,
   "metadata": {},
   "outputs": [
    {
     "ename": "SyntaxError",
     "evalue": "invalid syntax (471290190.py, line 4)",
     "output_type": "error",
     "traceback": [
      "\u001b[1;36m  Cell \u001b[1;32mIn[129], line 4\u001b[1;36m\u001b[0m\n\u001b[1;33m    merge['avg'] = merge[[year+ for year in years]].mean(axis=1)\u001b[0m\n\u001b[1;37m                                ^\u001b[0m\n\u001b[1;31mSyntaxError\u001b[0m\u001b[1;31m:\u001b[0m invalid syntax\n"
     ]
    }
   ],
   "source": [
    "df = pd.read_csv('merge.csv')\n",
    "\n",
    "# Calculate the average of the relative values for each country\n",
    "merge['avg'] = merge[[year+ for year in years]].mean(axis=1)\n",
    "\n",
    "# Sort by the average and select the top 10\n",
    "top_countries = merge.sort_values('avg', ascending=False).head(10)\n",
    "\n",
    "# Create a new Figure\n",
    "fig = go.Figure()\n",
    "\n",
    "# Add a bar for each year\n",
    "for year in years:\n",
    "    fig.add_trace(go.Bar(\n",
    "        x=top_countries['Area'],\n",
    "        y=top_countries[year+'rel'],\n",
    "        name=year\n",
    "    ))\n",
    "\n",
    "# Change the bar mode to group\n",
    "fig.update_layout(barmode='group')\n",
    "\n",
    "# Add labels and title\n",
    "fig.update_layout(\n",
    "    title='Total CO2 emission per Country for the years 2000-2010-2015-2020 (without LULUCF) for the top 10 most emitting countries',\n",
    "    xaxis_title='Country',\n",
    "    yaxis_title='Value'\n",
    ")\n",
    "\n",
    "# Show the plot\n",
    "fig.show()"
   ]
  },
  {
   "cell_type": "code",
   "execution_count": 131,
   "metadata": {},
   "outputs": [
    {
     "data": {
      "application/vnd.plotly.v1+json": {
       "config": {
        "plotlyServerURL": "https://plot.ly"
       },
       "data": [
        {
         "name": "2000",
         "type": "bar",
         "x": [
          "China",
          "India",
          "Japan",
          "Germany",
          "Canada",
          "Saudi Arabia",
          "South Africa",
          "Indonesia",
          "Mexico",
          "Brazil"
         ],
         "y": [
          8847325.29625,
          1935300,
          1194797.5,
          757248.25,
          555725.75,
          547175,
          496150,
          460983.075,
          454706.85,
          440240.5
         ]
        },
        {
         "name": "2010",
         "type": "bar",
         "x": [
          "China",
          "India",
          "Japan",
          "Germany",
          "Canada",
          "Saudi Arabia",
          "South Africa",
          "Indonesia",
          "Mexico",
          "Brazil"
         ],
         "y": [
          8847325.29625,
          1935300,
          1194797.5,
          757248.25,
          555725.75,
          547175,
          496150,
          460983.075,
          454706.85,
          440240.5
         ]
        },
        {
         "name": "2015",
         "type": "bar",
         "x": [
          "China",
          "India",
          "Japan",
          "Germany",
          "Canada",
          "Saudi Arabia",
          "South Africa",
          "Indonesia",
          "Mexico",
          "Brazil"
         ],
         "y": [
          8847325.29625,
          1935300,
          1194797.5,
          757248.25,
          555725.75,
          547175,
          496150,
          460983.075,
          454706.85,
          440240.5
         ]
        },
        {
         "name": "2020",
         "type": "bar",
         "x": [
          "China",
          "India",
          "Japan",
          "Germany",
          "Canada",
          "Saudi Arabia",
          "South Africa",
          "Indonesia",
          "Mexico",
          "Brazil"
         ],
         "y": [
          8847325.29625,
          1935300,
          1194797.5,
          757248.25,
          555725.75,
          547175,
          496150,
          460983.075,
          454706.85,
          440240.5
         ]
        },
        {
         "name": "2000",
         "type": "bar",
         "x": [
          "Singapore",
          "Bahrain",
          "Trinidad and Tobago",
          "Aruba",
          "Qatar",
          "Malta",
          "Kuwait",
          "Netherlands",
          "Maldives",
          "Luxembourg"
         ],
         "y": [
          81.52953910614525,
          37.630718954248366,
          9.905908736349453,
          9.327653631284917,
          7.476697976005523,
          6.846815664556962,
          4.999859692445841,
          4.348216305996196,
          3.6637332214765106,
          3.5574245939675175
         ]
        },
        {
         "name": "2010",
         "type": "bar",
         "x": [
          "Singapore",
          "Bahrain",
          "Trinidad and Tobago",
          "Aruba",
          "Qatar",
          "Malta",
          "Kuwait",
          "Netherlands",
          "Maldives",
          "Luxembourg"
         ],
         "y": [
          81.52953910614525,
          37.630718954248366,
          9.905908736349453,
          9.327653631284917,
          7.476697976005523,
          6.846815664556962,
          4.999859692445841,
          4.348216305996196,
          3.6637332214765106,
          3.5574245939675175
         ]
        },
        {
         "name": "2015",
         "type": "bar",
         "x": [
          "Singapore",
          "Bahrain",
          "Trinidad and Tobago",
          "Aruba",
          "Qatar",
          "Malta",
          "Kuwait",
          "Netherlands",
          "Maldives",
          "Luxembourg"
         ],
         "y": [
          81.52953910614525,
          37.630718954248366,
          9.905908736349453,
          9.327653631284917,
          7.476697976005523,
          6.846815664556962,
          4.999859692445841,
          4.348216305996196,
          3.6637332214765106,
          3.5574245939675175
         ]
        },
        {
         "name": "2020",
         "type": "bar",
         "x": [
          "Singapore",
          "Bahrain",
          "Trinidad and Tobago",
          "Aruba",
          "Qatar",
          "Malta",
          "Kuwait",
          "Netherlands",
          "Maldives",
          "Luxembourg"
         ],
         "y": [
          81.52953910614525,
          37.630718954248366,
          9.905908736349453,
          9.327653631284917,
          7.476697976005523,
          6.846815664556962,
          4.999859692445841,
          4.348216305996196,
          3.6637332214765106,
          3.5574245939675175
         ]
        },
        {
         "name": "2000",
         "type": "bar",
         "x": [
          "Qatar",
          "Trinidad and Tobago",
          "Kuwait",
          "United Arab Emirates",
          "Bahrain",
          "Saudi Arabia",
          "Luxembourg",
          "Aruba",
          "Australia",
          "Canada"
         ],
         "y": [
          0.048934280072022426,
          0.03544844043599475,
          0.027683638721511226,
          0.0255180993994088,
          0.024996087966575223,
          0.0180091856242798,
          0.01755706047494355,
          0.01717618402365495,
          0.016544883939720825,
          0.016176415179701975
         ]
        },
        {
         "name": "2010",
         "type": "bar",
         "x": [
          "Qatar",
          "Trinidad and Tobago",
          "Kuwait",
          "United Arab Emirates",
          "Bahrain",
          "Saudi Arabia",
          "Luxembourg",
          "Aruba",
          "Australia",
          "Canada"
         ],
         "y": [
          0.048934280072022426,
          0.03544844043599475,
          0.027683638721511226,
          0.0255180993994088,
          0.024996087966575223,
          0.0180091856242798,
          0.01755706047494355,
          0.01717618402365495,
          0.016544883939720825,
          0.016176415179701975
         ]
        },
        {
         "name": "2015",
         "type": "bar",
         "x": [
          "Qatar",
          "Trinidad and Tobago",
          "Kuwait",
          "United Arab Emirates",
          "Bahrain",
          "Saudi Arabia",
          "Luxembourg",
          "Aruba",
          "Australia",
          "Canada"
         ],
         "y": [
          0.048934280072022426,
          0.03544844043599475,
          0.027683638721511226,
          0.0255180993994088,
          0.024996087966575223,
          0.0180091856242798,
          0.01755706047494355,
          0.01717618402365495,
          0.016544883939720825,
          0.016176415179701975
         ]
        },
        {
         "name": "2020",
         "type": "bar",
         "x": [
          "Qatar",
          "Trinidad and Tobago",
          "Kuwait",
          "United Arab Emirates",
          "Bahrain",
          "Saudi Arabia",
          "Luxembourg",
          "Aruba",
          "Australia",
          "Canada"
         ],
         "y": [
          0.048934280072022426,
          0.03544844043599475,
          0.027683638721511226,
          0.0255180993994088,
          0.024996087966575223,
          0.0180091856242798,
          0.01755706047494355,
          0.01717618402365495,
          0.016544883939720825,
          0.016176415179701975
         ]
        }
       ],
       "layout": {
        "barmode": "group",
        "template": {
         "data": {
          "bar": [
           {
            "error_x": {
             "color": "#2a3f5f"
            },
            "error_y": {
             "color": "#2a3f5f"
            },
            "marker": {
             "line": {
              "color": "#E5ECF6",
              "width": 0.5
             },
             "pattern": {
              "fillmode": "overlay",
              "size": 10,
              "solidity": 0.2
             }
            },
            "type": "bar"
           }
          ],
          "barpolar": [
           {
            "marker": {
             "line": {
              "color": "#E5ECF6",
              "width": 0.5
             },
             "pattern": {
              "fillmode": "overlay",
              "size": 10,
              "solidity": 0.2
             }
            },
            "type": "barpolar"
           }
          ],
          "carpet": [
           {
            "aaxis": {
             "endlinecolor": "#2a3f5f",
             "gridcolor": "white",
             "linecolor": "white",
             "minorgridcolor": "white",
             "startlinecolor": "#2a3f5f"
            },
            "baxis": {
             "endlinecolor": "#2a3f5f",
             "gridcolor": "white",
             "linecolor": "white",
             "minorgridcolor": "white",
             "startlinecolor": "#2a3f5f"
            },
            "type": "carpet"
           }
          ],
          "choropleth": [
           {
            "colorbar": {
             "outlinewidth": 0,
             "ticks": ""
            },
            "type": "choropleth"
           }
          ],
          "contour": [
           {
            "colorbar": {
             "outlinewidth": 0,
             "ticks": ""
            },
            "colorscale": [
             [
              0,
              "#0d0887"
             ],
             [
              0.1111111111111111,
              "#46039f"
             ],
             [
              0.2222222222222222,
              "#7201a8"
             ],
             [
              0.3333333333333333,
              "#9c179e"
             ],
             [
              0.4444444444444444,
              "#bd3786"
             ],
             [
              0.5555555555555556,
              "#d8576b"
             ],
             [
              0.6666666666666666,
              "#ed7953"
             ],
             [
              0.7777777777777778,
              "#fb9f3a"
             ],
             [
              0.8888888888888888,
              "#fdca26"
             ],
             [
              1,
              "#f0f921"
             ]
            ],
            "type": "contour"
           }
          ],
          "contourcarpet": [
           {
            "colorbar": {
             "outlinewidth": 0,
             "ticks": ""
            },
            "type": "contourcarpet"
           }
          ],
          "heatmap": [
           {
            "colorbar": {
             "outlinewidth": 0,
             "ticks": ""
            },
            "colorscale": [
             [
              0,
              "#0d0887"
             ],
             [
              0.1111111111111111,
              "#46039f"
             ],
             [
              0.2222222222222222,
              "#7201a8"
             ],
             [
              0.3333333333333333,
              "#9c179e"
             ],
             [
              0.4444444444444444,
              "#bd3786"
             ],
             [
              0.5555555555555556,
              "#d8576b"
             ],
             [
              0.6666666666666666,
              "#ed7953"
             ],
             [
              0.7777777777777778,
              "#fb9f3a"
             ],
             [
              0.8888888888888888,
              "#fdca26"
             ],
             [
              1,
              "#f0f921"
             ]
            ],
            "type": "heatmap"
           }
          ],
          "heatmapgl": [
           {
            "colorbar": {
             "outlinewidth": 0,
             "ticks": ""
            },
            "colorscale": [
             [
              0,
              "#0d0887"
             ],
             [
              0.1111111111111111,
              "#46039f"
             ],
             [
              0.2222222222222222,
              "#7201a8"
             ],
             [
              0.3333333333333333,
              "#9c179e"
             ],
             [
              0.4444444444444444,
              "#bd3786"
             ],
             [
              0.5555555555555556,
              "#d8576b"
             ],
             [
              0.6666666666666666,
              "#ed7953"
             ],
             [
              0.7777777777777778,
              "#fb9f3a"
             ],
             [
              0.8888888888888888,
              "#fdca26"
             ],
             [
              1,
              "#f0f921"
             ]
            ],
            "type": "heatmapgl"
           }
          ],
          "histogram": [
           {
            "marker": {
             "pattern": {
              "fillmode": "overlay",
              "size": 10,
              "solidity": 0.2
             }
            },
            "type": "histogram"
           }
          ],
          "histogram2d": [
           {
            "colorbar": {
             "outlinewidth": 0,
             "ticks": ""
            },
            "colorscale": [
             [
              0,
              "#0d0887"
             ],
             [
              0.1111111111111111,
              "#46039f"
             ],
             [
              0.2222222222222222,
              "#7201a8"
             ],
             [
              0.3333333333333333,
              "#9c179e"
             ],
             [
              0.4444444444444444,
              "#bd3786"
             ],
             [
              0.5555555555555556,
              "#d8576b"
             ],
             [
              0.6666666666666666,
              "#ed7953"
             ],
             [
              0.7777777777777778,
              "#fb9f3a"
             ],
             [
              0.8888888888888888,
              "#fdca26"
             ],
             [
              1,
              "#f0f921"
             ]
            ],
            "type": "histogram2d"
           }
          ],
          "histogram2dcontour": [
           {
            "colorbar": {
             "outlinewidth": 0,
             "ticks": ""
            },
            "colorscale": [
             [
              0,
              "#0d0887"
             ],
             [
              0.1111111111111111,
              "#46039f"
             ],
             [
              0.2222222222222222,
              "#7201a8"
             ],
             [
              0.3333333333333333,
              "#9c179e"
             ],
             [
              0.4444444444444444,
              "#bd3786"
             ],
             [
              0.5555555555555556,
              "#d8576b"
             ],
             [
              0.6666666666666666,
              "#ed7953"
             ],
             [
              0.7777777777777778,
              "#fb9f3a"
             ],
             [
              0.8888888888888888,
              "#fdca26"
             ],
             [
              1,
              "#f0f921"
             ]
            ],
            "type": "histogram2dcontour"
           }
          ],
          "mesh3d": [
           {
            "colorbar": {
             "outlinewidth": 0,
             "ticks": ""
            },
            "type": "mesh3d"
           }
          ],
          "parcoords": [
           {
            "line": {
             "colorbar": {
              "outlinewidth": 0,
              "ticks": ""
             }
            },
            "type": "parcoords"
           }
          ],
          "pie": [
           {
            "automargin": true,
            "type": "pie"
           }
          ],
          "scatter": [
           {
            "fillpattern": {
             "fillmode": "overlay",
             "size": 10,
             "solidity": 0.2
            },
            "type": "scatter"
           }
          ],
          "scatter3d": [
           {
            "line": {
             "colorbar": {
              "outlinewidth": 0,
              "ticks": ""
             }
            },
            "marker": {
             "colorbar": {
              "outlinewidth": 0,
              "ticks": ""
             }
            },
            "type": "scatter3d"
           }
          ],
          "scattercarpet": [
           {
            "marker": {
             "colorbar": {
              "outlinewidth": 0,
              "ticks": ""
             }
            },
            "type": "scattercarpet"
           }
          ],
          "scattergeo": [
           {
            "marker": {
             "colorbar": {
              "outlinewidth": 0,
              "ticks": ""
             }
            },
            "type": "scattergeo"
           }
          ],
          "scattergl": [
           {
            "marker": {
             "colorbar": {
              "outlinewidth": 0,
              "ticks": ""
             }
            },
            "type": "scattergl"
           }
          ],
          "scattermapbox": [
           {
            "marker": {
             "colorbar": {
              "outlinewidth": 0,
              "ticks": ""
             }
            },
            "type": "scattermapbox"
           }
          ],
          "scatterpolar": [
           {
            "marker": {
             "colorbar": {
              "outlinewidth": 0,
              "ticks": ""
             }
            },
            "type": "scatterpolar"
           }
          ],
          "scatterpolargl": [
           {
            "marker": {
             "colorbar": {
              "outlinewidth": 0,
              "ticks": ""
             }
            },
            "type": "scatterpolargl"
           }
          ],
          "scatterternary": [
           {
            "marker": {
             "colorbar": {
              "outlinewidth": 0,
              "ticks": ""
             }
            },
            "type": "scatterternary"
           }
          ],
          "surface": [
           {
            "colorbar": {
             "outlinewidth": 0,
             "ticks": ""
            },
            "colorscale": [
             [
              0,
              "#0d0887"
             ],
             [
              0.1111111111111111,
              "#46039f"
             ],
             [
              0.2222222222222222,
              "#7201a8"
             ],
             [
              0.3333333333333333,
              "#9c179e"
             ],
             [
              0.4444444444444444,
              "#bd3786"
             ],
             [
              0.5555555555555556,
              "#d8576b"
             ],
             [
              0.6666666666666666,
              "#ed7953"
             ],
             [
              0.7777777777777778,
              "#fb9f3a"
             ],
             [
              0.8888888888888888,
              "#fdca26"
             ],
             [
              1,
              "#f0f921"
             ]
            ],
            "type": "surface"
           }
          ],
          "table": [
           {
            "cells": {
             "fill": {
              "color": "#EBF0F8"
             },
             "line": {
              "color": "white"
             }
            },
            "header": {
             "fill": {
              "color": "#C8D4E3"
             },
             "line": {
              "color": "white"
             }
            },
            "type": "table"
           }
          ]
         },
         "layout": {
          "annotationdefaults": {
           "arrowcolor": "#2a3f5f",
           "arrowhead": 0,
           "arrowwidth": 1
          },
          "autotypenumbers": "strict",
          "coloraxis": {
           "colorbar": {
            "outlinewidth": 0,
            "ticks": ""
           }
          },
          "colorscale": {
           "diverging": [
            [
             0,
             "#8e0152"
            ],
            [
             0.1,
             "#c51b7d"
            ],
            [
             0.2,
             "#de77ae"
            ],
            [
             0.3,
             "#f1b6da"
            ],
            [
             0.4,
             "#fde0ef"
            ],
            [
             0.5,
             "#f7f7f7"
            ],
            [
             0.6,
             "#e6f5d0"
            ],
            [
             0.7,
             "#b8e186"
            ],
            [
             0.8,
             "#7fbc41"
            ],
            [
             0.9,
             "#4d9221"
            ],
            [
             1,
             "#276419"
            ]
           ],
           "sequential": [
            [
             0,
             "#0d0887"
            ],
            [
             0.1111111111111111,
             "#46039f"
            ],
            [
             0.2222222222222222,
             "#7201a8"
            ],
            [
             0.3333333333333333,
             "#9c179e"
            ],
            [
             0.4444444444444444,
             "#bd3786"
            ],
            [
             0.5555555555555556,
             "#d8576b"
            ],
            [
             0.6666666666666666,
             "#ed7953"
            ],
            [
             0.7777777777777778,
             "#fb9f3a"
            ],
            [
             0.8888888888888888,
             "#fdca26"
            ],
            [
             1,
             "#f0f921"
            ]
           ],
           "sequentialminus": [
            [
             0,
             "#0d0887"
            ],
            [
             0.1111111111111111,
             "#46039f"
            ],
            [
             0.2222222222222222,
             "#7201a8"
            ],
            [
             0.3333333333333333,
             "#9c179e"
            ],
            [
             0.4444444444444444,
             "#bd3786"
            ],
            [
             0.5555555555555556,
             "#d8576b"
            ],
            [
             0.6666666666666666,
             "#ed7953"
            ],
            [
             0.7777777777777778,
             "#fb9f3a"
            ],
            [
             0.8888888888888888,
             "#fdca26"
            ],
            [
             1,
             "#f0f921"
            ]
           ]
          },
          "colorway": [
           "#636efa",
           "#EF553B",
           "#00cc96",
           "#ab63fa",
           "#FFA15A",
           "#19d3f3",
           "#FF6692",
           "#B6E880",
           "#FF97FF",
           "#FECB52"
          ],
          "font": {
           "color": "#2a3f5f"
          },
          "geo": {
           "bgcolor": "white",
           "lakecolor": "white",
           "landcolor": "#E5ECF6",
           "showlakes": true,
           "showland": true,
           "subunitcolor": "white"
          },
          "hoverlabel": {
           "align": "left"
          },
          "hovermode": "closest",
          "mapbox": {
           "style": "light"
          },
          "paper_bgcolor": "white",
          "plot_bgcolor": "#E5ECF6",
          "polar": {
           "angularaxis": {
            "gridcolor": "white",
            "linecolor": "white",
            "ticks": ""
           },
           "bgcolor": "#E5ECF6",
           "radialaxis": {
            "gridcolor": "white",
            "linecolor": "white",
            "ticks": ""
           }
          },
          "scene": {
           "xaxis": {
            "backgroundcolor": "#E5ECF6",
            "gridcolor": "white",
            "gridwidth": 2,
            "linecolor": "white",
            "showbackground": true,
            "ticks": "",
            "zerolinecolor": "white"
           },
           "yaxis": {
            "backgroundcolor": "#E5ECF6",
            "gridcolor": "white",
            "gridwidth": 2,
            "linecolor": "white",
            "showbackground": true,
            "ticks": "",
            "zerolinecolor": "white"
           },
           "zaxis": {
            "backgroundcolor": "#E5ECF6",
            "gridcolor": "white",
            "gridwidth": 2,
            "linecolor": "white",
            "showbackground": true,
            "ticks": "",
            "zerolinecolor": "white"
           }
          },
          "shapedefaults": {
           "line": {
            "color": "#2a3f5f"
           }
          },
          "ternary": {
           "aaxis": {
            "gridcolor": "white",
            "linecolor": "white",
            "ticks": ""
           },
           "baxis": {
            "gridcolor": "white",
            "linecolor": "white",
            "ticks": ""
           },
           "bgcolor": "#E5ECF6",
           "caxis": {
            "gridcolor": "white",
            "linecolor": "white",
            "ticks": ""
           }
          },
          "title": {
           "x": 0.05
          },
          "xaxis": {
           "automargin": true,
           "gridcolor": "white",
           "linecolor": "white",
           "ticks": "",
           "title": {
            "standoff": 15
           },
           "zerolinecolor": "white",
           "zerolinewidth": 2
          },
          "yaxis": {
           "automargin": true,
           "gridcolor": "white",
           "linecolor": "white",
           "ticks": "",
           "title": {
            "standoff": 15
           },
           "zerolinecolor": "white",
           "zerolinewidth": 2
          }
         }
        },
        "title": {
         "text": "Emissions per Country for Selected Categories"
        },
        "updatemenus": [
         {
          "buttons": [
           {
            "args": [
             {
              "y": [
               [
                8847325.29625,
                1935300,
                1194797.5,
                757248.25,
                555725.75,
                547175,
                496150,
                460983.075,
                454706.85,
                440240.5
               ],
               [
                8847325.29625,
                1935300,
                1194797.5,
                757248.25,
                555725.75,
                547175,
                496150,
                460983.075,
                454706.85,
                440240.5
               ],
               [
                8847325.29625,
                1935300,
                1194797.5,
                757248.25,
                555725.75,
                547175,
                496150,
                460983.075,
                454706.85,
                440240.5
               ],
               [
                8847325.29625,
                1935300,
                1194797.5,
                757248.25,
                555725.75,
                547175,
                496150,
                460983.075,
                454706.85,
                440240.5
               ]
              ]
             },
             {
              "x": [
               [
                "China",
                "India",
                "Japan",
                "Germany",
                "Canada",
                "Saudi Arabia",
                "South Africa",
                "Indonesia",
                "Mexico",
                "Brazil"
               ]
              ]
             }
            ],
            "label": "Total CO Emissions",
            "method": "update"
           },
           {
            "args": [
             {
              "y": [
               [
                81.52953910614525,
                37.630718954248366,
                9.905908736349453,
                9.327653631284917,
                7.476697976005523,
                6.846815664556962,
                4.999859692445841,
                4.348216305996196,
                3.6637332214765106,
                3.5574245939675175
               ],
               [
                81.52953910614525,
                37.630718954248366,
                9.905908736349453,
                9.327653631284917,
                7.476697976005523,
                6.846815664556962,
                4.999859692445841,
                4.348216305996196,
                3.6637332214765106,
                3.5574245939675175
               ],
               [
                81.52953910614525,
                37.630718954248366,
                9.905908736349453,
                9.327653631284917,
                7.476697976005523,
                6.846815664556962,
                4.999859692445841,
                4.348216305996196,
                3.6637332214765106,
                3.5574245939675175
               ],
               [
                81.52953910614525,
                37.630718954248366,
                9.905908736349453,
                9.327653631284917,
                7.476697976005523,
                6.846815664556962,
                4.999859692445841,
                4.348216305996196,
                3.6637332214765106,
                3.5574245939675175
               ]
              ]
             },
             {
              "x": [
               [
                "Singapore",
                "Bahrain",
                "Trinidad and Tobago",
                "Aruba",
                "Qatar",
                "Malta",
                "Kuwait",
                "Netherlands",
                "Maldives",
                "Luxembourg"
               ]
              ]
             }
            ],
            "label": "CO2/Area",
            "method": "update"
           },
           {
            "args": [
             {
              "y": [
               [
                0.048934280072022426,
                0.03544844043599475,
                0.027683638721511226,
                0.0255180993994088,
                0.024996087966575223,
                0.0180091856242798,
                0.01755706047494355,
                0.01717618402365495,
                0.016544883939720825,
                0.016176415179701975
               ],
               [
                0.048934280072022426,
                0.03544844043599475,
                0.027683638721511226,
                0.0255180993994088,
                0.024996087966575223,
                0.0180091856242798,
                0.01755706047494355,
                0.01717618402365495,
                0.016544883939720825,
                0.016176415179701975
               ],
               [
                0.048934280072022426,
                0.03544844043599475,
                0.027683638721511226,
                0.0255180993994088,
                0.024996087966575223,
                0.0180091856242798,
                0.01755706047494355,
                0.01717618402365495,
                0.016544883939720825,
                0.016176415179701975
               ],
               [
                0.048934280072022426,
                0.03544844043599475,
                0.027683638721511226,
                0.0255180993994088,
                0.024996087966575223,
                0.0180091856242798,
                0.01755706047494355,
                0.01717618402365495,
                0.016544883939720825,
                0.016176415179701975
               ]
              ]
             },
             {
              "x": [
               [
                "Qatar",
                "Trinidad and Tobago",
                "Kuwait",
                "United Arab Emirates",
                "Bahrain",
                "Saudi Arabia",
                "Luxembourg",
                "Aruba",
                "Australia",
                "Canada"
               ]
              ]
             }
            ],
            "label": "CO2/Population",
            "method": "update"
           }
          ],
          "direction": "down",
          "pad": {
           "r": 10,
           "t": 10
          },
          "showactive": true,
          "x": 0.1,
          "xanchor": "left",
          "y": 1.1,
          "yanchor": "top"
         }
        ],
        "xaxis": {
         "title": {
          "text": "Country"
         }
        },
        "yaxis": {
         "title": {
          "text": "Value"
         }
        }
       }
      }
     },
     "metadata": {},
     "output_type": "display_data"
    },
    {
     "name": "stdout",
     "output_type": "stream",
     "text": [
      "total_top:             Area                        Item         2000         2010  \\\n",
      "66          China  All sectors without LULUCF  3839649.997  9311518.108   \n",
      "140         India  All sectors without LULUCF  1078600.000  1767200.000   \n",
      "154         Japan  All sectors without LULUCF  1283620.000  1240120.000   \n",
      "116       Germany  All sectors without LULUCF   870492.000   794375.000   \n",
      "57         Canada  All sectors without LULUCF   558790.000   543755.000   \n",
      "264  Saudi Arabia  All sectors without LULUCF   311500.000   562700.000   \n",
      "282  South Africa  All sectors without LULUCF   467400.000   527800.000   \n",
      "142     Indonesia  All sectors without LULUCF   285294.300   447129.000   \n",
      "198        Mexico  All sectors without LULUCF   426036.400   501269.000   \n",
      "45         Brazil  All sectors without LULUCF   347025.000   438862.000   \n",
      "\n",
      "           2015         2020  Land Area(Km2)  2000 Population  \\\n",
      "66   10722793.6  11515339.48       9596960.0     1.264099e+09   \n",
      "140   2394200.0   2501200.00       3287263.0     1.059634e+09   \n",
      "154   1219430.0   1036020.00        377944.0     1.268039e+08   \n",
      "116    760367.0    603759.00        357022.0     8.155168e+07   \n",
      "57     574037.0    546321.00       9984670.0     3.068331e+07   \n",
      "264    701300.0    613200.00       2149690.0     2.154739e+07   \n",
      "282    509700.0    479700.00       1219090.0     4.681327e+07   \n",
      "142    519146.0    592363.00       1904569.0     2.140724e+08   \n",
      "198    500047.0    391475.00       1964375.0     9.787344e+07   \n",
      "45     521679.0    453396.00       8515770.0     1.758737e+08   \n",
      "\n",
      "     2010 Population  2015 Population  ...  2010/area  2015/area  2020/area  \\\n",
      "66      1.348191e+09     1.393715e+09  ...   0.970257   1.117311   1.199894   \n",
      "140     1.240614e+09     1.322867e+09  ...   0.537590   0.728326   0.760876   \n",
      "154     1.281054e+08     1.272509e+08  ...   3.281227   3.226483   2.741200   \n",
      "116     8.132509e+07     8.207323e+07  ...   2.225003   2.129748   1.691097   \n",
      "57      3.396341e+07     3.573213e+07  ...   0.054459   0.057492   0.054716   \n",
      "264     2.941193e+07     3.274985e+07  ...   0.261759   0.326233   0.285250   \n",
      "282     5.178492e+07     5.587650e+07  ...   0.432946   0.418099   0.393490   \n",
      "142     2.440162e+08     2.590920e+08  ...   0.234767   0.272579   0.311022   \n",
      "198     1.125324e+08     1.201499e+08  ...   0.255180   0.254558   0.199287   \n",
      "45      1.963535e+08     2.051882e+08  ...   0.051535   0.061260   0.053242   \n",
      "\n",
      "     2000/pop  2010/pop  2015/pop  2020/pop     avg_total  avg_area   avg_pop  \n",
      "66   0.003037  0.006907  0.007694  0.008081  8.847325e+06  0.921888  0.006430  \n",
      "140  0.001018  0.001424  0.001810  0.001791  1.935300e+06  0.588727  0.001511  \n",
      "154  0.010123  0.009680  0.009583  0.008272  1.194798e+06  3.161308  0.009415  \n",
      "116  0.010674  0.009768  0.009264  0.007245  7.572482e+05  2.121013  0.009238  \n",
      "57   0.018212  0.016010  0.016065  0.014419  5.557258e+05  0.055658  0.016176  \n",
      "264  0.014457  0.019132  0.021414  0.017035  5.471750e+05  0.254537  0.018009  \n",
      "282  0.009984  0.010192  0.009122  0.008158  4.961500e+05  0.406984  0.009364  \n",
      "142  0.001333  0.001832  0.002004  0.002179  4.609831e+05  0.242041  0.001837  \n",
      "198  0.004353  0.004454  0.004162  0.003107  4.547068e+05  0.231477  0.004019  \n",
      "45   0.001973  0.002235  0.002542  0.002127  4.402405e+05  0.051697  0.002219  \n",
      "\n",
      "[10 rows x 22 columns]\n",
      "area_top:                    Area                        Item         2000  \\\n",
      "272            Singapore  All sectors without LULUCF   51226.8000   \n",
      "25               Bahrain  All sectors without LULUCF   21080.0000   \n",
      "302  Trinidad and Tobago  All sectors without LULUCF   34290.0000   \n",
      "15                 Aruba  All sectors without LULUCF    2383.3000   \n",
      "248                Qatar  All sectors without LULUCF   39120.0062   \n",
      "192                Malta  All sectors without LULUCF    2152.6300   \n",
      "164               Kuwait  All sectors without LULUCF   55770.0000   \n",
      "214          Netherlands  All sectors without LULUCF  188412.2000   \n",
      "188             Maldives  All sectors without LULUCF     454.3100   \n",
      "180           Luxembourg  All sectors without LULUCF    8578.0000   \n",
      "\n",
      "            2010         2015         2020  Land Area(Km2)  2000 Population  \\\n",
      "272   63334.7000   72097.8000   46841.3000           716.0        4053602.0   \n",
      "25    31720.0000   35210.0000   27140.0000           765.0         711442.0   \n",
      "302   64200.0000   59900.0000   44800.0000          5128.0        1332203.0   \n",
      "15     2514.3500     903.0500     877.9000           179.0          89101.0   \n",
      "248   79280.0202  120900.0281  107200.0365         11586.0         645937.0   \n",
      "192    2606.6540    1677.5710    2217.5200           316.0         399212.0   \n",
      "164   93290.0000  101030.0000  106260.0000         17818.0        1934901.0   \n",
      "214  199812.9000  179213.1000  155113.6000         41543.0       15899135.0   \n",
      "188     939.2500    1305.9000    1667.7100           298.0         282507.0   \n",
      "180   10922.0000    9169.0000    8129.0000          2586.0         435628.0   \n",
      "\n",
      "     2010 Population  2015 Population  ...  2010/area   2015/area  2020/area  \\\n",
      "272        5163590.0        5650018.0  ...  88.456285  100.695251  65.420810   \n",
      "25         1213645.0        1362142.0  ...  41.464052   46.026144  35.477124   \n",
      "302        1410296.0        1460177.0  ...  12.519501   11.680967   8.736349   \n",
      "15          100341.0         104257.0  ...  14.046648    5.044972   4.904469   \n",
      "248        1713504.0        2414573.0  ...   6.842743   10.435010   9.252549   \n",
      "192         418755.0         456579.0  ...   8.248905    5.308769   7.017468   \n",
      "164        2943356.0        3908743.0  ...   5.235717    5.670109   5.963632   \n",
      "214       16617116.0       17041107.0  ...   4.809785    4.313918   3.733808   \n",
      "188         361575.0         435582.0  ...   3.151846    4.382215   5.596342   \n",
      "180         507070.0         569408.0  ...   4.223511    3.545630   3.143465   \n",
      "\n",
      "     2000/pop  2010/pop  2015/pop  2020/pop     avg_total   avg_area   avg_pop  \n",
      "272  0.012637  0.012266  0.012761  0.007926   58375.15000  81.529539  0.011397  \n",
      "25   0.029630  0.026136  0.025849  0.018369   28787.50000  37.630719  0.024996  \n",
      "302  0.025739  0.045522  0.041022  0.029510   50797.50000   9.905909  0.035448  \n",
      "15   0.026748  0.025058  0.008662  0.008237    1669.65000   9.327654  0.017176  \n",
      "248  0.060563  0.046268  0.050071  0.038835   86625.02275   7.476698  0.048934  \n",
      "192  0.005392  0.006225  0.003674  0.004303    2163.59375   6.846816  0.004899  \n",
      "164  0.028823  0.031695  0.025847  0.024369   89087.50000   4.999860  0.027684  \n",
      "214  0.011850  0.012025  0.010517  0.008897  180637.95000   4.348216  0.010822  \n",
      "188  0.001608  0.002598  0.002998  0.003242    1091.79250   3.663733  0.002611  \n",
      "180  0.019691  0.021539  0.016103  0.012895    9199.50000   3.557425  0.017557  \n",
      "\n",
      "[10 rows x 22 columns]\n",
      "pop_top:                     Area                        Item         2000  \\\n",
      "248                 Qatar  All sectors without LULUCF   39120.0062   \n",
      "302   Trinidad and Tobago  All sectors without LULUCF   34290.0000   \n",
      "164                Kuwait  All sectors without LULUCF   55770.0000   \n",
      "314  United Arab Emirates  All sectors without LULUCF  115500.0000   \n",
      "25                Bahrain  All sectors without LULUCF   21080.0000   \n",
      "264          Saudi Arabia  All sectors without LULUCF  311500.0000   \n",
      "180            Luxembourg  All sectors without LULUCF    8578.0000   \n",
      "15                  Aruba  All sectors without LULUCF    2383.3000   \n",
      "17              Australia  All sectors without LULUCF  340302.5000   \n",
      "57                 Canada  All sectors without LULUCF  558790.0000   \n",
      "\n",
      "            2010         2015         2020  Land Area(Km2)  2000 Population  \\\n",
      "248   79280.0202  120900.0281  107200.0365         11586.0         645937.0   \n",
      "302   64200.0000   59900.0000   44800.0000          5128.0        1332203.0   \n",
      "164   93290.0000  101030.0000  106260.0000         17818.0        1934901.0   \n",
      "314  163700.0000  251000.0000  179800.0000         83600.0        3275333.0   \n",
      "25    31720.0000   35210.0000   27140.0000           765.0         711442.0   \n",
      "264  562700.0000  701300.0000  613200.0000       2149690.0       21547390.0   \n",
      "180   10922.0000    9169.0000    8129.0000          2586.0         435628.0   \n",
      "15     2514.3500     903.0500     877.9000           179.0          89101.0   \n",
      "17   405903.9000  379804.5000  356995.0300       7741220.0       19017963.0   \n",
      "57   543755.0000  574037.0000  546321.0000       9984670.0       30683313.0   \n",
      "\n",
      "     2010 Population  2015 Population  ...  2010/area  2015/area  2020/area  \\\n",
      "248        1713504.0        2414573.0  ...   6.842743  10.435010   9.252549   \n",
      "302        1410296.0        1460177.0  ...  12.519501  11.680967   8.736349   \n",
      "164        2943356.0        3908743.0  ...   5.235717   5.670109   5.963632   \n",
      "314        8481771.0        8916899.0  ...   1.958134   3.002392   2.150718   \n",
      "25         1213645.0        1362142.0  ...  41.464052  46.026144  35.477124   \n",
      "264       29411929.0       32749848.0  ...   0.261759   0.326233   0.285250   \n",
      "180         507070.0         569408.0  ...   4.223511   3.545630   3.143465   \n",
      "15          100341.0         104257.0  ...  14.046648   5.044972   4.904469   \n",
      "17        22019168.0       23820236.0  ...   0.052434   0.049063   0.046116   \n",
      "57        33963412.0       35732126.0  ...   0.054459   0.057492   0.054716   \n",
      "\n",
      "     2000/pop  2010/pop  2015/pop  2020/pop     avg_total   avg_area   avg_pop  \n",
      "248  0.060563  0.046268  0.050071  0.038835   86625.02275   7.476698  0.048934  \n",
      "302  0.025739  0.045522  0.041022  0.029510   50797.50000   9.905909  0.035448  \n",
      "164  0.028823  0.031695  0.025847  0.024369   89087.50000   4.999860  0.027684  \n",
      "314  0.035264  0.019300  0.028149  0.019360  177500.00000   2.123206  0.025518  \n",
      "25   0.029630  0.026136  0.025849  0.018369   28787.50000  37.630719  0.024996  \n",
      "264  0.014457  0.019132  0.021414  0.017035  547175.00000   0.254537  0.018009  \n",
      "180  0.019691  0.021539  0.016103  0.012895    9199.50000   3.557425  0.017557  \n",
      "15   0.026748  0.025058  0.008662  0.008237    1669.65000   9.327654  0.017176  \n",
      "17   0.017894  0.018434  0.015945  0.013907  370751.48250   0.047893  0.016545  \n",
      "57   0.018212  0.016010  0.016065  0.014419  555725.75000   0.055658  0.016176  \n",
      "\n",
      "[10 rows x 22 columns]\n"
     ]
    }
   ],
   "source": [
    "# Sort by 'total_CO' (or any other initial sort criteria) and select the top 10\n",
    "merge = pd.read_csv('merge.csv')\n",
    "\n",
    "# LULUCF filter:\n",
    "# Removes all rows with 'All sectors with LULUCF' in the 'Item' column\n",
    "merge = merge[merge['Item'] != 'All sectors with LULUCF']\n",
    "\n",
    "# Calculate the average of the relative values for each country\n",
    "merge['avg_total'] = merge[[year for year in years]].mean(axis=1)\n",
    "merge['avg_area'] = merge[[year+'/area' for year in years]].mean(axis=1)\n",
    "merge['avg_pop'] = merge[[year+'/pop' for year in years]].mean(axis=1)\n",
    "\n",
    "# Sort by the average and select the top 10\n",
    "total_top = merge.sort_values('avg_total', ascending=False).head(10)\n",
    "area_top = merge.sort_values('avg_area', ascending=False).head(10)\n",
    "pop_top = merge.sort_values('avg_pop', ascending=False).head(10)\n",
    "\n",
    "# Create a new Figure\n",
    "fig = go.Figure()\n",
    "\n",
    "# Define a function to add traces for a specific category\n",
    "def add_category_traces(fig, category, data):\n",
    "    for year in years:\n",
    "        fig.add_trace(go.Bar(\n",
    "            x=data['Area'],\n",
    "            y=data[category],\n",
    "            name=year\n",
    "        ))\n",
    "\n",
    "# Usage examples\n",
    "add_category_traces(fig, 'avg_total', total_top)\n",
    "add_category_traces(fig, 'avg_area', area_top)\n",
    "add_category_traces(fig, 'avg_pop', pop_top)\n",
    "\n",
    "# Change the bar mode to group\n",
    "fig.update_layout(barmode='group')\n",
    "\n",
    "# Add labels and title\n",
    "fig.update_layout(\n",
    "    title='Emissions per Country for Selected Categories',\n",
    "    xaxis_title='Country',\n",
    "    yaxis_title='Value'\n",
    ")\n",
    "\n",
    "# Define dropdown menus for switching categories\n",
    "fig.update_layout(\n",
    "    updatemenus=[\n",
    "        dict(\n",
    "            buttons=[\n",
    "                dict(label=\"Total CO Emissions\",\n",
    "                     method=\"update\",\n",
    "                     args=[{\"y\": [total_top['avg_total'] for _ in years]}, {\"x\": [total_top['Area']]}]),\n",
    "                dict(label=\"CO2/Area\",\n",
    "                     method=\"update\",\n",
    "                     args=[{\"y\": [area_top['avg_area'] for _ in years]}, {\"x\": [area_top['Area']]}]),\n",
    "                dict(label=\"CO2/Population\",\n",
    "                     method=\"update\",\n",
    "                     args=[{\"y\": [pop_top['avg_pop'] for _ in years]}, {\"x\": [pop_top['Area']]}])\n",
    "            ],\n",
    "            direction=\"down\",\n",
    "            pad={\"r\": 10, \"t\": 10},\n",
    "            showactive=True,\n",
    "            x=0.1,\n",
    "            xanchor=\"left\",\n",
    "            y=1.1,\n",
    "            yanchor=\"top\"\n",
    "        ),\n",
    "    ]\n",
    ")\n",
    "\n",
    "# Show the plot\n",
    "fig.show()\n",
    "\n",
    "print(f'total_top:{total_top}')\n",
    "print(f'area_top:{area_top}')\n",
    "print(f'pop_top:{pop_top}')"
   ]
  },
  {
   "cell_type": "code",
   "execution_count": null,
   "metadata": {},
   "outputs": [
    {
     "data": {
      "application/vnd.plotly.v1+json": {
       "config": {
        "plotlyServerURL": "https://plot.ly"
       },
       "data": [
        {
         "name": "2000",
         "type": "bar",
         "x": [
          "Central African Republic",
          "Chad",
          "Somalia",
          "Niger",
          "Mali",
          "Congo",
          "Mauritania",
          "Namibia",
          "Madagascar",
          "Zambia"
         ],
         "y": [
          0.00046052547095912574,
          0.00040708722741433025,
          0.0007943141845851296,
          0.0006154696132596685,
          0.0007205900376715863,
          0.0019622601431136316,
          0.0010907926651790045,
          0.002002021128435069,
          0.0032595679007088093,
          0.002420882838305754
         ]
        },
        {
         "name": "2005",
         "type": "bar",
         "x": [
          "Central African Republic",
          "Chad",
          "Somalia",
          "Niger",
          "Mali",
          "Congo",
          "Mauritania",
          "Namibia",
          "Madagascar",
          "Zambia"
         ],
         "y": [
          0.00040964133910341194,
          0.0007742211838006231,
          0.000980307594835468,
          0.0006066298342541437,
          0.0007974894209928785,
          0.0019078562417045384,
          0.0014126612981468904,
          0.0028851426436262875,
          0.003049190772024441,
          0.003036068762639214
         ]
        },
        {
         "name": "2010",
         "type": "bar",
         "x": [
          "Central African Republic",
          "Chad",
          "Somalia",
          "Niger",
          "Mali",
          "Congo",
          "Mauritania",
          "Namibia",
          "Madagascar",
          "Zambia"
         ],
         "y": [
          0.00045779666893531773,
          0.0008998442367601246,
          0.001014024781347966,
          0.0009720599842146803,
          0.0016624683919909177,
          0.0023140969869221103,
          0.0019677209663335597,
          0.0038584627777535144,
          0.0034205447319693174,
          0.00346390864954067
         ]
        },
        {
         "name": "2015",
         "type": "bar",
         "x": [
          "Central African Republic",
          "Chad",
          "Somalia",
          "Niger",
          "Mali",
          "Congo",
          "Mauritania",
          "Namibia",
          "Madagascar",
          "Zambia"
         ],
         "y": [
          0.0005048283744044791,
          0.0009587227414330218,
          0.001045546430134069,
          0.0017213101815311761,
          0.002565376973887914,
          0.0024805929797318935,
          0.0029068594159309207,
          0.004729392011568716,
          0.006060905456348024,
          0.005694788059812547
         ]
        },
        {
         "name": "2020",
         "type": "bar",
         "x": [
          "Central African Republic",
          "Chad",
          "Somalia",
          "Niger",
          "Mali",
          "Congo",
          "Mauritania",
          "Namibia",
          "Madagascar",
          "Zambia"
         ],
         "y": [
          0.0005057914810011172,
          0.0012390965732087228,
          0.00097999394658884,
          0.0020718232044198894,
          0.003138401150789555,
          0.0021578350300523277,
          0.0035400213447171823,
          0.004882808519311118,
          0.00622273401687446,
          0.008144902194738898
         ]
        }
       ],
       "layout": {
        "barmode": "group",
        "template": {
         "data": {
          "bar": [
           {
            "error_x": {
             "color": "#2a3f5f"
            },
            "error_y": {
             "color": "#2a3f5f"
            },
            "marker": {
             "line": {
              "color": "#E5ECF6",
              "width": 0.5
             },
             "pattern": {
              "fillmode": "overlay",
              "size": 10,
              "solidity": 0.2
             }
            },
            "type": "bar"
           }
          ],
          "barpolar": [
           {
            "marker": {
             "line": {
              "color": "#E5ECF6",
              "width": 0.5
             },
             "pattern": {
              "fillmode": "overlay",
              "size": 10,
              "solidity": 0.2
             }
            },
            "type": "barpolar"
           }
          ],
          "carpet": [
           {
            "aaxis": {
             "endlinecolor": "#2a3f5f",
             "gridcolor": "white",
             "linecolor": "white",
             "minorgridcolor": "white",
             "startlinecolor": "#2a3f5f"
            },
            "baxis": {
             "endlinecolor": "#2a3f5f",
             "gridcolor": "white",
             "linecolor": "white",
             "minorgridcolor": "white",
             "startlinecolor": "#2a3f5f"
            },
            "type": "carpet"
           }
          ],
          "choropleth": [
           {
            "colorbar": {
             "outlinewidth": 0,
             "ticks": ""
            },
            "type": "choropleth"
           }
          ],
          "contour": [
           {
            "colorbar": {
             "outlinewidth": 0,
             "ticks": ""
            },
            "colorscale": [
             [
              0,
              "#0d0887"
             ],
             [
              0.1111111111111111,
              "#46039f"
             ],
             [
              0.2222222222222222,
              "#7201a8"
             ],
             [
              0.3333333333333333,
              "#9c179e"
             ],
             [
              0.4444444444444444,
              "#bd3786"
             ],
             [
              0.5555555555555556,
              "#d8576b"
             ],
             [
              0.6666666666666666,
              "#ed7953"
             ],
             [
              0.7777777777777778,
              "#fb9f3a"
             ],
             [
              0.8888888888888888,
              "#fdca26"
             ],
             [
              1,
              "#f0f921"
             ]
            ],
            "type": "contour"
           }
          ],
          "contourcarpet": [
           {
            "colorbar": {
             "outlinewidth": 0,
             "ticks": ""
            },
            "type": "contourcarpet"
           }
          ],
          "heatmap": [
           {
            "colorbar": {
             "outlinewidth": 0,
             "ticks": ""
            },
            "colorscale": [
             [
              0,
              "#0d0887"
             ],
             [
              0.1111111111111111,
              "#46039f"
             ],
             [
              0.2222222222222222,
              "#7201a8"
             ],
             [
              0.3333333333333333,
              "#9c179e"
             ],
             [
              0.4444444444444444,
              "#bd3786"
             ],
             [
              0.5555555555555556,
              "#d8576b"
             ],
             [
              0.6666666666666666,
              "#ed7953"
             ],
             [
              0.7777777777777778,
              "#fb9f3a"
             ],
             [
              0.8888888888888888,
              "#fdca26"
             ],
             [
              1,
              "#f0f921"
             ]
            ],
            "type": "heatmap"
           }
          ],
          "heatmapgl": [
           {
            "colorbar": {
             "outlinewidth": 0,
             "ticks": ""
            },
            "colorscale": [
             [
              0,
              "#0d0887"
             ],
             [
              0.1111111111111111,
              "#46039f"
             ],
             [
              0.2222222222222222,
              "#7201a8"
             ],
             [
              0.3333333333333333,
              "#9c179e"
             ],
             [
              0.4444444444444444,
              "#bd3786"
             ],
             [
              0.5555555555555556,
              "#d8576b"
             ],
             [
              0.6666666666666666,
              "#ed7953"
             ],
             [
              0.7777777777777778,
              "#fb9f3a"
             ],
             [
              0.8888888888888888,
              "#fdca26"
             ],
             [
              1,
              "#f0f921"
             ]
            ],
            "type": "heatmapgl"
           }
          ],
          "histogram": [
           {
            "marker": {
             "pattern": {
              "fillmode": "overlay",
              "size": 10,
              "solidity": 0.2
             }
            },
            "type": "histogram"
           }
          ],
          "histogram2d": [
           {
            "colorbar": {
             "outlinewidth": 0,
             "ticks": ""
            },
            "colorscale": [
             [
              0,
              "#0d0887"
             ],
             [
              0.1111111111111111,
              "#46039f"
             ],
             [
              0.2222222222222222,
              "#7201a8"
             ],
             [
              0.3333333333333333,
              "#9c179e"
             ],
             [
              0.4444444444444444,
              "#bd3786"
             ],
             [
              0.5555555555555556,
              "#d8576b"
             ],
             [
              0.6666666666666666,
              "#ed7953"
             ],
             [
              0.7777777777777778,
              "#fb9f3a"
             ],
             [
              0.8888888888888888,
              "#fdca26"
             ],
             [
              1,
              "#f0f921"
             ]
            ],
            "type": "histogram2d"
           }
          ],
          "histogram2dcontour": [
           {
            "colorbar": {
             "outlinewidth": 0,
             "ticks": ""
            },
            "colorscale": [
             [
              0,
              "#0d0887"
             ],
             [
              0.1111111111111111,
              "#46039f"
             ],
             [
              0.2222222222222222,
              "#7201a8"
             ],
             [
              0.3333333333333333,
              "#9c179e"
             ],
             [
              0.4444444444444444,
              "#bd3786"
             ],
             [
              0.5555555555555556,
              "#d8576b"
             ],
             [
              0.6666666666666666,
              "#ed7953"
             ],
             [
              0.7777777777777778,
              "#fb9f3a"
             ],
             [
              0.8888888888888888,
              "#fdca26"
             ],
             [
              1,
              "#f0f921"
             ]
            ],
            "type": "histogram2dcontour"
           }
          ],
          "mesh3d": [
           {
            "colorbar": {
             "outlinewidth": 0,
             "ticks": ""
            },
            "type": "mesh3d"
           }
          ],
          "parcoords": [
           {
            "line": {
             "colorbar": {
              "outlinewidth": 0,
              "ticks": ""
             }
            },
            "type": "parcoords"
           }
          ],
          "pie": [
           {
            "automargin": true,
            "type": "pie"
           }
          ],
          "scatter": [
           {
            "fillpattern": {
             "fillmode": "overlay",
             "size": 10,
             "solidity": 0.2
            },
            "type": "scatter"
           }
          ],
          "scatter3d": [
           {
            "line": {
             "colorbar": {
              "outlinewidth": 0,
              "ticks": ""
             }
            },
            "marker": {
             "colorbar": {
              "outlinewidth": 0,
              "ticks": ""
             }
            },
            "type": "scatter3d"
           }
          ],
          "scattercarpet": [
           {
            "marker": {
             "colorbar": {
              "outlinewidth": 0,
              "ticks": ""
             }
            },
            "type": "scattercarpet"
           }
          ],
          "scattergeo": [
           {
            "marker": {
             "colorbar": {
              "outlinewidth": 0,
              "ticks": ""
             }
            },
            "type": "scattergeo"
           }
          ],
          "scattergl": [
           {
            "marker": {
             "colorbar": {
              "outlinewidth": 0,
              "ticks": ""
             }
            },
            "type": "scattergl"
           }
          ],
          "scattermapbox": [
           {
            "marker": {
             "colorbar": {
              "outlinewidth": 0,
              "ticks": ""
             }
            },
            "type": "scattermapbox"
           }
          ],
          "scatterpolar": [
           {
            "marker": {
             "colorbar": {
              "outlinewidth": 0,
              "ticks": ""
             }
            },
            "type": "scatterpolar"
           }
          ],
          "scatterpolargl": [
           {
            "marker": {
             "colorbar": {
              "outlinewidth": 0,
              "ticks": ""
             }
            },
            "type": "scatterpolargl"
           }
          ],
          "scatterternary": [
           {
            "marker": {
             "colorbar": {
              "outlinewidth": 0,
              "ticks": ""
             }
            },
            "type": "scatterternary"
           }
          ],
          "surface": [
           {
            "colorbar": {
             "outlinewidth": 0,
             "ticks": ""
            },
            "colorscale": [
             [
              0,
              "#0d0887"
             ],
             [
              0.1111111111111111,
              "#46039f"
             ],
             [
              0.2222222222222222,
              "#7201a8"
             ],
             [
              0.3333333333333333,
              "#9c179e"
             ],
             [
              0.4444444444444444,
              "#bd3786"
             ],
             [
              0.5555555555555556,
              "#d8576b"
             ],
             [
              0.6666666666666666,
              "#ed7953"
             ],
             [
              0.7777777777777778,
              "#fb9f3a"
             ],
             [
              0.8888888888888888,
              "#fdca26"
             ],
             [
              1,
              "#f0f921"
             ]
            ],
            "type": "surface"
           }
          ],
          "table": [
           {
            "cells": {
             "fill": {
              "color": "#EBF0F8"
             },
             "line": {
              "color": "white"
             }
            },
            "header": {
             "fill": {
              "color": "#C8D4E3"
             },
             "line": {
              "color": "white"
             }
            },
            "type": "table"
           }
          ]
         },
         "layout": {
          "annotationdefaults": {
           "arrowcolor": "#2a3f5f",
           "arrowhead": 0,
           "arrowwidth": 1
          },
          "autotypenumbers": "strict",
          "coloraxis": {
           "colorbar": {
            "outlinewidth": 0,
            "ticks": ""
           }
          },
          "colorscale": {
           "diverging": [
            [
             0,
             "#8e0152"
            ],
            [
             0.1,
             "#c51b7d"
            ],
            [
             0.2,
             "#de77ae"
            ],
            [
             0.3,
             "#f1b6da"
            ],
            [
             0.4,
             "#fde0ef"
            ],
            [
             0.5,
             "#f7f7f7"
            ],
            [
             0.6,
             "#e6f5d0"
            ],
            [
             0.7,
             "#b8e186"
            ],
            [
             0.8,
             "#7fbc41"
            ],
            [
             0.9,
             "#4d9221"
            ],
            [
             1,
             "#276419"
            ]
           ],
           "sequential": [
            [
             0,
             "#0d0887"
            ],
            [
             0.1111111111111111,
             "#46039f"
            ],
            [
             0.2222222222222222,
             "#7201a8"
            ],
            [
             0.3333333333333333,
             "#9c179e"
            ],
            [
             0.4444444444444444,
             "#bd3786"
            ],
            [
             0.5555555555555556,
             "#d8576b"
            ],
            [
             0.6666666666666666,
             "#ed7953"
            ],
            [
             0.7777777777777778,
             "#fb9f3a"
            ],
            [
             0.8888888888888888,
             "#fdca26"
            ],
            [
             1,
             "#f0f921"
            ]
           ],
           "sequentialminus": [
            [
             0,
             "#0d0887"
            ],
            [
             0.1111111111111111,
             "#46039f"
            ],
            [
             0.2222222222222222,
             "#7201a8"
            ],
            [
             0.3333333333333333,
             "#9c179e"
            ],
            [
             0.4444444444444444,
             "#bd3786"
            ],
            [
             0.5555555555555556,
             "#d8576b"
            ],
            [
             0.6666666666666666,
             "#ed7953"
            ],
            [
             0.7777777777777778,
             "#fb9f3a"
            ],
            [
             0.8888888888888888,
             "#fdca26"
            ],
            [
             1,
             "#f0f921"
            ]
           ]
          },
          "colorway": [
           "#636efa",
           "#EF553B",
           "#00cc96",
           "#ab63fa",
           "#FFA15A",
           "#19d3f3",
           "#FF6692",
           "#B6E880",
           "#FF97FF",
           "#FECB52"
          ],
          "font": {
           "color": "#2a3f5f"
          },
          "geo": {
           "bgcolor": "white",
           "lakecolor": "white",
           "landcolor": "#E5ECF6",
           "showlakes": true,
           "showland": true,
           "subunitcolor": "white"
          },
          "hoverlabel": {
           "align": "left"
          },
          "hovermode": "closest",
          "mapbox": {
           "style": "light"
          },
          "paper_bgcolor": "white",
          "plot_bgcolor": "#E5ECF6",
          "polar": {
           "angularaxis": {
            "gridcolor": "white",
            "linecolor": "white",
            "ticks": ""
           },
           "bgcolor": "#E5ECF6",
           "radialaxis": {
            "gridcolor": "white",
            "linecolor": "white",
            "ticks": ""
           }
          },
          "scene": {
           "xaxis": {
            "backgroundcolor": "#E5ECF6",
            "gridcolor": "white",
            "gridwidth": 2,
            "linecolor": "white",
            "showbackground": true,
            "ticks": "",
            "zerolinecolor": "white"
           },
           "yaxis": {
            "backgroundcolor": "#E5ECF6",
            "gridcolor": "white",
            "gridwidth": 2,
            "linecolor": "white",
            "showbackground": true,
            "ticks": "",
            "zerolinecolor": "white"
           },
           "zaxis": {
            "backgroundcolor": "#E5ECF6",
            "gridcolor": "white",
            "gridwidth": 2,
            "linecolor": "white",
            "showbackground": true,
            "ticks": "",
            "zerolinecolor": "white"
           }
          },
          "shapedefaults": {
           "line": {
            "color": "#2a3f5f"
           }
          },
          "ternary": {
           "aaxis": {
            "gridcolor": "white",
            "linecolor": "white",
            "ticks": ""
           },
           "baxis": {
            "gridcolor": "white",
            "linecolor": "white",
            "ticks": ""
           },
           "bgcolor": "#E5ECF6",
           "caxis": {
            "gridcolor": "white",
            "linecolor": "white",
            "ticks": ""
           }
          },
          "title": {
           "x": 0.05
          },
          "xaxis": {
           "automargin": true,
           "gridcolor": "white",
           "linecolor": "white",
           "ticks": "",
           "title": {
            "standoff": 15
           },
           "zerolinecolor": "white",
           "zerolinewidth": 2
          },
          "yaxis": {
           "automargin": true,
           "gridcolor": "white",
           "linecolor": "white",
           "ticks": "",
           "title": {
            "standoff": 15
           },
           "zerolinecolor": "white",
           "zerolinewidth": 2
          }
         }
        },
        "title": {
         "text": "Total CO2 emission per Country for the years 2000-2005-2010-2015-2020 (without LULUCF) for the top 10 least emitting countries"
        },
        "xaxis": {
         "title": {
          "text": "Country"
         }
        },
        "yaxis": {
         "title": {
          "text": "Value"
         }
        }
       }
      }
     },
     "metadata": {},
     "output_type": "display_data"
    }
   ],
   "source": [
    "# Calculate the average of the relative values for each country\n",
    "mergeN['avg'] = mergeN[[year+'rel' for year in years]].mean(axis=1)\n",
    "\n",
    "# Sort by the average and select the bottom 10\n",
    "top_countries = mergeN.sort_values('avg', ascending=True).head(10)\n",
    "\n",
    "# Create a new Figure\n",
    "fig = go.Figure()\n",
    "\n",
    "# Add a bar for each year\n",
    "for year in years:\n",
    "    fig.add_trace(go.Bar(\n",
    "        x=top_countries['Area'],\n",
    "        y=top_countries[year+'rel'],\n",
    "        name=year\n",
    "    ))\n",
    "\n",
    "# Change the bar mode to group\n",
    "fig.update_layout(barmode='group')\n",
    "\n",
    "# Add labels and title\n",
    "fig.update_layout(\n",
    "    title='Total CO2 emission per Country for the years 2000-2010-2015-2020 (without LULUCF) for the top 10 least emitting countries',\n",
    "    xaxis_title='Country',\n",
    "    yaxis_title='Value'\n",
    ")\n",
    "\n",
    "# Show the plot\n",
    "fig.show()"
   ]
  }
 ],
 "metadata": {
  "kernelspec": {
   "display_name": "jupyterbook",
   "language": "python",
   "name": "python3"
  },
  "language_info": {
   "codemirror_mode": {
    "name": "ipython",
    "version": 3
   },
   "file_extension": ".py",
   "mimetype": "text/x-python",
   "name": "python",
   "nbconvert_exporter": "python",
   "pygments_lexer": "ipython3",
   "version": "3.10.14"
  }
 },
 "nbformat": 4,
 "nbformat_minor": 2
}
