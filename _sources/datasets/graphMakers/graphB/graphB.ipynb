{
 "cells": [
  {
   "cell_type": "code",
   "execution_count": 1,
   "id": "initial_id",
   "metadata": {
    "collapsed": true,
    "ExecuteTime": {
     "end_time": "2024-06-18T21:50:51.185669Z",
     "start_time": "2024-06-18T21:50:50.878579Z"
    }
   },
   "outputs": [],
   "source": [
    "import pandas as pd"
   ]
  },
  {
   "cell_type": "code",
   "outputs": [
    {
     "data": {
      "text/plain": "           Entity  Year  Access to electricity (% of population)  \\\n0     Afghanistan  2000                                 1.613591   \n1     Afghanistan  2001                                 4.074574   \n2     Afghanistan  2002                                 9.409158   \n3     Afghanistan  2003                                14.738506   \n4     Afghanistan  2004                                20.064968   \n...           ...   ...                                      ...   \n3644     Zimbabwe  2016                                42.561730   \n3645     Zimbabwe  2017                                44.178635   \n3646     Zimbabwe  2018                                45.572647   \n3647     Zimbabwe  2019                                46.781475   \n3648     Zimbabwe  2020                                52.747670   \n\n      Access to clean fuels for cooking  \\\n0                                   6.2   \n1                                   7.2   \n2                                   8.2   \n3                                   9.5   \n4                                  10.9   \n...                                 ...   \n3644                               29.8   \n3645                               29.8   \n3646                               29.9   \n3647                               30.1   \n3648                               30.4   \n\n      Renewable-electricity-generating-capacity-per-capita  \\\n0                                                  9.22      \n1                                                  8.86      \n2                                                  8.47      \n3                                                  8.09      \n4                                                  7.75      \n...                                                 ...      \n3644                                              62.88      \n3645                                              62.33      \n3646                                              82.53      \n3647                                              81.40      \n3648                                              80.61      \n\n      Financial flows to developing countries (US $)  \\\n0                                            20000.0   \n1                                           130000.0   \n2                                          3950000.0   \n3                                         25970000.0   \n4                                                NaN   \n...                                              ...   \n3644                                         30000.0   \n3645                                       5570000.0   \n3646                                         10000.0   \n3647                                        250000.0   \n3648                                         30000.0   \n\n      Renewable energy share in the total final energy consumption (%)  \\\n0                                                 44.99                  \n1                                                 45.60                  \n2                                                 37.83                  \n3                                                 36.66                  \n4                                                 44.24                  \n...                                                 ...                  \n3644                                              81.90                  \n3645                                              82.46                  \n3646                                              80.23                  \n3647                                              81.50                  \n3648                                              81.90                  \n\n      Electricity from fossil fuels (TWh)  Electricity from nuclear (TWh)  \\\n0                                    0.16                             0.0   \n1                                    0.09                             0.0   \n2                                    0.13                             0.0   \n3                                    0.31                             0.0   \n4                                    0.33                             0.0   \n...                                   ...                             ...   \n3644                                 3.50                             0.0   \n3645                                 3.05                             0.0   \n3646                                 3.73                             0.0   \n3647                                 3.66                             0.0   \n3648                                 3.40                             0.0   \n\n      Electricity from renewables (TWh)  ...  \\\n0                                  0.31  ...   \n1                                  0.50  ...   \n2                                  0.56  ...   \n3                                  0.63  ...   \n4                                  0.56  ...   \n...                                 ...  ...   \n3644                               3.32  ...   \n3645                               4.30  ...   \n3646                               5.46  ...   \n3647                               4.58  ...   \n3648                               4.19  ...   \n\n      Primary energy consumption per capita (kWh/person)  \\\n0                                             302.59482    \n1                                             236.89185    \n2                                             210.86215    \n3                                             229.96822    \n4                                             204.23125    \n...                                                 ...    \n3644                                         3227.68020    \n3645                                         3068.01150    \n3646                                         3441.98580    \n3647                                         3003.65530    \n3648                                         2680.13180    \n\n      Energy intensity level of primary energy (MJ/$2017 PPP GDP)  \\\n0                                                  1.64             \n1                                                  1.74             \n2                                                  1.40             \n3                                                  1.40             \n4                                                  1.20             \n...                                                 ...             \n3644                                              10.00             \n3645                                               9.51             \n3646                                               9.83             \n3647                                              10.47             \n3648                                              10.00             \n\n      Value_co2_emissions_kt_by_country  \\\n0                            760.000000   \n1                            730.000000   \n2                           1029.999971   \n3                           1220.000029   \n4                           1029.999971   \n...                                 ...   \n3644                       11020.000460   \n3645                       10340.000150   \n3646                       12380.000110   \n3647                       11760.000230   \n3648                                NaN   \n\n      Renewables (% equivalent primary energy)  gdp_growth  gdp_per_capita  \\\n0                                          NaN         NaN             NaN   \n1                                          NaN         NaN             NaN   \n2                                          NaN         NaN      179.426579   \n3                                          NaN    8.832278      190.683814   \n4                                          NaN    1.414118      211.382074   \n...                                        ...         ...             ...   \n3644                                       NaN    0.755869     1464.588957   \n3645                                       NaN    4.709492     1235.189032   \n3646                                       NaN    4.824211     1254.642265   \n3647                                       NaN   -6.144236     1316.740657   \n3648                                       NaN   -6.248748     1214.509820   \n\n      Density\\n(P/Km2) Land Area(Km2)   Latitude  Longitude  \n0                   60       652230.0  33.939110  67.709953  \n1                   60       652230.0  33.939110  67.709953  \n2                   60       652230.0  33.939110  67.709953  \n3                   60       652230.0  33.939110  67.709953  \n4                   60       652230.0  33.939110  67.709953  \n...                ...            ...        ...        ...  \n3644                38       390757.0 -19.015438  29.154857  \n3645                38       390757.0 -19.015438  29.154857  \n3646                38       390757.0 -19.015438  29.154857  \n3647                38       390757.0 -19.015438  29.154857  \n3648                38       390757.0 -19.015438  29.154857  \n\n[3649 rows x 21 columns]",
      "text/html": "<div>\n<style scoped>\n    .dataframe tbody tr th:only-of-type {\n        vertical-align: middle;\n    }\n\n    .dataframe tbody tr th {\n        vertical-align: top;\n    }\n\n    .dataframe thead th {\n        text-align: right;\n    }\n</style>\n<table border=\"1\" class=\"dataframe\">\n  <thead>\n    <tr style=\"text-align: right;\">\n      <th></th>\n      <th>Entity</th>\n      <th>Year</th>\n      <th>Access to electricity (% of population)</th>\n      <th>Access to clean fuels for cooking</th>\n      <th>Renewable-electricity-generating-capacity-per-capita</th>\n      <th>Financial flows to developing countries (US $)</th>\n      <th>Renewable energy share in the total final energy consumption (%)</th>\n      <th>Electricity from fossil fuels (TWh)</th>\n      <th>Electricity from nuclear (TWh)</th>\n      <th>Electricity from renewables (TWh)</th>\n      <th>...</th>\n      <th>Primary energy consumption per capita (kWh/person)</th>\n      <th>Energy intensity level of primary energy (MJ/$2017 PPP GDP)</th>\n      <th>Value_co2_emissions_kt_by_country</th>\n      <th>Renewables (% equivalent primary energy)</th>\n      <th>gdp_growth</th>\n      <th>gdp_per_capita</th>\n      <th>Density\\n(P/Km2)</th>\n      <th>Land Area(Km2)</th>\n      <th>Latitude</th>\n      <th>Longitude</th>\n    </tr>\n  </thead>\n  <tbody>\n    <tr>\n      <th>0</th>\n      <td>Afghanistan</td>\n      <td>2000</td>\n      <td>1.613591</td>\n      <td>6.2</td>\n      <td>9.22</td>\n      <td>20000.0</td>\n      <td>44.99</td>\n      <td>0.16</td>\n      <td>0.0</td>\n      <td>0.31</td>\n      <td>...</td>\n      <td>302.59482</td>\n      <td>1.64</td>\n      <td>760.000000</td>\n      <td>NaN</td>\n      <td>NaN</td>\n      <td>NaN</td>\n      <td>60</td>\n      <td>652230.0</td>\n      <td>33.939110</td>\n      <td>67.709953</td>\n    </tr>\n    <tr>\n      <th>1</th>\n      <td>Afghanistan</td>\n      <td>2001</td>\n      <td>4.074574</td>\n      <td>7.2</td>\n      <td>8.86</td>\n      <td>130000.0</td>\n      <td>45.60</td>\n      <td>0.09</td>\n      <td>0.0</td>\n      <td>0.50</td>\n      <td>...</td>\n      <td>236.89185</td>\n      <td>1.74</td>\n      <td>730.000000</td>\n      <td>NaN</td>\n      <td>NaN</td>\n      <td>NaN</td>\n      <td>60</td>\n      <td>652230.0</td>\n      <td>33.939110</td>\n      <td>67.709953</td>\n    </tr>\n    <tr>\n      <th>2</th>\n      <td>Afghanistan</td>\n      <td>2002</td>\n      <td>9.409158</td>\n      <td>8.2</td>\n      <td>8.47</td>\n      <td>3950000.0</td>\n      <td>37.83</td>\n      <td>0.13</td>\n      <td>0.0</td>\n      <td>0.56</td>\n      <td>...</td>\n      <td>210.86215</td>\n      <td>1.40</td>\n      <td>1029.999971</td>\n      <td>NaN</td>\n      <td>NaN</td>\n      <td>179.426579</td>\n      <td>60</td>\n      <td>652230.0</td>\n      <td>33.939110</td>\n      <td>67.709953</td>\n    </tr>\n    <tr>\n      <th>3</th>\n      <td>Afghanistan</td>\n      <td>2003</td>\n      <td>14.738506</td>\n      <td>9.5</td>\n      <td>8.09</td>\n      <td>25970000.0</td>\n      <td>36.66</td>\n      <td>0.31</td>\n      <td>0.0</td>\n      <td>0.63</td>\n      <td>...</td>\n      <td>229.96822</td>\n      <td>1.40</td>\n      <td>1220.000029</td>\n      <td>NaN</td>\n      <td>8.832278</td>\n      <td>190.683814</td>\n      <td>60</td>\n      <td>652230.0</td>\n      <td>33.939110</td>\n      <td>67.709953</td>\n    </tr>\n    <tr>\n      <th>4</th>\n      <td>Afghanistan</td>\n      <td>2004</td>\n      <td>20.064968</td>\n      <td>10.9</td>\n      <td>7.75</td>\n      <td>NaN</td>\n      <td>44.24</td>\n      <td>0.33</td>\n      <td>0.0</td>\n      <td>0.56</td>\n      <td>...</td>\n      <td>204.23125</td>\n      <td>1.20</td>\n      <td>1029.999971</td>\n      <td>NaN</td>\n      <td>1.414118</td>\n      <td>211.382074</td>\n      <td>60</td>\n      <td>652230.0</td>\n      <td>33.939110</td>\n      <td>67.709953</td>\n    </tr>\n    <tr>\n      <th>...</th>\n      <td>...</td>\n      <td>...</td>\n      <td>...</td>\n      <td>...</td>\n      <td>...</td>\n      <td>...</td>\n      <td>...</td>\n      <td>...</td>\n      <td>...</td>\n      <td>...</td>\n      <td>...</td>\n      <td>...</td>\n      <td>...</td>\n      <td>...</td>\n      <td>...</td>\n      <td>...</td>\n      <td>...</td>\n      <td>...</td>\n      <td>...</td>\n      <td>...</td>\n      <td>...</td>\n    </tr>\n    <tr>\n      <th>3644</th>\n      <td>Zimbabwe</td>\n      <td>2016</td>\n      <td>42.561730</td>\n      <td>29.8</td>\n      <td>62.88</td>\n      <td>30000.0</td>\n      <td>81.90</td>\n      <td>3.50</td>\n      <td>0.0</td>\n      <td>3.32</td>\n      <td>...</td>\n      <td>3227.68020</td>\n      <td>10.00</td>\n      <td>11020.000460</td>\n      <td>NaN</td>\n      <td>0.755869</td>\n      <td>1464.588957</td>\n      <td>38</td>\n      <td>390757.0</td>\n      <td>-19.015438</td>\n      <td>29.154857</td>\n    </tr>\n    <tr>\n      <th>3645</th>\n      <td>Zimbabwe</td>\n      <td>2017</td>\n      <td>44.178635</td>\n      <td>29.8</td>\n      <td>62.33</td>\n      <td>5570000.0</td>\n      <td>82.46</td>\n      <td>3.05</td>\n      <td>0.0</td>\n      <td>4.30</td>\n      <td>...</td>\n      <td>3068.01150</td>\n      <td>9.51</td>\n      <td>10340.000150</td>\n      <td>NaN</td>\n      <td>4.709492</td>\n      <td>1235.189032</td>\n      <td>38</td>\n      <td>390757.0</td>\n      <td>-19.015438</td>\n      <td>29.154857</td>\n    </tr>\n    <tr>\n      <th>3646</th>\n      <td>Zimbabwe</td>\n      <td>2018</td>\n      <td>45.572647</td>\n      <td>29.9</td>\n      <td>82.53</td>\n      <td>10000.0</td>\n      <td>80.23</td>\n      <td>3.73</td>\n      <td>0.0</td>\n      <td>5.46</td>\n      <td>...</td>\n      <td>3441.98580</td>\n      <td>9.83</td>\n      <td>12380.000110</td>\n      <td>NaN</td>\n      <td>4.824211</td>\n      <td>1254.642265</td>\n      <td>38</td>\n      <td>390757.0</td>\n      <td>-19.015438</td>\n      <td>29.154857</td>\n    </tr>\n    <tr>\n      <th>3647</th>\n      <td>Zimbabwe</td>\n      <td>2019</td>\n      <td>46.781475</td>\n      <td>30.1</td>\n      <td>81.40</td>\n      <td>250000.0</td>\n      <td>81.50</td>\n      <td>3.66</td>\n      <td>0.0</td>\n      <td>4.58</td>\n      <td>...</td>\n      <td>3003.65530</td>\n      <td>10.47</td>\n      <td>11760.000230</td>\n      <td>NaN</td>\n      <td>-6.144236</td>\n      <td>1316.740657</td>\n      <td>38</td>\n      <td>390757.0</td>\n      <td>-19.015438</td>\n      <td>29.154857</td>\n    </tr>\n    <tr>\n      <th>3648</th>\n      <td>Zimbabwe</td>\n      <td>2020</td>\n      <td>52.747670</td>\n      <td>30.4</td>\n      <td>80.61</td>\n      <td>30000.0</td>\n      <td>81.90</td>\n      <td>3.40</td>\n      <td>0.0</td>\n      <td>4.19</td>\n      <td>...</td>\n      <td>2680.13180</td>\n      <td>10.00</td>\n      <td>NaN</td>\n      <td>NaN</td>\n      <td>-6.248748</td>\n      <td>1214.509820</td>\n      <td>38</td>\n      <td>390757.0</td>\n      <td>-19.015438</td>\n      <td>29.154857</td>\n    </tr>\n  </tbody>\n</table>\n<p>3649 rows × 21 columns</p>\n</div>"
     },
     "execution_count": 2,
     "metadata": {},
     "output_type": "execute_result"
    }
   ],
   "source": [
    "df = pd.read_csv('../globalDataOnSustainableEnergy2000-2020.csv')\n",
    "df"
   ],
   "metadata": {
    "collapsed": false,
    "ExecuteTime": {
     "end_time": "2024-06-18T21:50:51.203397Z",
     "start_time": "2024-06-18T21:50:51.186434Z"
    }
   },
   "id": "fd01f54c41bc83cf",
   "execution_count": 2
  },
  {
   "cell_type": "code",
   "outputs": [
    {
     "data": {
      "text/plain": "                  Entity  Land Area(Km2)\n0            Afghanistan        652230.0\n1                Albania         28748.0\n2                Algeria       2381741.0\n3                 Angola       1246700.0\n4    Antigua and Barbuda           443.0\n..                   ...             ...\n171           Uzbekistan        447400.0\n172              Vanuatu         12189.0\n173                Yemen        527968.0\n174               Zambia        752618.0\n175             Zimbabwe        390757.0\n\n[176 rows x 2 columns]",
      "text/html": "<div>\n<style scoped>\n    .dataframe tbody tr th:only-of-type {\n        vertical-align: middle;\n    }\n\n    .dataframe tbody tr th {\n        vertical-align: top;\n    }\n\n    .dataframe thead th {\n        text-align: right;\n    }\n</style>\n<table border=\"1\" class=\"dataframe\">\n  <thead>\n    <tr style=\"text-align: right;\">\n      <th></th>\n      <th>Entity</th>\n      <th>Land Area(Km2)</th>\n    </tr>\n  </thead>\n  <tbody>\n    <tr>\n      <th>0</th>\n      <td>Afghanistan</td>\n      <td>652230.0</td>\n    </tr>\n    <tr>\n      <th>1</th>\n      <td>Albania</td>\n      <td>28748.0</td>\n    </tr>\n    <tr>\n      <th>2</th>\n      <td>Algeria</td>\n      <td>2381741.0</td>\n    </tr>\n    <tr>\n      <th>3</th>\n      <td>Angola</td>\n      <td>1246700.0</td>\n    </tr>\n    <tr>\n      <th>4</th>\n      <td>Antigua and Barbuda</td>\n      <td>443.0</td>\n    </tr>\n    <tr>\n      <th>...</th>\n      <td>...</td>\n      <td>...</td>\n    </tr>\n    <tr>\n      <th>171</th>\n      <td>Uzbekistan</td>\n      <td>447400.0</td>\n    </tr>\n    <tr>\n      <th>172</th>\n      <td>Vanuatu</td>\n      <td>12189.0</td>\n    </tr>\n    <tr>\n      <th>173</th>\n      <td>Yemen</td>\n      <td>527968.0</td>\n    </tr>\n    <tr>\n      <th>174</th>\n      <td>Zambia</td>\n      <td>752618.0</td>\n    </tr>\n    <tr>\n      <th>175</th>\n      <td>Zimbabwe</td>\n      <td>390757.0</td>\n    </tr>\n  </tbody>\n</table>\n<p>176 rows × 2 columns</p>\n</div>"
     },
     "execution_count": 3,
     "metadata": {},
     "output_type": "execute_result"
    }
   ],
   "source": [
    "lands = pd.concat([df['Entity'], df['Land Area(Km2)']], axis=1).drop_duplicates(ignore_index=True)\n",
    "lands"
   ],
   "metadata": {
    "collapsed": false,
    "ExecuteTime": {
     "end_time": "2024-06-18T21:50:51.210933Z",
     "start_time": "2024-06-18T21:50:51.204054Z"
    }
   },
   "id": "9381720f79496343",
   "execution_count": 3
  },
  {
   "cell_type": "code",
   "outputs": [
    {
     "data": {
      "text/plain": "Index(['Entity', 'Year', 'Access to electricity (% of population)',\n       'Access to clean fuels for cooking',\n       'Renewable-electricity-generating-capacity-per-capita',\n       'Financial flows to developing countries (US $)',\n       'Renewable energy share in the total final energy consumption (%)',\n       'Electricity from fossil fuels (TWh)', 'Electricity from nuclear (TWh)',\n       'Electricity from renewables (TWh)',\n       'Low-carbon electricity (% electricity)',\n       'Primary energy consumption per capita (kWh/person)',\n       'Energy intensity level of primary energy (MJ/$2017 PPP GDP)',\n       'Value_co2_emissions_kt_by_country',\n       'Renewables (% equivalent primary energy)', 'gdp_growth',\n       'gdp_per_capita', 'Density\\n(P/Km2)', 'Land Area(Km2)', 'Latitude',\n       'Longitude'],\n      dtype='object')"
     },
     "execution_count": 4,
     "metadata": {},
     "output_type": "execute_result"
    }
   ],
   "source": [
    "df.columns"
   ],
   "metadata": {
    "collapsed": false,
    "ExecuteTime": {
     "end_time": "2024-06-18T21:50:51.215267Z",
     "start_time": "2024-06-18T21:50:51.211676Z"
    }
   },
   "id": "3ba5edb8a43c9c2b",
   "execution_count": 4
  },
  {
   "cell_type": "code",
   "outputs": [],
   "source": [
    "selected_countries = pd.DataFrame({'Entity': ['Singapore',\n",
    "                                              'Bahrein',\n",
    "                                              'Aruba',\n",
    "                                              'Trinidad and Tobago',\n",
    "                                              'Malta',\n",
    "                                              'Qatar',\n",
    "                                              'Kuwait',\n",
    "                                              'Netherlands',\n",
    "                                              'Luxembourg',\n",
    "                                              'Belgium']})"
   ],
   "metadata": {
    "collapsed": false,
    "ExecuteTime": {
     "end_time": "2024-06-18T21:50:51.219142Z",
     "start_time": "2024-06-18T21:50:51.216622Z"
    }
   },
   "id": "9b581e5818e3f3f0",
   "execution_count": 5
  },
  {
   "cell_type": "code",
   "outputs": [
    {
     "data": {
      "text/plain": "                   Entity  Electricity from renewables (TWh)  Year  \\\n147                 Aruba                               0.00  2000   \n148                 Aruba                               0.00  2001   \n149                 Aruba                               0.00  2002   \n150                 Aruba                               0.00  2003   \n151                 Aruba                               0.00  2004   \n...                   ...                                ...   ...   \n3329  Trinidad and Tobago                               0.01  2016   \n3330  Trinidad and Tobago                               0.01  2017   \n3331  Trinidad and Tobago                               0.01  2018   \n3332  Trinidad and Tobago                               0.01  2019   \n3333  Trinidad and Tobago                               0.01  2020   \n\n      Land Area(Km2)         0  \n147            179.0  0.000000  \n148            179.0  0.000000  \n149            179.0  0.000000  \n150            179.0  0.000000  \n151            179.0  0.000000  \n...              ...       ...  \n3329          5128.0  1.950078  \n3330          5128.0  1.950078  \n3331          5128.0  1.950078  \n3332          5128.0  1.950078  \n3333          5128.0  1.950078  \n\n[189 rows x 5 columns]",
      "text/html": "<div>\n<style scoped>\n    .dataframe tbody tr th:only-of-type {\n        vertical-align: middle;\n    }\n\n    .dataframe tbody tr th {\n        vertical-align: top;\n    }\n\n    .dataframe thead th {\n        text-align: right;\n    }\n</style>\n<table border=\"1\" class=\"dataframe\">\n  <thead>\n    <tr style=\"text-align: right;\">\n      <th></th>\n      <th>Entity</th>\n      <th>Electricity from renewables (TWh)</th>\n      <th>Year</th>\n      <th>Land Area(Km2)</th>\n      <th>0</th>\n    </tr>\n  </thead>\n  <tbody>\n    <tr>\n      <th>147</th>\n      <td>Aruba</td>\n      <td>0.00</td>\n      <td>2000</td>\n      <td>179.0</td>\n      <td>0.000000</td>\n    </tr>\n    <tr>\n      <th>148</th>\n      <td>Aruba</td>\n      <td>0.00</td>\n      <td>2001</td>\n      <td>179.0</td>\n      <td>0.000000</td>\n    </tr>\n    <tr>\n      <th>149</th>\n      <td>Aruba</td>\n      <td>0.00</td>\n      <td>2002</td>\n      <td>179.0</td>\n      <td>0.000000</td>\n    </tr>\n    <tr>\n      <th>150</th>\n      <td>Aruba</td>\n      <td>0.00</td>\n      <td>2003</td>\n      <td>179.0</td>\n      <td>0.000000</td>\n    </tr>\n    <tr>\n      <th>151</th>\n      <td>Aruba</td>\n      <td>0.00</td>\n      <td>2004</td>\n      <td>179.0</td>\n      <td>0.000000</td>\n    </tr>\n    <tr>\n      <th>...</th>\n      <td>...</td>\n      <td>...</td>\n      <td>...</td>\n      <td>...</td>\n      <td>...</td>\n    </tr>\n    <tr>\n      <th>3329</th>\n      <td>Trinidad and Tobago</td>\n      <td>0.01</td>\n      <td>2016</td>\n      <td>5128.0</td>\n      <td>1.950078</td>\n    </tr>\n    <tr>\n      <th>3330</th>\n      <td>Trinidad and Tobago</td>\n      <td>0.01</td>\n      <td>2017</td>\n      <td>5128.0</td>\n      <td>1.950078</td>\n    </tr>\n    <tr>\n      <th>3331</th>\n      <td>Trinidad and Tobago</td>\n      <td>0.01</td>\n      <td>2018</td>\n      <td>5128.0</td>\n      <td>1.950078</td>\n    </tr>\n    <tr>\n      <th>3332</th>\n      <td>Trinidad and Tobago</td>\n      <td>0.01</td>\n      <td>2019</td>\n      <td>5128.0</td>\n      <td>1.950078</td>\n    </tr>\n    <tr>\n      <th>3333</th>\n      <td>Trinidad and Tobago</td>\n      <td>0.01</td>\n      <td>2020</td>\n      <td>5128.0</td>\n      <td>1.950078</td>\n    </tr>\n  </tbody>\n</table>\n<p>189 rows × 5 columns</p>\n</div>"
     },
     "execution_count": 6,
     "metadata": {},
     "output_type": "execute_result"
    }
   ],
   "source": [
    "renewable_countries = pd.concat([df['Entity'], df['Electricity from renewables (TWh)'], df['Year'],  df['Land Area(Km2)'], df['Electricity from renewables (TWh)'] * 1000000 / df['Land Area(Km2)']], axis=1)\n",
    "renewable_countries = renewable_countries[renewable_countries['Entity'].isin(selected_countries['Entity'])]\n",
    "renewable_countries"
   ],
   "metadata": {
    "collapsed": false,
    "ExecuteTime": {
     "end_time": "2024-06-18T21:50:51.228034Z",
     "start_time": "2024-06-18T21:50:51.220423Z"
    }
   },
   "id": "66fd184ce160eb2a",
   "execution_count": 6
  },
  {
   "cell_type": "code",
   "outputs": [
    {
     "data": {
      "application/vnd.plotly.v1+json": {
       "data": [
        {
         "hovertemplate": "Entity=Aruba<br>Year=%{x}<br>0=%{y}<extra></extra>",
         "legendgroup": "Aruba",
         "line": {
          "color": "#636efa",
          "dash": "solid"
         },
         "marker": {
          "symbol": "circle"
         },
         "mode": "lines",
         "name": "Aruba",
         "orientation": "v",
         "showlegend": true,
         "x": [
          2000,
          2001,
          2002,
          2003,
          2004,
          2005,
          2006,
          2007,
          2008,
          2009,
          2010,
          2011,
          2012,
          2013,
          2014,
          2015,
          2016,
          2017,
          2018,
          2019,
          2020
         ],
         "xaxis": "x",
         "y": [
          0.0,
          0.0,
          0.0,
          0.0,
          0.0,
          0.0,
          0.0,
          0.0,
          0.0,
          167.5977653631285,
          614.5251396648044,
          614.5251396648044,
          782.1229050279329,
          837.9888268156425,
          893.8547486033519,
          1005.586592178771,
          782.1229050279329,
          782.1229050279329,
          837.9888268156425,
          837.9888268156425,
          837.9888268156425
         ],
         "yaxis": "y",
         "type": "scatter"
        },
        {
         "hovertemplate": "Entity=Belgium<br>Year=%{x}<br>0=%{y}<extra></extra>",
         "legendgroup": "Belgium",
         "line": {
          "color": "#EF553B",
          "dash": "solid"
         },
         "marker": {
          "symbol": "circle"
         },
         "mode": "lines",
         "name": "Belgium",
         "orientation": "v",
         "showlegend": true,
         "x": [
          2000,
          2001,
          2002,
          2003,
          2004,
          2005,
          2006,
          2007,
          2008,
          2009,
          2010,
          2011,
          2012,
          2013,
          2014,
          2015,
          2016,
          2017,
          2018,
          2019,
          2020
         ],
         "xaxis": "x",
         "y": [
          34.394654088050316,
          35.37735849056604,
          37.34276729559748,
          39.308176100628934,
          49.13522012578616,
          69.11687631027253,
          96.96016771488469,
          114.3212788259958,
          144.78511530398322,
          178.52463312368974,
          214.22955974842768,
          272.20911949685535,
          344.27410901467505,
          383.582285115304,
          399.96069182389937,
          473.3359538784067,
          466.7845911949685,
          517.5576519916143,
          562.4344863731657,
          637.7751572327044,
          768.4748427672956
         ],
         "yaxis": "y",
         "type": "scatter"
        },
        {
         "hovertemplate": "Entity=Kuwait<br>Year=%{x}<br>0=%{y}<extra></extra>",
         "legendgroup": "Kuwait",
         "line": {
          "color": "#00cc96",
          "dash": "solid"
         },
         "marker": {
          "symbol": "circle"
         },
         "mode": "lines",
         "name": "Kuwait",
         "orientation": "v",
         "showlegend": true,
         "x": [
          2000,
          2001,
          2002,
          2003,
          2004,
          2005,
          2006,
          2007,
          2008,
          2009,
          2010,
          2011,
          2012,
          2013,
          2014,
          2015,
          2016,
          2017,
          2018,
          2019,
          2020
         ],
         "xaxis": "x",
         "y": [
          0.0,
          0.0,
          0.0,
          0.0,
          0.0,
          0.0,
          0.0,
          0.0,
          0.0,
          0.0,
          0.0,
          0.0,
          0.0,
          0.5612302166348636,
          0.5612302166348636,
          0.5612302166348636,
          1.1224604332697272,
          2.2449208665394544,
          3.367381299809182,
          3.367381299809182,
          2.806151083174318
         ],
         "yaxis": "y",
         "type": "scatter"
        },
        {
         "hovertemplate": "Entity=Luxembourg<br>Year=%{x}<br>0=%{y}<extra></extra>",
         "legendgroup": "Luxembourg",
         "line": {
          "color": "#ab63fa",
          "dash": "solid"
         },
         "marker": {
          "symbol": "circle"
         },
         "mode": "lines",
         "name": "Luxembourg",
         "orientation": "v",
         "showlegend": true,
         "x": [
          2000,
          2001,
          2002,
          2003,
          2004,
          2005,
          2006,
          2007,
          2008,
          2009,
          2010,
          2011,
          2012,
          2013,
          2014,
          2015,
          2016,
          2017,
          2018,
          2019,
          2020
         ],
         "xaxis": "x",
         "y": [
          61.87161639597834,
          65.73859242072699,
          58.0046403712297,
          54.13766434648105,
          73.47254447022428,
          81.20649651972158,
          96.67440061871616,
          100.54137664346482,
          108.2753286929621,
          104.40835266821345,
          104.40835266821345,
          92.80742459396751,
          119.87625676720805,
          139.21113689095128,
          154.67904098994586,
          166.2799690641918,
          177.88089713843775,
          232.0185614849188,
          262.95436968290795,
          309.3580819798917,
          375.0966744006187
         ],
         "yaxis": "y",
         "type": "scatter"
        },
        {
         "hovertemplate": "Entity=Malta<br>Year=%{x}<br>0=%{y}<extra></extra>",
         "legendgroup": "Malta",
         "line": {
          "color": "#FFA15A",
          "dash": "solid"
         },
         "marker": {
          "symbol": "circle"
         },
         "mode": "lines",
         "name": "Malta",
         "orientation": "v",
         "showlegend": true,
         "x": [
          2000,
          2001,
          2002,
          2003,
          2004,
          2005,
          2006,
          2007,
          2008,
          2009,
          2010,
          2011,
          2012,
          2013,
          2014,
          2015,
          2016,
          2017,
          2018,
          2019,
          2020
         ],
         "xaxis": "x",
         "y": [
          0.0,
          0.0,
          0.0,
          0.0,
          0.0,
          0.0,
          0.0,
          0.0,
          0.0,
          0.0,
          0.0,
          0.0,
          94.9367088607595,
          126.58227848101266,
          253.16455696202533,
          316.45569620253167,
          443.0379746835443,
          537.9746835443038,
          632.9113924050633,
          664.5569620253165,
          791.1392405063291
         ],
         "yaxis": "y",
         "type": "scatter"
        },
        {
         "hovertemplate": "Entity=Netherlands<br>Year=%{x}<br>0=%{y}<extra></extra>",
         "legendgroup": "Netherlands",
         "line": {
          "color": "#19d3f3",
          "dash": "solid"
         },
         "marker": {
          "symbol": "circle"
         },
         "mode": "lines",
         "name": "Netherlands",
         "orientation": "v",
         "showlegend": true,
         "x": [
          2000,
          2001,
          2002,
          2003,
          2004,
          2005,
          2006,
          2007,
          2008,
          2009,
          2010,
          2011,
          2012,
          2013,
          2014,
          2015,
          2016,
          2017,
          2018,
          2019,
          2020
         ],
         "xaxis": "x",
         "y": [
          71.4921888164071,
          79.67647979202272,
          95.8043473027947,
          95.32291842187612,
          127.57865344342007,
          179.57297258262523,
          193.77512456972295,
          182.70226030859592,
          229.40086175769684,
          260.69373901740363,
          269.35945887393785,
          296.5601906458368,
          300.17090725272607,
          291.26447295573263,
          280.43232313506485,
          329.53806898875865,
          355.7759429988205,
          419.5652697205305,
          455.19100690850445,
          548.5882098067063,
          788.3397925041523
         ],
         "yaxis": "y",
         "type": "scatter"
        },
        {
         "hovertemplate": "Entity=Qatar<br>Year=%{x}<br>0=%{y}<extra></extra>",
         "legendgroup": "Qatar",
         "line": {
          "color": "#FF6692",
          "dash": "solid"
         },
         "marker": {
          "symbol": "circle"
         },
         "mode": "lines",
         "name": "Qatar",
         "orientation": "v",
         "showlegend": true,
         "x": [
          2000,
          2001,
          2002,
          2003,
          2004,
          2005,
          2006,
          2007,
          2008,
          2009,
          2010,
          2011,
          2012,
          2013,
          2014,
          2015,
          2016,
          2017,
          2018,
          2019,
          2020
         ],
         "xaxis": "x",
         "y": [
          0.0,
          0.0,
          0.0,
          0.0,
          0.0,
          0.0,
          0.0,
          0.0,
          0.0,
          0.0,
          0.0,
          0.8631106507854307,
          0.8631106507854307,
          0.8631106507854307,
          1.7262213015708614,
          2.589331952356292,
          2.589331952356292,
          2.589331952356292,
          1.7262213015708614,
          2.589331952356292,
          1.7262213015708614
         ],
         "yaxis": "y",
         "type": "scatter"
        },
        {
         "hovertemplate": "Entity=Singapore<br>Year=%{x}<br>0=%{y}<extra></extra>",
         "legendgroup": "Singapore",
         "line": {
          "color": "#B6E880",
          "dash": "solid"
         },
         "marker": {
          "symbol": "circle"
         },
         "mode": "lines",
         "name": "Singapore",
         "orientation": "v",
         "showlegend": true,
         "x": [
          2000,
          2001,
          2002,
          2003,
          2004,
          2005,
          2006,
          2007,
          2008,
          2009,
          2010,
          2011,
          2012,
          2013,
          2014,
          2015,
          2016,
          2017,
          2018,
          2019,
          2020
         ],
         "xaxis": "x",
         "y": [
          0.0,
          0.0,
          0.0,
          0.0,
          0.0,
          0.0,
          0.0,
          0.0,
          0.0,
          0.0,
          0.0,
          13.966480446927374,
          13.966480446927374,
          223.46368715083798,
          391.06145251396646,
          572.6256983240223,
          740.2234636871508,
          768.1564245810056,
          935.754189944134,
          1089.3854748603353,
          1159.217877094972
         ],
         "yaxis": "y",
         "type": "scatter"
        },
        {
         "hovertemplate": "Entity=Trinidad and Tobago<br>Year=%{x}<br>0=%{y}<extra></extra>",
         "legendgroup": "Trinidad and Tobago",
         "line": {
          "color": "#FF97FF",
          "dash": "solid"
         },
         "marker": {
          "symbol": "circle"
         },
         "mode": "lines",
         "name": "Trinidad and Tobago",
         "orientation": "v",
         "showlegend": true,
         "x": [
          2000,
          2001,
          2002,
          2003,
          2004,
          2005,
          2006,
          2007,
          2008,
          2009,
          2010,
          2011,
          2012,
          2013,
          2014,
          2015,
          2016,
          2017,
          2018,
          2019,
          2020
         ],
         "xaxis": "x",
         "y": [
          5.850234009360374,
          5.850234009360374,
          5.850234009360374,
          5.850234009360374,
          5.850234009360374,
          7.800312012480499,
          7.800312012480499,
          5.850234009360374,
          0.0,
          0.0,
          0.0,
          0.0,
          0.0,
          0.0,
          0.0,
          1.9500780031201248,
          1.9500780031201248,
          1.9500780031201248,
          1.9500780031201248,
          1.9500780031201248,
          1.9500780031201248
         ],
         "yaxis": "y",
         "type": "scatter"
        }
       ],
       "layout": {
        "template": {
         "data": {
          "histogram2dcontour": [
           {
            "type": "histogram2dcontour",
            "colorbar": {
             "outlinewidth": 0,
             "ticks": ""
            },
            "colorscale": [
             [
              0.0,
              "#0d0887"
             ],
             [
              0.1111111111111111,
              "#46039f"
             ],
             [
              0.2222222222222222,
              "#7201a8"
             ],
             [
              0.3333333333333333,
              "#9c179e"
             ],
             [
              0.4444444444444444,
              "#bd3786"
             ],
             [
              0.5555555555555556,
              "#d8576b"
             ],
             [
              0.6666666666666666,
              "#ed7953"
             ],
             [
              0.7777777777777778,
              "#fb9f3a"
             ],
             [
              0.8888888888888888,
              "#fdca26"
             ],
             [
              1.0,
              "#f0f921"
             ]
            ]
           }
          ],
          "choropleth": [
           {
            "type": "choropleth",
            "colorbar": {
             "outlinewidth": 0,
             "ticks": ""
            }
           }
          ],
          "histogram2d": [
           {
            "type": "histogram2d",
            "colorbar": {
             "outlinewidth": 0,
             "ticks": ""
            },
            "colorscale": [
             [
              0.0,
              "#0d0887"
             ],
             [
              0.1111111111111111,
              "#46039f"
             ],
             [
              0.2222222222222222,
              "#7201a8"
             ],
             [
              0.3333333333333333,
              "#9c179e"
             ],
             [
              0.4444444444444444,
              "#bd3786"
             ],
             [
              0.5555555555555556,
              "#d8576b"
             ],
             [
              0.6666666666666666,
              "#ed7953"
             ],
             [
              0.7777777777777778,
              "#fb9f3a"
             ],
             [
              0.8888888888888888,
              "#fdca26"
             ],
             [
              1.0,
              "#f0f921"
             ]
            ]
           }
          ],
          "heatmap": [
           {
            "type": "heatmap",
            "colorbar": {
             "outlinewidth": 0,
             "ticks": ""
            },
            "colorscale": [
             [
              0.0,
              "#0d0887"
             ],
             [
              0.1111111111111111,
              "#46039f"
             ],
             [
              0.2222222222222222,
              "#7201a8"
             ],
             [
              0.3333333333333333,
              "#9c179e"
             ],
             [
              0.4444444444444444,
              "#bd3786"
             ],
             [
              0.5555555555555556,
              "#d8576b"
             ],
             [
              0.6666666666666666,
              "#ed7953"
             ],
             [
              0.7777777777777778,
              "#fb9f3a"
             ],
             [
              0.8888888888888888,
              "#fdca26"
             ],
             [
              1.0,
              "#f0f921"
             ]
            ]
           }
          ],
          "heatmapgl": [
           {
            "type": "heatmapgl",
            "colorbar": {
             "outlinewidth": 0,
             "ticks": ""
            },
            "colorscale": [
             [
              0.0,
              "#0d0887"
             ],
             [
              0.1111111111111111,
              "#46039f"
             ],
             [
              0.2222222222222222,
              "#7201a8"
             ],
             [
              0.3333333333333333,
              "#9c179e"
             ],
             [
              0.4444444444444444,
              "#bd3786"
             ],
             [
              0.5555555555555556,
              "#d8576b"
             ],
             [
              0.6666666666666666,
              "#ed7953"
             ],
             [
              0.7777777777777778,
              "#fb9f3a"
             ],
             [
              0.8888888888888888,
              "#fdca26"
             ],
             [
              1.0,
              "#f0f921"
             ]
            ]
           }
          ],
          "contourcarpet": [
           {
            "type": "contourcarpet",
            "colorbar": {
             "outlinewidth": 0,
             "ticks": ""
            }
           }
          ],
          "contour": [
           {
            "type": "contour",
            "colorbar": {
             "outlinewidth": 0,
             "ticks": ""
            },
            "colorscale": [
             [
              0.0,
              "#0d0887"
             ],
             [
              0.1111111111111111,
              "#46039f"
             ],
             [
              0.2222222222222222,
              "#7201a8"
             ],
             [
              0.3333333333333333,
              "#9c179e"
             ],
             [
              0.4444444444444444,
              "#bd3786"
             ],
             [
              0.5555555555555556,
              "#d8576b"
             ],
             [
              0.6666666666666666,
              "#ed7953"
             ],
             [
              0.7777777777777778,
              "#fb9f3a"
             ],
             [
              0.8888888888888888,
              "#fdca26"
             ],
             [
              1.0,
              "#f0f921"
             ]
            ]
           }
          ],
          "surface": [
           {
            "type": "surface",
            "colorbar": {
             "outlinewidth": 0,
             "ticks": ""
            },
            "colorscale": [
             [
              0.0,
              "#0d0887"
             ],
             [
              0.1111111111111111,
              "#46039f"
             ],
             [
              0.2222222222222222,
              "#7201a8"
             ],
             [
              0.3333333333333333,
              "#9c179e"
             ],
             [
              0.4444444444444444,
              "#bd3786"
             ],
             [
              0.5555555555555556,
              "#d8576b"
             ],
             [
              0.6666666666666666,
              "#ed7953"
             ],
             [
              0.7777777777777778,
              "#fb9f3a"
             ],
             [
              0.8888888888888888,
              "#fdca26"
             ],
             [
              1.0,
              "#f0f921"
             ]
            ]
           }
          ],
          "mesh3d": [
           {
            "type": "mesh3d",
            "colorbar": {
             "outlinewidth": 0,
             "ticks": ""
            }
           }
          ],
          "scatter": [
           {
            "fillpattern": {
             "fillmode": "overlay",
             "size": 10,
             "solidity": 0.2
            },
            "type": "scatter"
           }
          ],
          "parcoords": [
           {
            "type": "parcoords",
            "line": {
             "colorbar": {
              "outlinewidth": 0,
              "ticks": ""
             }
            }
           }
          ],
          "scatterpolargl": [
           {
            "type": "scatterpolargl",
            "marker": {
             "colorbar": {
              "outlinewidth": 0,
              "ticks": ""
             }
            }
           }
          ],
          "bar": [
           {
            "error_x": {
             "color": "#2a3f5f"
            },
            "error_y": {
             "color": "#2a3f5f"
            },
            "marker": {
             "line": {
              "color": "#E5ECF6",
              "width": 0.5
             },
             "pattern": {
              "fillmode": "overlay",
              "size": 10,
              "solidity": 0.2
             }
            },
            "type": "bar"
           }
          ],
          "scattergeo": [
           {
            "type": "scattergeo",
            "marker": {
             "colorbar": {
              "outlinewidth": 0,
              "ticks": ""
             }
            }
           }
          ],
          "scatterpolar": [
           {
            "type": "scatterpolar",
            "marker": {
             "colorbar": {
              "outlinewidth": 0,
              "ticks": ""
             }
            }
           }
          ],
          "histogram": [
           {
            "marker": {
             "pattern": {
              "fillmode": "overlay",
              "size": 10,
              "solidity": 0.2
             }
            },
            "type": "histogram"
           }
          ],
          "scattergl": [
           {
            "type": "scattergl",
            "marker": {
             "colorbar": {
              "outlinewidth": 0,
              "ticks": ""
             }
            }
           }
          ],
          "scatter3d": [
           {
            "type": "scatter3d",
            "line": {
             "colorbar": {
              "outlinewidth": 0,
              "ticks": ""
             }
            },
            "marker": {
             "colorbar": {
              "outlinewidth": 0,
              "ticks": ""
             }
            }
           }
          ],
          "scattermapbox": [
           {
            "type": "scattermapbox",
            "marker": {
             "colorbar": {
              "outlinewidth": 0,
              "ticks": ""
             }
            }
           }
          ],
          "scatterternary": [
           {
            "type": "scatterternary",
            "marker": {
             "colorbar": {
              "outlinewidth": 0,
              "ticks": ""
             }
            }
           }
          ],
          "scattercarpet": [
           {
            "type": "scattercarpet",
            "marker": {
             "colorbar": {
              "outlinewidth": 0,
              "ticks": ""
             }
            }
           }
          ],
          "carpet": [
           {
            "aaxis": {
             "endlinecolor": "#2a3f5f",
             "gridcolor": "white",
             "linecolor": "white",
             "minorgridcolor": "white",
             "startlinecolor": "#2a3f5f"
            },
            "baxis": {
             "endlinecolor": "#2a3f5f",
             "gridcolor": "white",
             "linecolor": "white",
             "minorgridcolor": "white",
             "startlinecolor": "#2a3f5f"
            },
            "type": "carpet"
           }
          ],
          "table": [
           {
            "cells": {
             "fill": {
              "color": "#EBF0F8"
             },
             "line": {
              "color": "white"
             }
            },
            "header": {
             "fill": {
              "color": "#C8D4E3"
             },
             "line": {
              "color": "white"
             }
            },
            "type": "table"
           }
          ],
          "barpolar": [
           {
            "marker": {
             "line": {
              "color": "#E5ECF6",
              "width": 0.5
             },
             "pattern": {
              "fillmode": "overlay",
              "size": 10,
              "solidity": 0.2
             }
            },
            "type": "barpolar"
           }
          ],
          "pie": [
           {
            "automargin": true,
            "type": "pie"
           }
          ]
         },
         "layout": {
          "autotypenumbers": "strict",
          "colorway": [
           "#636efa",
           "#EF553B",
           "#00cc96",
           "#ab63fa",
           "#FFA15A",
           "#19d3f3",
           "#FF6692",
           "#B6E880",
           "#FF97FF",
           "#FECB52"
          ],
          "font": {
           "color": "#2a3f5f"
          },
          "hovermode": "closest",
          "hoverlabel": {
           "align": "left"
          },
          "paper_bgcolor": "white",
          "plot_bgcolor": "#E5ECF6",
          "polar": {
           "bgcolor": "#E5ECF6",
           "angularaxis": {
            "gridcolor": "white",
            "linecolor": "white",
            "ticks": ""
           },
           "radialaxis": {
            "gridcolor": "white",
            "linecolor": "white",
            "ticks": ""
           }
          },
          "ternary": {
           "bgcolor": "#E5ECF6",
           "aaxis": {
            "gridcolor": "white",
            "linecolor": "white",
            "ticks": ""
           },
           "baxis": {
            "gridcolor": "white",
            "linecolor": "white",
            "ticks": ""
           },
           "caxis": {
            "gridcolor": "white",
            "linecolor": "white",
            "ticks": ""
           }
          },
          "coloraxis": {
           "colorbar": {
            "outlinewidth": 0,
            "ticks": ""
           }
          },
          "colorscale": {
           "sequential": [
            [
             0.0,
             "#0d0887"
            ],
            [
             0.1111111111111111,
             "#46039f"
            ],
            [
             0.2222222222222222,
             "#7201a8"
            ],
            [
             0.3333333333333333,
             "#9c179e"
            ],
            [
             0.4444444444444444,
             "#bd3786"
            ],
            [
             0.5555555555555556,
             "#d8576b"
            ],
            [
             0.6666666666666666,
             "#ed7953"
            ],
            [
             0.7777777777777778,
             "#fb9f3a"
            ],
            [
             0.8888888888888888,
             "#fdca26"
            ],
            [
             1.0,
             "#f0f921"
            ]
           ],
           "sequentialminus": [
            [
             0.0,
             "#0d0887"
            ],
            [
             0.1111111111111111,
             "#46039f"
            ],
            [
             0.2222222222222222,
             "#7201a8"
            ],
            [
             0.3333333333333333,
             "#9c179e"
            ],
            [
             0.4444444444444444,
             "#bd3786"
            ],
            [
             0.5555555555555556,
             "#d8576b"
            ],
            [
             0.6666666666666666,
             "#ed7953"
            ],
            [
             0.7777777777777778,
             "#fb9f3a"
            ],
            [
             0.8888888888888888,
             "#fdca26"
            ],
            [
             1.0,
             "#f0f921"
            ]
           ],
           "diverging": [
            [
             0,
             "#8e0152"
            ],
            [
             0.1,
             "#c51b7d"
            ],
            [
             0.2,
             "#de77ae"
            ],
            [
             0.3,
             "#f1b6da"
            ],
            [
             0.4,
             "#fde0ef"
            ],
            [
             0.5,
             "#f7f7f7"
            ],
            [
             0.6,
             "#e6f5d0"
            ],
            [
             0.7,
             "#b8e186"
            ],
            [
             0.8,
             "#7fbc41"
            ],
            [
             0.9,
             "#4d9221"
            ],
            [
             1,
             "#276419"
            ]
           ]
          },
          "xaxis": {
           "gridcolor": "white",
           "linecolor": "white",
           "ticks": "",
           "title": {
            "standoff": 15
           },
           "zerolinecolor": "white",
           "automargin": true,
           "zerolinewidth": 2
          },
          "yaxis": {
           "gridcolor": "white",
           "linecolor": "white",
           "ticks": "",
           "title": {
            "standoff": 15
           },
           "zerolinecolor": "white",
           "automargin": true,
           "zerolinewidth": 2
          },
          "scene": {
           "xaxis": {
            "backgroundcolor": "#E5ECF6",
            "gridcolor": "white",
            "linecolor": "white",
            "showbackground": true,
            "ticks": "",
            "zerolinecolor": "white",
            "gridwidth": 2
           },
           "yaxis": {
            "backgroundcolor": "#E5ECF6",
            "gridcolor": "white",
            "linecolor": "white",
            "showbackground": true,
            "ticks": "",
            "zerolinecolor": "white",
            "gridwidth": 2
           },
           "zaxis": {
            "backgroundcolor": "#E5ECF6",
            "gridcolor": "white",
            "linecolor": "white",
            "showbackground": true,
            "ticks": "",
            "zerolinecolor": "white",
            "gridwidth": 2
           }
          },
          "shapedefaults": {
           "line": {
            "color": "#2a3f5f"
           }
          },
          "annotationdefaults": {
           "arrowcolor": "#2a3f5f",
           "arrowhead": 0,
           "arrowwidth": 1
          },
          "geo": {
           "bgcolor": "white",
           "landcolor": "#E5ECF6",
           "subunitcolor": "white",
           "showland": true,
           "showlakes": true,
           "lakecolor": "white"
          },
          "title": {
           "x": 0.05
          },
          "mapbox": {
           "style": "light"
          }
         }
        },
        "xaxis": {
         "anchor": "y",
         "domain": [
          0.0,
          1.0
         ],
         "title": {
          "text": "Year"
         }
        },
        "yaxis": {
         "anchor": "x",
         "domain": [
          0.0,
          1.0
         ],
         "title": {
          "text": "Sustainable Energy Generated"
         }
        },
        "legend": {
         "title": {
          "text": "Entity"
         },
         "tracegroupgap": 0
        },
        "margin": {
         "t": 60
        },
        "title": {
         "text": "total amount of sustainable energy generated per land area per year ( countries with the most emission)"
        }
       },
       "config": {
        "plotlyServerURL": "https://plot.ly"
       }
      },
      "text/html": "<div>                            <div id=\"3cd7fc5b-ffbd-48c5-8886-af1754d2abb0\" class=\"plotly-graph-div\" style=\"height:525px; width:100%;\"></div>            <script type=\"text/javascript\">                require([\"plotly\"], function(Plotly) {                    window.PLOTLYENV=window.PLOTLYENV || {};                                    if (document.getElementById(\"3cd7fc5b-ffbd-48c5-8886-af1754d2abb0\")) {                    Plotly.newPlot(                        \"3cd7fc5b-ffbd-48c5-8886-af1754d2abb0\",                        [{\"hovertemplate\":\"Entity=Aruba\\u003cbr\\u003eYear=%{x}\\u003cbr\\u003e0=%{y}\\u003cextra\\u003e\\u003c\\u002fextra\\u003e\",\"legendgroup\":\"Aruba\",\"line\":{\"color\":\"#636efa\",\"dash\":\"solid\"},\"marker\":{\"symbol\":\"circle\"},\"mode\":\"lines\",\"name\":\"Aruba\",\"orientation\":\"v\",\"showlegend\":true,\"x\":[2000,2001,2002,2003,2004,2005,2006,2007,2008,2009,2010,2011,2012,2013,2014,2015,2016,2017,2018,2019,2020],\"xaxis\":\"x\",\"y\":[0.0,0.0,0.0,0.0,0.0,0.0,0.0,0.0,0.0,167.5977653631285,614.5251396648044,614.5251396648044,782.1229050279329,837.9888268156425,893.8547486033519,1005.586592178771,782.1229050279329,782.1229050279329,837.9888268156425,837.9888268156425,837.9888268156425],\"yaxis\":\"y\",\"type\":\"scatter\"},{\"hovertemplate\":\"Entity=Belgium\\u003cbr\\u003eYear=%{x}\\u003cbr\\u003e0=%{y}\\u003cextra\\u003e\\u003c\\u002fextra\\u003e\",\"legendgroup\":\"Belgium\",\"line\":{\"color\":\"#EF553B\",\"dash\":\"solid\"},\"marker\":{\"symbol\":\"circle\"},\"mode\":\"lines\",\"name\":\"Belgium\",\"orientation\":\"v\",\"showlegend\":true,\"x\":[2000,2001,2002,2003,2004,2005,2006,2007,2008,2009,2010,2011,2012,2013,2014,2015,2016,2017,2018,2019,2020],\"xaxis\":\"x\",\"y\":[34.394654088050316,35.37735849056604,37.34276729559748,39.308176100628934,49.13522012578616,69.11687631027253,96.96016771488469,114.3212788259958,144.78511530398322,178.52463312368974,214.22955974842768,272.20911949685535,344.27410901467505,383.582285115304,399.96069182389937,473.3359538784067,466.7845911949685,517.5576519916143,562.4344863731657,637.7751572327044,768.4748427672956],\"yaxis\":\"y\",\"type\":\"scatter\"},{\"hovertemplate\":\"Entity=Kuwait\\u003cbr\\u003eYear=%{x}\\u003cbr\\u003e0=%{y}\\u003cextra\\u003e\\u003c\\u002fextra\\u003e\",\"legendgroup\":\"Kuwait\",\"line\":{\"color\":\"#00cc96\",\"dash\":\"solid\"},\"marker\":{\"symbol\":\"circle\"},\"mode\":\"lines\",\"name\":\"Kuwait\",\"orientation\":\"v\",\"showlegend\":true,\"x\":[2000,2001,2002,2003,2004,2005,2006,2007,2008,2009,2010,2011,2012,2013,2014,2015,2016,2017,2018,2019,2020],\"xaxis\":\"x\",\"y\":[0.0,0.0,0.0,0.0,0.0,0.0,0.0,0.0,0.0,0.0,0.0,0.0,0.0,0.5612302166348636,0.5612302166348636,0.5612302166348636,1.1224604332697272,2.2449208665394544,3.367381299809182,3.367381299809182,2.806151083174318],\"yaxis\":\"y\",\"type\":\"scatter\"},{\"hovertemplate\":\"Entity=Luxembourg\\u003cbr\\u003eYear=%{x}\\u003cbr\\u003e0=%{y}\\u003cextra\\u003e\\u003c\\u002fextra\\u003e\",\"legendgroup\":\"Luxembourg\",\"line\":{\"color\":\"#ab63fa\",\"dash\":\"solid\"},\"marker\":{\"symbol\":\"circle\"},\"mode\":\"lines\",\"name\":\"Luxembourg\",\"orientation\":\"v\",\"showlegend\":true,\"x\":[2000,2001,2002,2003,2004,2005,2006,2007,2008,2009,2010,2011,2012,2013,2014,2015,2016,2017,2018,2019,2020],\"xaxis\":\"x\",\"y\":[61.87161639597834,65.73859242072699,58.0046403712297,54.13766434648105,73.47254447022428,81.20649651972158,96.67440061871616,100.54137664346482,108.2753286929621,104.40835266821345,104.40835266821345,92.80742459396751,119.87625676720805,139.21113689095128,154.67904098994586,166.2799690641918,177.88089713843775,232.0185614849188,262.95436968290795,309.3580819798917,375.0966744006187],\"yaxis\":\"y\",\"type\":\"scatter\"},{\"hovertemplate\":\"Entity=Malta\\u003cbr\\u003eYear=%{x}\\u003cbr\\u003e0=%{y}\\u003cextra\\u003e\\u003c\\u002fextra\\u003e\",\"legendgroup\":\"Malta\",\"line\":{\"color\":\"#FFA15A\",\"dash\":\"solid\"},\"marker\":{\"symbol\":\"circle\"},\"mode\":\"lines\",\"name\":\"Malta\",\"orientation\":\"v\",\"showlegend\":true,\"x\":[2000,2001,2002,2003,2004,2005,2006,2007,2008,2009,2010,2011,2012,2013,2014,2015,2016,2017,2018,2019,2020],\"xaxis\":\"x\",\"y\":[0.0,0.0,0.0,0.0,0.0,0.0,0.0,0.0,0.0,0.0,0.0,0.0,94.9367088607595,126.58227848101266,253.16455696202533,316.45569620253167,443.0379746835443,537.9746835443038,632.9113924050633,664.5569620253165,791.1392405063291],\"yaxis\":\"y\",\"type\":\"scatter\"},{\"hovertemplate\":\"Entity=Netherlands\\u003cbr\\u003eYear=%{x}\\u003cbr\\u003e0=%{y}\\u003cextra\\u003e\\u003c\\u002fextra\\u003e\",\"legendgroup\":\"Netherlands\",\"line\":{\"color\":\"#19d3f3\",\"dash\":\"solid\"},\"marker\":{\"symbol\":\"circle\"},\"mode\":\"lines\",\"name\":\"Netherlands\",\"orientation\":\"v\",\"showlegend\":true,\"x\":[2000,2001,2002,2003,2004,2005,2006,2007,2008,2009,2010,2011,2012,2013,2014,2015,2016,2017,2018,2019,2020],\"xaxis\":\"x\",\"y\":[71.4921888164071,79.67647979202272,95.8043473027947,95.32291842187612,127.57865344342007,179.57297258262523,193.77512456972295,182.70226030859592,229.40086175769684,260.69373901740363,269.35945887393785,296.5601906458368,300.17090725272607,291.26447295573263,280.43232313506485,329.53806898875865,355.7759429988205,419.5652697205305,455.19100690850445,548.5882098067063,788.3397925041523],\"yaxis\":\"y\",\"type\":\"scatter\"},{\"hovertemplate\":\"Entity=Qatar\\u003cbr\\u003eYear=%{x}\\u003cbr\\u003e0=%{y}\\u003cextra\\u003e\\u003c\\u002fextra\\u003e\",\"legendgroup\":\"Qatar\",\"line\":{\"color\":\"#FF6692\",\"dash\":\"solid\"},\"marker\":{\"symbol\":\"circle\"},\"mode\":\"lines\",\"name\":\"Qatar\",\"orientation\":\"v\",\"showlegend\":true,\"x\":[2000,2001,2002,2003,2004,2005,2006,2007,2008,2009,2010,2011,2012,2013,2014,2015,2016,2017,2018,2019,2020],\"xaxis\":\"x\",\"y\":[0.0,0.0,0.0,0.0,0.0,0.0,0.0,0.0,0.0,0.0,0.0,0.8631106507854307,0.8631106507854307,0.8631106507854307,1.7262213015708614,2.589331952356292,2.589331952356292,2.589331952356292,1.7262213015708614,2.589331952356292,1.7262213015708614],\"yaxis\":\"y\",\"type\":\"scatter\"},{\"hovertemplate\":\"Entity=Singapore\\u003cbr\\u003eYear=%{x}\\u003cbr\\u003e0=%{y}\\u003cextra\\u003e\\u003c\\u002fextra\\u003e\",\"legendgroup\":\"Singapore\",\"line\":{\"color\":\"#B6E880\",\"dash\":\"solid\"},\"marker\":{\"symbol\":\"circle\"},\"mode\":\"lines\",\"name\":\"Singapore\",\"orientation\":\"v\",\"showlegend\":true,\"x\":[2000,2001,2002,2003,2004,2005,2006,2007,2008,2009,2010,2011,2012,2013,2014,2015,2016,2017,2018,2019,2020],\"xaxis\":\"x\",\"y\":[0.0,0.0,0.0,0.0,0.0,0.0,0.0,0.0,0.0,0.0,0.0,13.966480446927374,13.966480446927374,223.46368715083798,391.06145251396646,572.6256983240223,740.2234636871508,768.1564245810056,935.754189944134,1089.3854748603353,1159.217877094972],\"yaxis\":\"y\",\"type\":\"scatter\"},{\"hovertemplate\":\"Entity=Trinidad and Tobago\\u003cbr\\u003eYear=%{x}\\u003cbr\\u003e0=%{y}\\u003cextra\\u003e\\u003c\\u002fextra\\u003e\",\"legendgroup\":\"Trinidad and Tobago\",\"line\":{\"color\":\"#FF97FF\",\"dash\":\"solid\"},\"marker\":{\"symbol\":\"circle\"},\"mode\":\"lines\",\"name\":\"Trinidad and Tobago\",\"orientation\":\"v\",\"showlegend\":true,\"x\":[2000,2001,2002,2003,2004,2005,2006,2007,2008,2009,2010,2011,2012,2013,2014,2015,2016,2017,2018,2019,2020],\"xaxis\":\"x\",\"y\":[5.850234009360374,5.850234009360374,5.850234009360374,5.850234009360374,5.850234009360374,7.800312012480499,7.800312012480499,5.850234009360374,0.0,0.0,0.0,0.0,0.0,0.0,0.0,1.9500780031201248,1.9500780031201248,1.9500780031201248,1.9500780031201248,1.9500780031201248,1.9500780031201248],\"yaxis\":\"y\",\"type\":\"scatter\"}],                        {\"template\":{\"data\":{\"histogram2dcontour\":[{\"type\":\"histogram2dcontour\",\"colorbar\":{\"outlinewidth\":0,\"ticks\":\"\"},\"colorscale\":[[0.0,\"#0d0887\"],[0.1111111111111111,\"#46039f\"],[0.2222222222222222,\"#7201a8\"],[0.3333333333333333,\"#9c179e\"],[0.4444444444444444,\"#bd3786\"],[0.5555555555555556,\"#d8576b\"],[0.6666666666666666,\"#ed7953\"],[0.7777777777777778,\"#fb9f3a\"],[0.8888888888888888,\"#fdca26\"],[1.0,\"#f0f921\"]]}],\"choropleth\":[{\"type\":\"choropleth\",\"colorbar\":{\"outlinewidth\":0,\"ticks\":\"\"}}],\"histogram2d\":[{\"type\":\"histogram2d\",\"colorbar\":{\"outlinewidth\":0,\"ticks\":\"\"},\"colorscale\":[[0.0,\"#0d0887\"],[0.1111111111111111,\"#46039f\"],[0.2222222222222222,\"#7201a8\"],[0.3333333333333333,\"#9c179e\"],[0.4444444444444444,\"#bd3786\"],[0.5555555555555556,\"#d8576b\"],[0.6666666666666666,\"#ed7953\"],[0.7777777777777778,\"#fb9f3a\"],[0.8888888888888888,\"#fdca26\"],[1.0,\"#f0f921\"]]}],\"heatmap\":[{\"type\":\"heatmap\",\"colorbar\":{\"outlinewidth\":0,\"ticks\":\"\"},\"colorscale\":[[0.0,\"#0d0887\"],[0.1111111111111111,\"#46039f\"],[0.2222222222222222,\"#7201a8\"],[0.3333333333333333,\"#9c179e\"],[0.4444444444444444,\"#bd3786\"],[0.5555555555555556,\"#d8576b\"],[0.6666666666666666,\"#ed7953\"],[0.7777777777777778,\"#fb9f3a\"],[0.8888888888888888,\"#fdca26\"],[1.0,\"#f0f921\"]]}],\"heatmapgl\":[{\"type\":\"heatmapgl\",\"colorbar\":{\"outlinewidth\":0,\"ticks\":\"\"},\"colorscale\":[[0.0,\"#0d0887\"],[0.1111111111111111,\"#46039f\"],[0.2222222222222222,\"#7201a8\"],[0.3333333333333333,\"#9c179e\"],[0.4444444444444444,\"#bd3786\"],[0.5555555555555556,\"#d8576b\"],[0.6666666666666666,\"#ed7953\"],[0.7777777777777778,\"#fb9f3a\"],[0.8888888888888888,\"#fdca26\"],[1.0,\"#f0f921\"]]}],\"contourcarpet\":[{\"type\":\"contourcarpet\",\"colorbar\":{\"outlinewidth\":0,\"ticks\":\"\"}}],\"contour\":[{\"type\":\"contour\",\"colorbar\":{\"outlinewidth\":0,\"ticks\":\"\"},\"colorscale\":[[0.0,\"#0d0887\"],[0.1111111111111111,\"#46039f\"],[0.2222222222222222,\"#7201a8\"],[0.3333333333333333,\"#9c179e\"],[0.4444444444444444,\"#bd3786\"],[0.5555555555555556,\"#d8576b\"],[0.6666666666666666,\"#ed7953\"],[0.7777777777777778,\"#fb9f3a\"],[0.8888888888888888,\"#fdca26\"],[1.0,\"#f0f921\"]]}],\"surface\":[{\"type\":\"surface\",\"colorbar\":{\"outlinewidth\":0,\"ticks\":\"\"},\"colorscale\":[[0.0,\"#0d0887\"],[0.1111111111111111,\"#46039f\"],[0.2222222222222222,\"#7201a8\"],[0.3333333333333333,\"#9c179e\"],[0.4444444444444444,\"#bd3786\"],[0.5555555555555556,\"#d8576b\"],[0.6666666666666666,\"#ed7953\"],[0.7777777777777778,\"#fb9f3a\"],[0.8888888888888888,\"#fdca26\"],[1.0,\"#f0f921\"]]}],\"mesh3d\":[{\"type\":\"mesh3d\",\"colorbar\":{\"outlinewidth\":0,\"ticks\":\"\"}}],\"scatter\":[{\"fillpattern\":{\"fillmode\":\"overlay\",\"size\":10,\"solidity\":0.2},\"type\":\"scatter\"}],\"parcoords\":[{\"type\":\"parcoords\",\"line\":{\"colorbar\":{\"outlinewidth\":0,\"ticks\":\"\"}}}],\"scatterpolargl\":[{\"type\":\"scatterpolargl\",\"marker\":{\"colorbar\":{\"outlinewidth\":0,\"ticks\":\"\"}}}],\"bar\":[{\"error_x\":{\"color\":\"#2a3f5f\"},\"error_y\":{\"color\":\"#2a3f5f\"},\"marker\":{\"line\":{\"color\":\"#E5ECF6\",\"width\":0.5},\"pattern\":{\"fillmode\":\"overlay\",\"size\":10,\"solidity\":0.2}},\"type\":\"bar\"}],\"scattergeo\":[{\"type\":\"scattergeo\",\"marker\":{\"colorbar\":{\"outlinewidth\":0,\"ticks\":\"\"}}}],\"scatterpolar\":[{\"type\":\"scatterpolar\",\"marker\":{\"colorbar\":{\"outlinewidth\":0,\"ticks\":\"\"}}}],\"histogram\":[{\"marker\":{\"pattern\":{\"fillmode\":\"overlay\",\"size\":10,\"solidity\":0.2}},\"type\":\"histogram\"}],\"scattergl\":[{\"type\":\"scattergl\",\"marker\":{\"colorbar\":{\"outlinewidth\":0,\"ticks\":\"\"}}}],\"scatter3d\":[{\"type\":\"scatter3d\",\"line\":{\"colorbar\":{\"outlinewidth\":0,\"ticks\":\"\"}},\"marker\":{\"colorbar\":{\"outlinewidth\":0,\"ticks\":\"\"}}}],\"scattermapbox\":[{\"type\":\"scattermapbox\",\"marker\":{\"colorbar\":{\"outlinewidth\":0,\"ticks\":\"\"}}}],\"scatterternary\":[{\"type\":\"scatterternary\",\"marker\":{\"colorbar\":{\"outlinewidth\":0,\"ticks\":\"\"}}}],\"scattercarpet\":[{\"type\":\"scattercarpet\",\"marker\":{\"colorbar\":{\"outlinewidth\":0,\"ticks\":\"\"}}}],\"carpet\":[{\"aaxis\":{\"endlinecolor\":\"#2a3f5f\",\"gridcolor\":\"white\",\"linecolor\":\"white\",\"minorgridcolor\":\"white\",\"startlinecolor\":\"#2a3f5f\"},\"baxis\":{\"endlinecolor\":\"#2a3f5f\",\"gridcolor\":\"white\",\"linecolor\":\"white\",\"minorgridcolor\":\"white\",\"startlinecolor\":\"#2a3f5f\"},\"type\":\"carpet\"}],\"table\":[{\"cells\":{\"fill\":{\"color\":\"#EBF0F8\"},\"line\":{\"color\":\"white\"}},\"header\":{\"fill\":{\"color\":\"#C8D4E3\"},\"line\":{\"color\":\"white\"}},\"type\":\"table\"}],\"barpolar\":[{\"marker\":{\"line\":{\"color\":\"#E5ECF6\",\"width\":0.5},\"pattern\":{\"fillmode\":\"overlay\",\"size\":10,\"solidity\":0.2}},\"type\":\"barpolar\"}],\"pie\":[{\"automargin\":true,\"type\":\"pie\"}]},\"layout\":{\"autotypenumbers\":\"strict\",\"colorway\":[\"#636efa\",\"#EF553B\",\"#00cc96\",\"#ab63fa\",\"#FFA15A\",\"#19d3f3\",\"#FF6692\",\"#B6E880\",\"#FF97FF\",\"#FECB52\"],\"font\":{\"color\":\"#2a3f5f\"},\"hovermode\":\"closest\",\"hoverlabel\":{\"align\":\"left\"},\"paper_bgcolor\":\"white\",\"plot_bgcolor\":\"#E5ECF6\",\"polar\":{\"bgcolor\":\"#E5ECF6\",\"angularaxis\":{\"gridcolor\":\"white\",\"linecolor\":\"white\",\"ticks\":\"\"},\"radialaxis\":{\"gridcolor\":\"white\",\"linecolor\":\"white\",\"ticks\":\"\"}},\"ternary\":{\"bgcolor\":\"#E5ECF6\",\"aaxis\":{\"gridcolor\":\"white\",\"linecolor\":\"white\",\"ticks\":\"\"},\"baxis\":{\"gridcolor\":\"white\",\"linecolor\":\"white\",\"ticks\":\"\"},\"caxis\":{\"gridcolor\":\"white\",\"linecolor\":\"white\",\"ticks\":\"\"}},\"coloraxis\":{\"colorbar\":{\"outlinewidth\":0,\"ticks\":\"\"}},\"colorscale\":{\"sequential\":[[0.0,\"#0d0887\"],[0.1111111111111111,\"#46039f\"],[0.2222222222222222,\"#7201a8\"],[0.3333333333333333,\"#9c179e\"],[0.4444444444444444,\"#bd3786\"],[0.5555555555555556,\"#d8576b\"],[0.6666666666666666,\"#ed7953\"],[0.7777777777777778,\"#fb9f3a\"],[0.8888888888888888,\"#fdca26\"],[1.0,\"#f0f921\"]],\"sequentialminus\":[[0.0,\"#0d0887\"],[0.1111111111111111,\"#46039f\"],[0.2222222222222222,\"#7201a8\"],[0.3333333333333333,\"#9c179e\"],[0.4444444444444444,\"#bd3786\"],[0.5555555555555556,\"#d8576b\"],[0.6666666666666666,\"#ed7953\"],[0.7777777777777778,\"#fb9f3a\"],[0.8888888888888888,\"#fdca26\"],[1.0,\"#f0f921\"]],\"diverging\":[[0,\"#8e0152\"],[0.1,\"#c51b7d\"],[0.2,\"#de77ae\"],[0.3,\"#f1b6da\"],[0.4,\"#fde0ef\"],[0.5,\"#f7f7f7\"],[0.6,\"#e6f5d0\"],[0.7,\"#b8e186\"],[0.8,\"#7fbc41\"],[0.9,\"#4d9221\"],[1,\"#276419\"]]},\"xaxis\":{\"gridcolor\":\"white\",\"linecolor\":\"white\",\"ticks\":\"\",\"title\":{\"standoff\":15},\"zerolinecolor\":\"white\",\"automargin\":true,\"zerolinewidth\":2},\"yaxis\":{\"gridcolor\":\"white\",\"linecolor\":\"white\",\"ticks\":\"\",\"title\":{\"standoff\":15},\"zerolinecolor\":\"white\",\"automargin\":true,\"zerolinewidth\":2},\"scene\":{\"xaxis\":{\"backgroundcolor\":\"#E5ECF6\",\"gridcolor\":\"white\",\"linecolor\":\"white\",\"showbackground\":true,\"ticks\":\"\",\"zerolinecolor\":\"white\",\"gridwidth\":2},\"yaxis\":{\"backgroundcolor\":\"#E5ECF6\",\"gridcolor\":\"white\",\"linecolor\":\"white\",\"showbackground\":true,\"ticks\":\"\",\"zerolinecolor\":\"white\",\"gridwidth\":2},\"zaxis\":{\"backgroundcolor\":\"#E5ECF6\",\"gridcolor\":\"white\",\"linecolor\":\"white\",\"showbackground\":true,\"ticks\":\"\",\"zerolinecolor\":\"white\",\"gridwidth\":2}},\"shapedefaults\":{\"line\":{\"color\":\"#2a3f5f\"}},\"annotationdefaults\":{\"arrowcolor\":\"#2a3f5f\",\"arrowhead\":0,\"arrowwidth\":1},\"geo\":{\"bgcolor\":\"white\",\"landcolor\":\"#E5ECF6\",\"subunitcolor\":\"white\",\"showland\":true,\"showlakes\":true,\"lakecolor\":\"white\"},\"title\":{\"x\":0.05},\"mapbox\":{\"style\":\"light\"}}},\"xaxis\":{\"anchor\":\"y\",\"domain\":[0.0,1.0],\"title\":{\"text\":\"Year\"}},\"yaxis\":{\"anchor\":\"x\",\"domain\":[0.0,1.0],\"title\":{\"text\":\"Sustainable Energy Generated\"}},\"legend\":{\"title\":{\"text\":\"Entity\"},\"tracegroupgap\":0},\"margin\":{\"t\":60},\"title\":{\"text\":\"total amount of sustainable energy generated per land area per year ( countries with the most emission)\"}},                        {\"responsive\": true}                    ).then(function(){\n                            \nvar gd = document.getElementById('3cd7fc5b-ffbd-48c5-8886-af1754d2abb0');\nvar x = new MutationObserver(function (mutations, observer) {{\n        var display = window.getComputedStyle(gd).display;\n        if (!display || display === 'none') {{\n            console.log([gd, 'removed!']);\n            Plotly.purge(gd);\n            observer.disconnect();\n        }}\n}});\n\n// Listen for the removal of the full notebook cells\nvar notebookContainer = gd.closest('#notebook-container');\nif (notebookContainer) {{\n    x.observe(notebookContainer, {childList: true});\n}}\n\n// Listen for the clearing of the current output cell\nvar outputEl = gd.closest('.output');\nif (outputEl) {{\n    x.observe(outputEl, {childList: true});\n}}\n\n                        })                };                });            </script>        </div>"
     },
     "metadata": {},
     "output_type": "display_data"
    }
   ],
   "source": [
    "import plotly.express as px\n",
    "\n",
    "df = px.data.gapminder().query(\"continent=='Oceania'\")\n",
    "fig = px.line(renewable_countries, x=\"Year\", y= 0, color='Entity')\n",
    "fig.update_layout(\n",
    "    title=  'total amount of sustainable energy generated per land area per year '\n",
    "            '( countries with the most emission)',\n",
    "    yaxis_title='Sustainable Energy Generated'\n",
    "    \n",
    ")\n",
    "\n",
    "fig.show()\n"
   ],
   "metadata": {
    "collapsed": false,
    "ExecuteTime": {
     "end_time": "2024-06-18T22:15:28.637060Z",
     "start_time": "2024-06-18T22:15:28.587616Z"
    }
   },
   "id": "e3523d547392fd25",
   "execution_count": 14
  },
  {
   "cell_type": "code",
   "outputs": [
    {
     "data": {
      "text/plain": "           Entity  Year  Access to electricity (% of population)  \\\n0     Afghanistan  2000                                 1.613591   \n1     Afghanistan  2001                                 4.074574   \n2     Afghanistan  2002                                 9.409158   \n3     Afghanistan  2003                                14.738506   \n4     Afghanistan  2004                                20.064968   \n...           ...   ...                                      ...   \n3644     Zimbabwe  2016                                42.561730   \n3645     Zimbabwe  2017                                44.178635   \n3646     Zimbabwe  2018                                45.572647   \n3647     Zimbabwe  2019                                46.781475   \n3648     Zimbabwe  2020                                52.747670   \n\n      Access to clean fuels for cooking  \\\n0                                   6.2   \n1                                   7.2   \n2                                   8.2   \n3                                   9.5   \n4                                  10.9   \n...                                 ...   \n3644                               29.8   \n3645                               29.8   \n3646                               29.9   \n3647                               30.1   \n3648                               30.4   \n\n      Renewable-electricity-generating-capacity-per-capita  \\\n0                                                  9.22      \n1                                                  8.86      \n2                                                  8.47      \n3                                                  8.09      \n4                                                  7.75      \n...                                                 ...      \n3644                                              62.88      \n3645                                              62.33      \n3646                                              82.53      \n3647                                              81.40      \n3648                                              80.61      \n\n      Financial flows to developing countries (US $)  \\\n0                                            20000.0   \n1                                           130000.0   \n2                                          3950000.0   \n3                                         25970000.0   \n4                                                NaN   \n...                                              ...   \n3644                                         30000.0   \n3645                                       5570000.0   \n3646                                         10000.0   \n3647                                        250000.0   \n3648                                         30000.0   \n\n      Renewable energy share in the total final energy consumption (%)  \\\n0                                                 44.99                  \n1                                                 45.60                  \n2                                                 37.83                  \n3                                                 36.66                  \n4                                                 44.24                  \n...                                                 ...                  \n3644                                              81.90                  \n3645                                              82.46                  \n3646                                              80.23                  \n3647                                              81.50                  \n3648                                              81.90                  \n\n      Electricity from fossil fuels (TWh)  Electricity from nuclear (TWh)  \\\n0                                    0.16                             0.0   \n1                                    0.09                             0.0   \n2                                    0.13                             0.0   \n3                                    0.31                             0.0   \n4                                    0.33                             0.0   \n...                                   ...                             ...   \n3644                                 3.50                             0.0   \n3645                                 3.05                             0.0   \n3646                                 3.73                             0.0   \n3647                                 3.66                             0.0   \n3648                                 3.40                             0.0   \n\n      Electricity from renewables (TWh)  ...  \\\n0                                  0.31  ...   \n1                                  0.50  ...   \n2                                  0.56  ...   \n3                                  0.63  ...   \n4                                  0.56  ...   \n...                                 ...  ...   \n3644                               3.32  ...   \n3645                               4.30  ...   \n3646                               5.46  ...   \n3647                               4.58  ...   \n3648                               4.19  ...   \n\n      Primary energy consumption per capita (kWh/person)  \\\n0                                             302.59482    \n1                                             236.89185    \n2                                             210.86215    \n3                                             229.96822    \n4                                             204.23125    \n...                                                 ...    \n3644                                         3227.68020    \n3645                                         3068.01150    \n3646                                         3441.98580    \n3647                                         3003.65530    \n3648                                         2680.13180    \n\n      Energy intensity level of primary energy (MJ/$2017 PPP GDP)  \\\n0                                                  1.64             \n1                                                  1.74             \n2                                                  1.40             \n3                                                  1.40             \n4                                                  1.20             \n...                                                 ...             \n3644                                              10.00             \n3645                                               9.51             \n3646                                               9.83             \n3647                                              10.47             \n3648                                              10.00             \n\n      Value_co2_emissions_kt_by_country  \\\n0                            760.000000   \n1                            730.000000   \n2                           1029.999971   \n3                           1220.000029   \n4                           1029.999971   \n...                                 ...   \n3644                       11020.000460   \n3645                       10340.000150   \n3646                       12380.000110   \n3647                       11760.000230   \n3648                                NaN   \n\n      Renewables (% equivalent primary energy)  gdp_growth  gdp_per_capita  \\\n0                                          NaN         NaN             NaN   \n1                                          NaN         NaN             NaN   \n2                                          NaN         NaN      179.426579   \n3                                          NaN    8.832278      190.683814   \n4                                          NaN    1.414118      211.382074   \n...                                        ...         ...             ...   \n3644                                       NaN    0.755869     1464.588957   \n3645                                       NaN    4.709492     1235.189032   \n3646                                       NaN    4.824211     1254.642265   \n3647                                       NaN   -6.144236     1316.740657   \n3648                                       NaN   -6.248748     1214.509820   \n\n      Density\\n(P/Km2) Land Area(Km2)   Latitude  Longitude  \n0                   60       652230.0  33.939110  67.709953  \n1                   60       652230.0  33.939110  67.709953  \n2                   60       652230.0  33.939110  67.709953  \n3                   60       652230.0  33.939110  67.709953  \n4                   60       652230.0  33.939110  67.709953  \n...                ...            ...        ...        ...  \n3644                38       390757.0 -19.015438  29.154857  \n3645                38       390757.0 -19.015438  29.154857  \n3646                38       390757.0 -19.015438  29.154857  \n3647                38       390757.0 -19.015438  29.154857  \n3648                38       390757.0 -19.015438  29.154857  \n\n[3649 rows x 21 columns]",
      "text/html": "<div>\n<style scoped>\n    .dataframe tbody tr th:only-of-type {\n        vertical-align: middle;\n    }\n\n    .dataframe tbody tr th {\n        vertical-align: top;\n    }\n\n    .dataframe thead th {\n        text-align: right;\n    }\n</style>\n<table border=\"1\" class=\"dataframe\">\n  <thead>\n    <tr style=\"text-align: right;\">\n      <th></th>\n      <th>Entity</th>\n      <th>Year</th>\n      <th>Access to electricity (% of population)</th>\n      <th>Access to clean fuels for cooking</th>\n      <th>Renewable-electricity-generating-capacity-per-capita</th>\n      <th>Financial flows to developing countries (US $)</th>\n      <th>Renewable energy share in the total final energy consumption (%)</th>\n      <th>Electricity from fossil fuels (TWh)</th>\n      <th>Electricity from nuclear (TWh)</th>\n      <th>Electricity from renewables (TWh)</th>\n      <th>...</th>\n      <th>Primary energy consumption per capita (kWh/person)</th>\n      <th>Energy intensity level of primary energy (MJ/$2017 PPP GDP)</th>\n      <th>Value_co2_emissions_kt_by_country</th>\n      <th>Renewables (% equivalent primary energy)</th>\n      <th>gdp_growth</th>\n      <th>gdp_per_capita</th>\n      <th>Density\\n(P/Km2)</th>\n      <th>Land Area(Km2)</th>\n      <th>Latitude</th>\n      <th>Longitude</th>\n    </tr>\n  </thead>\n  <tbody>\n    <tr>\n      <th>0</th>\n      <td>Afghanistan</td>\n      <td>2000</td>\n      <td>1.613591</td>\n      <td>6.2</td>\n      <td>9.22</td>\n      <td>20000.0</td>\n      <td>44.99</td>\n      <td>0.16</td>\n      <td>0.0</td>\n      <td>0.31</td>\n      <td>...</td>\n      <td>302.59482</td>\n      <td>1.64</td>\n      <td>760.000000</td>\n      <td>NaN</td>\n      <td>NaN</td>\n      <td>NaN</td>\n      <td>60</td>\n      <td>652230.0</td>\n      <td>33.939110</td>\n      <td>67.709953</td>\n    </tr>\n    <tr>\n      <th>1</th>\n      <td>Afghanistan</td>\n      <td>2001</td>\n      <td>4.074574</td>\n      <td>7.2</td>\n      <td>8.86</td>\n      <td>130000.0</td>\n      <td>45.60</td>\n      <td>0.09</td>\n      <td>0.0</td>\n      <td>0.50</td>\n      <td>...</td>\n      <td>236.89185</td>\n      <td>1.74</td>\n      <td>730.000000</td>\n      <td>NaN</td>\n      <td>NaN</td>\n      <td>NaN</td>\n      <td>60</td>\n      <td>652230.0</td>\n      <td>33.939110</td>\n      <td>67.709953</td>\n    </tr>\n    <tr>\n      <th>2</th>\n      <td>Afghanistan</td>\n      <td>2002</td>\n      <td>9.409158</td>\n      <td>8.2</td>\n      <td>8.47</td>\n      <td>3950000.0</td>\n      <td>37.83</td>\n      <td>0.13</td>\n      <td>0.0</td>\n      <td>0.56</td>\n      <td>...</td>\n      <td>210.86215</td>\n      <td>1.40</td>\n      <td>1029.999971</td>\n      <td>NaN</td>\n      <td>NaN</td>\n      <td>179.426579</td>\n      <td>60</td>\n      <td>652230.0</td>\n      <td>33.939110</td>\n      <td>67.709953</td>\n    </tr>\n    <tr>\n      <th>3</th>\n      <td>Afghanistan</td>\n      <td>2003</td>\n      <td>14.738506</td>\n      <td>9.5</td>\n      <td>8.09</td>\n      <td>25970000.0</td>\n      <td>36.66</td>\n      <td>0.31</td>\n      <td>0.0</td>\n      <td>0.63</td>\n      <td>...</td>\n      <td>229.96822</td>\n      <td>1.40</td>\n      <td>1220.000029</td>\n      <td>NaN</td>\n      <td>8.832278</td>\n      <td>190.683814</td>\n      <td>60</td>\n      <td>652230.0</td>\n      <td>33.939110</td>\n      <td>67.709953</td>\n    </tr>\n    <tr>\n      <th>4</th>\n      <td>Afghanistan</td>\n      <td>2004</td>\n      <td>20.064968</td>\n      <td>10.9</td>\n      <td>7.75</td>\n      <td>NaN</td>\n      <td>44.24</td>\n      <td>0.33</td>\n      <td>0.0</td>\n      <td>0.56</td>\n      <td>...</td>\n      <td>204.23125</td>\n      <td>1.20</td>\n      <td>1029.999971</td>\n      <td>NaN</td>\n      <td>1.414118</td>\n      <td>211.382074</td>\n      <td>60</td>\n      <td>652230.0</td>\n      <td>33.939110</td>\n      <td>67.709953</td>\n    </tr>\n    <tr>\n      <th>...</th>\n      <td>...</td>\n      <td>...</td>\n      <td>...</td>\n      <td>...</td>\n      <td>...</td>\n      <td>...</td>\n      <td>...</td>\n      <td>...</td>\n      <td>...</td>\n      <td>...</td>\n      <td>...</td>\n      <td>...</td>\n      <td>...</td>\n      <td>...</td>\n      <td>...</td>\n      <td>...</td>\n      <td>...</td>\n      <td>...</td>\n      <td>...</td>\n      <td>...</td>\n      <td>...</td>\n    </tr>\n    <tr>\n      <th>3644</th>\n      <td>Zimbabwe</td>\n      <td>2016</td>\n      <td>42.561730</td>\n      <td>29.8</td>\n      <td>62.88</td>\n      <td>30000.0</td>\n      <td>81.90</td>\n      <td>3.50</td>\n      <td>0.0</td>\n      <td>3.32</td>\n      <td>...</td>\n      <td>3227.68020</td>\n      <td>10.00</td>\n      <td>11020.000460</td>\n      <td>NaN</td>\n      <td>0.755869</td>\n      <td>1464.588957</td>\n      <td>38</td>\n      <td>390757.0</td>\n      <td>-19.015438</td>\n      <td>29.154857</td>\n    </tr>\n    <tr>\n      <th>3645</th>\n      <td>Zimbabwe</td>\n      <td>2017</td>\n      <td>44.178635</td>\n      <td>29.8</td>\n      <td>62.33</td>\n      <td>5570000.0</td>\n      <td>82.46</td>\n      <td>3.05</td>\n      <td>0.0</td>\n      <td>4.30</td>\n      <td>...</td>\n      <td>3068.01150</td>\n      <td>9.51</td>\n      <td>10340.000150</td>\n      <td>NaN</td>\n      <td>4.709492</td>\n      <td>1235.189032</td>\n      <td>38</td>\n      <td>390757.0</td>\n      <td>-19.015438</td>\n      <td>29.154857</td>\n    </tr>\n    <tr>\n      <th>3646</th>\n      <td>Zimbabwe</td>\n      <td>2018</td>\n      <td>45.572647</td>\n      <td>29.9</td>\n      <td>82.53</td>\n      <td>10000.0</td>\n      <td>80.23</td>\n      <td>3.73</td>\n      <td>0.0</td>\n      <td>5.46</td>\n      <td>...</td>\n      <td>3441.98580</td>\n      <td>9.83</td>\n      <td>12380.000110</td>\n      <td>NaN</td>\n      <td>4.824211</td>\n      <td>1254.642265</td>\n      <td>38</td>\n      <td>390757.0</td>\n      <td>-19.015438</td>\n      <td>29.154857</td>\n    </tr>\n    <tr>\n      <th>3647</th>\n      <td>Zimbabwe</td>\n      <td>2019</td>\n      <td>46.781475</td>\n      <td>30.1</td>\n      <td>81.40</td>\n      <td>250000.0</td>\n      <td>81.50</td>\n      <td>3.66</td>\n      <td>0.0</td>\n      <td>4.58</td>\n      <td>...</td>\n      <td>3003.65530</td>\n      <td>10.47</td>\n      <td>11760.000230</td>\n      <td>NaN</td>\n      <td>-6.144236</td>\n      <td>1316.740657</td>\n      <td>38</td>\n      <td>390757.0</td>\n      <td>-19.015438</td>\n      <td>29.154857</td>\n    </tr>\n    <tr>\n      <th>3648</th>\n      <td>Zimbabwe</td>\n      <td>2020</td>\n      <td>52.747670</td>\n      <td>30.4</td>\n      <td>80.61</td>\n      <td>30000.0</td>\n      <td>81.90</td>\n      <td>3.40</td>\n      <td>0.0</td>\n      <td>4.19</td>\n      <td>...</td>\n      <td>2680.13180</td>\n      <td>10.00</td>\n      <td>NaN</td>\n      <td>NaN</td>\n      <td>-6.248748</td>\n      <td>1214.509820</td>\n      <td>38</td>\n      <td>390757.0</td>\n      <td>-19.015438</td>\n      <td>29.154857</td>\n    </tr>\n  </tbody>\n</table>\n<p>3649 rows × 21 columns</p>\n</div>"
     },
     "execution_count": 8,
     "metadata": {},
     "output_type": "execute_result"
    }
   ],
   "source": [
    "df2 = pd.read_csv('../globalDataOnSustainableEnergy2000-2020.csv')\n",
    "df2"
   ],
   "metadata": {
    "collapsed": false
   },
   "id": "3ea9301439ed8c6b",
   "execution_count": 8
  },
  {
   "cell_type": "code",
   "outputs": [
    {
     "data": {
      "text/plain": "                     Entity\n0  Central African Republic\n1                      Chad\n2                   Somalia\n3                     Niger\n4                      Mali\n5                     Congo\n6                Mauritania\n7                   Namibia\n8                Madagascar\n9                    Zambia",
      "text/html": "<div>\n<style scoped>\n    .dataframe tbody tr th:only-of-type {\n        vertical-align: middle;\n    }\n\n    .dataframe tbody tr th {\n        vertical-align: top;\n    }\n\n    .dataframe thead th {\n        text-align: right;\n    }\n</style>\n<table border=\"1\" class=\"dataframe\">\n  <thead>\n    <tr style=\"text-align: right;\">\n      <th></th>\n      <th>Entity</th>\n    </tr>\n  </thead>\n  <tbody>\n    <tr>\n      <th>0</th>\n      <td>Central African Republic</td>\n    </tr>\n    <tr>\n      <th>1</th>\n      <td>Chad</td>\n    </tr>\n    <tr>\n      <th>2</th>\n      <td>Somalia</td>\n    </tr>\n    <tr>\n      <th>3</th>\n      <td>Niger</td>\n    </tr>\n    <tr>\n      <th>4</th>\n      <td>Mali</td>\n    </tr>\n    <tr>\n      <th>5</th>\n      <td>Congo</td>\n    </tr>\n    <tr>\n      <th>6</th>\n      <td>Mauritania</td>\n    </tr>\n    <tr>\n      <th>7</th>\n      <td>Namibia</td>\n    </tr>\n    <tr>\n      <th>8</th>\n      <td>Madagascar</td>\n    </tr>\n    <tr>\n      <th>9</th>\n      <td>Zambia</td>\n    </tr>\n  </tbody>\n</table>\n</div>"
     },
     "execution_count": 9,
     "metadata": {},
     "output_type": "execute_result"
    }
   ],
   "source": [
    "selected_BEST_countries = pd.DataFrame({'Entity': ['Central African Republic','Chad','Somalia','Niger','Mali','Congo','Mauritania','Namibia','Madagascar','Zambia']})\n",
    "\n",
    "selected_BEST_countries"
   ],
   "metadata": {
    "collapsed": false
   },
   "id": "ae49008dcc10f281",
   "execution_count": 9
  },
  {
   "cell_type": "code",
   "outputs": [
    {
     "data": {
      "text/plain": "                        Entity  Electricity from renewables (TWh)  Year  \\\n651   Central African Republic                               0.08  2000   \n652   Central African Republic                               0.08  2001   \n653   Central African Republic                               0.08  2002   \n654   Central African Republic                               0.08  2003   \n655   Central African Republic                               0.12  2004   \n...                        ...                                ...   ...   \n3623                    Zambia                              10.97  2016   \n3624                    Zambia                              12.64  2017   \n3625                    Zambia                              13.89  2018   \n3626                    Zambia                              12.62  2019   \n3627                    Zambia                              13.10  2020   \n\n      Land Area(Km2)          0  \n651         622984.0   0.128414  \n652         622984.0   0.128414  \n653         622984.0   0.128414  \n654         622984.0   0.128414  \n655         622984.0   0.192621  \n...              ...        ...  \n3623        752618.0  14.575787  \n3624        752618.0  16.794709  \n3625        752618.0  18.455578  \n3626        752618.0  16.768135  \n3627        752618.0  17.405908  \n\n[210 rows x 5 columns]",
      "text/html": "<div>\n<style scoped>\n    .dataframe tbody tr th:only-of-type {\n        vertical-align: middle;\n    }\n\n    .dataframe tbody tr th {\n        vertical-align: top;\n    }\n\n    .dataframe thead th {\n        text-align: right;\n    }\n</style>\n<table border=\"1\" class=\"dataframe\">\n  <thead>\n    <tr style=\"text-align: right;\">\n      <th></th>\n      <th>Entity</th>\n      <th>Electricity from renewables (TWh)</th>\n      <th>Year</th>\n      <th>Land Area(Km2)</th>\n      <th>0</th>\n    </tr>\n  </thead>\n  <tbody>\n    <tr>\n      <th>651</th>\n      <td>Central African Republic</td>\n      <td>0.08</td>\n      <td>2000</td>\n      <td>622984.0</td>\n      <td>0.128414</td>\n    </tr>\n    <tr>\n      <th>652</th>\n      <td>Central African Republic</td>\n      <td>0.08</td>\n      <td>2001</td>\n      <td>622984.0</td>\n      <td>0.128414</td>\n    </tr>\n    <tr>\n      <th>653</th>\n      <td>Central African Republic</td>\n      <td>0.08</td>\n      <td>2002</td>\n      <td>622984.0</td>\n      <td>0.128414</td>\n    </tr>\n    <tr>\n      <th>654</th>\n      <td>Central African Republic</td>\n      <td>0.08</td>\n      <td>2003</td>\n      <td>622984.0</td>\n      <td>0.128414</td>\n    </tr>\n    <tr>\n      <th>655</th>\n      <td>Central African Republic</td>\n      <td>0.12</td>\n      <td>2004</td>\n      <td>622984.0</td>\n      <td>0.192621</td>\n    </tr>\n    <tr>\n      <th>...</th>\n      <td>...</td>\n      <td>...</td>\n      <td>...</td>\n      <td>...</td>\n      <td>...</td>\n    </tr>\n    <tr>\n      <th>3623</th>\n      <td>Zambia</td>\n      <td>10.97</td>\n      <td>2016</td>\n      <td>752618.0</td>\n      <td>14.575787</td>\n    </tr>\n    <tr>\n      <th>3624</th>\n      <td>Zambia</td>\n      <td>12.64</td>\n      <td>2017</td>\n      <td>752618.0</td>\n      <td>16.794709</td>\n    </tr>\n    <tr>\n      <th>3625</th>\n      <td>Zambia</td>\n      <td>13.89</td>\n      <td>2018</td>\n      <td>752618.0</td>\n      <td>18.455578</td>\n    </tr>\n    <tr>\n      <th>3626</th>\n      <td>Zambia</td>\n      <td>12.62</td>\n      <td>2019</td>\n      <td>752618.0</td>\n      <td>16.768135</td>\n    </tr>\n    <tr>\n      <th>3627</th>\n      <td>Zambia</td>\n      <td>13.10</td>\n      <td>2020</td>\n      <td>752618.0</td>\n      <td>17.405908</td>\n    </tr>\n  </tbody>\n</table>\n<p>210 rows × 5 columns</p>\n</div>"
     },
     "execution_count": 10,
     "metadata": {},
     "output_type": "execute_result"
    }
   ],
   "source": [
    "renewable_countries2 = pd.concat([df2['Entity'], df2['Electricity from renewables (TWh)'], df2['Year'],  df2['Land Area(Km2)'], df2['Electricity from renewables (TWh)'] * 1000000 / df2['Land Area(Km2)']], axis=1)\n",
    "renewable_countries2 = renewable_countries2[renewable_countries2['Entity'].isin(selected_BEST_countries['Entity'])]\n",
    "renewable_countries2"
   ],
   "metadata": {
    "collapsed": false,
    "ExecuteTime": {
     "end_time": "2024-06-18T21:50:51.512135Z",
     "start_time": "2024-06-18T21:50:51.506341Z"
    }
   },
   "id": "423e4e0aa3c5c789",
   "execution_count": 10
  },
  {
   "cell_type": "code",
   "outputs": [
    {
     "data": {
      "application/vnd.plotly.v1+json": {
       "data": [
        {
         "hovertemplate": "Entity=Central African Republic<br>Year=%{x}<br>0=%{y}<extra></extra>",
         "legendgroup": "Central African Republic",
         "line": {
          "color": "#636efa",
          "dash": "solid"
         },
         "marker": {
          "symbol": "circle"
         },
         "mode": "lines",
         "name": "Central African Republic",
         "orientation": "v",
         "showlegend": true,
         "x": [
          2000,
          2001,
          2002,
          2003,
          2004,
          2005,
          2006,
          2007,
          2008,
          2009,
          2010,
          2011,
          2012,
          2013,
          2014,
          2015,
          2016,
          2017,
          2018,
          2019,
          2020
         ],
         "xaxis": "x",
         "y": [
          0.12841421288508212,
          0.12841421288508212,
          0.12841421288508212,
          0.12841421288508212,
          0.1926213193276232,
          0.20867309593825845,
          0.2247248725488937,
          0.2247248725488937,
          0.2247248725488937,
          0.2247248725488937,
          0.20867309593825845,
          0.24077664915952898,
          0.24077664915952898,
          0.2247248725488937,
          0.2728802023807995,
          0.2728802023807995,
          0.2728802023807995,
          0.24077664915952898,
          0.24077664915952898,
          0.24077664915952898,
          0.24077664915952898
         ],
         "yaxis": "y",
         "type": "scatter"
        },
        {
         "hovertemplate": "Entity=Chad<br>Year=%{x}<br>0=%{y}<extra></extra>",
         "legendgroup": "Chad",
         "line": {
          "color": "#EF553B",
          "dash": "solid"
         },
         "marker": {
          "symbol": "circle"
         },
         "mode": "lines",
         "name": "Chad",
         "orientation": "v",
         "showlegend": true,
         "x": [
          2000,
          2001,
          2002,
          2003,
          2004,
          2005,
          2006,
          2007,
          2008,
          2009,
          2010,
          2011,
          2012,
          2013,
          2014,
          2015,
          2016,
          2017,
          2018,
          2019,
          2020
         ],
         "xaxis": "x",
         "y": [
          0.00778816199376947,
          0.00778816199376947,
          0.00778816199376947,
          0.00778816199376947,
          0.00778816199376947,
          0.00778816199376947,
          0.00778816199376947,
          0.0,
          0.0,
          0.00778816199376947,
          0.00778816199376947,
          0.00778816199376947,
          0.0,
          0.0,
          0.0,
          0.0,
          0.00778816199376947,
          0.00778816199376947,
          0.00778816199376947,
          0.00778816199376947,
          0.00778816199376947
         ],
         "yaxis": "y",
         "type": "scatter"
        },
        {
         "hovertemplate": "Entity=Congo<br>Year=%{x}<br>0=%{y}<extra></extra>",
         "legendgroup": "Congo",
         "line": {
          "color": "#00cc96",
          "dash": "solid"
         },
         "marker": {
          "symbol": "circle"
         },
         "mode": "lines",
         "name": "Congo",
         "orientation": "v",
         "showlegend": true,
         "x": [
          2000,
          2001,
          2002,
          2003,
          2004,
          2005,
          2006,
          2007,
          2008,
          2009,
          2010,
          2011,
          2012,
          2013,
          2014,
          2015,
          2016,
          2017,
          2018,
          2019,
          2020
         ],
         "xaxis": "x",
         "y": [
          0.12364581188185088,
          0.14070040662417516,
          0.16628229873766154,
          0.15349135268091835,
          0.14922770399533727,
          0.1577550013664994,
          0.16628229873766154,
          0.1449640553097562,
          0.16628229873766154,
          0.15349135268091835,
          0.18760054216556685,
          0.3368282461609041,
          0.4263648685581065,
          0.41783757118694437,
          0.4093102738157822,
          0.4860559501562414,
          0.4988468962129846,
          0.528692437012052,
          0.49031959884182247,
          0.40078297644462013,
          0.4093102738157822
         ],
         "yaxis": "y",
         "type": "scatter"
        },
        {
         "hovertemplate": "Entity=Madagascar<br>Year=%{x}<br>0=%{y}<extra></extra>",
         "legendgroup": "Madagascar",
         "line": {
          "color": "#ab63fa",
          "dash": "solid"
         },
         "marker": {
          "symbol": "circle"
         },
         "mode": "lines",
         "name": "Madagascar",
         "orientation": "v",
         "showlegend": true,
         "x": [
          2000,
          2001,
          2002,
          2003,
          2004,
          2005,
          2006,
          2007,
          2008,
          2009,
          2010,
          2011,
          2012,
          2013,
          2014,
          2015,
          2016,
          2017,
          2018,
          2019,
          2020
         ],
         "xaxis": "x",
         "y": [
          0.9198676072029041,
          0.9028330218843318,
          0.9198676072029041,
          1.0220751191143378,
          1.0731788750700548,
          1.090213460388627,
          1.0731788750700548,
          1.2094555576186332,
          1.1753863869814885,
          1.2435247282557778,
          1.1924209723000607,
          1.1583518016629162,
          1.2775938988929223,
          1.3798014108043561,
          1.5160780933529345,
          1.6182856052643682,
          1.5331126786715068,
          1.3627668254857839,
          1.6693893612200852,
          1.550147263990079,
          1.1583518016629162
         ],
         "yaxis": "y",
         "type": "scatter"
        },
        {
         "hovertemplate": "Entity=Mali<br>Year=%{x}<br>0=%{y}<extra></extra>",
         "legendgroup": "Mali",
         "line": {
          "color": "#FFA15A",
          "dash": "solid"
         },
         "marker": {
          "symbol": "circle"
         },
         "mode": "lines",
         "name": "Mali",
         "orientation": "v",
         "showlegend": true,
         "x": [
          2000,
          2001,
          2002,
          2003,
          2004,
          2005,
          2006,
          2007,
          2008,
          2009,
          2010,
          2011,
          2012,
          2013,
          2014,
          2015,
          2016,
          2017,
          2018,
          2019,
          2020
         ],
         "xaxis": "x",
         "y": [
          0.20158169057694292,
          0.20158169057694292,
          0.20964495820002063,
          0.20964495820002063,
          0.22577149344617609,
          0.39510011353080815,
          0.427353184023119,
          0.41928991640004126,
          0.5079858602538961,
          0.5886185364846733,
          0.9514655795231706,
          0.9998451852616369,
          1.1046676643616473,
          0.9998451852616369,
          1.2175534110847352,
          1.0240349881308701,
          1.30624935493859,
          1.3304391578078234,
          1.2578697492001238,
          0.9434023119000929,
          0.9353390442770152
         ],
         "yaxis": "y",
         "type": "scatter"
        },
        {
         "hovertemplate": "Entity=Mauritania<br>Year=%{x}<br>0=%{y}<extra></extra>",
         "legendgroup": "Mauritania",
         "line": {
          "color": "#19d3f3",
          "dash": "solid"
         },
         "marker": {
          "symbol": "circle"
         },
         "mode": "lines",
         "name": "Mauritania",
         "orientation": "v",
         "showlegend": true,
         "x": [
          2000,
          2001,
          2002,
          2003,
          2004,
          2005,
          2006,
          2007,
          2008,
          2009,
          2010,
          2011,
          2012,
          2013,
          2014,
          2015,
          2016,
          2017,
          2018,
          2019,
          2020
         ],
         "xaxis": "x",
         "y": [
          0.02910643252158727,
          0.02910643252158727,
          0.02910643252158727,
          0.038808576695449695,
          0.038808576695449695,
          0.048510720869312116,
          0.048510720869312116,
          0.048510720869312116,
          0.05821286504317454,
          0.10672358591248667,
          0.11642573008634909,
          0.12612787426021152,
          0.13583001843407394,
          0.20374502765111088,
          0.21344717182497333,
          0.31046861356359756,
          0.2813621810420103,
          0.32017075773745995,
          0.4171921994760842,
          0.4462986319976715,
          0.46570292034539634
         ],
         "yaxis": "y",
         "type": "scatter"
        },
        {
         "hovertemplate": "Entity=Namibia<br>Year=%{x}<br>0=%{y}<extra></extra>",
         "legendgroup": "Namibia",
         "line": {
          "color": "#FF6692",
          "dash": "solid"
         },
         "marker": {
          "symbol": "circle"
         },
         "mode": "lines",
         "name": "Namibia",
         "orientation": "v",
         "showlegend": true,
         "x": [
          2000,
          2001,
          2002,
          2003,
          2004,
          2005,
          2006,
          2007,
          2008,
          2009,
          2010,
          2011,
          2012,
          2013,
          2014,
          2015,
          2016,
          2017,
          2018,
          2019,
          2020
         ],
         "xaxis": "x",
         "y": [
          1.6620323865814541,
          1.6499007633217355,
          1.7590853726592033,
          1.8197434889577966,
          1.9289280982952643,
          1.9895862145938574,
          1.9289280982952643,
          1.8925332285161083,
          1.7954802424383591,
          1.6862956331008914,
          1.5164529074648305,
          1.69842725636061,
          1.941059721554983,
          1.5528477772439864,
          1.8197434889577966,
          1.8561383587369524,
          1.7105588796203288,
          2.038112707632732,
          1.6862956331008914,
          1.6013742702828608,
          2.2928767960868237
         ],
         "yaxis": "y",
         "type": "scatter"
        },
        {
         "hovertemplate": "Entity=Niger<br>Year=%{x}<br>0=%{y}<extra></extra>",
         "legendgroup": "Niger",
         "line": {
          "color": "#B6E880",
          "dash": "solid"
         },
         "marker": {
          "symbol": "circle"
         },
         "mode": "lines",
         "name": "Niger",
         "orientation": "v",
         "showlegend": true,
         "x": [
          2000,
          2001,
          2002,
          2003,
          2004,
          2005,
          2006,
          2007,
          2008,
          2009,
          2010,
          2011,
          2012,
          2013,
          2014,
          2015,
          2016,
          2017,
          2018,
          2019,
          2020
         ],
         "xaxis": "x",
         "y": [
          0.0,
          0.0,
          0.0,
          0.0,
          0.0,
          0.0,
          0.0,
          0.0,
          0.0,
          0.0,
          0.0,
          0.0,
          0.007892659826361484,
          0.007892659826361484,
          0.007892659826361484,
          0.007892659826361484,
          0.007892659826361484,
          0.007892659826361484,
          0.03946329913180742,
          0.03946329913180742,
          0.03946329913180742
         ],
         "yaxis": "y",
         "type": "scatter"
        },
        {
         "hovertemplate": "Entity=Somalia<br>Year=%{x}<br>0=%{y}<extra></extra>",
         "legendgroup": "Somalia",
         "line": {
          "color": "#FF97FF",
          "dash": "solid"
         },
         "marker": {
          "symbol": "circle"
         },
         "mode": "lines",
         "name": "Somalia",
         "orientation": "v",
         "showlegend": true,
         "x": [
          2000,
          2001,
          2002,
          2003,
          2004,
          2005,
          2006,
          2007,
          2008,
          2009,
          2010,
          2011,
          2012,
          2013,
          2014,
          2015,
          2016,
          2017,
          2018,
          2019,
          2020
         ],
         "xaxis": "x",
         "y": [
          0.0,
          0.0,
          0.0,
          0.0,
          0.0,
          0.0,
          0.0,
          0.0,
          0.0,
          0.0,
          0.0,
          0.0,
          0.0,
          0.0,
          0.0,
          0.0,
          0.015682412331394464,
          0.03136482466278893,
          0.03136482466278893,
          0.03136482466278893,
          0.047047236994183395
         ],
         "yaxis": "y",
         "type": "scatter"
        },
        {
         "hovertemplate": "Entity=Zambia<br>Year=%{x}<br>0=%{y}<extra></extra>",
         "legendgroup": "Zambia",
         "line": {
          "color": "#FECB52",
          "dash": "solid"
         },
         "marker": {
          "symbol": "circle"
         },
         "mode": "lines",
         "name": "Zambia",
         "orientation": "v",
         "showlegend": true,
         "x": [
          2000,
          2001,
          2002,
          2003,
          2004,
          2005,
          2006,
          2007,
          2008,
          2009,
          2010,
          2011,
          2012,
          2013,
          2014,
          2015,
          2016,
          2017,
          2018,
          2019,
          2020
         ],
         "xaxis": "x",
         "y": [
          10.217666864199368,
          10.403684206330436,
          10.669423266517674,
          10.868727561658105,
          11.147753574854708,
          11.692518648238549,
          12.728900982968783,
          12.675753170931335,
          12.556170593847078,
          13.03450090218411,
          13.76528331769902,
          15.147126430672666,
          16.289804389477798,
          17.5122040663391,
          18.615021166116144,
          17.273038912170584,
          14.5757874512701,
          16.794708603833552,
          18.4555777300038,
          16.768134697814826,
          17.405908442264202
         ],
         "yaxis": "y",
         "type": "scatter"
        }
       ],
       "layout": {
        "template": {
         "data": {
          "histogram2dcontour": [
           {
            "type": "histogram2dcontour",
            "colorbar": {
             "outlinewidth": 0,
             "ticks": ""
            },
            "colorscale": [
             [
              0.0,
              "#0d0887"
             ],
             [
              0.1111111111111111,
              "#46039f"
             ],
             [
              0.2222222222222222,
              "#7201a8"
             ],
             [
              0.3333333333333333,
              "#9c179e"
             ],
             [
              0.4444444444444444,
              "#bd3786"
             ],
             [
              0.5555555555555556,
              "#d8576b"
             ],
             [
              0.6666666666666666,
              "#ed7953"
             ],
             [
              0.7777777777777778,
              "#fb9f3a"
             ],
             [
              0.8888888888888888,
              "#fdca26"
             ],
             [
              1.0,
              "#f0f921"
             ]
            ]
           }
          ],
          "choropleth": [
           {
            "type": "choropleth",
            "colorbar": {
             "outlinewidth": 0,
             "ticks": ""
            }
           }
          ],
          "histogram2d": [
           {
            "type": "histogram2d",
            "colorbar": {
             "outlinewidth": 0,
             "ticks": ""
            },
            "colorscale": [
             [
              0.0,
              "#0d0887"
             ],
             [
              0.1111111111111111,
              "#46039f"
             ],
             [
              0.2222222222222222,
              "#7201a8"
             ],
             [
              0.3333333333333333,
              "#9c179e"
             ],
             [
              0.4444444444444444,
              "#bd3786"
             ],
             [
              0.5555555555555556,
              "#d8576b"
             ],
             [
              0.6666666666666666,
              "#ed7953"
             ],
             [
              0.7777777777777778,
              "#fb9f3a"
             ],
             [
              0.8888888888888888,
              "#fdca26"
             ],
             [
              1.0,
              "#f0f921"
             ]
            ]
           }
          ],
          "heatmap": [
           {
            "type": "heatmap",
            "colorbar": {
             "outlinewidth": 0,
             "ticks": ""
            },
            "colorscale": [
             [
              0.0,
              "#0d0887"
             ],
             [
              0.1111111111111111,
              "#46039f"
             ],
             [
              0.2222222222222222,
              "#7201a8"
             ],
             [
              0.3333333333333333,
              "#9c179e"
             ],
             [
              0.4444444444444444,
              "#bd3786"
             ],
             [
              0.5555555555555556,
              "#d8576b"
             ],
             [
              0.6666666666666666,
              "#ed7953"
             ],
             [
              0.7777777777777778,
              "#fb9f3a"
             ],
             [
              0.8888888888888888,
              "#fdca26"
             ],
             [
              1.0,
              "#f0f921"
             ]
            ]
           }
          ],
          "heatmapgl": [
           {
            "type": "heatmapgl",
            "colorbar": {
             "outlinewidth": 0,
             "ticks": ""
            },
            "colorscale": [
             [
              0.0,
              "#0d0887"
             ],
             [
              0.1111111111111111,
              "#46039f"
             ],
             [
              0.2222222222222222,
              "#7201a8"
             ],
             [
              0.3333333333333333,
              "#9c179e"
             ],
             [
              0.4444444444444444,
              "#bd3786"
             ],
             [
              0.5555555555555556,
              "#d8576b"
             ],
             [
              0.6666666666666666,
              "#ed7953"
             ],
             [
              0.7777777777777778,
              "#fb9f3a"
             ],
             [
              0.8888888888888888,
              "#fdca26"
             ],
             [
              1.0,
              "#f0f921"
             ]
            ]
           }
          ],
          "contourcarpet": [
           {
            "type": "contourcarpet",
            "colorbar": {
             "outlinewidth": 0,
             "ticks": ""
            }
           }
          ],
          "contour": [
           {
            "type": "contour",
            "colorbar": {
             "outlinewidth": 0,
             "ticks": ""
            },
            "colorscale": [
             [
              0.0,
              "#0d0887"
             ],
             [
              0.1111111111111111,
              "#46039f"
             ],
             [
              0.2222222222222222,
              "#7201a8"
             ],
             [
              0.3333333333333333,
              "#9c179e"
             ],
             [
              0.4444444444444444,
              "#bd3786"
             ],
             [
              0.5555555555555556,
              "#d8576b"
             ],
             [
              0.6666666666666666,
              "#ed7953"
             ],
             [
              0.7777777777777778,
              "#fb9f3a"
             ],
             [
              0.8888888888888888,
              "#fdca26"
             ],
             [
              1.0,
              "#f0f921"
             ]
            ]
           }
          ],
          "surface": [
           {
            "type": "surface",
            "colorbar": {
             "outlinewidth": 0,
             "ticks": ""
            },
            "colorscale": [
             [
              0.0,
              "#0d0887"
             ],
             [
              0.1111111111111111,
              "#46039f"
             ],
             [
              0.2222222222222222,
              "#7201a8"
             ],
             [
              0.3333333333333333,
              "#9c179e"
             ],
             [
              0.4444444444444444,
              "#bd3786"
             ],
             [
              0.5555555555555556,
              "#d8576b"
             ],
             [
              0.6666666666666666,
              "#ed7953"
             ],
             [
              0.7777777777777778,
              "#fb9f3a"
             ],
             [
              0.8888888888888888,
              "#fdca26"
             ],
             [
              1.0,
              "#f0f921"
             ]
            ]
           }
          ],
          "mesh3d": [
           {
            "type": "mesh3d",
            "colorbar": {
             "outlinewidth": 0,
             "ticks": ""
            }
           }
          ],
          "scatter": [
           {
            "fillpattern": {
             "fillmode": "overlay",
             "size": 10,
             "solidity": 0.2
            },
            "type": "scatter"
           }
          ],
          "parcoords": [
           {
            "type": "parcoords",
            "line": {
             "colorbar": {
              "outlinewidth": 0,
              "ticks": ""
             }
            }
           }
          ],
          "scatterpolargl": [
           {
            "type": "scatterpolargl",
            "marker": {
             "colorbar": {
              "outlinewidth": 0,
              "ticks": ""
             }
            }
           }
          ],
          "bar": [
           {
            "error_x": {
             "color": "#2a3f5f"
            },
            "error_y": {
             "color": "#2a3f5f"
            },
            "marker": {
             "line": {
              "color": "#E5ECF6",
              "width": 0.5
             },
             "pattern": {
              "fillmode": "overlay",
              "size": 10,
              "solidity": 0.2
             }
            },
            "type": "bar"
           }
          ],
          "scattergeo": [
           {
            "type": "scattergeo",
            "marker": {
             "colorbar": {
              "outlinewidth": 0,
              "ticks": ""
             }
            }
           }
          ],
          "scatterpolar": [
           {
            "type": "scatterpolar",
            "marker": {
             "colorbar": {
              "outlinewidth": 0,
              "ticks": ""
             }
            }
           }
          ],
          "histogram": [
           {
            "marker": {
             "pattern": {
              "fillmode": "overlay",
              "size": 10,
              "solidity": 0.2
             }
            },
            "type": "histogram"
           }
          ],
          "scattergl": [
           {
            "type": "scattergl",
            "marker": {
             "colorbar": {
              "outlinewidth": 0,
              "ticks": ""
             }
            }
           }
          ],
          "scatter3d": [
           {
            "type": "scatter3d",
            "line": {
             "colorbar": {
              "outlinewidth": 0,
              "ticks": ""
             }
            },
            "marker": {
             "colorbar": {
              "outlinewidth": 0,
              "ticks": ""
             }
            }
           }
          ],
          "scattermapbox": [
           {
            "type": "scattermapbox",
            "marker": {
             "colorbar": {
              "outlinewidth": 0,
              "ticks": ""
             }
            }
           }
          ],
          "scatterternary": [
           {
            "type": "scatterternary",
            "marker": {
             "colorbar": {
              "outlinewidth": 0,
              "ticks": ""
             }
            }
           }
          ],
          "scattercarpet": [
           {
            "type": "scattercarpet",
            "marker": {
             "colorbar": {
              "outlinewidth": 0,
              "ticks": ""
             }
            }
           }
          ],
          "carpet": [
           {
            "aaxis": {
             "endlinecolor": "#2a3f5f",
             "gridcolor": "white",
             "linecolor": "white",
             "minorgridcolor": "white",
             "startlinecolor": "#2a3f5f"
            },
            "baxis": {
             "endlinecolor": "#2a3f5f",
             "gridcolor": "white",
             "linecolor": "white",
             "minorgridcolor": "white",
             "startlinecolor": "#2a3f5f"
            },
            "type": "carpet"
           }
          ],
          "table": [
           {
            "cells": {
             "fill": {
              "color": "#EBF0F8"
             },
             "line": {
              "color": "white"
             }
            },
            "header": {
             "fill": {
              "color": "#C8D4E3"
             },
             "line": {
              "color": "white"
             }
            },
            "type": "table"
           }
          ],
          "barpolar": [
           {
            "marker": {
             "line": {
              "color": "#E5ECF6",
              "width": 0.5
             },
             "pattern": {
              "fillmode": "overlay",
              "size": 10,
              "solidity": 0.2
             }
            },
            "type": "barpolar"
           }
          ],
          "pie": [
           {
            "automargin": true,
            "type": "pie"
           }
          ]
         },
         "layout": {
          "autotypenumbers": "strict",
          "colorway": [
           "#636efa",
           "#EF553B",
           "#00cc96",
           "#ab63fa",
           "#FFA15A",
           "#19d3f3",
           "#FF6692",
           "#B6E880",
           "#FF97FF",
           "#FECB52"
          ],
          "font": {
           "color": "#2a3f5f"
          },
          "hovermode": "closest",
          "hoverlabel": {
           "align": "left"
          },
          "paper_bgcolor": "white",
          "plot_bgcolor": "#E5ECF6",
          "polar": {
           "bgcolor": "#E5ECF6",
           "angularaxis": {
            "gridcolor": "white",
            "linecolor": "white",
            "ticks": ""
           },
           "radialaxis": {
            "gridcolor": "white",
            "linecolor": "white",
            "ticks": ""
           }
          },
          "ternary": {
           "bgcolor": "#E5ECF6",
           "aaxis": {
            "gridcolor": "white",
            "linecolor": "white",
            "ticks": ""
           },
           "baxis": {
            "gridcolor": "white",
            "linecolor": "white",
            "ticks": ""
           },
           "caxis": {
            "gridcolor": "white",
            "linecolor": "white",
            "ticks": ""
           }
          },
          "coloraxis": {
           "colorbar": {
            "outlinewidth": 0,
            "ticks": ""
           }
          },
          "colorscale": {
           "sequential": [
            [
             0.0,
             "#0d0887"
            ],
            [
             0.1111111111111111,
             "#46039f"
            ],
            [
             0.2222222222222222,
             "#7201a8"
            ],
            [
             0.3333333333333333,
             "#9c179e"
            ],
            [
             0.4444444444444444,
             "#bd3786"
            ],
            [
             0.5555555555555556,
             "#d8576b"
            ],
            [
             0.6666666666666666,
             "#ed7953"
            ],
            [
             0.7777777777777778,
             "#fb9f3a"
            ],
            [
             0.8888888888888888,
             "#fdca26"
            ],
            [
             1.0,
             "#f0f921"
            ]
           ],
           "sequentialminus": [
            [
             0.0,
             "#0d0887"
            ],
            [
             0.1111111111111111,
             "#46039f"
            ],
            [
             0.2222222222222222,
             "#7201a8"
            ],
            [
             0.3333333333333333,
             "#9c179e"
            ],
            [
             0.4444444444444444,
             "#bd3786"
            ],
            [
             0.5555555555555556,
             "#d8576b"
            ],
            [
             0.6666666666666666,
             "#ed7953"
            ],
            [
             0.7777777777777778,
             "#fb9f3a"
            ],
            [
             0.8888888888888888,
             "#fdca26"
            ],
            [
             1.0,
             "#f0f921"
            ]
           ],
           "diverging": [
            [
             0,
             "#8e0152"
            ],
            [
             0.1,
             "#c51b7d"
            ],
            [
             0.2,
             "#de77ae"
            ],
            [
             0.3,
             "#f1b6da"
            ],
            [
             0.4,
             "#fde0ef"
            ],
            [
             0.5,
             "#f7f7f7"
            ],
            [
             0.6,
             "#e6f5d0"
            ],
            [
             0.7,
             "#b8e186"
            ],
            [
             0.8,
             "#7fbc41"
            ],
            [
             0.9,
             "#4d9221"
            ],
            [
             1,
             "#276419"
            ]
           ]
          },
          "xaxis": {
           "gridcolor": "white",
           "linecolor": "white",
           "ticks": "",
           "title": {
            "standoff": 15
           },
           "zerolinecolor": "white",
           "automargin": true,
           "zerolinewidth": 2
          },
          "yaxis": {
           "gridcolor": "white",
           "linecolor": "white",
           "ticks": "",
           "title": {
            "standoff": 15
           },
           "zerolinecolor": "white",
           "automargin": true,
           "zerolinewidth": 2
          },
          "scene": {
           "xaxis": {
            "backgroundcolor": "#E5ECF6",
            "gridcolor": "white",
            "linecolor": "white",
            "showbackground": true,
            "ticks": "",
            "zerolinecolor": "white",
            "gridwidth": 2
           },
           "yaxis": {
            "backgroundcolor": "#E5ECF6",
            "gridcolor": "white",
            "linecolor": "white",
            "showbackground": true,
            "ticks": "",
            "zerolinecolor": "white",
            "gridwidth": 2
           },
           "zaxis": {
            "backgroundcolor": "#E5ECF6",
            "gridcolor": "white",
            "linecolor": "white",
            "showbackground": true,
            "ticks": "",
            "zerolinecolor": "white",
            "gridwidth": 2
           }
          },
          "shapedefaults": {
           "line": {
            "color": "#2a3f5f"
           }
          },
          "annotationdefaults": {
           "arrowcolor": "#2a3f5f",
           "arrowhead": 0,
           "arrowwidth": 1
          },
          "geo": {
           "bgcolor": "white",
           "landcolor": "#E5ECF6",
           "subunitcolor": "white",
           "showland": true,
           "showlakes": true,
           "lakecolor": "white"
          },
          "title": {
           "x": 0.05
          },
          "mapbox": {
           "style": "light"
          }
         }
        },
        "xaxis": {
         "anchor": "y",
         "domain": [
          0.0,
          1.0
         ],
         "title": {
          "text": "Year"
         }
        },
        "yaxis": {
         "anchor": "x",
         "domain": [
          0.0,
          1.0
         ],
         "title": {
          "text": "Sustainable Energy Generated"
         }
        },
        "legend": {
         "title": {
          "text": "Entity"
         },
         "tracegroupgap": 0
        },
        "margin": {
         "t": 60
        },
        "title": {
         "text": "total amount of sustainable energy generated per land area per year ( countries with the least emission)"
        }
       },
       "config": {
        "plotlyServerURL": "https://plot.ly"
       }
      },
      "text/html": "<div>                            <div id=\"8cd7008c-f09d-4aca-b425-8f27b5397fe5\" class=\"plotly-graph-div\" style=\"height:525px; width:100%;\"></div>            <script type=\"text/javascript\">                require([\"plotly\"], function(Plotly) {                    window.PLOTLYENV=window.PLOTLYENV || {};                                    if (document.getElementById(\"8cd7008c-f09d-4aca-b425-8f27b5397fe5\")) {                    Plotly.newPlot(                        \"8cd7008c-f09d-4aca-b425-8f27b5397fe5\",                        [{\"hovertemplate\":\"Entity=Central African Republic\\u003cbr\\u003eYear=%{x}\\u003cbr\\u003e0=%{y}\\u003cextra\\u003e\\u003c\\u002fextra\\u003e\",\"legendgroup\":\"Central African Republic\",\"line\":{\"color\":\"#636efa\",\"dash\":\"solid\"},\"marker\":{\"symbol\":\"circle\"},\"mode\":\"lines\",\"name\":\"Central African Republic\",\"orientation\":\"v\",\"showlegend\":true,\"x\":[2000,2001,2002,2003,2004,2005,2006,2007,2008,2009,2010,2011,2012,2013,2014,2015,2016,2017,2018,2019,2020],\"xaxis\":\"x\",\"y\":[0.12841421288508212,0.12841421288508212,0.12841421288508212,0.12841421288508212,0.1926213193276232,0.20867309593825845,0.2247248725488937,0.2247248725488937,0.2247248725488937,0.2247248725488937,0.20867309593825845,0.24077664915952898,0.24077664915952898,0.2247248725488937,0.2728802023807995,0.2728802023807995,0.2728802023807995,0.24077664915952898,0.24077664915952898,0.24077664915952898,0.24077664915952898],\"yaxis\":\"y\",\"type\":\"scatter\"},{\"hovertemplate\":\"Entity=Chad\\u003cbr\\u003eYear=%{x}\\u003cbr\\u003e0=%{y}\\u003cextra\\u003e\\u003c\\u002fextra\\u003e\",\"legendgroup\":\"Chad\",\"line\":{\"color\":\"#EF553B\",\"dash\":\"solid\"},\"marker\":{\"symbol\":\"circle\"},\"mode\":\"lines\",\"name\":\"Chad\",\"orientation\":\"v\",\"showlegend\":true,\"x\":[2000,2001,2002,2003,2004,2005,2006,2007,2008,2009,2010,2011,2012,2013,2014,2015,2016,2017,2018,2019,2020],\"xaxis\":\"x\",\"y\":[0.00778816199376947,0.00778816199376947,0.00778816199376947,0.00778816199376947,0.00778816199376947,0.00778816199376947,0.00778816199376947,0.0,0.0,0.00778816199376947,0.00778816199376947,0.00778816199376947,0.0,0.0,0.0,0.0,0.00778816199376947,0.00778816199376947,0.00778816199376947,0.00778816199376947,0.00778816199376947],\"yaxis\":\"y\",\"type\":\"scatter\"},{\"hovertemplate\":\"Entity=Congo\\u003cbr\\u003eYear=%{x}\\u003cbr\\u003e0=%{y}\\u003cextra\\u003e\\u003c\\u002fextra\\u003e\",\"legendgroup\":\"Congo\",\"line\":{\"color\":\"#00cc96\",\"dash\":\"solid\"},\"marker\":{\"symbol\":\"circle\"},\"mode\":\"lines\",\"name\":\"Congo\",\"orientation\":\"v\",\"showlegend\":true,\"x\":[2000,2001,2002,2003,2004,2005,2006,2007,2008,2009,2010,2011,2012,2013,2014,2015,2016,2017,2018,2019,2020],\"xaxis\":\"x\",\"y\":[0.12364581188185088,0.14070040662417516,0.16628229873766154,0.15349135268091835,0.14922770399533727,0.1577550013664994,0.16628229873766154,0.1449640553097562,0.16628229873766154,0.15349135268091835,0.18760054216556685,0.3368282461609041,0.4263648685581065,0.41783757118694437,0.4093102738157822,0.4860559501562414,0.4988468962129846,0.528692437012052,0.49031959884182247,0.40078297644462013,0.4093102738157822],\"yaxis\":\"y\",\"type\":\"scatter\"},{\"hovertemplate\":\"Entity=Madagascar\\u003cbr\\u003eYear=%{x}\\u003cbr\\u003e0=%{y}\\u003cextra\\u003e\\u003c\\u002fextra\\u003e\",\"legendgroup\":\"Madagascar\",\"line\":{\"color\":\"#ab63fa\",\"dash\":\"solid\"},\"marker\":{\"symbol\":\"circle\"},\"mode\":\"lines\",\"name\":\"Madagascar\",\"orientation\":\"v\",\"showlegend\":true,\"x\":[2000,2001,2002,2003,2004,2005,2006,2007,2008,2009,2010,2011,2012,2013,2014,2015,2016,2017,2018,2019,2020],\"xaxis\":\"x\",\"y\":[0.9198676072029041,0.9028330218843318,0.9198676072029041,1.0220751191143378,1.0731788750700548,1.090213460388627,1.0731788750700548,1.2094555576186332,1.1753863869814885,1.2435247282557778,1.1924209723000607,1.1583518016629162,1.2775938988929223,1.3798014108043561,1.5160780933529345,1.6182856052643682,1.5331126786715068,1.3627668254857839,1.6693893612200852,1.550147263990079,1.1583518016629162],\"yaxis\":\"y\",\"type\":\"scatter\"},{\"hovertemplate\":\"Entity=Mali\\u003cbr\\u003eYear=%{x}\\u003cbr\\u003e0=%{y}\\u003cextra\\u003e\\u003c\\u002fextra\\u003e\",\"legendgroup\":\"Mali\",\"line\":{\"color\":\"#FFA15A\",\"dash\":\"solid\"},\"marker\":{\"symbol\":\"circle\"},\"mode\":\"lines\",\"name\":\"Mali\",\"orientation\":\"v\",\"showlegend\":true,\"x\":[2000,2001,2002,2003,2004,2005,2006,2007,2008,2009,2010,2011,2012,2013,2014,2015,2016,2017,2018,2019,2020],\"xaxis\":\"x\",\"y\":[0.20158169057694292,0.20158169057694292,0.20964495820002063,0.20964495820002063,0.22577149344617609,0.39510011353080815,0.427353184023119,0.41928991640004126,0.5079858602538961,0.5886185364846733,0.9514655795231706,0.9998451852616369,1.1046676643616473,0.9998451852616369,1.2175534110847352,1.0240349881308701,1.30624935493859,1.3304391578078234,1.2578697492001238,0.9434023119000929,0.9353390442770152],\"yaxis\":\"y\",\"type\":\"scatter\"},{\"hovertemplate\":\"Entity=Mauritania\\u003cbr\\u003eYear=%{x}\\u003cbr\\u003e0=%{y}\\u003cextra\\u003e\\u003c\\u002fextra\\u003e\",\"legendgroup\":\"Mauritania\",\"line\":{\"color\":\"#19d3f3\",\"dash\":\"solid\"},\"marker\":{\"symbol\":\"circle\"},\"mode\":\"lines\",\"name\":\"Mauritania\",\"orientation\":\"v\",\"showlegend\":true,\"x\":[2000,2001,2002,2003,2004,2005,2006,2007,2008,2009,2010,2011,2012,2013,2014,2015,2016,2017,2018,2019,2020],\"xaxis\":\"x\",\"y\":[0.02910643252158727,0.02910643252158727,0.02910643252158727,0.038808576695449695,0.038808576695449695,0.048510720869312116,0.048510720869312116,0.048510720869312116,0.05821286504317454,0.10672358591248667,0.11642573008634909,0.12612787426021152,0.13583001843407394,0.20374502765111088,0.21344717182497333,0.31046861356359756,0.2813621810420103,0.32017075773745995,0.4171921994760842,0.4462986319976715,0.46570292034539634],\"yaxis\":\"y\",\"type\":\"scatter\"},{\"hovertemplate\":\"Entity=Namibia\\u003cbr\\u003eYear=%{x}\\u003cbr\\u003e0=%{y}\\u003cextra\\u003e\\u003c\\u002fextra\\u003e\",\"legendgroup\":\"Namibia\",\"line\":{\"color\":\"#FF6692\",\"dash\":\"solid\"},\"marker\":{\"symbol\":\"circle\"},\"mode\":\"lines\",\"name\":\"Namibia\",\"orientation\":\"v\",\"showlegend\":true,\"x\":[2000,2001,2002,2003,2004,2005,2006,2007,2008,2009,2010,2011,2012,2013,2014,2015,2016,2017,2018,2019,2020],\"xaxis\":\"x\",\"y\":[1.6620323865814541,1.6499007633217355,1.7590853726592033,1.8197434889577966,1.9289280982952643,1.9895862145938574,1.9289280982952643,1.8925332285161083,1.7954802424383591,1.6862956331008914,1.5164529074648305,1.69842725636061,1.941059721554983,1.5528477772439864,1.8197434889577966,1.8561383587369524,1.7105588796203288,2.038112707632732,1.6862956331008914,1.6013742702828608,2.2928767960868237],\"yaxis\":\"y\",\"type\":\"scatter\"},{\"hovertemplate\":\"Entity=Niger\\u003cbr\\u003eYear=%{x}\\u003cbr\\u003e0=%{y}\\u003cextra\\u003e\\u003c\\u002fextra\\u003e\",\"legendgroup\":\"Niger\",\"line\":{\"color\":\"#B6E880\",\"dash\":\"solid\"},\"marker\":{\"symbol\":\"circle\"},\"mode\":\"lines\",\"name\":\"Niger\",\"orientation\":\"v\",\"showlegend\":true,\"x\":[2000,2001,2002,2003,2004,2005,2006,2007,2008,2009,2010,2011,2012,2013,2014,2015,2016,2017,2018,2019,2020],\"xaxis\":\"x\",\"y\":[0.0,0.0,0.0,0.0,0.0,0.0,0.0,0.0,0.0,0.0,0.0,0.0,0.007892659826361484,0.007892659826361484,0.007892659826361484,0.007892659826361484,0.007892659826361484,0.007892659826361484,0.03946329913180742,0.03946329913180742,0.03946329913180742],\"yaxis\":\"y\",\"type\":\"scatter\"},{\"hovertemplate\":\"Entity=Somalia\\u003cbr\\u003eYear=%{x}\\u003cbr\\u003e0=%{y}\\u003cextra\\u003e\\u003c\\u002fextra\\u003e\",\"legendgroup\":\"Somalia\",\"line\":{\"color\":\"#FF97FF\",\"dash\":\"solid\"},\"marker\":{\"symbol\":\"circle\"},\"mode\":\"lines\",\"name\":\"Somalia\",\"orientation\":\"v\",\"showlegend\":true,\"x\":[2000,2001,2002,2003,2004,2005,2006,2007,2008,2009,2010,2011,2012,2013,2014,2015,2016,2017,2018,2019,2020],\"xaxis\":\"x\",\"y\":[0.0,0.0,0.0,0.0,0.0,0.0,0.0,0.0,0.0,0.0,0.0,0.0,0.0,0.0,0.0,0.0,0.015682412331394464,0.03136482466278893,0.03136482466278893,0.03136482466278893,0.047047236994183395],\"yaxis\":\"y\",\"type\":\"scatter\"},{\"hovertemplate\":\"Entity=Zambia\\u003cbr\\u003eYear=%{x}\\u003cbr\\u003e0=%{y}\\u003cextra\\u003e\\u003c\\u002fextra\\u003e\",\"legendgroup\":\"Zambia\",\"line\":{\"color\":\"#FECB52\",\"dash\":\"solid\"},\"marker\":{\"symbol\":\"circle\"},\"mode\":\"lines\",\"name\":\"Zambia\",\"orientation\":\"v\",\"showlegend\":true,\"x\":[2000,2001,2002,2003,2004,2005,2006,2007,2008,2009,2010,2011,2012,2013,2014,2015,2016,2017,2018,2019,2020],\"xaxis\":\"x\",\"y\":[10.217666864199368,10.403684206330436,10.669423266517674,10.868727561658105,11.147753574854708,11.692518648238549,12.728900982968783,12.675753170931335,12.556170593847078,13.03450090218411,13.76528331769902,15.147126430672666,16.289804389477798,17.5122040663391,18.615021166116144,17.273038912170584,14.5757874512701,16.794708603833552,18.4555777300038,16.768134697814826,17.405908442264202],\"yaxis\":\"y\",\"type\":\"scatter\"}],                        {\"template\":{\"data\":{\"histogram2dcontour\":[{\"type\":\"histogram2dcontour\",\"colorbar\":{\"outlinewidth\":0,\"ticks\":\"\"},\"colorscale\":[[0.0,\"#0d0887\"],[0.1111111111111111,\"#46039f\"],[0.2222222222222222,\"#7201a8\"],[0.3333333333333333,\"#9c179e\"],[0.4444444444444444,\"#bd3786\"],[0.5555555555555556,\"#d8576b\"],[0.6666666666666666,\"#ed7953\"],[0.7777777777777778,\"#fb9f3a\"],[0.8888888888888888,\"#fdca26\"],[1.0,\"#f0f921\"]]}],\"choropleth\":[{\"type\":\"choropleth\",\"colorbar\":{\"outlinewidth\":0,\"ticks\":\"\"}}],\"histogram2d\":[{\"type\":\"histogram2d\",\"colorbar\":{\"outlinewidth\":0,\"ticks\":\"\"},\"colorscale\":[[0.0,\"#0d0887\"],[0.1111111111111111,\"#46039f\"],[0.2222222222222222,\"#7201a8\"],[0.3333333333333333,\"#9c179e\"],[0.4444444444444444,\"#bd3786\"],[0.5555555555555556,\"#d8576b\"],[0.6666666666666666,\"#ed7953\"],[0.7777777777777778,\"#fb9f3a\"],[0.8888888888888888,\"#fdca26\"],[1.0,\"#f0f921\"]]}],\"heatmap\":[{\"type\":\"heatmap\",\"colorbar\":{\"outlinewidth\":0,\"ticks\":\"\"},\"colorscale\":[[0.0,\"#0d0887\"],[0.1111111111111111,\"#46039f\"],[0.2222222222222222,\"#7201a8\"],[0.3333333333333333,\"#9c179e\"],[0.4444444444444444,\"#bd3786\"],[0.5555555555555556,\"#d8576b\"],[0.6666666666666666,\"#ed7953\"],[0.7777777777777778,\"#fb9f3a\"],[0.8888888888888888,\"#fdca26\"],[1.0,\"#f0f921\"]]}],\"heatmapgl\":[{\"type\":\"heatmapgl\",\"colorbar\":{\"outlinewidth\":0,\"ticks\":\"\"},\"colorscale\":[[0.0,\"#0d0887\"],[0.1111111111111111,\"#46039f\"],[0.2222222222222222,\"#7201a8\"],[0.3333333333333333,\"#9c179e\"],[0.4444444444444444,\"#bd3786\"],[0.5555555555555556,\"#d8576b\"],[0.6666666666666666,\"#ed7953\"],[0.7777777777777778,\"#fb9f3a\"],[0.8888888888888888,\"#fdca26\"],[1.0,\"#f0f921\"]]}],\"contourcarpet\":[{\"type\":\"contourcarpet\",\"colorbar\":{\"outlinewidth\":0,\"ticks\":\"\"}}],\"contour\":[{\"type\":\"contour\",\"colorbar\":{\"outlinewidth\":0,\"ticks\":\"\"},\"colorscale\":[[0.0,\"#0d0887\"],[0.1111111111111111,\"#46039f\"],[0.2222222222222222,\"#7201a8\"],[0.3333333333333333,\"#9c179e\"],[0.4444444444444444,\"#bd3786\"],[0.5555555555555556,\"#d8576b\"],[0.6666666666666666,\"#ed7953\"],[0.7777777777777778,\"#fb9f3a\"],[0.8888888888888888,\"#fdca26\"],[1.0,\"#f0f921\"]]}],\"surface\":[{\"type\":\"surface\",\"colorbar\":{\"outlinewidth\":0,\"ticks\":\"\"},\"colorscale\":[[0.0,\"#0d0887\"],[0.1111111111111111,\"#46039f\"],[0.2222222222222222,\"#7201a8\"],[0.3333333333333333,\"#9c179e\"],[0.4444444444444444,\"#bd3786\"],[0.5555555555555556,\"#d8576b\"],[0.6666666666666666,\"#ed7953\"],[0.7777777777777778,\"#fb9f3a\"],[0.8888888888888888,\"#fdca26\"],[1.0,\"#f0f921\"]]}],\"mesh3d\":[{\"type\":\"mesh3d\",\"colorbar\":{\"outlinewidth\":0,\"ticks\":\"\"}}],\"scatter\":[{\"fillpattern\":{\"fillmode\":\"overlay\",\"size\":10,\"solidity\":0.2},\"type\":\"scatter\"}],\"parcoords\":[{\"type\":\"parcoords\",\"line\":{\"colorbar\":{\"outlinewidth\":0,\"ticks\":\"\"}}}],\"scatterpolargl\":[{\"type\":\"scatterpolargl\",\"marker\":{\"colorbar\":{\"outlinewidth\":0,\"ticks\":\"\"}}}],\"bar\":[{\"error_x\":{\"color\":\"#2a3f5f\"},\"error_y\":{\"color\":\"#2a3f5f\"},\"marker\":{\"line\":{\"color\":\"#E5ECF6\",\"width\":0.5},\"pattern\":{\"fillmode\":\"overlay\",\"size\":10,\"solidity\":0.2}},\"type\":\"bar\"}],\"scattergeo\":[{\"type\":\"scattergeo\",\"marker\":{\"colorbar\":{\"outlinewidth\":0,\"ticks\":\"\"}}}],\"scatterpolar\":[{\"type\":\"scatterpolar\",\"marker\":{\"colorbar\":{\"outlinewidth\":0,\"ticks\":\"\"}}}],\"histogram\":[{\"marker\":{\"pattern\":{\"fillmode\":\"overlay\",\"size\":10,\"solidity\":0.2}},\"type\":\"histogram\"}],\"scattergl\":[{\"type\":\"scattergl\",\"marker\":{\"colorbar\":{\"outlinewidth\":0,\"ticks\":\"\"}}}],\"scatter3d\":[{\"type\":\"scatter3d\",\"line\":{\"colorbar\":{\"outlinewidth\":0,\"ticks\":\"\"}},\"marker\":{\"colorbar\":{\"outlinewidth\":0,\"ticks\":\"\"}}}],\"scattermapbox\":[{\"type\":\"scattermapbox\",\"marker\":{\"colorbar\":{\"outlinewidth\":0,\"ticks\":\"\"}}}],\"scatterternary\":[{\"type\":\"scatterternary\",\"marker\":{\"colorbar\":{\"outlinewidth\":0,\"ticks\":\"\"}}}],\"scattercarpet\":[{\"type\":\"scattercarpet\",\"marker\":{\"colorbar\":{\"outlinewidth\":0,\"ticks\":\"\"}}}],\"carpet\":[{\"aaxis\":{\"endlinecolor\":\"#2a3f5f\",\"gridcolor\":\"white\",\"linecolor\":\"white\",\"minorgridcolor\":\"white\",\"startlinecolor\":\"#2a3f5f\"},\"baxis\":{\"endlinecolor\":\"#2a3f5f\",\"gridcolor\":\"white\",\"linecolor\":\"white\",\"minorgridcolor\":\"white\",\"startlinecolor\":\"#2a3f5f\"},\"type\":\"carpet\"}],\"table\":[{\"cells\":{\"fill\":{\"color\":\"#EBF0F8\"},\"line\":{\"color\":\"white\"}},\"header\":{\"fill\":{\"color\":\"#C8D4E3\"},\"line\":{\"color\":\"white\"}},\"type\":\"table\"}],\"barpolar\":[{\"marker\":{\"line\":{\"color\":\"#E5ECF6\",\"width\":0.5},\"pattern\":{\"fillmode\":\"overlay\",\"size\":10,\"solidity\":0.2}},\"type\":\"barpolar\"}],\"pie\":[{\"automargin\":true,\"type\":\"pie\"}]},\"layout\":{\"autotypenumbers\":\"strict\",\"colorway\":[\"#636efa\",\"#EF553B\",\"#00cc96\",\"#ab63fa\",\"#FFA15A\",\"#19d3f3\",\"#FF6692\",\"#B6E880\",\"#FF97FF\",\"#FECB52\"],\"font\":{\"color\":\"#2a3f5f\"},\"hovermode\":\"closest\",\"hoverlabel\":{\"align\":\"left\"},\"paper_bgcolor\":\"white\",\"plot_bgcolor\":\"#E5ECF6\",\"polar\":{\"bgcolor\":\"#E5ECF6\",\"angularaxis\":{\"gridcolor\":\"white\",\"linecolor\":\"white\",\"ticks\":\"\"},\"radialaxis\":{\"gridcolor\":\"white\",\"linecolor\":\"white\",\"ticks\":\"\"}},\"ternary\":{\"bgcolor\":\"#E5ECF6\",\"aaxis\":{\"gridcolor\":\"white\",\"linecolor\":\"white\",\"ticks\":\"\"},\"baxis\":{\"gridcolor\":\"white\",\"linecolor\":\"white\",\"ticks\":\"\"},\"caxis\":{\"gridcolor\":\"white\",\"linecolor\":\"white\",\"ticks\":\"\"}},\"coloraxis\":{\"colorbar\":{\"outlinewidth\":0,\"ticks\":\"\"}},\"colorscale\":{\"sequential\":[[0.0,\"#0d0887\"],[0.1111111111111111,\"#46039f\"],[0.2222222222222222,\"#7201a8\"],[0.3333333333333333,\"#9c179e\"],[0.4444444444444444,\"#bd3786\"],[0.5555555555555556,\"#d8576b\"],[0.6666666666666666,\"#ed7953\"],[0.7777777777777778,\"#fb9f3a\"],[0.8888888888888888,\"#fdca26\"],[1.0,\"#f0f921\"]],\"sequentialminus\":[[0.0,\"#0d0887\"],[0.1111111111111111,\"#46039f\"],[0.2222222222222222,\"#7201a8\"],[0.3333333333333333,\"#9c179e\"],[0.4444444444444444,\"#bd3786\"],[0.5555555555555556,\"#d8576b\"],[0.6666666666666666,\"#ed7953\"],[0.7777777777777778,\"#fb9f3a\"],[0.8888888888888888,\"#fdca26\"],[1.0,\"#f0f921\"]],\"diverging\":[[0,\"#8e0152\"],[0.1,\"#c51b7d\"],[0.2,\"#de77ae\"],[0.3,\"#f1b6da\"],[0.4,\"#fde0ef\"],[0.5,\"#f7f7f7\"],[0.6,\"#e6f5d0\"],[0.7,\"#b8e186\"],[0.8,\"#7fbc41\"],[0.9,\"#4d9221\"],[1,\"#276419\"]]},\"xaxis\":{\"gridcolor\":\"white\",\"linecolor\":\"white\",\"ticks\":\"\",\"title\":{\"standoff\":15},\"zerolinecolor\":\"white\",\"automargin\":true,\"zerolinewidth\":2},\"yaxis\":{\"gridcolor\":\"white\",\"linecolor\":\"white\",\"ticks\":\"\",\"title\":{\"standoff\":15},\"zerolinecolor\":\"white\",\"automargin\":true,\"zerolinewidth\":2},\"scene\":{\"xaxis\":{\"backgroundcolor\":\"#E5ECF6\",\"gridcolor\":\"white\",\"linecolor\":\"white\",\"showbackground\":true,\"ticks\":\"\",\"zerolinecolor\":\"white\",\"gridwidth\":2},\"yaxis\":{\"backgroundcolor\":\"#E5ECF6\",\"gridcolor\":\"white\",\"linecolor\":\"white\",\"showbackground\":true,\"ticks\":\"\",\"zerolinecolor\":\"white\",\"gridwidth\":2},\"zaxis\":{\"backgroundcolor\":\"#E5ECF6\",\"gridcolor\":\"white\",\"linecolor\":\"white\",\"showbackground\":true,\"ticks\":\"\",\"zerolinecolor\":\"white\",\"gridwidth\":2}},\"shapedefaults\":{\"line\":{\"color\":\"#2a3f5f\"}},\"annotationdefaults\":{\"arrowcolor\":\"#2a3f5f\",\"arrowhead\":0,\"arrowwidth\":1},\"geo\":{\"bgcolor\":\"white\",\"landcolor\":\"#E5ECF6\",\"subunitcolor\":\"white\",\"showland\":true,\"showlakes\":true,\"lakecolor\":\"white\"},\"title\":{\"x\":0.05},\"mapbox\":{\"style\":\"light\"}}},\"xaxis\":{\"anchor\":\"y\",\"domain\":[0.0,1.0],\"title\":{\"text\":\"Year\"}},\"yaxis\":{\"anchor\":\"x\",\"domain\":[0.0,1.0],\"title\":{\"text\":\"Sustainable Energy Generated\"}},\"legend\":{\"title\":{\"text\":\"Entity\"},\"tracegroupgap\":0},\"margin\":{\"t\":60},\"title\":{\"text\":\"total amount of sustainable energy generated per land area per year ( countries with the least emission)\"}},                        {\"responsive\": true}                    ).then(function(){\n                            \nvar gd = document.getElementById('8cd7008c-f09d-4aca-b425-8f27b5397fe5');\nvar x = new MutationObserver(function (mutations, observer) {{\n        var display = window.getComputedStyle(gd).display;\n        if (!display || display === 'none') {{\n            console.log([gd, 'removed!']);\n            Plotly.purge(gd);\n            observer.disconnect();\n        }}\n}});\n\n// Listen for the removal of the full notebook cells\nvar notebookContainer = gd.closest('#notebook-container');\nif (notebookContainer) {{\n    x.observe(notebookContainer, {childList: true});\n}}\n\n// Listen for the clearing of the current output cell\nvar outputEl = gd.closest('.output');\nif (outputEl) {{\n    x.observe(outputEl, {childList: true});\n}}\n\n                        })                };                });            </script>        </div>"
     },
     "metadata": {},
     "output_type": "display_data"
    }
   ],
   "source": [
    "import plotly.express as px\n",
    "\n",
    "df2 = px.data.gapminder().query(\"continent=='Oceania'\")\n",
    "fig2 = px.line(renewable_countries2, x=\"Year\", y= 0, color='Entity')\n",
    "fig2.update_layout(\n",
    "    title=  'total amount of sustainable energy generated per land area per year ( countries with the least emission)',\n",
    "    yaxis_title='Sustainable Energy Generated'\n",
    ")\n",
    "fig2.show()"
   ],
   "metadata": {
    "collapsed": false,
    "ExecuteTime": {
     "end_time": "2024-06-18T22:15:45.744672Z",
     "start_time": "2024-06-18T22:15:45.699803Z"
    }
   },
   "id": "3967dfd62341b9d4",
   "execution_count": 15
  },
  {
   "cell_type": "code",
   "outputs": [
    {
     "data": {
      "text/plain": "Item\nIPCC Agriculture                   2882\nLULUCF                             2303\nFarm-gate emissions                2181\nManure Management                  2052\nAgricultural Soils                 2003\nAll sectors with LULUCF            1855\nAll sectors without LULUCF         1826\nAgri-food systems                  1806\nBurning - Crop residues            1804\nPre- and post- production          1781\nAFOLU                              1678\nEmissions on agricultural land     1678\nLand Use change                    1658\nWaste - agri-food systems          1609\nOn-farm electricity use            1588\nOn-farm energy use                 1584\nSavanna fires                      1530\nFood Retail                        1499\nEnergy                             1498\nIPPU                               1473\nManure applied to Soils            1414\nFood Household Consumption         1414\nFood Processing                    1414\nForest fires                       1408\nFood Packaging                     1408\nWaste                              1392\nCrop Residues                      1391\nFires in humid tropical forests    1375\nFood Transport                     1374\nEnteric Fermentation               1290\nSynthetic Fertilizers              1260\nManure left on Pasture             1258\nFires in organic soils             1102\nDrained organic soils (N2O)         954\nOther                               845\nForestland                          660\nNet Forest conversion               644\nRice Cultivation                    591\nDrained organic soils (CO2)         578\nFertilizers Manufacturing           380\nDrained organic soils               319\nInternational bunkers                 6\nName: count, dtype: int64"
     },
     "execution_count": 12,
     "metadata": {},
     "output_type": "execute_result"
    }
   ],
   "source": [
    "import pandas as pd\n",
    "\n",
    "# Load datasets\n",
    "emissions_df = pd.read_csv('../totalEmissionsPerCountry2000-2020.csv')\n",
    "sustainable_energy_df = pd.read_csv('../globalDataOnSustainableEnergy2000-2020.csv')\n",
    "emissions_df['Item'].value_counts()\n"
   ],
   "metadata": {
    "collapsed": false,
    "ExecuteTime": {
     "end_time": "2024-06-18T21:50:51.643933Z",
     "start_time": "2024-06-18T21:50:51.550001Z"
    }
   },
   "id": "a85d7c712ab6baf7",
   "execution_count": 12
  },
  {
   "cell_type": "code",
   "outputs": [],
   "source": [],
   "metadata": {
    "collapsed": false,
    "ExecuteTime": {
     "end_time": "2024-06-18T21:50:51.646102Z",
     "start_time": "2024-06-18T21:50:51.644735Z"
    }
   },
   "id": "fe6761bf4bb15893",
   "execution_count": 12
  }
 ],
 "metadata": {
  "kernelspec": {
   "display_name": "Python 3",
   "language": "python",
   "name": "python3"
  },
  "language_info": {
   "codemirror_mode": {
    "name": "ipython",
    "version": 2
   },
   "file_extension": ".py",
   "mimetype": "text/x-python",
   "name": "python",
   "nbconvert_exporter": "python",
   "pygments_lexer": "ipython2",
   "version": "2.7.6"
  }
 },
 "nbformat": 4,
 "nbformat_minor": 5
}
