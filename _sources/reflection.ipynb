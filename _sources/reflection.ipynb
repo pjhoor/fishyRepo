{
 "cells": [
  {
   "cell_type": "markdown",
   "id": "088fd73c",
   "metadata": {},
   "source": [
    "# Reflection"
   ]
  },
  {
   "cell_type": "markdown",
   "id": "5718feaa",
   "metadata": {},
   "source": [
    "### Peer feedback & TA feedback\n",
    "For this datastory, our group received feedback from group L2 and our TA on June 20th. From the group L2 we mostly received compliments about the work\n",
    "so far and they were positive about the many graphs we had made already during the 2,5 week. The TA was also positive about the graphs, but gave us some \n",
    "points of improvement listed below.\n",
    "\n",
    "Feedback from the peer review and TA:\n",
    "\n",
    "- Not all data is shown when only the top 10 countries with the most and least emissions are shown in graphs. This data could be included when the bar plot of emissions \n",
    "could change based on the category the reader chooses.\n",
    "- The bar plot of all countries' emissions was divided by land area size, it could also be divided by the amount of citizens instead.\n",
    "- More substantiation of the seconds perspective by working out the text and get more data from visualizations.\n",
    "- Write small bullet points for every visualization, so that we get an overview of how it matches the story as a whole.\n",
    "- Make sure all the text in a graph is readable.\n",
    "\n",
    "We decided to apply the feedback to our datastory. The bar plot can now be categorised by the data of emissions, divided by land area or divided by citizens and shows\n",
    "all data. The second perspective has also been elaborated on and the story forms a whole. All the graphs should be readable and clear as well."
   ]
  },
  {
   "cell_type": "markdown",
   "id": "50a795bd",
   "metadata": {},
   "source": [
    "### Self-reflection\n",
    "..."
   ]
  }
 ],
 "metadata": {
  "kernelspec": {
   "display_name": "Python 3",
   "language": "python",
   "name": "python3"
  },
  "language_info": {
   "codemirror_mode": {
    "name": "ipython",
    "version": 2
   },
   "file_extension": ".py",
   "mimetype": "text/x-python",
   "name": "python",
   "nbconvert_exporter": "python",
   "pygments_lexer": "ipython2",
   "version": "2.7.6"
  }
 },
 "nbformat": 4,
 "nbformat_minor": 5
}
