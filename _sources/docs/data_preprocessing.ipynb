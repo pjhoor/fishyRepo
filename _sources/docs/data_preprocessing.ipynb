{
 "cells": [
  {
   "cell_type": "markdown",
   "metadata": {},
   "source": [
    "# Dataset and Preprocessing\n"
   ]
  },
  {
   "cell_type": "markdown",
   "metadata": {},
   "source": [
    "First of all, for the first two bar charts, we needed the total amount of CO2 emitted per country, for all years. To get this, we filtered our dataset \"Total Emissions Per Country (2000-2020)\" to only keep the relevant data. We specifically selected the CO2 emissions only, and we had to choose between the values: 'All sectors without LULUCF' and 'All sectors with LULUCF'. LULUCF stands for Land-Use Change and Forestry which includes the emissions that are released when cutting down forests, but also the emissions that are absorbed when planting forests. Which means that this LULUCF value can be negative. Eventually we settled on the data without LULUCF, because otherwise some countries would have negative CO2 emissions, which would be confusing to visualize.\n",
    "After that, we combined this data with the total surface area of each country from our \"Global Data on Sustainable Energy (2000-2020)\" dataset. Then we made new columns for each year, containing the relative emissions, which are the emissions divided by the country surface area (kilotonnes CO2/km^2).\n",
    "\n",
    "\n",
    "For our world heat map, we needed to normalize these relative emissions to turn them into values from 0 to 1, so we used these normalized values to assign colors from green to yellow to red to each country in our heat map."
   ]
  }
 ],
 "metadata": {
  "language_info": {
   "name": "python"
  }
 },
 "nbformat": 4,
 "nbformat_minor": 2
}
