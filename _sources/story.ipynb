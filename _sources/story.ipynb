{
 "cells": [
  {
   "cell_type": "markdown",
   "id": "10418a7c1d99dcd3",
   "metadata": {
    "collapsed": false,
    "tags": [
     "hide-input"
    ]
   },
   "source": [
    "# The correlation between sustainable energy and emissions"
   ]
  },
  {
   "cell_type": "markdown",
   "id": "63f3f049",
   "metadata": {
    "tags": [
     "hide-input"
    ]
   },
   "source": [
    "<head>\n",
    "    <style>\n",
    "        .scrollable-container {\n",
    "            max-width: 100%; /* Adjust based on your layout needs */\n",
    "            overflow-x: auto; /* Enables horizontal scrolling */\n",
    "            border: 2px solid #ccc; /* Optional: adds a border around the container */\n",
    "        }\n",
    "        .map-container {\n",
    "            width: 100%; /* Adjust based on your layout needs */\n",
    "            max-width: 600px;\n",
    "            overflow: hidden; /* Enables horizontal scrolling */\n",
    "        }\n",
    "        .map-container img{\n",
    "            width: 100%;\n",
    "            height: auto;\n",
    "            object-fit: contain;\n",
    "        }\n",
    "    </style>\n",
    "</head>"
   ]
  },
  {
   "cell_type": "markdown",
   "id": "60fd67cc",
   "metadata": {
    "tags": [
     "hide-input"
    ]
   },
   "source": [
    "<script>\n",
    "$$(document).ready(function(){\n",
    "    $$('.cell.tag_hide_input .input').hide();\n",
    "    $$('.cell.tag_hide_input').click(function(){\n",
    "        $$(this).find('.input').toggle();\n",
    "    });\n",
    "});\n",
    "</script>"
   ]
  },
  {
   "cell_type": "code",
   "execution_count": 29,
   "id": "initial_id",
   "metadata": {
    "ExecuteTime": {
     "end_time": "2024-06-27T11:25:50.832070Z",
     "start_time": "2024-06-27T11:25:50.830260Z"
    },
    "collapsed": true,
    "tags": [
     "hide-input"
    ]
   },
   "outputs": [],
   "source": [
    "import pandas as pd\n",
    "import plotly.graph_objs as go\n",
    "import plotly.express as px"
   ]
  },
  {
   "cell_type": "code",
   "execution_count": 30,
   "id": "d72a5f636708be17",
   "metadata": {
    "ExecuteTime": {
     "end_time": "2024-06-27T11:25:50.974206Z",
     "start_time": "2024-06-27T11:25:50.851936Z"
    },
    "collapsed": false,
    "tags": [
     "hide-input"
    ]
   },
   "outputs": [
    {
     "data": {
      "application/vnd.plotly.v1+json": {
       "config": {
        "plotlyServerURL": "https://plot.ly"
       },
       "data": [
        {
         "hovertemplate": "Year=%{x}<br>Emissions=%{y}<extra></extra>",
         "legendgroup": "",
         "line": {
          "color": "#636efa",
          "dash": "solid"
         },
         "marker": {
          "symbol": "circle"
         },
         "mode": "lines",
         "name": "",
         "orientation": "v",
         "showlegend": false,
         "type": "scatter",
         "x": [
          "2000",
          "2001",
          "2002",
          "2003",
          "2004",
          "2005",
          "2006",
          "2007",
          "2008",
          "2009",
          "2010",
          "2011",
          "2012",
          "2013",
          "2014",
          "2015",
          "2016",
          "2017",
          "2018",
          "2019",
          "2020"
         ],
         "xaxis": "x",
         "y": [
          23424334.21,
          23512793.09,
          23987483.05,
          25222996.95,
          26369950.87,
          27193383.96,
          28069688.39,
          28799530.69,
          29606156.16,
          29192133.23,
          30587887.21,
          31557127.62,
          32090033.73,
          32156466.48,
          32449355.86,
          32490001.51,
          32393671.9,
          32763273.07,
          33501528.76,
          33456374.38,
          31535618.6
         ],
         "yaxis": "y"
        }
       ],
       "layout": {
        "legend": {
         "tracegroupgap": 0
        },
        "margin": {
         "t": 60
        },
        "template": {
         "data": {
          "bar": [
           {
            "error_x": {
             "color": "#2a3f5f"
            },
            "error_y": {
             "color": "#2a3f5f"
            },
            "marker": {
             "line": {
              "color": "#E5ECF6",
              "width": 0.5
             },
             "pattern": {
              "fillmode": "overlay",
              "size": 10,
              "solidity": 0.2
             }
            },
            "type": "bar"
           }
          ],
          "barpolar": [
           {
            "marker": {
             "line": {
              "color": "#E5ECF6",
              "width": 0.5
             },
             "pattern": {
              "fillmode": "overlay",
              "size": 10,
              "solidity": 0.2
             }
            },
            "type": "barpolar"
           }
          ],
          "carpet": [
           {
            "aaxis": {
             "endlinecolor": "#2a3f5f",
             "gridcolor": "white",
             "linecolor": "white",
             "minorgridcolor": "white",
             "startlinecolor": "#2a3f5f"
            },
            "baxis": {
             "endlinecolor": "#2a3f5f",
             "gridcolor": "white",
             "linecolor": "white",
             "minorgridcolor": "white",
             "startlinecolor": "#2a3f5f"
            },
            "type": "carpet"
           }
          ],
          "choropleth": [
           {
            "colorbar": {
             "outlinewidth": 0,
             "ticks": ""
            },
            "type": "choropleth"
           }
          ],
          "contour": [
           {
            "colorbar": {
             "outlinewidth": 0,
             "ticks": ""
            },
            "colorscale": [
             [
              0,
              "#0d0887"
             ],
             [
              0.1111111111111111,
              "#46039f"
             ],
             [
              0.2222222222222222,
              "#7201a8"
             ],
             [
              0.3333333333333333,
              "#9c179e"
             ],
             [
              0.4444444444444444,
              "#bd3786"
             ],
             [
              0.5555555555555556,
              "#d8576b"
             ],
             [
              0.6666666666666666,
              "#ed7953"
             ],
             [
              0.7777777777777778,
              "#fb9f3a"
             ],
             [
              0.8888888888888888,
              "#fdca26"
             ],
             [
              1,
              "#f0f921"
             ]
            ],
            "type": "contour"
           }
          ],
          "contourcarpet": [
           {
            "colorbar": {
             "outlinewidth": 0,
             "ticks": ""
            },
            "type": "contourcarpet"
           }
          ],
          "heatmap": [
           {
            "colorbar": {
             "outlinewidth": 0,
             "ticks": ""
            },
            "colorscale": [
             [
              0,
              "#0d0887"
             ],
             [
              0.1111111111111111,
              "#46039f"
             ],
             [
              0.2222222222222222,
              "#7201a8"
             ],
             [
              0.3333333333333333,
              "#9c179e"
             ],
             [
              0.4444444444444444,
              "#bd3786"
             ],
             [
              0.5555555555555556,
              "#d8576b"
             ],
             [
              0.6666666666666666,
              "#ed7953"
             ],
             [
              0.7777777777777778,
              "#fb9f3a"
             ],
             [
              0.8888888888888888,
              "#fdca26"
             ],
             [
              1,
              "#f0f921"
             ]
            ],
            "type": "heatmap"
           }
          ],
          "heatmapgl": [
           {
            "colorbar": {
             "outlinewidth": 0,
             "ticks": ""
            },
            "colorscale": [
             [
              0,
              "#0d0887"
             ],
             [
              0.1111111111111111,
              "#46039f"
             ],
             [
              0.2222222222222222,
              "#7201a8"
             ],
             [
              0.3333333333333333,
              "#9c179e"
             ],
             [
              0.4444444444444444,
              "#bd3786"
             ],
             [
              0.5555555555555556,
              "#d8576b"
             ],
             [
              0.6666666666666666,
              "#ed7953"
             ],
             [
              0.7777777777777778,
              "#fb9f3a"
             ],
             [
              0.8888888888888888,
              "#fdca26"
             ],
             [
              1,
              "#f0f921"
             ]
            ],
            "type": "heatmapgl"
           }
          ],
          "histogram": [
           {
            "marker": {
             "pattern": {
              "fillmode": "overlay",
              "size": 10,
              "solidity": 0.2
             }
            },
            "type": "histogram"
           }
          ],
          "histogram2d": [
           {
            "colorbar": {
             "outlinewidth": 0,
             "ticks": ""
            },
            "colorscale": [
             [
              0,
              "#0d0887"
             ],
             [
              0.1111111111111111,
              "#46039f"
             ],
             [
              0.2222222222222222,
              "#7201a8"
             ],
             [
              0.3333333333333333,
              "#9c179e"
             ],
             [
              0.4444444444444444,
              "#bd3786"
             ],
             [
              0.5555555555555556,
              "#d8576b"
             ],
             [
              0.6666666666666666,
              "#ed7953"
             ],
             [
              0.7777777777777778,
              "#fb9f3a"
             ],
             [
              0.8888888888888888,
              "#fdca26"
             ],
             [
              1,
              "#f0f921"
             ]
            ],
            "type": "histogram2d"
           }
          ],
          "histogram2dcontour": [
           {
            "colorbar": {
             "outlinewidth": 0,
             "ticks": ""
            },
            "colorscale": [
             [
              0,
              "#0d0887"
             ],
             [
              0.1111111111111111,
              "#46039f"
             ],
             [
              0.2222222222222222,
              "#7201a8"
             ],
             [
              0.3333333333333333,
              "#9c179e"
             ],
             [
              0.4444444444444444,
              "#bd3786"
             ],
             [
              0.5555555555555556,
              "#d8576b"
             ],
             [
              0.6666666666666666,
              "#ed7953"
             ],
             [
              0.7777777777777778,
              "#fb9f3a"
             ],
             [
              0.8888888888888888,
              "#fdca26"
             ],
             [
              1,
              "#f0f921"
             ]
            ],
            "type": "histogram2dcontour"
           }
          ],
          "mesh3d": [
           {
            "colorbar": {
             "outlinewidth": 0,
             "ticks": ""
            },
            "type": "mesh3d"
           }
          ],
          "parcoords": [
           {
            "line": {
             "colorbar": {
              "outlinewidth": 0,
              "ticks": ""
             }
            },
            "type": "parcoords"
           }
          ],
          "pie": [
           {
            "automargin": true,
            "type": "pie"
           }
          ],
          "scatter": [
           {
            "fillpattern": {
             "fillmode": "overlay",
             "size": 10,
             "solidity": 0.2
            },
            "type": "scatter"
           }
          ],
          "scatter3d": [
           {
            "line": {
             "colorbar": {
              "outlinewidth": 0,
              "ticks": ""
             }
            },
            "marker": {
             "colorbar": {
              "outlinewidth": 0,
              "ticks": ""
             }
            },
            "type": "scatter3d"
           }
          ],
          "scattercarpet": [
           {
            "marker": {
             "colorbar": {
              "outlinewidth": 0,
              "ticks": ""
             }
            },
            "type": "scattercarpet"
           }
          ],
          "scattergeo": [
           {
            "marker": {
             "colorbar": {
              "outlinewidth": 0,
              "ticks": ""
             }
            },
            "type": "scattergeo"
           }
          ],
          "scattergl": [
           {
            "marker": {
             "colorbar": {
              "outlinewidth": 0,
              "ticks": ""
             }
            },
            "type": "scattergl"
           }
          ],
          "scattermapbox": [
           {
            "marker": {
             "colorbar": {
              "outlinewidth": 0,
              "ticks": ""
             }
            },
            "type": "scattermapbox"
           }
          ],
          "scatterpolar": [
           {
            "marker": {
             "colorbar": {
              "outlinewidth": 0,
              "ticks": ""
             }
            },
            "type": "scatterpolar"
           }
          ],
          "scatterpolargl": [
           {
            "marker": {
             "colorbar": {
              "outlinewidth": 0,
              "ticks": ""
             }
            },
            "type": "scatterpolargl"
           }
          ],
          "scatterternary": [
           {
            "marker": {
             "colorbar": {
              "outlinewidth": 0,
              "ticks": ""
             }
            },
            "type": "scatterternary"
           }
          ],
          "surface": [
           {
            "colorbar": {
             "outlinewidth": 0,
             "ticks": ""
            },
            "colorscale": [
             [
              0,
              "#0d0887"
             ],
             [
              0.1111111111111111,
              "#46039f"
             ],
             [
              0.2222222222222222,
              "#7201a8"
             ],
             [
              0.3333333333333333,
              "#9c179e"
             ],
             [
              0.4444444444444444,
              "#bd3786"
             ],
             [
              0.5555555555555556,
              "#d8576b"
             ],
             [
              0.6666666666666666,
              "#ed7953"
             ],
             [
              0.7777777777777778,
              "#fb9f3a"
             ],
             [
              0.8888888888888888,
              "#fdca26"
             ],
             [
              1,
              "#f0f921"
             ]
            ],
            "type": "surface"
           }
          ],
          "table": [
           {
            "cells": {
             "fill": {
              "color": "#EBF0F8"
             },
             "line": {
              "color": "white"
             }
            },
            "header": {
             "fill": {
              "color": "#C8D4E3"
             },
             "line": {
              "color": "white"
             }
            },
            "type": "table"
           }
          ]
         },
         "layout": {
          "annotationdefaults": {
           "arrowcolor": "#2a3f5f",
           "arrowhead": 0,
           "arrowwidth": 1
          },
          "autotypenumbers": "strict",
          "coloraxis": {
           "colorbar": {
            "outlinewidth": 0,
            "ticks": ""
           }
          },
          "colorscale": {
           "diverging": [
            [
             0,
             "#8e0152"
            ],
            [
             0.1,
             "#c51b7d"
            ],
            [
             0.2,
             "#de77ae"
            ],
            [
             0.3,
             "#f1b6da"
            ],
            [
             0.4,
             "#fde0ef"
            ],
            [
             0.5,
             "#f7f7f7"
            ],
            [
             0.6,
             "#e6f5d0"
            ],
            [
             0.7,
             "#b8e186"
            ],
            [
             0.8,
             "#7fbc41"
            ],
            [
             0.9,
             "#4d9221"
            ],
            [
             1,
             "#276419"
            ]
           ],
           "sequential": [
            [
             0,
             "#0d0887"
            ],
            [
             0.1111111111111111,
             "#46039f"
            ],
            [
             0.2222222222222222,
             "#7201a8"
            ],
            [
             0.3333333333333333,
             "#9c179e"
            ],
            [
             0.4444444444444444,
             "#bd3786"
            ],
            [
             0.5555555555555556,
             "#d8576b"
            ],
            [
             0.6666666666666666,
             "#ed7953"
            ],
            [
             0.7777777777777778,
             "#fb9f3a"
            ],
            [
             0.8888888888888888,
             "#fdca26"
            ],
            [
             1,
             "#f0f921"
            ]
           ],
           "sequentialminus": [
            [
             0,
             "#0d0887"
            ],
            [
             0.1111111111111111,
             "#46039f"
            ],
            [
             0.2222222222222222,
             "#7201a8"
            ],
            [
             0.3333333333333333,
             "#9c179e"
            ],
            [
             0.4444444444444444,
             "#bd3786"
            ],
            [
             0.5555555555555556,
             "#d8576b"
            ],
            [
             0.6666666666666666,
             "#ed7953"
            ],
            [
             0.7777777777777778,
             "#fb9f3a"
            ],
            [
             0.8888888888888888,
             "#fdca26"
            ],
            [
             1,
             "#f0f921"
            ]
           ]
          },
          "colorway": [
           "#636efa",
           "#EF553B",
           "#00cc96",
           "#ab63fa",
           "#FFA15A",
           "#19d3f3",
           "#FF6692",
           "#B6E880",
           "#FF97FF",
           "#FECB52"
          ],
          "font": {
           "color": "#2a3f5f"
          },
          "geo": {
           "bgcolor": "white",
           "lakecolor": "white",
           "landcolor": "#E5ECF6",
           "showlakes": true,
           "showland": true,
           "subunitcolor": "white"
          },
          "hoverlabel": {
           "align": "left"
          },
          "hovermode": "closest",
          "mapbox": {
           "style": "light"
          },
          "paper_bgcolor": "white",
          "plot_bgcolor": "#E5ECF6",
          "polar": {
           "angularaxis": {
            "gridcolor": "white",
            "linecolor": "white",
            "ticks": ""
           },
           "bgcolor": "#E5ECF6",
           "radialaxis": {
            "gridcolor": "white",
            "linecolor": "white",
            "ticks": ""
           }
          },
          "scene": {
           "xaxis": {
            "backgroundcolor": "#E5ECF6",
            "gridcolor": "white",
            "gridwidth": 2,
            "linecolor": "white",
            "showbackground": true,
            "ticks": "",
            "zerolinecolor": "white"
           },
           "yaxis": {
            "backgroundcolor": "#E5ECF6",
            "gridcolor": "white",
            "gridwidth": 2,
            "linecolor": "white",
            "showbackground": true,
            "ticks": "",
            "zerolinecolor": "white"
           },
           "zaxis": {
            "backgroundcolor": "#E5ECF6",
            "gridcolor": "white",
            "gridwidth": 2,
            "linecolor": "white",
            "showbackground": true,
            "ticks": "",
            "zerolinecolor": "white"
           }
          },
          "shapedefaults": {
           "line": {
            "color": "#2a3f5f"
           }
          },
          "ternary": {
           "aaxis": {
            "gridcolor": "white",
            "linecolor": "white",
            "ticks": ""
           },
           "baxis": {
            "gridcolor": "white",
            "linecolor": "white",
            "ticks": ""
           },
           "bgcolor": "#E5ECF6",
           "caxis": {
            "gridcolor": "white",
            "linecolor": "white",
            "ticks": ""
           }
          },
          "title": {
           "x": 0.05
          },
          "xaxis": {
           "automargin": true,
           "gridcolor": "white",
           "linecolor": "white",
           "ticks": "",
           "title": {
            "standoff": 15
           },
           "zerolinecolor": "white",
           "zerolinewidth": 2
          },
          "yaxis": {
           "automargin": true,
           "gridcolor": "white",
           "linecolor": "white",
           "ticks": "",
           "title": {
            "standoff": 15
           },
           "zerolinecolor": "white",
           "zerolinewidth": 2
          }
         }
        },
        "title": {
         "text": "CO2 Emissions worldwide from 2000 to 2020"
        },
        "xaxis": {
         "anchor": "y",
         "domain": [
          0,
          1
         ],
         "title": {
          "text": "Year"
         }
        },
        "yaxis": {
         "anchor": "x",
         "domain": [
          0,
          1
         ],
         "title": {
          "text": "CO2 Emissions (in Kilotonnes)"
         }
        }
       }
      }
     },
     "metadata": {},
     "output_type": "display_data"
    }
   ],
   "source": [
    "#px.bar(df.where(df['Area'] == 'World' ),x = 'Area', y = '2000')\n",
    "df: pd.DataFrame = pd.read_csv('../datasets/emissions.csv')\n",
    "where = df.where((df['Area'] == 'World') & (df['Element'] == 'Emissions (CO2)') &  (df['Item'] == 'Energy')).dropna().transpose()[4:].reset_index().rename(columns={'index': 'Year', 50837: 'Emissions'})\n",
    "fig = px.line(where, x='Year', y='Emissions')\n",
    "fig.update_layout(title='CO2 Emissions worldwide from 2000 to 2020', xaxis_title='Year', yaxis_title='CO2 Emissions (in Kilotonnes)')\n",
    "fig.show()"
   ]
  },
  {
   "cell_type": "markdown",
   "id": "bf189e1b",
   "metadata": {
    "tags": [
     "hide-input"
    ]
   },
   "source": [
    "> *Figure 1: Shows the total CO2 emissions of the entire world from 2000 to 2020.*"
   ]
  },
  {
   "cell_type": "markdown",
   "id": "09b5e159",
   "metadata": {
    "tags": [
     "hide-input"
    ]
   },
   "source": [
    "TEST 2\n",
    "\n",
    "Global warming has become one of the most urgent issues of our time. Over the past two years there has been a notable increase in CO2 emissions.  The graph above represents the emissions of CO2 over the years 2000 till 2020, indicating the worrying increase of CO2 emissions and only a small decrease of emissions towards 2020. This underlines the immediate need to implement sustainability to reduce carbon footprints. But is sustainability really that helpful? \n",
    "\n",
    "In this datastory we will be looking at two different aspects, regarding the relationship between emissions and sustainability. We will be comparing the emissions and sustainability of different countries, and how they have changed over the years. This way we can see the significance sustainability has had on global warming."
   ]
  },
  {
   "cell_type": "markdown",
   "id": "8974af6c",
   "metadata": {
    "tags": [
     "hide-input"
    ]
   },
   "source": [
    "## The First Perspective"
   ]
  },
  {
   "cell_type": "markdown",
   "id": "08cefcd9",
   "metadata": {
    "tags": [
     "hide-input"
    ]
   },
   "source": [
    "The different kinds of sustainable energy per country affect the emissions in that country so that there are less emissions. It wins back renewable energy in a sustainable way so that there is less need to obtain energy causing bad emissions. So there will be a positive correlation between sustainable energy and lessening the emissions per country."
   ]
  },
  {
   "cell_type": "markdown",
   "id": "4e23c1ad",
   "metadata": {
    "tags": [
     "hide-input"
    ]
   },
   "source": [
    "### The First Argument of Your First Perspective"
   ]
  },
  {
   "cell_type": "code",
   "execution_count": 31,
   "id": "f911f396",
   "metadata": {
    "ExecuteTime": {
     "end_time": "2024-06-27T11:25:50.993938Z",
     "start_time": "2024-06-27T11:25:50.975358Z"
    },
    "tags": [
     "hide-input"
    ]
   },
   "outputs": [
    {
     "data": {
      "application/vnd.plotly.v1+json": {
       "config": {
        "plotlyServerURL": "https://plot.ly"
       },
       "data": [
        {
         "name": "Fossil Fuels",
         "text": [
          0.12,
          0,
          0.28,
          2.87,
          2.04,
          1.29,
          0.06,
          0.38,
          0.35,
          2
         ],
         "type": "bar",
         "x": [
          "Afghanistan",
          "Central African Republic",
          "Chad",
          "Congo",
          "Mali",
          "Mauritania",
          "Namibia",
          "Niger",
          "Somalia",
          "Zambia"
         ],
         "y": [
          0.12,
          0,
          0.28,
          2.87,
          2.04,
          1.29,
          0.06,
          0.38,
          0.35,
          2
         ]
        },
        {
         "name": "Nuclear",
         "text": [
          0,
          0,
          0,
          0,
          0,
          0,
          0,
          0,
          0,
          0
         ],
         "type": "bar",
         "x": [
          "Afghanistan",
          "Central African Republic",
          "Chad",
          "Congo",
          "Mali",
          "Mauritania",
          "Namibia",
          "Niger",
          "Somalia",
          "Zambia"
         ],
         "y": [
          0,
          0,
          0,
          0,
          0,
          0,
          0,
          0,
          0,
          0
         ]
        },
        {
         "name": "Renewables",
         "text": [
          0.68,
          0.15,
          0.01,
          0.96,
          1.16,
          0.48,
          1.89,
          0.05,
          0.03,
          13.1
         ],
         "type": "bar",
         "x": [
          "Afghanistan",
          "Central African Republic",
          "Chad",
          "Congo",
          "Mali",
          "Mauritania",
          "Namibia",
          "Niger",
          "Somalia",
          "Zambia"
         ],
         "y": [
          0.68,
          0.15,
          0.01,
          0.96,
          1.16,
          0.48,
          1.89,
          0.05,
          0.03,
          13.1
         ]
        }
       ],
       "layout": {
        "barmode": "stack",
        "font": {
         "size": 14
        },
        "template": {
         "data": {
          "bar": [
           {
            "error_x": {
             "color": "#2a3f5f"
            },
            "error_y": {
             "color": "#2a3f5f"
            },
            "marker": {
             "line": {
              "color": "#E5ECF6",
              "width": 0.5
             },
             "pattern": {
              "fillmode": "overlay",
              "size": 10,
              "solidity": 0.2
             }
            },
            "type": "bar"
           }
          ],
          "barpolar": [
           {
            "marker": {
             "line": {
              "color": "#E5ECF6",
              "width": 0.5
             },
             "pattern": {
              "fillmode": "overlay",
              "size": 10,
              "solidity": 0.2
             }
            },
            "type": "barpolar"
           }
          ],
          "carpet": [
           {
            "aaxis": {
             "endlinecolor": "#2a3f5f",
             "gridcolor": "white",
             "linecolor": "white",
             "minorgridcolor": "white",
             "startlinecolor": "#2a3f5f"
            },
            "baxis": {
             "endlinecolor": "#2a3f5f",
             "gridcolor": "white",
             "linecolor": "white",
             "minorgridcolor": "white",
             "startlinecolor": "#2a3f5f"
            },
            "type": "carpet"
           }
          ],
          "choropleth": [
           {
            "colorbar": {
             "outlinewidth": 0,
             "ticks": ""
            },
            "type": "choropleth"
           }
          ],
          "contour": [
           {
            "colorbar": {
             "outlinewidth": 0,
             "ticks": ""
            },
            "colorscale": [
             [
              0,
              "#0d0887"
             ],
             [
              0.1111111111111111,
              "#46039f"
             ],
             [
              0.2222222222222222,
              "#7201a8"
             ],
             [
              0.3333333333333333,
              "#9c179e"
             ],
             [
              0.4444444444444444,
              "#bd3786"
             ],
             [
              0.5555555555555556,
              "#d8576b"
             ],
             [
              0.6666666666666666,
              "#ed7953"
             ],
             [
              0.7777777777777778,
              "#fb9f3a"
             ],
             [
              0.8888888888888888,
              "#fdca26"
             ],
             [
              1,
              "#f0f921"
             ]
            ],
            "type": "contour"
           }
          ],
          "contourcarpet": [
           {
            "colorbar": {
             "outlinewidth": 0,
             "ticks": ""
            },
            "type": "contourcarpet"
           }
          ],
          "heatmap": [
           {
            "colorbar": {
             "outlinewidth": 0,
             "ticks": ""
            },
            "colorscale": [
             [
              0,
              "#0d0887"
             ],
             [
              0.1111111111111111,
              "#46039f"
             ],
             [
              0.2222222222222222,
              "#7201a8"
             ],
             [
              0.3333333333333333,
              "#9c179e"
             ],
             [
              0.4444444444444444,
              "#bd3786"
             ],
             [
              0.5555555555555556,
              "#d8576b"
             ],
             [
              0.6666666666666666,
              "#ed7953"
             ],
             [
              0.7777777777777778,
              "#fb9f3a"
             ],
             [
              0.8888888888888888,
              "#fdca26"
             ],
             [
              1,
              "#f0f921"
             ]
            ],
            "type": "heatmap"
           }
          ],
          "heatmapgl": [
           {
            "colorbar": {
             "outlinewidth": 0,
             "ticks": ""
            },
            "colorscale": [
             [
              0,
              "#0d0887"
             ],
             [
              0.1111111111111111,
              "#46039f"
             ],
             [
              0.2222222222222222,
              "#7201a8"
             ],
             [
              0.3333333333333333,
              "#9c179e"
             ],
             [
              0.4444444444444444,
              "#bd3786"
             ],
             [
              0.5555555555555556,
              "#d8576b"
             ],
             [
              0.6666666666666666,
              "#ed7953"
             ],
             [
              0.7777777777777778,
              "#fb9f3a"
             ],
             [
              0.8888888888888888,
              "#fdca26"
             ],
             [
              1,
              "#f0f921"
             ]
            ],
            "type": "heatmapgl"
           }
          ],
          "histogram": [
           {
            "marker": {
             "pattern": {
              "fillmode": "overlay",
              "size": 10,
              "solidity": 0.2
             }
            },
            "type": "histogram"
           }
          ],
          "histogram2d": [
           {
            "colorbar": {
             "outlinewidth": 0,
             "ticks": ""
            },
            "colorscale": [
             [
              0,
              "#0d0887"
             ],
             [
              0.1111111111111111,
              "#46039f"
             ],
             [
              0.2222222222222222,
              "#7201a8"
             ],
             [
              0.3333333333333333,
              "#9c179e"
             ],
             [
              0.4444444444444444,
              "#bd3786"
             ],
             [
              0.5555555555555556,
              "#d8576b"
             ],
             [
              0.6666666666666666,
              "#ed7953"
             ],
             [
              0.7777777777777778,
              "#fb9f3a"
             ],
             [
              0.8888888888888888,
              "#fdca26"
             ],
             [
              1,
              "#f0f921"
             ]
            ],
            "type": "histogram2d"
           }
          ],
          "histogram2dcontour": [
           {
            "colorbar": {
             "outlinewidth": 0,
             "ticks": ""
            },
            "colorscale": [
             [
              0,
              "#0d0887"
             ],
             [
              0.1111111111111111,
              "#46039f"
             ],
             [
              0.2222222222222222,
              "#7201a8"
             ],
             [
              0.3333333333333333,
              "#9c179e"
             ],
             [
              0.4444444444444444,
              "#bd3786"
             ],
             [
              0.5555555555555556,
              "#d8576b"
             ],
             [
              0.6666666666666666,
              "#ed7953"
             ],
             [
              0.7777777777777778,
              "#fb9f3a"
             ],
             [
              0.8888888888888888,
              "#fdca26"
             ],
             [
              1,
              "#f0f921"
             ]
            ],
            "type": "histogram2dcontour"
           }
          ],
          "mesh3d": [
           {
            "colorbar": {
             "outlinewidth": 0,
             "ticks": ""
            },
            "type": "mesh3d"
           }
          ],
          "parcoords": [
           {
            "line": {
             "colorbar": {
              "outlinewidth": 0,
              "ticks": ""
             }
            },
            "type": "parcoords"
           }
          ],
          "pie": [
           {
            "automargin": true,
            "type": "pie"
           }
          ],
          "scatter": [
           {
            "fillpattern": {
             "fillmode": "overlay",
             "size": 10,
             "solidity": 0.2
            },
            "type": "scatter"
           }
          ],
          "scatter3d": [
           {
            "line": {
             "colorbar": {
              "outlinewidth": 0,
              "ticks": ""
             }
            },
            "marker": {
             "colorbar": {
              "outlinewidth": 0,
              "ticks": ""
             }
            },
            "type": "scatter3d"
           }
          ],
          "scattercarpet": [
           {
            "marker": {
             "colorbar": {
              "outlinewidth": 0,
              "ticks": ""
             }
            },
            "type": "scattercarpet"
           }
          ],
          "scattergeo": [
           {
            "marker": {
             "colorbar": {
              "outlinewidth": 0,
              "ticks": ""
             }
            },
            "type": "scattergeo"
           }
          ],
          "scattergl": [
           {
            "marker": {
             "colorbar": {
              "outlinewidth": 0,
              "ticks": ""
             }
            },
            "type": "scattergl"
           }
          ],
          "scattermapbox": [
           {
            "marker": {
             "colorbar": {
              "outlinewidth": 0,
              "ticks": ""
             }
            },
            "type": "scattermapbox"
           }
          ],
          "scatterpolar": [
           {
            "marker": {
             "colorbar": {
              "outlinewidth": 0,
              "ticks": ""
             }
            },
            "type": "scatterpolar"
           }
          ],
          "scatterpolargl": [
           {
            "marker": {
             "colorbar": {
              "outlinewidth": 0,
              "ticks": ""
             }
            },
            "type": "scatterpolargl"
           }
          ],
          "scatterternary": [
           {
            "marker": {
             "colorbar": {
              "outlinewidth": 0,
              "ticks": ""
             }
            },
            "type": "scatterternary"
           }
          ],
          "surface": [
           {
            "colorbar": {
             "outlinewidth": 0,
             "ticks": ""
            },
            "colorscale": [
             [
              0,
              "#0d0887"
             ],
             [
              0.1111111111111111,
              "#46039f"
             ],
             [
              0.2222222222222222,
              "#7201a8"
             ],
             [
              0.3333333333333333,
              "#9c179e"
             ],
             [
              0.4444444444444444,
              "#bd3786"
             ],
             [
              0.5555555555555556,
              "#d8576b"
             ],
             [
              0.6666666666666666,
              "#ed7953"
             ],
             [
              0.7777777777777778,
              "#fb9f3a"
             ],
             [
              0.8888888888888888,
              "#fdca26"
             ],
             [
              1,
              "#f0f921"
             ]
            ],
            "type": "surface"
           }
          ],
          "table": [
           {
            "cells": {
             "fill": {
              "color": "#EBF0F8"
             },
             "line": {
              "color": "white"
             }
            },
            "header": {
             "fill": {
              "color": "#C8D4E3"
             },
             "line": {
              "color": "white"
             }
            },
            "type": "table"
           }
          ]
         },
         "layout": {
          "annotationdefaults": {
           "arrowcolor": "#2a3f5f",
           "arrowhead": 0,
           "arrowwidth": 1
          },
          "autotypenumbers": "strict",
          "coloraxis": {
           "colorbar": {
            "outlinewidth": 0,
            "ticks": ""
           }
          },
          "colorscale": {
           "diverging": [
            [
             0,
             "#8e0152"
            ],
            [
             0.1,
             "#c51b7d"
            ],
            [
             0.2,
             "#de77ae"
            ],
            [
             0.3,
             "#f1b6da"
            ],
            [
             0.4,
             "#fde0ef"
            ],
            [
             0.5,
             "#f7f7f7"
            ],
            [
             0.6,
             "#e6f5d0"
            ],
            [
             0.7,
             "#b8e186"
            ],
            [
             0.8,
             "#7fbc41"
            ],
            [
             0.9,
             "#4d9221"
            ],
            [
             1,
             "#276419"
            ]
           ],
           "sequential": [
            [
             0,
             "#0d0887"
            ],
            [
             0.1111111111111111,
             "#46039f"
            ],
            [
             0.2222222222222222,
             "#7201a8"
            ],
            [
             0.3333333333333333,
             "#9c179e"
            ],
            [
             0.4444444444444444,
             "#bd3786"
            ],
            [
             0.5555555555555556,
             "#d8576b"
            ],
            [
             0.6666666666666666,
             "#ed7953"
            ],
            [
             0.7777777777777778,
             "#fb9f3a"
            ],
            [
             0.8888888888888888,
             "#fdca26"
            ],
            [
             1,
             "#f0f921"
            ]
           ],
           "sequentialminus": [
            [
             0,
             "#0d0887"
            ],
            [
             0.1111111111111111,
             "#46039f"
            ],
            [
             0.2222222222222222,
             "#7201a8"
            ],
            [
             0.3333333333333333,
             "#9c179e"
            ],
            [
             0.4444444444444444,
             "#bd3786"
            ],
            [
             0.5555555555555556,
             "#d8576b"
            ],
            [
             0.6666666666666666,
             "#ed7953"
            ],
            [
             0.7777777777777778,
             "#fb9f3a"
            ],
            [
             0.8888888888888888,
             "#fdca26"
            ],
            [
             1,
             "#f0f921"
            ]
           ]
          },
          "colorway": [
           "#636efa",
           "#EF553B",
           "#00cc96",
           "#ab63fa",
           "#FFA15A",
           "#19d3f3",
           "#FF6692",
           "#B6E880",
           "#FF97FF",
           "#FECB52"
          ],
          "font": {
           "color": "#2a3f5f"
          },
          "geo": {
           "bgcolor": "white",
           "lakecolor": "white",
           "landcolor": "#E5ECF6",
           "showlakes": true,
           "showland": true,
           "subunitcolor": "white"
          },
          "hoverlabel": {
           "align": "left"
          },
          "hovermode": "closest",
          "mapbox": {
           "style": "light"
          },
          "paper_bgcolor": "white",
          "plot_bgcolor": "#E5ECF6",
          "polar": {
           "angularaxis": {
            "gridcolor": "white",
            "linecolor": "white",
            "ticks": ""
           },
           "bgcolor": "#E5ECF6",
           "radialaxis": {
            "gridcolor": "white",
            "linecolor": "white",
            "ticks": ""
           }
          },
          "scene": {
           "xaxis": {
            "backgroundcolor": "#E5ECF6",
            "gridcolor": "white",
            "gridwidth": 2,
            "linecolor": "white",
            "showbackground": true,
            "ticks": "",
            "zerolinecolor": "white"
           },
           "yaxis": {
            "backgroundcolor": "#E5ECF6",
            "gridcolor": "white",
            "gridwidth": 2,
            "linecolor": "white",
            "showbackground": true,
            "ticks": "",
            "zerolinecolor": "white"
           },
           "zaxis": {
            "backgroundcolor": "#E5ECF6",
            "gridcolor": "white",
            "gridwidth": 2,
            "linecolor": "white",
            "showbackground": true,
            "ticks": "",
            "zerolinecolor": "white"
           }
          },
          "shapedefaults": {
           "line": {
            "color": "#2a3f5f"
           }
          },
          "ternary": {
           "aaxis": {
            "gridcolor": "white",
            "linecolor": "white",
            "ticks": ""
           },
           "baxis": {
            "gridcolor": "white",
            "linecolor": "white",
            "ticks": ""
           },
           "bgcolor": "#E5ECF6",
           "caxis": {
            "gridcolor": "white",
            "linecolor": "white",
            "ticks": ""
           }
          },
          "title": {
           "x": 0.05
          },
          "xaxis": {
           "automargin": true,
           "gridcolor": "white",
           "linecolor": "white",
           "ticks": "",
           "title": {
            "standoff": 15
           },
           "zerolinecolor": "white",
           "zerolinewidth": 2
          },
          "yaxis": {
           "automargin": true,
           "gridcolor": "white",
           "linecolor": "white",
           "ticks": "",
           "title": {
            "standoff": 15
           },
           "zerolinecolor": "white",
           "zerolinewidth": 2
          }
         }
        },
        "title": {
         "text": "Electricity from sources (in TWh) of top 10 countries with least emissions in 2020"
        }
       }
      }
     },
     "metadata": {},
     "output_type": "display_data"
    },
    {
     "data": {
      "application/vnd.plotly.v1+json": {
       "config": {
        "plotlyServerURL": "https://plot.ly"
       },
       "data": [
        {
         "name": "Fossil Fuels",
         "text": [
          0.73,
          29.85,
          30,
          66.89,
          0.25,
          1.9,
          85.95,
          44.63,
          50.04,
          8.2
         ],
         "type": "bar",
         "x": [
          "Aruba",
          "Bahrain",
          "Belgium",
          "Kuwait",
          "Luxembourg",
          "Malta",
          "Netherlands",
          "Qatar",
          "Singapore",
          "Trinidad and Tobago"
         ],
         "y": [
          0.73,
          29.85,
          30,
          66.89,
          0.25,
          1.9,
          85.95,
          44.63,
          50.04,
          8.2
         ]
        },
        {
         "name": "Nuclear",
         "text": [
          0,
          0,
          34.43,
          0,
          0,
          0,
          4.09,
          0,
          0,
          0
         ],
         "type": "bar",
         "x": [
          "Aruba",
          "Bahrain",
          "Belgium",
          "Kuwait",
          "Luxembourg",
          "Malta",
          "Netherlands",
          "Qatar",
          "Singapore",
          "Trinidad and Tobago"
         ],
         "y": [
          0,
          0,
          34.43,
          0,
          0,
          0,
          4.09,
          0,
          0,
          0
         ]
        },
        {
         "name": "Renewables",
         "text": [
          0.15,
          0.01,
          23.46,
          0.05,
          0.97,
          0.25,
          32.75,
          0.02,
          0.83,
          0.01
         ],
         "type": "bar",
         "x": [
          "Aruba",
          "Bahrain",
          "Belgium",
          "Kuwait",
          "Luxembourg",
          "Malta",
          "Netherlands",
          "Qatar",
          "Singapore",
          "Trinidad and Tobago"
         ],
         "y": [
          0.15,
          0.01,
          23.46,
          0.05,
          0.97,
          0.25,
          32.75,
          0.02,
          0.83,
          0.01
         ]
        }
       ],
       "layout": {
        "barmode": "stack",
        "font": {
         "size": 14
        },
        "template": {
         "data": {
          "bar": [
           {
            "error_x": {
             "color": "#2a3f5f"
            },
            "error_y": {
             "color": "#2a3f5f"
            },
            "marker": {
             "line": {
              "color": "#E5ECF6",
              "width": 0.5
             },
             "pattern": {
              "fillmode": "overlay",
              "size": 10,
              "solidity": 0.2
             }
            },
            "type": "bar"
           }
          ],
          "barpolar": [
           {
            "marker": {
             "line": {
              "color": "#E5ECF6",
              "width": 0.5
             },
             "pattern": {
              "fillmode": "overlay",
              "size": 10,
              "solidity": 0.2
             }
            },
            "type": "barpolar"
           }
          ],
          "carpet": [
           {
            "aaxis": {
             "endlinecolor": "#2a3f5f",
             "gridcolor": "white",
             "linecolor": "white",
             "minorgridcolor": "white",
             "startlinecolor": "#2a3f5f"
            },
            "baxis": {
             "endlinecolor": "#2a3f5f",
             "gridcolor": "white",
             "linecolor": "white",
             "minorgridcolor": "white",
             "startlinecolor": "#2a3f5f"
            },
            "type": "carpet"
           }
          ],
          "choropleth": [
           {
            "colorbar": {
             "outlinewidth": 0,
             "ticks": ""
            },
            "type": "choropleth"
           }
          ],
          "contour": [
           {
            "colorbar": {
             "outlinewidth": 0,
             "ticks": ""
            },
            "colorscale": [
             [
              0,
              "#0d0887"
             ],
             [
              0.1111111111111111,
              "#46039f"
             ],
             [
              0.2222222222222222,
              "#7201a8"
             ],
             [
              0.3333333333333333,
              "#9c179e"
             ],
             [
              0.4444444444444444,
              "#bd3786"
             ],
             [
              0.5555555555555556,
              "#d8576b"
             ],
             [
              0.6666666666666666,
              "#ed7953"
             ],
             [
              0.7777777777777778,
              "#fb9f3a"
             ],
             [
              0.8888888888888888,
              "#fdca26"
             ],
             [
              1,
              "#f0f921"
             ]
            ],
            "type": "contour"
           }
          ],
          "contourcarpet": [
           {
            "colorbar": {
             "outlinewidth": 0,
             "ticks": ""
            },
            "type": "contourcarpet"
           }
          ],
          "heatmap": [
           {
            "colorbar": {
             "outlinewidth": 0,
             "ticks": ""
            },
            "colorscale": [
             [
              0,
              "#0d0887"
             ],
             [
              0.1111111111111111,
              "#46039f"
             ],
             [
              0.2222222222222222,
              "#7201a8"
             ],
             [
              0.3333333333333333,
              "#9c179e"
             ],
             [
              0.4444444444444444,
              "#bd3786"
             ],
             [
              0.5555555555555556,
              "#d8576b"
             ],
             [
              0.6666666666666666,
              "#ed7953"
             ],
             [
              0.7777777777777778,
              "#fb9f3a"
             ],
             [
              0.8888888888888888,
              "#fdca26"
             ],
             [
              1,
              "#f0f921"
             ]
            ],
            "type": "heatmap"
           }
          ],
          "heatmapgl": [
           {
            "colorbar": {
             "outlinewidth": 0,
             "ticks": ""
            },
            "colorscale": [
             [
              0,
              "#0d0887"
             ],
             [
              0.1111111111111111,
              "#46039f"
             ],
             [
              0.2222222222222222,
              "#7201a8"
             ],
             [
              0.3333333333333333,
              "#9c179e"
             ],
             [
              0.4444444444444444,
              "#bd3786"
             ],
             [
              0.5555555555555556,
              "#d8576b"
             ],
             [
              0.6666666666666666,
              "#ed7953"
             ],
             [
              0.7777777777777778,
              "#fb9f3a"
             ],
             [
              0.8888888888888888,
              "#fdca26"
             ],
             [
              1,
              "#f0f921"
             ]
            ],
            "type": "heatmapgl"
           }
          ],
          "histogram": [
           {
            "marker": {
             "pattern": {
              "fillmode": "overlay",
              "size": 10,
              "solidity": 0.2
             }
            },
            "type": "histogram"
           }
          ],
          "histogram2d": [
           {
            "colorbar": {
             "outlinewidth": 0,
             "ticks": ""
            },
            "colorscale": [
             [
              0,
              "#0d0887"
             ],
             [
              0.1111111111111111,
              "#46039f"
             ],
             [
              0.2222222222222222,
              "#7201a8"
             ],
             [
              0.3333333333333333,
              "#9c179e"
             ],
             [
              0.4444444444444444,
              "#bd3786"
             ],
             [
              0.5555555555555556,
              "#d8576b"
             ],
             [
              0.6666666666666666,
              "#ed7953"
             ],
             [
              0.7777777777777778,
              "#fb9f3a"
             ],
             [
              0.8888888888888888,
              "#fdca26"
             ],
             [
              1,
              "#f0f921"
             ]
            ],
            "type": "histogram2d"
           }
          ],
          "histogram2dcontour": [
           {
            "colorbar": {
             "outlinewidth": 0,
             "ticks": ""
            },
            "colorscale": [
             [
              0,
              "#0d0887"
             ],
             [
              0.1111111111111111,
              "#46039f"
             ],
             [
              0.2222222222222222,
              "#7201a8"
             ],
             [
              0.3333333333333333,
              "#9c179e"
             ],
             [
              0.4444444444444444,
              "#bd3786"
             ],
             [
              0.5555555555555556,
              "#d8576b"
             ],
             [
              0.6666666666666666,
              "#ed7953"
             ],
             [
              0.7777777777777778,
              "#fb9f3a"
             ],
             [
              0.8888888888888888,
              "#fdca26"
             ],
             [
              1,
              "#f0f921"
             ]
            ],
            "type": "histogram2dcontour"
           }
          ],
          "mesh3d": [
           {
            "colorbar": {
             "outlinewidth": 0,
             "ticks": ""
            },
            "type": "mesh3d"
           }
          ],
          "parcoords": [
           {
            "line": {
             "colorbar": {
              "outlinewidth": 0,
              "ticks": ""
             }
            },
            "type": "parcoords"
           }
          ],
          "pie": [
           {
            "automargin": true,
            "type": "pie"
           }
          ],
          "scatter": [
           {
            "fillpattern": {
             "fillmode": "overlay",
             "size": 10,
             "solidity": 0.2
            },
            "type": "scatter"
           }
          ],
          "scatter3d": [
           {
            "line": {
             "colorbar": {
              "outlinewidth": 0,
              "ticks": ""
             }
            },
            "marker": {
             "colorbar": {
              "outlinewidth": 0,
              "ticks": ""
             }
            },
            "type": "scatter3d"
           }
          ],
          "scattercarpet": [
           {
            "marker": {
             "colorbar": {
              "outlinewidth": 0,
              "ticks": ""
             }
            },
            "type": "scattercarpet"
           }
          ],
          "scattergeo": [
           {
            "marker": {
             "colorbar": {
              "outlinewidth": 0,
              "ticks": ""
             }
            },
            "type": "scattergeo"
           }
          ],
          "scattergl": [
           {
            "marker": {
             "colorbar": {
              "outlinewidth": 0,
              "ticks": ""
             }
            },
            "type": "scattergl"
           }
          ],
          "scattermapbox": [
           {
            "marker": {
             "colorbar": {
              "outlinewidth": 0,
              "ticks": ""
             }
            },
            "type": "scattermapbox"
           }
          ],
          "scatterpolar": [
           {
            "marker": {
             "colorbar": {
              "outlinewidth": 0,
              "ticks": ""
             }
            },
            "type": "scatterpolar"
           }
          ],
          "scatterpolargl": [
           {
            "marker": {
             "colorbar": {
              "outlinewidth": 0,
              "ticks": ""
             }
            },
            "type": "scatterpolargl"
           }
          ],
          "scatterternary": [
           {
            "marker": {
             "colorbar": {
              "outlinewidth": 0,
              "ticks": ""
             }
            },
            "type": "scatterternary"
           }
          ],
          "surface": [
           {
            "colorbar": {
             "outlinewidth": 0,
             "ticks": ""
            },
            "colorscale": [
             [
              0,
              "#0d0887"
             ],
             [
              0.1111111111111111,
              "#46039f"
             ],
             [
              0.2222222222222222,
              "#7201a8"
             ],
             [
              0.3333333333333333,
              "#9c179e"
             ],
             [
              0.4444444444444444,
              "#bd3786"
             ],
             [
              0.5555555555555556,
              "#d8576b"
             ],
             [
              0.6666666666666666,
              "#ed7953"
             ],
             [
              0.7777777777777778,
              "#fb9f3a"
             ],
             [
              0.8888888888888888,
              "#fdca26"
             ],
             [
              1,
              "#f0f921"
             ]
            ],
            "type": "surface"
           }
          ],
          "table": [
           {
            "cells": {
             "fill": {
              "color": "#EBF0F8"
             },
             "line": {
              "color": "white"
             }
            },
            "header": {
             "fill": {
              "color": "#C8D4E3"
             },
             "line": {
              "color": "white"
             }
            },
            "type": "table"
           }
          ]
         },
         "layout": {
          "annotationdefaults": {
           "arrowcolor": "#2a3f5f",
           "arrowhead": 0,
           "arrowwidth": 1
          },
          "autotypenumbers": "strict",
          "coloraxis": {
           "colorbar": {
            "outlinewidth": 0,
            "ticks": ""
           }
          },
          "colorscale": {
           "diverging": [
            [
             0,
             "#8e0152"
            ],
            [
             0.1,
             "#c51b7d"
            ],
            [
             0.2,
             "#de77ae"
            ],
            [
             0.3,
             "#f1b6da"
            ],
            [
             0.4,
             "#fde0ef"
            ],
            [
             0.5,
             "#f7f7f7"
            ],
            [
             0.6,
             "#e6f5d0"
            ],
            [
             0.7,
             "#b8e186"
            ],
            [
             0.8,
             "#7fbc41"
            ],
            [
             0.9,
             "#4d9221"
            ],
            [
             1,
             "#276419"
            ]
           ],
           "sequential": [
            [
             0,
             "#0d0887"
            ],
            [
             0.1111111111111111,
             "#46039f"
            ],
            [
             0.2222222222222222,
             "#7201a8"
            ],
            [
             0.3333333333333333,
             "#9c179e"
            ],
            [
             0.4444444444444444,
             "#bd3786"
            ],
            [
             0.5555555555555556,
             "#d8576b"
            ],
            [
             0.6666666666666666,
             "#ed7953"
            ],
            [
             0.7777777777777778,
             "#fb9f3a"
            ],
            [
             0.8888888888888888,
             "#fdca26"
            ],
            [
             1,
             "#f0f921"
            ]
           ],
           "sequentialminus": [
            [
             0,
             "#0d0887"
            ],
            [
             0.1111111111111111,
             "#46039f"
            ],
            [
             0.2222222222222222,
             "#7201a8"
            ],
            [
             0.3333333333333333,
             "#9c179e"
            ],
            [
             0.4444444444444444,
             "#bd3786"
            ],
            [
             0.5555555555555556,
             "#d8576b"
            ],
            [
             0.6666666666666666,
             "#ed7953"
            ],
            [
             0.7777777777777778,
             "#fb9f3a"
            ],
            [
             0.8888888888888888,
             "#fdca26"
            ],
            [
             1,
             "#f0f921"
            ]
           ]
          },
          "colorway": [
           "#636efa",
           "#EF553B",
           "#00cc96",
           "#ab63fa",
           "#FFA15A",
           "#19d3f3",
           "#FF6692",
           "#B6E880",
           "#FF97FF",
           "#FECB52"
          ],
          "font": {
           "color": "#2a3f5f"
          },
          "geo": {
           "bgcolor": "white",
           "lakecolor": "white",
           "landcolor": "#E5ECF6",
           "showlakes": true,
           "showland": true,
           "subunitcolor": "white"
          },
          "hoverlabel": {
           "align": "left"
          },
          "hovermode": "closest",
          "mapbox": {
           "style": "light"
          },
          "paper_bgcolor": "white",
          "plot_bgcolor": "#E5ECF6",
          "polar": {
           "angularaxis": {
            "gridcolor": "white",
            "linecolor": "white",
            "ticks": ""
           },
           "bgcolor": "#E5ECF6",
           "radialaxis": {
            "gridcolor": "white",
            "linecolor": "white",
            "ticks": ""
           }
          },
          "scene": {
           "xaxis": {
            "backgroundcolor": "#E5ECF6",
            "gridcolor": "white",
            "gridwidth": 2,
            "linecolor": "white",
            "showbackground": true,
            "ticks": "",
            "zerolinecolor": "white"
           },
           "yaxis": {
            "backgroundcolor": "#E5ECF6",
            "gridcolor": "white",
            "gridwidth": 2,
            "linecolor": "white",
            "showbackground": true,
            "ticks": "",
            "zerolinecolor": "white"
           },
           "zaxis": {
            "backgroundcolor": "#E5ECF6",
            "gridcolor": "white",
            "gridwidth": 2,
            "linecolor": "white",
            "showbackground": true,
            "ticks": "",
            "zerolinecolor": "white"
           }
          },
          "shapedefaults": {
           "line": {
            "color": "#2a3f5f"
           }
          },
          "ternary": {
           "aaxis": {
            "gridcolor": "white",
            "linecolor": "white",
            "ticks": ""
           },
           "baxis": {
            "gridcolor": "white",
            "linecolor": "white",
            "ticks": ""
           },
           "bgcolor": "#E5ECF6",
           "caxis": {
            "gridcolor": "white",
            "linecolor": "white",
            "ticks": ""
           }
          },
          "title": {
           "x": 0.05
          },
          "xaxis": {
           "automargin": true,
           "gridcolor": "white",
           "linecolor": "white",
           "ticks": "",
           "title": {
            "standoff": 15
           },
           "zerolinecolor": "white",
           "zerolinewidth": 2
          },
          "yaxis": {
           "automargin": true,
           "gridcolor": "white",
           "linecolor": "white",
           "ticks": "",
           "title": {
            "standoff": 15
           },
           "zerolinecolor": "white",
           "zerolinewidth": 2
          }
         }
        },
        "title": {
         "text": "Electricity from sources (in TWh) of top 10 countries with most emissions in 2020"
        }
       }
      }
     },
     "metadata": {},
     "output_type": "display_data"
    }
   ],
   "source": [
    "df = pd.read_csv('../datasets/sus.csv')\n",
    "\n",
    "df_orig = df[df[\"Year\"] == 2020]\n",
    "\n",
    "df = df_orig[df_orig[\"Entity\"].isin([\"Central African Republic\", \"Chad\", \"Niger\", \"Somalia\", \"Mali\", \"Mauritania\", \"Congo\", \"Namibia\", \"Afghanistan\", \"Zambia\"])]\n",
    "\n",
    "dfg = df_orig[df_orig[\"Entity\"].isin([\"Singapore\", \"Bahrain\", \"Trinidad and Tobago\", \"Aruba\", \"Malta\", \"Qatar\", \"Kuwait\", \"Netherlands\", \"Luxembourg\", \"Belgium\"])]\n",
    "\n",
    "# Good countries\n",
    "trace1 = go.Bar(\n",
    "    x = df['Entity'],\n",
    "    y = df['Electricity from fossil fuels (TWh)'],\n",
    "    name='Fossil Fuels',\n",
    "    text = df['Electricity from fossil fuels (TWh)'],\n",
    ")\n",
    "\n",
    "trace2 = go.Bar(\n",
    "    x = df['Entity'],\n",
    "    y = df['Electricity from nuclear (TWh)'],\n",
    "    name='Nuclear',\n",
    "    text = df['Electricity from nuclear (TWh)'],\n",
    ")\n",
    "\n",
    "trace3 = go.Bar(\n",
    "    x = df['Entity'],\n",
    "    y = df['Electricity from renewables (TWh)'],\n",
    "    name='Renewables',\n",
    "    text = df['Electricity from renewables (TWh)'],\n",
    ")\n",
    "fig = go.Figure(data=[trace1, trace2, trace3], layout=go.Layout(barmode='stack', font_size = 14,\n",
    "                                                                title= \"Electricity from sources (in TWh) of top 10 countries with least emissions in 2020\")).show()\n",
    "\n",
    "# Good countries\n",
    "trace1 = go.Bar(\n",
    "    x = dfg['Entity'],\n",
    "    y = dfg['Electricity from fossil fuels (TWh)'],\n",
    "    name='Fossil Fuels',\n",
    "    text = dfg['Electricity from fossil fuels (TWh)'],\n",
    ")\n",
    "\n",
    "trace2 = go.Bar(\n",
    "    x = dfg['Entity'],\n",
    "    y = dfg['Electricity from nuclear (TWh)'],\n",
    "    name='Nuclear',\n",
    "    text = dfg['Electricity from nuclear (TWh)'],\n",
    ")\n",
    "\n",
    "trace3 = go.Bar(\n",
    "    x = dfg['Entity'],\n",
    "    y = dfg['Electricity from renewables (TWh)'],\n",
    "    name='Renewables',\n",
    "    text = dfg['Electricity from renewables (TWh)'],\n",
    ")\n",
    "fig = go.Figure(data=[trace1, trace2, trace3], layout=go.Layout(barmode='stack', font_size = 14,\n",
    "                                                                title= \"Electricity from sources (in TWh) of top 10 countries with most emissions in 2020\")).show()"
   ]
  },
  {
   "cell_type": "markdown",
   "id": "e10dd833",
   "metadata": {
    "tags": [
     "hide-input"
    ]
   },
   "source": [
    "> *Figure 2: Electricity obtained from renewables, nuclear and fossil fuels for countries with the least and most emissions in 2020.*"
   ]
  },
  {
   "cell_type": "markdown",
   "id": "6799269e",
   "metadata": {
    "tags": [
     "hide-input"
    ]
   },
   "source": [
    "Figure 2 shows countries with the least amount of emissions do gain some of their electricity through renewable sources. This could mean the sustainability of it has a positive effect on lowering the emissions. They also have less electricity from fossil fuels than the countries with most emissions. \n",
    "\n",
    "Even though two of the countries that have most emissions have a relatively high amount of electricity through renewables and nuclear sources, the emissions can be explained because of the high amount of electricity gained from fossil fuels which increase the emissions. The renewables could still help out to lower the emissions but is being overshadowed by the large amount of electricity from fossil fuels. This theory came to life when comparing Singapore from figure 1 with figure 2, because Singapore has the most emissions taking in consideration the land area in figure 1 and it shows to have a lot of electricity gained from fossil fuels in figure 2."
   ]
  },
  {
   "cell_type": "markdown",
   "id": "adaf7a01",
   "metadata": {
    "tags": [
     "hide-input"
    ]
   },
   "source": [
    "### The Second Argument of Your First Perspective"
   ]
  },
  {
   "cell_type": "markdown",
   "id": "4a2ac7a5",
   "metadata": {
    "tags": [
     "hide-input"
    ]
   },
   "source": [
    "<div class=\"scrollable-container\">"
   ]
  },
  {
   "cell_type": "code",
   "execution_count": 32,
   "id": "a81fa6d4",
   "metadata": {
    "ExecuteTime": {
     "end_time": "2024-06-27T11:25:51.010475Z",
     "start_time": "2024-06-27T11:25:50.994720Z"
    },
    "tags": [
     "hide-input"
    ]
   },
   "outputs": [
    {
     "data": {
      "application/vnd.plotly.v1+json": {
       "config": {
        "plotlyServerURL": "https://plot.ly"
       },
       "data": [
        {
         "name": "2000",
         "type": "bar",
         "width": 0.2,
         "x": [
          "China",
          "United States",
          "India",
          "Japan",
          "Germany",
          "Canada",
          "Saudi Arabia",
          "South Africa",
          "Indonesia",
          "Mexico",
          "Brazil",
          "Italy",
          "Australia",
          "France",
          "Poland",
          "Ukraine",
          "Spain",
          "Thailand",
          "Kazakhstan",
          "Malaysia",
          "Egypt",
          "Netherlands",
          "United Arab Emirates",
          "Argentina",
          "Pakistan",
          "Iraq",
          "Algeria",
          "Uzbekistan",
          "Nigeria",
          "Belgium",
          "Philippines",
          "Kuwait",
          "Qatar",
          "Romania",
          "Colombia",
          "Greece",
          "Chile",
          "Israel",
          "Austria",
          "Bangladesh",
          "Turkmenistan",
          "Belarus",
          "Singapore",
          "Oman",
          "Norway",
          "Morocco",
          "Hungary",
          "Libya",
          "Portugal",
          "Trinidad and Tobago",
          "Finland",
          "Sweden",
          "Bulgaria",
          "Peru",
          "Denmark",
          "Ireland",
          "Azerbaijan",
          "Switzerland",
          "New Zealand",
          "Slovakia",
          "Ecuador",
          "Bahrain",
          "Cuba",
          "Tunisia",
          "Angola",
          "Dominican Republic",
          "Mongolia",
          "Jordan",
          "Lebanon",
          "Croatia",
          "Bosnia and Herzegovina",
          "Myanmar",
          "Estonia",
          "Yemen",
          "Sri Lanka",
          "Lithuania",
          "Slovenia",
          "Kenya",
          "Ghana",
          "Guatemala",
          "Zimbabwe",
          "Ethiopia",
          "Latvia",
          "Luxembourg",
          "North Macedonia",
          "Panama",
          "Cameroon",
          "Jamaica",
          "Cambodia",
          "Georgia",
          "Honduras",
          "Senegal",
          "Kyrgyzstan",
          "Nepal",
          "Costa Rica",
          "Cyprus",
          "Afghanistan",
          "Uruguay",
          "El Salvador",
          "Equatorial Guinea",
          "Gabon",
          "Papua New Guinea",
          "Paraguay",
          "Mozambique",
          "Botswana",
          "Armenia",
          "Benin",
          "Nicaragua",
          "Tajikistan",
          "Albania",
          "Uganda",
          "Mauritius",
          "Zambia",
          "Iceland",
          "Namibia",
          "Burkina Faso",
          "Madagascar",
          "Togo",
          "Guinea",
          "Suriname",
          "Mali",
          "Haiti",
          "Mauritania",
          "Lesotho",
          "Malta",
          "Bahamas",
          "Guyana",
          "Niger",
          "Aruba",
          "Fiji",
          "Barbados",
          "Bhutan",
          "Chad",
          "Malawi",
          "Maldives",
          "Eswatini",
          "Liberia",
          "Sierra Leone",
          "Rwanda",
          "Somalia",
          "Eritrea",
          "Belize",
          "Gambia",
          "Seychelles",
          "Antigua and Barbuda",
          "Djibouti",
          "Burundi",
          "Saint Lucia",
          "Solomon Islands",
          "Central African Republic",
          "Guinea-Bissau",
          "Grenada",
          "Samoa",
          "Saint Kitts and Nevis",
          "Saint Vincent and the Grenadines",
          "Comoros",
          "Dominica",
          "Tonga",
          "Vanuatu",
          "Sao Tome and Principe",
          "Nauru",
          "Kiribati",
          "Tuvalu"
         ],
         "y": [
          3839649.997,
          5890730,
          1078600,
          1283620,
          870492,
          558790,
          311500,
          467400,
          285294.3,
          426036.4,
          347025,
          462744,
          340302.5,
          392000,
          309193,
          372230.1,
          306830,
          180009.42,
          128510,
          130041.7,
          147600.147,
          188412.2,
          115500,
          145728.95,
          109230,
          79540,
          92071.29,
          126320,
          80830,
          120202.3,
          73540,
          55770,
          39120.0062,
          95653.8,
          57483.3,
          92160.139,
          60300.0164,
          62020,
          65861.1,
          29570,
          37979,
          57386.5,
          51226.8,
          22327,
          47590.143,
          33460,
          58509.7,
          49660,
          63315.91,
          34290,
          53810,
          53780,
          46996.3,
          29096.73,
          53743.38,
          42893.5,
          43464,
          39464.4,
          36223.16,
          38082.4,
          21683.07,
          21080,
          26850.333,
          20190,
          16725,
          19620.264,
          7516.81,
          15350,
          15490.284,
          20474,
          14023.44,
          10541.6,
          17072.01,
          15481,
          10204,
          12531.2,
          15201.42,
          10552.689,
          6470,
          9852,
          14588,
          3529.618,
          7132.19,
          8578,
          12303.1,
          5749,
          5953,
          10301,
          2017.57,
          5698,
          5024.9,
          3973,
          4773,
          3106,
          5471,
          7071,
          914,
          5335.23,
          5737,
          2762.61,
          6418.156,
          3019.687,
          3769.2,
          1478,
          3829.7,
          3629,
          1508.471,
          3752,
          2867,
          3160.67,
          1441,
          2699.4858,
          1822,
          2947.37,
          1650.25,
          1086.9,
          1913.5,
          1354.094,
          1532.9,
          2241.539,
          893.67,
          1362.5,
          1124.28,
          1855.61,
          2152.63,
          1962.075,
          1753.853,
          779.8,
          2383.3,
          839.9,
          1163,
          459,
          522.7,
          899.7,
          454.31,
          1214.16,
          437.7,
          410.9,
          546.7,
          506.5,
          608.8,
          398.3,
          282.71,
          573.92,
          295.52,
          369.28,
          295.9,
          349.9029,
          231.05,
          286.9,
          153.36,
          191.921,
          144.4,
          172.473,
          148.0548,
          104.9,
          133.1,
          95.876,
          86.99,
          48.366,
          84.683,
          33.53,
          7.3419
         ]
        },
        {
         "name": "2010",
         "type": "bar",
         "width": 0.2,
         "x": [
          "China",
          "United States",
          "India",
          "Japan",
          "Germany",
          "Canada",
          "Saudi Arabia",
          "South Africa",
          "Indonesia",
          "Mexico",
          "Brazil",
          "Italy",
          "Australia",
          "France",
          "Poland",
          "Ukraine",
          "Spain",
          "Thailand",
          "Kazakhstan",
          "Malaysia",
          "Egypt",
          "Netherlands",
          "United Arab Emirates",
          "Argentina",
          "Pakistan",
          "Iraq",
          "Algeria",
          "Uzbekistan",
          "Nigeria",
          "Belgium",
          "Philippines",
          "Kuwait",
          "Qatar",
          "Romania",
          "Colombia",
          "Greece",
          "Chile",
          "Israel",
          "Austria",
          "Bangladesh",
          "Turkmenistan",
          "Belarus",
          "Singapore",
          "Oman",
          "Norway",
          "Morocco",
          "Hungary",
          "Libya",
          "Portugal",
          "Trinidad and Tobago",
          "Finland",
          "Sweden",
          "Bulgaria",
          "Peru",
          "Denmark",
          "Ireland",
          "Azerbaijan",
          "Switzerland",
          "New Zealand",
          "Slovakia",
          "Ecuador",
          "Bahrain",
          "Cuba",
          "Tunisia",
          "Angola",
          "Dominican Republic",
          "Mongolia",
          "Jordan",
          "Lebanon",
          "Croatia",
          "Bosnia and Herzegovina",
          "Myanmar",
          "Estonia",
          "Yemen",
          "Sri Lanka",
          "Lithuania",
          "Slovenia",
          "Kenya",
          "Ghana",
          "Guatemala",
          "Zimbabwe",
          "Ethiopia",
          "Latvia",
          "Luxembourg",
          "North Macedonia",
          "Panama",
          "Cameroon",
          "Jamaica",
          "Cambodia",
          "Georgia",
          "Honduras",
          "Senegal",
          "Kyrgyzstan",
          "Nepal",
          "Costa Rica",
          "Cyprus",
          "Afghanistan",
          "Uruguay",
          "El Salvador",
          "Equatorial Guinea",
          "Gabon",
          "Papua New Guinea",
          "Paraguay",
          "Mozambique",
          "Botswana",
          "Armenia",
          "Benin",
          "Nicaragua",
          "Tajikistan",
          "Albania",
          "Uganda",
          "Mauritius",
          "Zambia",
          "Iceland",
          "Namibia",
          "Burkina Faso",
          "Madagascar",
          "Togo",
          "Guinea",
          "Suriname",
          "Mali",
          "Haiti",
          "Mauritania",
          "Lesotho",
          "Malta",
          "Bahamas",
          "Guyana",
          "Niger",
          "Aruba",
          "Fiji",
          "Barbados",
          "Bhutan",
          "Chad",
          "Malawi",
          "Maldives",
          "Eswatini",
          "Liberia",
          "Sierra Leone",
          "Rwanda",
          "Somalia",
          "Eritrea",
          "Belize",
          "Gambia",
          "Seychelles",
          "Antigua and Barbuda",
          "Djibouti",
          "Burundi",
          "Saint Lucia",
          "Solomon Islands",
          "Central African Republic",
          "Guinea-Bissau",
          "Grenada",
          "Samoa",
          "Saint Kitts and Nevis",
          "Saint Vincent and the Grenadines",
          "Comoros",
          "Dominica",
          "Tonga",
          "Vanuatu",
          "Sao Tome and Principe",
          "Nauru",
          "Kiribati",
          "Tuvalu"
         ],
         "y": [
          9311518.108,
          5534730,
          1767200,
          1240120,
          794375,
          543755,
          562700,
          527800,
          447129,
          501269,
          438862,
          415262,
          405903.9,
          384590,
          326506,
          335243.3,
          283800,
          271214,
          259698.48,
          212857.8,
          211800.352,
          199812.9,
          163700,
          191740.1,
          160600,
          112490,
          120601.69,
          110270,
          117500,
          116511.96,
          84519,
          93290,
          79280.0202,
          83843.85,
          77966,
          85134.53,
          72460.0491,
          71360,
          71080.193,
          55910,
          58720,
          65691.8,
          63334.7,
          51710,
          56980.138,
          54600,
          53310,
          64240,
          51342.1,
          64200,
          64400,
          57797,
          45847.51,
          43487.98,
          47633.81,
          40720.5,
          30230,
          39510.2,
          34162.6,
          38620.3,
          37253.77,
          31720,
          34590.469,
          28050,
          23433,
          20670.365,
          14096.791,
          20680,
          19990.117,
          21710.0298,
          22270.49,
          13501.9,
          20989.22,
          24220,
          13131,
          14471.29,
          16033.45,
          12050.871,
          9915,
          11200,
          8380,
          6425.926,
          8746.341,
          10922,
          9037.1,
          9104,
          8862,
          7753,
          5147.61,
          7124.2,
          8053.1,
          7400,
          6512,
          4920,
          7591,
          7631,
          8630,
          6371.29,
          6421,
          8653,
          5899.225,
          4777.423,
          5223.0745,
          3600,
          4573,
          4390,
          4732.258,
          4509,
          3219,
          4930.46,
          3741,
          3930.352,
          2607,
          3831.68,
          3180.5,
          2120.14,
          2008,
          2631.147,
          2543,
          2442.185,
          2061.78,
          2123,
          2028.13,
          2285.95,
          2606.654,
          2404.222,
          1894.859,
          1231.6,
          2514.35,
          1148.63,
          1471,
          844,
          1155.4,
          1066,
          939.25,
          1024.38,
          780.2,
          606.3,
          599.9,
          646.6,
          501.5,
          538.97,
          438.9,
          446.38,
          458.24,
          519.73,
          324.1,
          369.301,
          338.48,
          285.2,
          246.23,
          261.15,
          188.39,
          220.673,
          221.2848,
          163.45,
          183.1,
          117.527,
          124.11,
          99.917,
          44.452,
          59.311,
          7.3423
         ]
        },
        {
         "name": "2015",
         "type": "bar",
         "width": 0.2,
         "x": [
          "China",
          "United States",
          "India",
          "Japan",
          "Germany",
          "Canada",
          "Saudi Arabia",
          "South Africa",
          "Indonesia",
          "Mexico",
          "Brazil",
          "Italy",
          "Australia",
          "France",
          "Poland",
          "Ukraine",
          "Spain",
          "Thailand",
          "Kazakhstan",
          "Malaysia",
          "Egypt",
          "Netherlands",
          "United Arab Emirates",
          "Argentina",
          "Pakistan",
          "Iraq",
          "Algeria",
          "Uzbekistan",
          "Nigeria",
          "Belgium",
          "Philippines",
          "Kuwait",
          "Qatar",
          "Romania",
          "Colombia",
          "Greece",
          "Chile",
          "Israel",
          "Austria",
          "Bangladesh",
          "Turkmenistan",
          "Belarus",
          "Singapore",
          "Oman",
          "Norway",
          "Morocco",
          "Hungary",
          "Libya",
          "Portugal",
          "Trinidad and Tobago",
          "Finland",
          "Sweden",
          "Bulgaria",
          "Peru",
          "Denmark",
          "Ireland",
          "Azerbaijan",
          "Switzerland",
          "New Zealand",
          "Slovakia",
          "Ecuador",
          "Bahrain",
          "Cuba",
          "Tunisia",
          "Angola",
          "Dominican Republic",
          "Mongolia",
          "Jordan",
          "Lebanon",
          "Croatia",
          "Bosnia and Herzegovina",
          "Myanmar",
          "Estonia",
          "Yemen",
          "Sri Lanka",
          "Lithuania",
          "Slovenia",
          "Kenya",
          "Ghana",
          "Guatemala",
          "Zimbabwe",
          "Ethiopia",
          "Latvia",
          "Luxembourg",
          "North Macedonia",
          "Panama",
          "Cameroon",
          "Jamaica",
          "Cambodia",
          "Georgia",
          "Honduras",
          "Senegal",
          "Kyrgyzstan",
          "Nepal",
          "Costa Rica",
          "Cyprus",
          "Afghanistan",
          "Uruguay",
          "El Salvador",
          "Equatorial Guinea",
          "Gabon",
          "Papua New Guinea",
          "Paraguay",
          "Mozambique",
          "Botswana",
          "Armenia",
          "Benin",
          "Nicaragua",
          "Tajikistan",
          "Albania",
          "Uganda",
          "Mauritius",
          "Zambia",
          "Iceland",
          "Namibia",
          "Burkina Faso",
          "Madagascar",
          "Togo",
          "Guinea",
          "Suriname",
          "Mali",
          "Haiti",
          "Mauritania",
          "Lesotho",
          "Malta",
          "Bahamas",
          "Guyana",
          "Niger",
          "Aruba",
          "Fiji",
          "Barbados",
          "Bhutan",
          "Chad",
          "Malawi",
          "Maldives",
          "Eswatini",
          "Liberia",
          "Sierra Leone",
          "Rwanda",
          "Somalia",
          "Eritrea",
          "Belize",
          "Gambia",
          "Seychelles",
          "Antigua and Barbuda",
          "Djibouti",
          "Burundi",
          "Saint Lucia",
          "Solomon Islands",
          "Central African Republic",
          "Guinea-Bissau",
          "Grenada",
          "Samoa",
          "Saint Kitts and Nevis",
          "Saint Vincent and the Grenadines",
          "Comoros",
          "Dominica",
          "Tonga",
          "Vanuatu",
          "Sao Tome and Principe",
          "Nauru",
          "Kiribati",
          "Tuvalu"
         ],
         "y": [
          10722793.6,
          5287730,
          2394200,
          1219430,
          760367,
          574037,
          701300,
          509700,
          519146,
          500047,
          521679,
          343248,
          379804.5,
          342210,
          299445,
          219109.16,
          265720,
          300516.5,
          240156.46,
          250566.2,
          232900.39,
          179213.1,
          251000,
          199361,
          176400,
          169890,
          166901.96,
          108140,
          112200,
          103141.7,
          113531,
          101030,
          120900.0281,
          75997.24,
          87867.2,
          67623.63,
          82350.0506,
          69080,
          64380.193,
          74970,
          74710,
          61986.3,
          72097.8,
          72100,
          54020.196,
          58790,
          47481.5,
          49290,
          51515.7,
          59900,
          45410,
          41326,
          47255.7,
          49818.63,
          32573.88,
          36794.6,
          35300,
          35879.53,
          38332.4,
          33650.3,
          42194.12,
          35210,
          29634.476,
          30340,
          29090,
          23570.413,
          23506.828,
          25350,
          25810.0053,
          18910.0298,
          19316.67,
          22605,
          20408.343,
          14136,
          19942,
          15415.97,
          13442,
          16631.08,
          16590,
          15620,
          12731,
          12801.15,
          15050.18,
          9169,
          7527.3,
          10792,
          10232,
          8022.8,
          8610.6,
          10540,
          10264.2,
          9950,
          10458,
          6830,
          7492,
          6654,
          8184,
          6789.32,
          6818,
          6973,
          6670.273,
          6579.451,
          6261.0119,
          7360,
          5470.6,
          5201,
          5644.315,
          5302,
          5670,
          4892.6,
          4713,
          4224.852,
          4286,
          3751.66,
          3898.4,
          3816.19,
          3558,
          2714.18,
          2504.5,
          2751.894,
          3181.56,
          3223,
          2996.1,
          2336.29,
          1677.571,
          2053.185,
          2014.222,
          2180.9,
          903.05,
          2060.5,
          1280.4,
          1388,
          1231,
          1110,
          1305.9,
          984.78,
          1226,
          937.6,
          957.2,
          666.7,
          658.1,
          644.94,
          531.3,
          482.85,
          483.16,
          435.1,
          437.5,
          361.2222,
          301.59,
          314.5,
          287.56,
          261.1,
          236.59,
          235.645,
          214.2448,
          171.59,
          180.61,
          121.58,
          135.17,
          115.02,
          55.467,
          62.943,
          11.027
         ]
        },
        {
         "name": "2020",
         "type": "bar",
         "width": 0.2,
         "x": [
          "China",
          "United States",
          "India",
          "Japan",
          "Germany",
          "Canada",
          "Saudi Arabia",
          "South Africa",
          "Indonesia",
          "Mexico",
          "Brazil",
          "Italy",
          "Australia",
          "France",
          "Poland",
          "Ukraine",
          "Spain",
          "Thailand",
          "Kazakhstan",
          "Malaysia",
          "Egypt",
          "Netherlands",
          "United Arab Emirates",
          "Argentina",
          "Pakistan",
          "Iraq",
          "Algeria",
          "Uzbekistan",
          "Nigeria",
          "Belgium",
          "Philippines",
          "Kuwait",
          "Qatar",
          "Romania",
          "Colombia",
          "Greece",
          "Chile",
          "Israel",
          "Austria",
          "Bangladesh",
          "Turkmenistan",
          "Belarus",
          "Singapore",
          "Oman",
          "Norway",
          "Morocco",
          "Hungary",
          "Libya",
          "Portugal",
          "Trinidad and Tobago",
          "Finland",
          "Sweden",
          "Bulgaria",
          "Peru",
          "Denmark",
          "Ireland",
          "Azerbaijan",
          "Switzerland",
          "New Zealand",
          "Slovakia",
          "Ecuador",
          "Bahrain",
          "Cuba",
          "Tunisia",
          "Angola",
          "Dominican Republic",
          "Mongolia",
          "Jordan",
          "Lebanon",
          "Croatia",
          "Bosnia and Herzegovina",
          "Myanmar",
          "Estonia",
          "Yemen",
          "Sri Lanka",
          "Lithuania",
          "Slovenia",
          "Kenya",
          "Ghana",
          "Guatemala",
          "Zimbabwe",
          "Ethiopia",
          "Latvia",
          "Luxembourg",
          "North Macedonia",
          "Panama",
          "Cameroon",
          "Jamaica",
          "Cambodia",
          "Georgia",
          "Honduras",
          "Senegal",
          "Kyrgyzstan",
          "Nepal",
          "Costa Rica",
          "Cyprus",
          "Afghanistan",
          "Uruguay",
          "El Salvador",
          "Equatorial Guinea",
          "Gabon",
          "Papua New Guinea",
          "Paraguay",
          "Mozambique",
          "Botswana",
          "Armenia",
          "Benin",
          "Nicaragua",
          "Tajikistan",
          "Albania",
          "Uganda",
          "Mauritius",
          "Zambia",
          "Iceland",
          "Namibia",
          "Burkina Faso",
          "Madagascar",
          "Togo",
          "Guinea",
          "Suriname",
          "Mali",
          "Haiti",
          "Mauritania",
          "Lesotho",
          "Malta",
          "Bahamas",
          "Guyana",
          "Niger",
          "Aruba",
          "Fiji",
          "Barbados",
          "Bhutan",
          "Chad",
          "Malawi",
          "Maldives",
          "Eswatini",
          "Liberia",
          "Sierra Leone",
          "Rwanda",
          "Somalia",
          "Eritrea",
          "Belize",
          "Gambia",
          "Seychelles",
          "Antigua and Barbuda",
          "Djibouti",
          "Burundi",
          "Saint Lucia",
          "Solomon Islands",
          "Central African Republic",
          "Guinea-Bissau",
          "Grenada",
          "Samoa",
          "Saint Kitts and Nevis",
          "Saint Vincent and the Grenadines",
          "Comoros",
          "Dominica",
          "Tonga",
          "Vanuatu",
          "Sao Tome and Principe",
          "Nauru",
          "Kiribati",
          "Tuvalu"
         ],
         "y": [
          11515339.48,
          4555730,
          2501200,
          1036020,
          603759,
          546321,
          613200,
          479700,
          592363,
          391475,
          453396,
          287134,
          356995.03,
          281750,
          291703,
          185711.6,
          216020,
          289818.6,
          270025.3,
          262274.2,
          243100.43,
          155113.6,
          179800,
          172751.7,
          262900,
          212800,
          175502.2,
          115860,
          148600,
          90883.32,
          137143,
          106260,
          107200.0365,
          72013.3,
          89308.4,
          52182.03,
          77080.0594,
          64280,
          59600.193,
          94200,
          82680,
          62697.3,
          46841.3,
          77900,
          51940.179,
          63110,
          49594,
          42970,
          39580.7,
          44800,
          36960,
          41385,
          36816.35,
          46889.27,
          24453.72,
          31399.66,
          36220,
          29688.63,
          33162.15,
          30842,
          35074.48,
          27140,
          23845.482,
          23780,
          26890,
          23130.462,
          39912.895,
          18810,
          17940,
          17590,
          21911.96,
          29463.9,
          15987.326,
          16622,
          22980,
          15361.85,
          12148.59,
          15971.26,
          19860,
          14080,
          10054,
          15521.37,
          6548.0388,
          8129,
          7122.7,
          10230,
          9920,
          7455.2,
          17492.3,
          9650,
          9623.3,
          11600,
          10683,
          14550,
          8177,
          6175,
          9438,
          8020.36,
          6724,
          7310,
          5353.315,
          8754.111,
          6549,
          9070,
          6448.4,
          6389,
          7380.369,
          4990,
          6520,
          5272.85,
          6115,
          4795.352,
          6130,
          3001.7,
          4024.86,
          4630.286,
          3653,
          3613.211,
          3577.4,
          2715.809,
          3892.22,
          3104,
          3648.7,
          2296.66,
          2217.52,
          1863.25,
          2357.127,
          2625,
          877.9,
          2601.3,
          1120.1,
          1988,
          1591,
          1316,
          1667.71,
          899.08,
          1443,
          1223.9,
          1053,
          624.9,
          676,
          557,
          677.9,
          399.17,
          472.23,
          371.8,
          552.8,
          332.2607,
          337.03,
          315.1,
          389.98,
          267.13,
          341.78,
          231.641,
          241.2254,
          228.9,
          151,
          181.629,
          163.37,
          114.14,
          55.087,
          76.394,
          12.6369
         ]
        }
       ],
       "layout": {
        "bargroupgap": 1,
        "barmode": "group",
        "legend": {
         "x": -0.02,
         "xanchor": "left",
         "y": 1,
         "yanchor": "top"
        },
        "template": {
         "data": {
          "bar": [
           {
            "error_x": {
             "color": "#2a3f5f"
            },
            "error_y": {
             "color": "#2a3f5f"
            },
            "marker": {
             "line": {
              "color": "#E5ECF6",
              "width": 0.5
             },
             "pattern": {
              "fillmode": "overlay",
              "size": 10,
              "solidity": 0.2
             }
            },
            "type": "bar"
           }
          ],
          "barpolar": [
           {
            "marker": {
             "line": {
              "color": "#E5ECF6",
              "width": 0.5
             },
             "pattern": {
              "fillmode": "overlay",
              "size": 10,
              "solidity": 0.2
             }
            },
            "type": "barpolar"
           }
          ],
          "carpet": [
           {
            "aaxis": {
             "endlinecolor": "#2a3f5f",
             "gridcolor": "white",
             "linecolor": "white",
             "minorgridcolor": "white",
             "startlinecolor": "#2a3f5f"
            },
            "baxis": {
             "endlinecolor": "#2a3f5f",
             "gridcolor": "white",
             "linecolor": "white",
             "minorgridcolor": "white",
             "startlinecolor": "#2a3f5f"
            },
            "type": "carpet"
           }
          ],
          "choropleth": [
           {
            "colorbar": {
             "outlinewidth": 0,
             "ticks": ""
            },
            "type": "choropleth"
           }
          ],
          "contour": [
           {
            "colorbar": {
             "outlinewidth": 0,
             "ticks": ""
            },
            "colorscale": [
             [
              0,
              "#0d0887"
             ],
             [
              0.1111111111111111,
              "#46039f"
             ],
             [
              0.2222222222222222,
              "#7201a8"
             ],
             [
              0.3333333333333333,
              "#9c179e"
             ],
             [
              0.4444444444444444,
              "#bd3786"
             ],
             [
              0.5555555555555556,
              "#d8576b"
             ],
             [
              0.6666666666666666,
              "#ed7953"
             ],
             [
              0.7777777777777778,
              "#fb9f3a"
             ],
             [
              0.8888888888888888,
              "#fdca26"
             ],
             [
              1,
              "#f0f921"
             ]
            ],
            "type": "contour"
           }
          ],
          "contourcarpet": [
           {
            "colorbar": {
             "outlinewidth": 0,
             "ticks": ""
            },
            "type": "contourcarpet"
           }
          ],
          "heatmap": [
           {
            "colorbar": {
             "outlinewidth": 0,
             "ticks": ""
            },
            "colorscale": [
             [
              0,
              "#0d0887"
             ],
             [
              0.1111111111111111,
              "#46039f"
             ],
             [
              0.2222222222222222,
              "#7201a8"
             ],
             [
              0.3333333333333333,
              "#9c179e"
             ],
             [
              0.4444444444444444,
              "#bd3786"
             ],
             [
              0.5555555555555556,
              "#d8576b"
             ],
             [
              0.6666666666666666,
              "#ed7953"
             ],
             [
              0.7777777777777778,
              "#fb9f3a"
             ],
             [
              0.8888888888888888,
              "#fdca26"
             ],
             [
              1,
              "#f0f921"
             ]
            ],
            "type": "heatmap"
           }
          ],
          "heatmapgl": [
           {
            "colorbar": {
             "outlinewidth": 0,
             "ticks": ""
            },
            "colorscale": [
             [
              0,
              "#0d0887"
             ],
             [
              0.1111111111111111,
              "#46039f"
             ],
             [
              0.2222222222222222,
              "#7201a8"
             ],
             [
              0.3333333333333333,
              "#9c179e"
             ],
             [
              0.4444444444444444,
              "#bd3786"
             ],
             [
              0.5555555555555556,
              "#d8576b"
             ],
             [
              0.6666666666666666,
              "#ed7953"
             ],
             [
              0.7777777777777778,
              "#fb9f3a"
             ],
             [
              0.8888888888888888,
              "#fdca26"
             ],
             [
              1,
              "#f0f921"
             ]
            ],
            "type": "heatmapgl"
           }
          ],
          "histogram": [
           {
            "marker": {
             "pattern": {
              "fillmode": "overlay",
              "size": 10,
              "solidity": 0.2
             }
            },
            "type": "histogram"
           }
          ],
          "histogram2d": [
           {
            "colorbar": {
             "outlinewidth": 0,
             "ticks": ""
            },
            "colorscale": [
             [
              0,
              "#0d0887"
             ],
             [
              0.1111111111111111,
              "#46039f"
             ],
             [
              0.2222222222222222,
              "#7201a8"
             ],
             [
              0.3333333333333333,
              "#9c179e"
             ],
             [
              0.4444444444444444,
              "#bd3786"
             ],
             [
              0.5555555555555556,
              "#d8576b"
             ],
             [
              0.6666666666666666,
              "#ed7953"
             ],
             [
              0.7777777777777778,
              "#fb9f3a"
             ],
             [
              0.8888888888888888,
              "#fdca26"
             ],
             [
              1,
              "#f0f921"
             ]
            ],
            "type": "histogram2d"
           }
          ],
          "histogram2dcontour": [
           {
            "colorbar": {
             "outlinewidth": 0,
             "ticks": ""
            },
            "colorscale": [
             [
              0,
              "#0d0887"
             ],
             [
              0.1111111111111111,
              "#46039f"
             ],
             [
              0.2222222222222222,
              "#7201a8"
             ],
             [
              0.3333333333333333,
              "#9c179e"
             ],
             [
              0.4444444444444444,
              "#bd3786"
             ],
             [
              0.5555555555555556,
              "#d8576b"
             ],
             [
              0.6666666666666666,
              "#ed7953"
             ],
             [
              0.7777777777777778,
              "#fb9f3a"
             ],
             [
              0.8888888888888888,
              "#fdca26"
             ],
             [
              1,
              "#f0f921"
             ]
            ],
            "type": "histogram2dcontour"
           }
          ],
          "mesh3d": [
           {
            "colorbar": {
             "outlinewidth": 0,
             "ticks": ""
            },
            "type": "mesh3d"
           }
          ],
          "parcoords": [
           {
            "line": {
             "colorbar": {
              "outlinewidth": 0,
              "ticks": ""
             }
            },
            "type": "parcoords"
           }
          ],
          "pie": [
           {
            "automargin": true,
            "type": "pie"
           }
          ],
          "scatter": [
           {
            "fillpattern": {
             "fillmode": "overlay",
             "size": 10,
             "solidity": 0.2
            },
            "type": "scatter"
           }
          ],
          "scatter3d": [
           {
            "line": {
             "colorbar": {
              "outlinewidth": 0,
              "ticks": ""
             }
            },
            "marker": {
             "colorbar": {
              "outlinewidth": 0,
              "ticks": ""
             }
            },
            "type": "scatter3d"
           }
          ],
          "scattercarpet": [
           {
            "marker": {
             "colorbar": {
              "outlinewidth": 0,
              "ticks": ""
             }
            },
            "type": "scattercarpet"
           }
          ],
          "scattergeo": [
           {
            "marker": {
             "colorbar": {
              "outlinewidth": 0,
              "ticks": ""
             }
            },
            "type": "scattergeo"
           }
          ],
          "scattergl": [
           {
            "marker": {
             "colorbar": {
              "outlinewidth": 0,
              "ticks": ""
             }
            },
            "type": "scattergl"
           }
          ],
          "scattermapbox": [
           {
            "marker": {
             "colorbar": {
              "outlinewidth": 0,
              "ticks": ""
             }
            },
            "type": "scattermapbox"
           }
          ],
          "scatterpolar": [
           {
            "marker": {
             "colorbar": {
              "outlinewidth": 0,
              "ticks": ""
             }
            },
            "type": "scatterpolar"
           }
          ],
          "scatterpolargl": [
           {
            "marker": {
             "colorbar": {
              "outlinewidth": 0,
              "ticks": ""
             }
            },
            "type": "scatterpolargl"
           }
          ],
          "scatterternary": [
           {
            "marker": {
             "colorbar": {
              "outlinewidth": 0,
              "ticks": ""
             }
            },
            "type": "scatterternary"
           }
          ],
          "surface": [
           {
            "colorbar": {
             "outlinewidth": 0,
             "ticks": ""
            },
            "colorscale": [
             [
              0,
              "#0d0887"
             ],
             [
              0.1111111111111111,
              "#46039f"
             ],
             [
              0.2222222222222222,
              "#7201a8"
             ],
             [
              0.3333333333333333,
              "#9c179e"
             ],
             [
              0.4444444444444444,
              "#bd3786"
             ],
             [
              0.5555555555555556,
              "#d8576b"
             ],
             [
              0.6666666666666666,
              "#ed7953"
             ],
             [
              0.7777777777777778,
              "#fb9f3a"
             ],
             [
              0.8888888888888888,
              "#fdca26"
             ],
             [
              1,
              "#f0f921"
             ]
            ],
            "type": "surface"
           }
          ],
          "table": [
           {
            "cells": {
             "fill": {
              "color": "#EBF0F8"
             },
             "line": {
              "color": "white"
             }
            },
            "header": {
             "fill": {
              "color": "#C8D4E3"
             },
             "line": {
              "color": "white"
             }
            },
            "type": "table"
           }
          ]
         },
         "layout": {
          "annotationdefaults": {
           "arrowcolor": "#2a3f5f",
           "arrowhead": 0,
           "arrowwidth": 1
          },
          "autotypenumbers": "strict",
          "coloraxis": {
           "colorbar": {
            "outlinewidth": 0,
            "ticks": ""
           }
          },
          "colorscale": {
           "diverging": [
            [
             0,
             "#8e0152"
            ],
            [
             0.1,
             "#c51b7d"
            ],
            [
             0.2,
             "#de77ae"
            ],
            [
             0.3,
             "#f1b6da"
            ],
            [
             0.4,
             "#fde0ef"
            ],
            [
             0.5,
             "#f7f7f7"
            ],
            [
             0.6,
             "#e6f5d0"
            ],
            [
             0.7,
             "#b8e186"
            ],
            [
             0.8,
             "#7fbc41"
            ],
            [
             0.9,
             "#4d9221"
            ],
            [
             1,
             "#276419"
            ]
           ],
           "sequential": [
            [
             0,
             "#0d0887"
            ],
            [
             0.1111111111111111,
             "#46039f"
            ],
            [
             0.2222222222222222,
             "#7201a8"
            ],
            [
             0.3333333333333333,
             "#9c179e"
            ],
            [
             0.4444444444444444,
             "#bd3786"
            ],
            [
             0.5555555555555556,
             "#d8576b"
            ],
            [
             0.6666666666666666,
             "#ed7953"
            ],
            [
             0.7777777777777778,
             "#fb9f3a"
            ],
            [
             0.8888888888888888,
             "#fdca26"
            ],
            [
             1,
             "#f0f921"
            ]
           ],
           "sequentialminus": [
            [
             0,
             "#0d0887"
            ],
            [
             0.1111111111111111,
             "#46039f"
            ],
            [
             0.2222222222222222,
             "#7201a8"
            ],
            [
             0.3333333333333333,
             "#9c179e"
            ],
            [
             0.4444444444444444,
             "#bd3786"
            ],
            [
             0.5555555555555556,
             "#d8576b"
            ],
            [
             0.6666666666666666,
             "#ed7953"
            ],
            [
             0.7777777777777778,
             "#fb9f3a"
            ],
            [
             0.8888888888888888,
             "#fdca26"
            ],
            [
             1,
             "#f0f921"
            ]
           ]
          },
          "colorway": [
           "#636efa",
           "#EF553B",
           "#00cc96",
           "#ab63fa",
           "#FFA15A",
           "#19d3f3",
           "#FF6692",
           "#B6E880",
           "#FF97FF",
           "#FECB52"
          ],
          "font": {
           "color": "#2a3f5f"
          },
          "geo": {
           "bgcolor": "white",
           "lakecolor": "white",
           "landcolor": "#E5ECF6",
           "showlakes": true,
           "showland": true,
           "subunitcolor": "white"
          },
          "hoverlabel": {
           "align": "left"
          },
          "hovermode": "closest",
          "mapbox": {
           "style": "light"
          },
          "paper_bgcolor": "white",
          "plot_bgcolor": "#E5ECF6",
          "polar": {
           "angularaxis": {
            "gridcolor": "white",
            "linecolor": "white",
            "ticks": ""
           },
           "bgcolor": "#E5ECF6",
           "radialaxis": {
            "gridcolor": "white",
            "linecolor": "white",
            "ticks": ""
           }
          },
          "scene": {
           "xaxis": {
            "backgroundcolor": "#E5ECF6",
            "gridcolor": "white",
            "gridwidth": 2,
            "linecolor": "white",
            "showbackground": true,
            "ticks": "",
            "zerolinecolor": "white"
           },
           "yaxis": {
            "backgroundcolor": "#E5ECF6",
            "gridcolor": "white",
            "gridwidth": 2,
            "linecolor": "white",
            "showbackground": true,
            "ticks": "",
            "zerolinecolor": "white"
           },
           "zaxis": {
            "backgroundcolor": "#E5ECF6",
            "gridcolor": "white",
            "gridwidth": 2,
            "linecolor": "white",
            "showbackground": true,
            "ticks": "",
            "zerolinecolor": "white"
           }
          },
          "shapedefaults": {
           "line": {
            "color": "#2a3f5f"
           }
          },
          "ternary": {
           "aaxis": {
            "gridcolor": "white",
            "linecolor": "white",
            "ticks": ""
           },
           "baxis": {
            "gridcolor": "white",
            "linecolor": "white",
            "ticks": ""
           },
           "bgcolor": "#E5ECF6",
           "caxis": {
            "gridcolor": "white",
            "linecolor": "white",
            "ticks": ""
           }
          },
          "title": {
           "x": 0.05
          },
          "xaxis": {
           "automargin": true,
           "gridcolor": "white",
           "linecolor": "white",
           "ticks": "",
           "title": {
            "standoff": 15
           },
           "zerolinecolor": "white",
           "zerolinewidth": 2
          },
          "yaxis": {
           "automargin": true,
           "gridcolor": "white",
           "linecolor": "white",
           "ticks": "",
           "title": {
            "standoff": 15
           },
           "zerolinecolor": "white",
           "zerolinewidth": 2
          }
         }
        },
        "title": {
         "text": "Emissions per Country for Selected Categories"
        },
        "updatemenus": [
         {
          "buttons": [
           {
            "args": [
             {
              "y": [
               [
                3839649.997,
                5890730,
                1078600,
                1283620,
                870492,
                558790,
                311500,
                467400,
                285294.3,
                426036.4,
                347025,
                462744,
                340302.5,
                392000,
                309193,
                372230.1,
                306830,
                180009.42,
                128510,
                130041.7,
                147600.147,
                188412.2,
                115500,
                145728.95,
                109230,
                79540,
                92071.29,
                126320,
                80830,
                120202.3,
                73540,
                55770,
                39120.0062,
                95653.8,
                57483.3,
                92160.139,
                60300.0164,
                62020,
                65861.1,
                29570,
                37979,
                57386.5,
                51226.8,
                22327,
                47590.143,
                33460,
                58509.7,
                49660,
                63315.91,
                34290,
                53810,
                53780,
                46996.3,
                29096.73,
                53743.38,
                42893.5,
                43464,
                39464.4,
                36223.16,
                38082.4,
                21683.07,
                21080,
                26850.333,
                20190,
                16725,
                19620.264,
                7516.81,
                15350,
                15490.284,
                20474,
                14023.44,
                10541.6,
                17072.01,
                15481,
                10204,
                12531.2,
                15201.42,
                10552.689,
                6470,
                9852,
                14588,
                3529.618,
                7132.19,
                8578,
                12303.1,
                5749,
                5953,
                10301,
                2017.57,
                5698,
                5024.9,
                3973,
                4773,
                3106,
                5471,
                7071,
                914,
                5335.23,
                5737,
                2762.61,
                6418.156,
                3019.687,
                3769.2,
                1478,
                3829.7,
                3629,
                1508.471,
                3752,
                2867,
                3160.67,
                1441,
                2699.4858,
                1822,
                2947.37,
                1650.25,
                1086.9,
                1913.5,
                1354.094,
                1532.9,
                2241.539,
                893.67,
                1362.5,
                1124.28,
                1855.61,
                2152.63,
                1962.075,
                1753.853,
                779.8,
                2383.3,
                839.9,
                1163,
                459,
                522.7,
                899.7,
                454.31,
                1214.16,
                437.7,
                410.9,
                546.7,
                506.5,
                608.8,
                398.3,
                282.71,
                573.92,
                295.52,
                369.28,
                295.9,
                349.9029,
                231.05,
                286.9,
                153.36,
                191.921,
                144.4,
                172.473,
                148.0548,
                104.9,
                133.1,
                95.876,
                86.99,
                48.366,
                84.683,
                33.53,
                7.3419
               ],
               [
                9311518.108,
                5534730,
                1767200,
                1240120,
                794375,
                543755,
                562700,
                527800,
                447129,
                501269,
                438862,
                415262,
                405903.9,
                384590,
                326506,
                335243.3,
                283800,
                271214,
                259698.48,
                212857.8,
                211800.352,
                199812.9,
                163700,
                191740.1,
                160600,
                112490,
                120601.69,
                110270,
                117500,
                116511.96,
                84519,
                93290,
                79280.0202,
                83843.85,
                77966,
                85134.53,
                72460.0491,
                71360,
                71080.193,
                55910,
                58720,
                65691.8,
                63334.7,
                51710,
                56980.138,
                54600,
                53310,
                64240,
                51342.1,
                64200,
                64400,
                57797,
                45847.51,
                43487.98,
                47633.81,
                40720.5,
                30230,
                39510.2,
                34162.6,
                38620.3,
                37253.77,
                31720,
                34590.469,
                28050,
                23433,
                20670.365,
                14096.791,
                20680,
                19990.117,
                21710.0298,
                22270.49,
                13501.9,
                20989.22,
                24220,
                13131,
                14471.29,
                16033.45,
                12050.871,
                9915,
                11200,
                8380,
                6425.926,
                8746.341,
                10922,
                9037.1,
                9104,
                8862,
                7753,
                5147.61,
                7124.2,
                8053.1,
                7400,
                6512,
                4920,
                7591,
                7631,
                8630,
                6371.29,
                6421,
                8653,
                5899.225,
                4777.423,
                5223.0745,
                3600,
                4573,
                4390,
                4732.258,
                4509,
                3219,
                4930.46,
                3741,
                3930.352,
                2607,
                3831.68,
                3180.5,
                2120.14,
                2008,
                2631.147,
                2543,
                2442.185,
                2061.78,
                2123,
                2028.13,
                2285.95,
                2606.654,
                2404.222,
                1894.859,
                1231.6,
                2514.35,
                1148.63,
                1471,
                844,
                1155.4,
                1066,
                939.25,
                1024.38,
                780.2,
                606.3,
                599.9,
                646.6,
                501.5,
                538.97,
                438.9,
                446.38,
                458.24,
                519.73,
                324.1,
                369.301,
                338.48,
                285.2,
                246.23,
                261.15,
                188.39,
                220.673,
                221.2848,
                163.45,
                183.1,
                117.527,
                124.11,
                99.917,
                44.452,
                59.311,
                7.3423
               ],
               [
                10722793.6,
                5287730,
                2394200,
                1219430,
                760367,
                574037,
                701300,
                509700,
                519146,
                500047,
                521679,
                343248,
                379804.5,
                342210,
                299445,
                219109.16,
                265720,
                300516.5,
                240156.46,
                250566.2,
                232900.39,
                179213.1,
                251000,
                199361,
                176400,
                169890,
                166901.96,
                108140,
                112200,
                103141.7,
                113531,
                101030,
                120900.0281,
                75997.24,
                87867.2,
                67623.63,
                82350.0506,
                69080,
                64380.193,
                74970,
                74710,
                61986.3,
                72097.8,
                72100,
                54020.196,
                58790,
                47481.5,
                49290,
                51515.7,
                59900,
                45410,
                41326,
                47255.7,
                49818.63,
                32573.88,
                36794.6,
                35300,
                35879.53,
                38332.4,
                33650.3,
                42194.12,
                35210,
                29634.476,
                30340,
                29090,
                23570.413,
                23506.828,
                25350,
                25810.0053,
                18910.0298,
                19316.67,
                22605,
                20408.343,
                14136,
                19942,
                15415.97,
                13442,
                16631.08,
                16590,
                15620,
                12731,
                12801.15,
                15050.18,
                9169,
                7527.3,
                10792,
                10232,
                8022.8,
                8610.6,
                10540,
                10264.2,
                9950,
                10458,
                6830,
                7492,
                6654,
                8184,
                6789.32,
                6818,
                6973,
                6670.273,
                6579.451,
                6261.0119,
                7360,
                5470.6,
                5201,
                5644.315,
                5302,
                5670,
                4892.6,
                4713,
                4224.852,
                4286,
                3751.66,
                3898.4,
                3816.19,
                3558,
                2714.18,
                2504.5,
                2751.894,
                3181.56,
                3223,
                2996.1,
                2336.29,
                1677.571,
                2053.185,
                2014.222,
                2180.9,
                903.05,
                2060.5,
                1280.4,
                1388,
                1231,
                1110,
                1305.9,
                984.78,
                1226,
                937.6,
                957.2,
                666.7,
                658.1,
                644.94,
                531.3,
                482.85,
                483.16,
                435.1,
                437.5,
                361.2222,
                301.59,
                314.5,
                287.56,
                261.1,
                236.59,
                235.645,
                214.2448,
                171.59,
                180.61,
                121.58,
                135.17,
                115.02,
                55.467,
                62.943,
                11.027
               ],
               [
                11515339.48,
                4555730,
                2501200,
                1036020,
                603759,
                546321,
                613200,
                479700,
                592363,
                391475,
                453396,
                287134,
                356995.03,
                281750,
                291703,
                185711.6,
                216020,
                289818.6,
                270025.3,
                262274.2,
                243100.43,
                155113.6,
                179800,
                172751.7,
                262900,
                212800,
                175502.2,
                115860,
                148600,
                90883.32,
                137143,
                106260,
                107200.0365,
                72013.3,
                89308.4,
                52182.03,
                77080.0594,
                64280,
                59600.193,
                94200,
                82680,
                62697.3,
                46841.3,
                77900,
                51940.179,
                63110,
                49594,
                42970,
                39580.7,
                44800,
                36960,
                41385,
                36816.35,
                46889.27,
                24453.72,
                31399.66,
                36220,
                29688.63,
                33162.15,
                30842,
                35074.48,
                27140,
                23845.482,
                23780,
                26890,
                23130.462,
                39912.895,
                18810,
                17940,
                17590,
                21911.96,
                29463.9,
                15987.326,
                16622,
                22980,
                15361.85,
                12148.59,
                15971.26,
                19860,
                14080,
                10054,
                15521.37,
                6548.0388,
                8129,
                7122.7,
                10230,
                9920,
                7455.2,
                17492.3,
                9650,
                9623.3,
                11600,
                10683,
                14550,
                8177,
                6175,
                9438,
                8020.36,
                6724,
                7310,
                5353.315,
                8754.111,
                6549,
                9070,
                6448.4,
                6389,
                7380.369,
                4990,
                6520,
                5272.85,
                6115,
                4795.352,
                6130,
                3001.7,
                4024.86,
                4630.286,
                3653,
                3613.211,
                3577.4,
                2715.809,
                3892.22,
                3104,
                3648.7,
                2296.66,
                2217.52,
                1863.25,
                2357.127,
                2625,
                877.9,
                2601.3,
                1120.1,
                1988,
                1591,
                1316,
                1667.71,
                899.08,
                1443,
                1223.9,
                1053,
                624.9,
                676,
                557,
                677.9,
                399.17,
                472.23,
                371.8,
                552.8,
                332.2607,
                337.03,
                315.1,
                389.98,
                267.13,
                341.78,
                231.641,
                241.2254,
                228.9,
                151,
                181.629,
                163.37,
                114.14,
                55.087,
                76.394,
                12.6369
               ]
              ]
             }
            ],
            "label": "CO2 Emissions (in kilotons)",
            "method": "update"
           },
           {
            "args": [
             {
              "y": [
               [
                0.4000902365957553,
                0.5990460991728596,
                0.3281149089683423,
                3.3963232648223016,
                2.438202687789548,
                0.0559647940292468,
                0.1449046141536686,
                0.3834007333338802,
                0.1497946779560099,
                0.2168813999363665,
                0.0407508657467263,
                1.5356208933430675,
                0.0439598022017201,
                0.6088838010503246,
                0.9888322113308922,
                0.6167344876149449,
                0.6071393236638503,
                0.350813493919551,
                0.0471613637197695,
                0.3942485455377796,
                0.1473864366668331,
                4.535353729870256,
                1.381578947368421,
                0.0524129441806934,
                0.1372072428541819,
                0.1814668379278011,
                0.0386571377828235,
                0.2823424228877961,
                0.0875003247568653,
                3.937444313417191,
                0.2451333333333333,
                3.1299809181726346,
                3.3764894010012085,
                0.4012475303178392,
                0.0504722058810617,
                0.6984103836855945,
                0.0797517992424242,
                2.9860375541646604,
                0.7852666595128234,
                0.1991782298262158,
                0.0778098750256095,
                0.2764282273603083,
                71.54581005586593,
                0.0721389337641357,
                0.1469729742249893,
                0.0749300190348225,
                0.6289471986928666,
                0.0282232856314718,
                0.686634169088622,
                6.686817472698908,
                0.1591329163524523,
                0.119432816264893,
                0.4238521270934983,
                0.0226395640888379,
                1.2471197846567967,
                0.5080904040463866,
                0.5018937644341801,
                0.9560869249218692,
                0.134739731734353,
                0.7766370959518711,
                0.0764670388382041,
                27.55555555555556,
                0.2422003698358289,
                0.1234032149624106,
                0.0134154167000882,
                0.4031284980480789,
                0.004805788061755,
                0.1718116899106803,
                1.4894503846153846,
                0.3617697989186133,
                0.2739113619938668,
                0.0155807608287588,
                0.3774655080923321,
                0.029321852839566,
                0.1555250723975003,
                0.1919019908116386,
                0.7498357421200612,
                0.0181827860646797,
                0.0271241295753627,
                0.0904774586964707,
                0.0373326645459966,
                0.0031962492076428,
                0.1104242208425583,
                3.317092034029389,
                0.4784778127795279,
                0.0762264651286131,
                0.0125210331482416,
                0.937221362933309,
                0.0111446405391222,
                0.0817503586800574,
                0.0448291551431885,
                0.020196012647289,
                0.0238708483578476,
                0.0211032674054395,
                0.10706457925636,
                0.7643498000216192,
                0.0014013461508976,
                0.0302768209289788,
                0.2726581436243525,
                0.0984852589925492,
                0.023978137013528,
                0.0065242567625961,
                0.0092665801274486,
                0.0018489329230153,
                0.0065832946555962,
                0.122011901960125,
                0.0133941059473282,
                0.02877962721485,
                0.0198959056210964,
                0.1099439961040768,
                0.0059783104738671,
                1.3232773529411763,
                0.0024208828383057,
                0.0286152427184466,
                0.002002021128435,
                0.0039638949671772,
                0.0032595679007088,
                0.0238459804525843,
                0.0062349251800843,
                0.0136829385911366,
                0.0007205900376715,
                0.0490990990990991,
                0.001090792665179,
                0.0611302915499917,
                6.812120253164557,
                0.1413802421098141,
                0.0081586321748717,
                0.0006154696132596,
                13.314525139664806,
                0.0459614753201269,
                2.704651162790697,
                0.0119549929676511,
                0.0004070872274143,
                0.0075934303365855,
                1.524530201342282,
                0.0699239806496199,
                0.0039301780567303,
                0.0057276275439085,
                0.020757081023616,
                0.0007943141845851,
                0.0051768707482993,
                0.0173430288252198,
                0.0250185840707964,
                1.2613626373626372,
                0.6670880361173814,
                0.0159172413793103,
                0.0106324110671936,
                0.5680241883116883,
                0.0079959163898117,
                0.0004605254709591,
                0.0042452595155709,
                0.5499169054441261,
                0.0510067114093959,
                0.660816091954023,
                0.3806035989717223,
                0.0469351230425056,
                0.1772303595206391,
                0.1283480589022757,
                0.0071367626548527,
                0.0578540669856459,
                4.03252380952381,
                0.0413440197287299,
                0.2823807692307692
               ],
               [
                0.9702570509828112,
                0.5628433855354091,
                0.5375900863423462,
                3.2812268484219884,
                2.2250029409952328,
                0.054458985624963,
                0.26175867218064,
                0.4329458858656867,
                0.2347665009773865,
                0.2551798918230989,
                0.0515352105564147,
                1.3780513705448991,
                0.0524340995346986,
                0.5973740332804702,
                1.0442010329884708,
                0.5554524065943169,
                0.5615687516077329,
                0.5285586217648893,
                0.0953056919519982,
                0.645322831494602,
                0.2114936861550751,
                4.80978504200467,
                1.958133971291866,
                0.0689613364983455,
                0.2017347175902373,
                0.2566407417462704,
                0.0506359381645611,
                0.2464684845775592,
                0.127196438932719,
                3.8165605345911953,
                0.28173,
                5.235716690986643,
                6.842742982910409,
                0.3517072792177557,
                0.0684566822663775,
                0.6451687292072418,
                0.0958344563388776,
                3.4357246027924893,
                0.8474942828868143,
                0.3765997575104405,
                0.1203032165539848,
                0.3164344894026975,
                88.45628491620111,
                0.167075928917609,
                0.1759721620002347,
                0.1222707423580786,
                0.5730532742830116,
                0.0365095422667288,
                0.5567832820023424,
                12.5195007800312,
                0.1904508420943678,
                0.128353634839383,
                0.413491373479198,
                0.0338370981998356,
                1.1053466839931312,
                0.4823503630613236,
                0.3490762124711316,
                0.9571965016837464,
                0.1270750414747915,
                0.7876068114612013,
                0.1313783277672176,
                41.4640522875817,
                0.3120193848096698,
                0.1714442882464397,
                0.0187960214967514,
                0.4247044380521882,
                0.0090126250226965,
                0.2314700812607732,
                1.9221266346153845,
                0.3836100964766583,
                0.4349959958591324,
                0.0199561617433614,
                0.4640757937560803,
                0.0458739923631735,
                0.2001371742112483,
                0.221612404287902,
                0.790877028560154,
                0.0207642250507006,
                0.0415665756939291,
                0.1028570379009817,
                0.0214455531186901,
                0.0058190038938694,
                0.1354153338803821,
                4.223511214230472,
                0.3514603507953175,
                0.120710686820472,
                0.0186395759717314,
                0.7053953234464562,
                0.0284343359018974,
                0.1022123385939741,
                0.0718449460255152,
                0.0376165350087941,
                0.0325679791548929,
                0.0334282278283202,
                0.1485518590998043,
                0.8248837963463409,
                0.0132315287551937,
                0.036156343103595,
                0.3051661042726106,
                0.3084738511996007,
                0.0220394183817952,
                0.0103219751966122,
                0.0128409313291637,
                0.0045034902049088,
                0.0078610351881457,
                0.1475977540934001,
                0.0420189483404663,
                0.0345861778016414,
                0.0223386537126995,
                0.1715061917350772,
                0.015520374380803,
                1.926643137254902,
                0.0034639086495406,
                0.0372007766990291,
                0.0038584627777535,
                0.0077320933625091,
                0.0034205447319693,
                0.0463352469842387,
                0.0103434110072115,
                0.0149077340984006,
                0.0016624683919909,
                0.0765045045045045,
                0.0019677209663335,
                0.0753071981551638,
                8.24890506329114,
                0.1732398040063409,
                0.0088145686122185,
                0.0009720599842146,
                14.046648044692738,
                0.0628559702309291,
                3.42093023255814,
                0.0219826014481429,
                0.0008998442367601,
                0.0089969953749029,
                3.1518456375838926,
                0.0589944713199723,
                0.0070055401413319,
                0.0084513521048229,
                0.0227769762320601,
                0.0010140247813479,
                0.0042644557823129,
                0.0234681703387616,
                0.0388407079646017,
                0.9810549450549452,
                1.0344018058690745,
                0.0224021551724137,
                0.0116457060725835,
                0.5995146103896104,
                0.0117137320044296,
                0.0004577966689353,
                0.0068160553633217,
                0.7482808022922636,
                0.0665453903214411,
                0.8454904214559387,
                0.5688555269922879,
                0.0731319910514541,
                0.2438082556591211,
                0.1573319946452476,
                0.0101821314299778,
                0.119517942583732,
                2.116761904761905,
                0.0731331689272503,
                0.2823961538461538
               ],
               [
                1.1173114819692902,
                0.5377252106240321,
                0.7283262702132443,
                3.2264832885295176,
                2.12974830682703,
                0.0574918349830289,
                0.3262330847703622,
                0.418098745785791,
                0.2725792554640971,
                0.2545578110085905,
                0.06126034404405,
                1.1390721444215837,
                0.0490626154533781,
                0.5315462386669173,
                0.9576570670163264,
                0.3630339822715599,
                0.5257929833587273,
                0.5856651465544123,
                0.0881340452860655,
                0.7596437136005482,
                0.232563173398572,
                4.313918108947356,
                3.002392344497608,
                0.0717022730542368,
                0.2215815951613814,
                0.3875961917972609,
                0.0700756127555431,
                0.2417076441662941,
                0.12145906764469,
                3.378593422431866,
                0.3784366666666666,
                5.670108878662028,
                10.435010193336783,
                0.3187924040756572,
                0.0771502577025401,
                0.5124671673348137,
                0.1089148079079905,
                3.325950890707752,
                0.7676096982270392,
                0.5049845076114778,
                0.1530628969473468,
                0.2985852601156069,
                100.69525139664805,
                0.2329563812600969,
                0.1668309522485963,
                0.131653790169074,
                0.5104000945951757,
                0.0280130033986155,
                0.5586659003166615,
                11.680967238689547,
                0.1342915021662304,
                0.0917753916876714,
                0.4261916142822355,
                0.0387628460896845,
                0.7558797048312991,
                0.4358465310763909,
                0.407621247113164,
                0.869237832206798,
                0.1425854975859067,
                0.6862506372998879,
                0.1488008576637831,
                46.02614379084967,
                0.2673144145769439,
                0.1854409877146873,
                0.0233336007058634,
                0.4842903842202589,
                0.0150288265064739,
                0.2837411295919053,
                2.481731278846154,
                0.3341348870905043,
                0.3773008184073285,
                0.0334107819054122,
                0.4512324887237994,
                0.0267743499606036,
                0.3039475689681451,
                0.2360791730474732,
                0.663049376017363,
                0.0286561434402714,
                0.0695501251399177,
                0.1434488332154763,
                0.0325803504479766,
                0.0115920945395273,
                0.2330146000092895,
                3.545630317092034,
                0.2927429704818574,
                0.1430920180323521,
                0.0215211172808345,
                0.7299426803748522,
                0.0475631783909188,
                0.1512195121951219,
                0.0915710589704701,
                0.0505789896402029,
                0.0523028141894764,
                0.0464054463551681,
                0.1466144814090019,
                0.7192735920441033,
                0.0125477208960029,
                0.0385286156116108,
                0.3240340288009125,
                0.2485829382196713,
                0.0249200424407939,
                0.0142153897675222,
                0.0153927009578318,
                0.0092071355300357,
                0.0094040190466367,
                0.1748646740409508,
                0.050117339418586,
                0.0406688655365498,
                0.0393476752255378,
                0.170189230555169,
                0.0195529335623428,
                2.071005882352941,
                0.0056947880598125,
                0.0364238834951456,
                0.0047293920115687,
                0.0139175419401896,
                0.006060905456348,
                0.0477974817293299,
                0.0101868159133154,
                0.0167982785984617,
                0.0025653769738879,
                0.1161441441441441,
                0.0029068594159309,
                0.0769655740405205,
                5.308768987341772,
                0.1479453091223519,
                0.0093698254166879,
                0.0017213101815311,
                5.044972067039106,
                0.1127558279522819,
                2.9776744186046518,
                0.0361514820023962,
                0.000958722741433,
                0.0093683535329664,
                4.382214765100671,
                0.0567138908085694,
                0.0110084493889682,
                0.0130694173403958,
                0.0363429265699749,
                0.001045546430134,
                0.0055960884353741,
                0.0280823826526169,
                0.0470176991150442,
                1.0612087912087913,
                1.0906546275395037,
                0.0187543103448275,
                0.0157204455623427,
                0.5863996753246753,
                0.0104370847176079,
                0.0005048283744044,
                0.0079601384083044,
                0.748137535816619,
                0.0835711762628046,
                0.9028544061302682,
                0.5507578406169665,
                0.0767740492170022,
                0.2404926764314247,
                0.1627576974564926,
                0.0110895069324801,
                0.1375837320574162,
                2.641285714285714,
                0.0776115906288532,
                0.4241153846153845
               ],
               [
                1.1998944957569897,
                0.4632859230324206,
                0.760876145291691,
                2.7411997544609785,
                1.6910974673829624,
                0.0547159795967217,
                0.285250431457559,
                0.3934902263163507,
                0.3110220737605201,
                0.1992873051224944,
                0.0532419264493991,
                0.9528572376717328,
                0.0461161199397511,
                0.4376352320049207,
                0.932897324783728,
                0.3076987822052854,
                0.4274491956388389,
                0.564816417212348,
                0.0990954897427428,
                0.7951389583655453,
                0.2427484447551051,
                3.733808343162506,
                2.150717703349282,
                0.0621319594302978,
                0.3302369692059365,
                0.485493375798794,
                0.0736865175516565,
                0.2589628967367009,
                0.1608629006417195,
                2.977047955974843,
                0.4571433333333333,
                5.96363228196206,
                9.252549326773693,
                0.3020806154594762,
                0.078415678148405,
                0.3954472290215752,
                0.1019448051570171,
                3.0948483389504093,
                0.7106174124548413,
                0.6345143472989357,
                0.1693915181315304,
                0.3020101156069364,
                65.42081005586593,
                0.2516962843295638,
                0.1604072210795486,
                0.1413279587952077,
                0.5331083114761147,
                0.024421155529286,
                0.4292358912072181,
                8.736349453978159,
                0.1093022224193763,
                0.0919064169044737,
                0.3320407831960966,
                0.0364835716330951,
                0.5674506891910707,
                0.3719413416093152,
                0.4182448036951501,
                0.7192535794752526,
                0.1233536553612212,
                0.6289793004996431,
                0.1236928914766135,
                35.47712418300654,
                0.2150954537254194,
                0.1453456390196198,
                0.0215689420068982,
                0.4752509143209369,
                0.025517861207225,
                0.2105392760403841,
                1.725,
                0.3108103332508746,
                0.4279930464675664,
                0.0435484157037326,
                0.3534829309277438,
                0.0314829686647675,
                0.3502514860539552,
                0.235250382848392,
                0.5992497410348739,
                0.0275192421347182,
                0.0832589201494132,
                0.1293059905040913,
                0.0257295454719941,
                0.0140553925563705,
                0.1013800925854247,
                3.1434648105181746,
                0.2770077392758526,
                0.1356404136833731,
                0.0208648830556957,
                0.6783004276226003,
                0.0966238572651697,
                0.1384505021520803,
                0.085853332143813,
                0.0589664602840556,
                0.053428089882021,
                0.0988578688825324,
                0.1600195694716242,
                0.6674954059020647,
                0.0144703555494227,
                0.0455146270181312,
                0.3195665605246899,
                0.2605967701686214,
                0.0199999066003653,
                0.0189139032927145,
                0.0161007198489497,
                0.0113462933773674,
                0.011084867550238,
                0.2148068453081397,
                0.0655322139546447,
                0.0382756769195367,
                0.0452463566967383,
                0.1834162376513148,
                0.0253694438221359,
                2.350662745098039,
                0.0081449021947388,
                0.0291427184466019,
                0.0048828085193111,
                0.0168865280816921,
                0.0062227340168744,
                0.0636296733292242,
                0.0145507347767198,
                0.0165780063484312,
                0.0031384011507895,
                0.1118558558558558,
                0.0035400213447171,
                0.0756600230604513,
                7.017468354430379,
                0.1342592592592592,
                0.0109649623899259,
                0.0020718232044198,
                4.904469273743016,
                0.1423497865820291,
                2.6048837209302325,
                0.0517789237901755,
                0.0012390965732087,
                0.0111069849093548,
                5.596342281879195,
                0.0517783920755586,
                0.0129569269724968,
                0.0170602174519096,
                0.0399802566633761,
                0.0009799939465888,
                0.0057482993197278,
                0.0242532439258033,
                0.0599911504424778,
                0.8772967032967033,
                1.065981941309255,
                0.0160258620689655,
                0.0198634567014013,
                0.5393842532467532,
                0.0116635520487264,
                0.0005057914810011,
                0.010795294117647,
                0.7654154727793696,
                0.1207276580713528,
                0.8875134099616858,
                0.6201167095115682,
                0.1024161073825503,
                0.2010652463382157,
                0.243144578313253,
                0.0134030683403068,
                0.1365311004784689,
                2.6231904761904765,
                0.09419728729963,
                0.4860346153846154
               ]
              ]
             }
            ],
            "label": "CO2 Emissions per Area (in kilotons per km²)",
            "method": "update"
           },
           {
            "args": [
             {
              "y": [
               [
                0.0030374597143224,
                0.020859632305341,
                0.0010178989451236,
                0.0101228778830322,
                0.0106741152606831,
                0.0182115275491926,
                0.0144565072614363,
                0.009984349308164,
                0.0013326999277501,
                0.004352931615504,
                0.0019731486887296,
                0.0081231045733856,
                0.0178937407754973,
                0.0066819564147915,
                0.0080300628257563,
                0.0076152202481374,
                0.0075311135525656,
                0.0028542748687447,
                0.0084344884532962,
                0.0056675027184394,
                0.0020680581713919,
                0.0118504685946751,
                0.0352635899922236,
                0.0039311008181269,
                0.0007075860191522,
                0.0032295447884753,
                0.0029917928152551,
                0.0050678913696361,
                0.0006579462322724,
                0.0117106667226533,
                0.0009433257605166,
                0.0288231801006873,
                0.0605631914567519,
                0.0043637929338651,
                0.0014658447561126,
                0.0083492687923266,
                0.0039278794882606,
                0.0101390266207484,
                0.0082219202269841,
                0.0002288817904658,
                0.0083120820322109,
                0.0055951440664407,
                0.0126373531491251,
                0.0095241426586635,
                0.0105963042855787,
                0.0011717977762808,
                0.0057350896461546,
                0.0096337581162375,
                0.0061468021458113,
                0.0257393205089614,
                0.0103956389705284,
                0.0060624212958949,
                0.0058036667489534,
                0.0010916279273407,
                0.0100630690430293,
                0.0113807559134506,
                0.0053067413465404,
                0.0054948587863174,
                0.0093957615375955,
                0.0070828706880999,
                0.0017172659073487,
                0.0296299628079309,
                0.0024176875829916,
                0.0020407717695462,
                0.0010201864553153,
                0.0022972420236017,
                0.0030668602219766,
                0.0030358923565526,
                0.0035851810911433,
                0.0045013294685599,
                0.0033554117267039,
                0.0002314884963287,
                0.0122215556559382,
                0.0008310295404402,
                0.000543448997679,
                0.0034812399139135,
                0.0076606970885519,
                0.0003420466668736,
                0.000329002534489,
                0.0008394758848367,
                0.0012326488701507,
                5.265582114846958e-05,
                0.0029810242713779,
                0.0196911126006592,
                0.0060370394359783,
                0.001915228246635,
                0.0003944580009242,
                0.0039434117919535,
                0.0001664820918105,
                0.0013359367453411,
                0.0007548606859979,
                0.0004094066879926,
                0.0009671375847942,
                0.0001264683727274,
                0.0013749018959371,
                0.007456996510366,
                4.676870704788041e-05,
                0.001620554980463,
                0.0009628291232565,
                0.0040331427186606,
                0.0050420139284409,
                0.0005482070048147,
                0.0007356231748233,
                8.318088663058597e-05,
                0.0022175641363416,
                0.0011453285963207,
                0.000215556736524,
                0.0007323516334056,
                0.0004570382455087,
                0.0009932901134216,
                5.998993284832659e-05,
                0.0022200996767906,
                0.0001842053329364,
                0.0104716444848682,
                0.0009071589283073,
                9.14676634165028e-05,
                0.0001179976037884,
                0.000270384292442,
                0.000183867826273,
                0.0046796416686499,
                7.951436685193949e-05,
                0.0001629740826353,
                0.0004171720773594,
                0.0009284409820727,
                0.0053921976293297,
                0.0060368937953442,
                0.0023105865086799,
                6.70930462161647e-05,
                0.0267482968765782,
                0.0010088779820998,
                0.0043943670486705,
                0.0007816664310881,
                6.32874839102439e-05,
                8.012013478562988e-05,
                0.0016081371435044,
                0.0011782287364531,
                0.0001511800123237,
                8.963656072217095e-05,
                6.74106956248646e-05,
                5.807510550119733e-05,
                0.0002544214503025,
                0.0016567806127966,
                0.000196662490548,
                0.0071686235323507,
                0.0039373792552128,
                0.0004976598075826,
                4.691122332389877e-05,
                0.0021937485893416,
                0.0005373530738781,
                7.632003873195413e-05,
                0.0001245969245618,
                0.0017864416561173,
                0.0007847484891961,
                0.0037938672708475,
                0.0013008601829316,
                0.0001954325785549,
                0.0019474438884499,
                0.0009344366149137,
                0.0004528983620896,
                0.0003365434126111,
                0.0081606437313289,
                0.0003774795667935,
                0.0007617659265407
               ],
               [
                0.0069066738810331,
                0.0177861025725887,
                0.0014244563911848,
                0.0096804638985212,
                0.0097678957379573,
                0.0160100227856965,
                0.0191316931303621,
                0.0101921561297737,
                0.0018323744467543,
                0.00445444152569,
                0.0022350608360965,
                0.006941574609532,
                0.0184341161300917,
                0.0061589025030792,
                0.0084592847597605,
                0.0073384662397538,
                0.0060936892483015,
                0.0039726388952626,
                0.01561829599364,
                0.0074120688713185,
                0.0024274440639252,
                0.0120245233890164,
                0.0193002145424581,
                0.0046651952842087,
                0.0008259001548012,
                0.003597967367533,
                0.00336346867935,
                0.0038536774032022,
                0.0007300274447449,
                0.010710840933496,
                0.0008930890447363,
                0.031695112653719,
                0.0462677765561095,
                0.0041230872893327,
                0.0017396869893298,
                0.0077158060839151,
                0.0042613125598309,
                0.009737399953196,
                0.0084995392109536,
                0.0003767745188612,
                0.011146608655706,
                0.0067504796573,
                0.012265633018888,
                0.0179429365345391,
                0.0116529971628354,
                0.0016818181748176,
                0.0053380328582907,
                0.009895273990032,
                0.0048489002258225,
                0.0455223584268834,
                0.0120075976022841,
                0.0061605915071731,
                0.0060387067219527,
                0.0014878076216784,
                0.0085813557529667,
                0.00899983092372,
                0.0032726360211674,
                0.0050508824937503,
                0.0078600881937852,
                0.0071566466978873,
                0.0024853103004519,
                0.0261361436004762,
                0.0030637016329866,
                0.0025745606060286,
                0.0010029453199416,
                0.0021144520295363,
                0.0052161652827731,
                0.0029835853751223,
                0.0040013845630329,
                0.0049694690068995,
                0.0058436042410986,
                0.0002733676839993,
                0.0157631755830676,
                0.0009788252851828,
                0.0006353128571094,
                0.0046101313818106,
                0.0077934958970216,
                0.0002902572733998,
                0.0003876875440938,
                0.000770123551884,
                0.0006526596151909,
                7.200902137974259e-05,
                0.0041618920500778,
                0.0215394324255033,
                0.0043160660761055,
                0.0025124068023745,
                0.0004458186915447,
                0.0028358796384354,
                0.0003583805153217,
                0.0018567927542286,
                0.0009529243694157,
                0.0005905768986588,
                0.0011875033507945,
                0.0001811382973596,
                0.0016422730738176,
                0.0067549743911139,
                0.0003061404900347,
                0.0019003737639259,
                0.0010502067865504,
                0.0079057197466661,
                0.0034476113388716,
                0.0006299951907284,
                0.0009054298667634,
                0.0001560216355201,
                0.0021862976080288,
                0.0014900079523659,
                0.0005009954783706,
                0.0007700144849475,
                0.0004223423429097,
                0.0016923394289625,
                0.0001156709993974,
                0.0030626199029088,
                0.0001890214431667,
                0.0120367037033546,
                0.0015150497482221,
                0.000131548079044,
                9.240233319572688e-05,
                0.0004003659545136,
                0.0002475968597357,
                0.0044722110313507,
                0.0001327681092776,
                0.0002156889040606,
                0.0005931139439812,
                0.0011301215624099,
                0.0062247710475098,
                0.0064409385113268,
                0.002533464272153,
                7.398088714953311e-05,
                0.0250580520425349,
                0.0012689674524867,
                0.0053547182311592,
                0.0011962875398998,
                9.713547860325e-05,
                7.242624243278254e-05,
                0.0025976630021434,
                0.0009313222779838,
                0.0001940817262676,
                9.41942592304315e-05,
                5.819169619336676e-05,
                5.376393707008495e-05,
                0.000159321313443,
                0.0016732690480773,
                0.0002265553419106,
                0.0048304818794706,
                0.0053473364840422,
                0.0005654161938818,
                3.5511562075930754e-05,
                0.0021604762044051,
                0.000626357805601,
                6.120083681200292e-05,
                0.0001571125942752,
                0.0022900060505616,
                0.0009677303361551,
                0.0046552538868847,
                0.0020244154133274,
                0.0002491524700315,
                0.0026630790487964,
                0.0010944656044252,
                0.0005056365169706,
                0.0005485785503299,
                0.0043405917390879,
                0.0005492013519144,
                0.000695952606635
               ],
               [
                0.007693674928686,
                0.0162895974494461,
                0.0018098576016179,
                0.0095828766929355,
                0.0092644950985599,
                0.0160650110771466,
                0.0214138398443864,
                0.0091219021147063,
                0.0020037131988305,
                0.0041618595811197,
                0.0025424414624612,
                0.0056986790575902,
                0.0159446153262293,
                0.0053629719298936,
                0.0077670704227354,
                0.0048709797867458,
                0.0057228584950226,
                0.0042751131359729,
                0.0134647726673196,
                0.0080648732445148,
                0.0023832514943468,
                0.0105165175008877,
                0.0281487992630621,
                0.0046087500388664,
                0.0008361406217505,
                0.0044994661104974,
                0.0042207548745352,
                0.0034940884346868,
                0.000609796577677,
                0.009169534284416,
                0.0011019071716656,
                0.0258471841203169,
                0.0500709765660429,
                0.003817790535243,
                0.0018647645843796,
                0.006257599378012,
                0.0046082528918098,
                0.0086266127757287,
                0.0074493238642273,
                0.0004750047519482,
                0.0129560208038559,
                0.0063899390234159,
                0.012760631913031,
                0.0172003465834052,
                0.0104078016999219,
                0.001695190991999,
                0.0048232744285341,
                0.0079599692195144,
                0.0049699506098875,
                0.0410224239938034,
                0.008287311470964,
                0.0041958103017773,
                0.0064651887135388,
                0.001622129859071,
                0.0057370641706746,
                0.0078860892973492,
                0.0035788585772972,
                0.0043323703302642,
                0.0083502120642444,
                0.0062034560592753,
                0.0026052343364389,
                0.0258489937172482,
                0.0026132939161512,
                0.0026250718239204,
                0.0010342110546389,
                0.0022651156582193,
                0.0079287750834893,
                0.0026700382526427,
                0.0040334813734774,
                0.0044443835513412,
                0.0054809574829101,
                0.0004390688833912,
                0.0155237016195098,
                0.0004957122260077,
                0.0009346338845229,
                0.0052014818988685,
                0.0064598229003172,
                0.0003549744247183,
                0.0005746262703821,
                0.000976182460376,
                0.0008994035084719,
                0.0001249235217129,
                0.0075554819260475,
                0.0161026891086883,
                0.0035708897978236,
                0.0027272504428117,
                0.0004446250987391,
                0.0028709815365841,
                0.0005584943833065,
                0.0027949167517869,
                0.0011043299239712,
                0.0006930812588668,
                0.0017680533154803,
                0.0002473712279735,
                0.0015304657052705,
                0.005604406711138,
                0.0002424637516839,
                0.0019952051505546,
                0.0010941947974872,
                0.0051767927048277,
                0.0032882509734944,
                0.0007578114651929,
                0.0010134448967699,
                0.0002741844261308,
                0.0023731861974664,
                0.0018067842124369,
                0.000516274310027,
                0.0008417746298461,
                0.0006651757501088,
                0.0016973572419037,
                0.0001257559364646,
                0.0032670936849699,
                0.0002637825781638,
                0.0113322660544916,
                0.0017077991715088,
                0.000203877878316,
                0.0001431738199386,
                0.000363187050738,
                0.0002154223663207,
                0.0047819523002736,
                0.0001756515395347,
                0.0003050997859946,
                0.0007592328861543,
                0.0011027929390362,
                0.0036742184813581,
                0.0052284203851824,
                0.0026677341725041,
                0.000108350882576,
                0.0086617685143443,
                0.0022465111208024,
                0.0046043807064797,
                0.0018674136321195,
                8.705630456665833e-05,
                6.552947639823078e-05,
                0.0029980577709822,
                0.0008684617121248,
                0.0002658093123886,
                0.0001281789605774,
                8.221277769680372e-05,
                4.8438284888025245e-05,
                0.0001970355741875,
                0.0017921421842827,
                0.0002358049879878,
                0.0048654776299879,
                0.0053719660666436,
                0.0004323936481561,
                4.078437250982274e-05,
                0.0020568046326506,
                0.0004922632455195,
                6.52579931704242e-05,
                0.0001607451203771,
                0.002194486468314,
                0.0011621989379626,
                0.0049308432726511,
                0.0020120283240359,
                0.000234985264634,
                0.0025798848686559,
                0.0011456625393415,
                0.0004889704020431,
                0.0005718860006761,
                0.0049590523021904,
                0.0005393249762225,
                0.0010137905672519
               ],
               [
                0.0080813382059561,
                0.0135610610144513,
                0.0017911938255787,
                0.0082719627689656,
                0.007245485808612,
                0.0144190993067722,
                0.0170347022609344,
                0.0081578959138532,
                0.0021789429237627,
                0.0031069863147838,
                0.0021266597567282,
                0.004825734552936,
                0.013907063527065,
                0.004369568368686,
                0.0075908249650791,
                0.0042294013350044,
                0.0045608664860913,
                0.0040547870950873,
                0.0142274009558758,
                0.0078998269668309,
                0.0022621330374928,
                0.0088969051522215,
                0.0193597937998914,
                0.0038358552547435,
                0.001157146880025,
                0.005000354348419,
                0.0040390211965635,
                0.0034557577111179,
                0.0007133002976732,
                0.0078607113459013,
                0.001222406682491,
                0.0243690780113217,
                0.0388351757091854,
                0.0037039995498414,
                0.0017535291412469,
                0.004963934395664,
                0.0039937202786586,
                0.0073400035101385,
                0.0066908043387255,
                0.000562653595248,
                0.0132278729906608,
                0.0065080955060028,
                0.0079259455666445,
                0.0171457536527168,
                0.0096545972844168,
                0.001720144789801,
                0.0050862651866715,
                0.0064578260525865,
                0.003843461065787,
                0.0295096588143308,
                0.0066841873395415,
                0.003991235772814,
                0.0052751722087496,
                0.0014078851080608,
                0.0041976016029824,
                0.0063483430139873,
                0.0035216502246826,
                0.0034367357352389,
                0.0065523174356413,
                0.0056521537542693,
                0.0019941604204315,
                0.0183692517406456,
                0.002110089305988,
                0.0019553150486982,
                0.0008044037891636,
                0.0021028335047325,
                0.0121156151393225,
                0.0017211529144169,
                0.0031679752664834,
                0.0042935237356927,
                0.006603156273477,
                0.0005515188364425,
                0.0120255730967231,
                0.0005148673124799,
                0.0010582508127186,
                0.0054469488172573,
                0.0057368505804336,
                0.0003072236292309,
                0.0006171458211474,
                0.0008109329426418,
                0.0006416218443966,
                0.0001324451688919,
                0.0034516917828293,
                0.0128950077649234,
                0.0033739730336056,
                0.0023821743500133,
                0.00037446557025,
                0.0026432792660425,
                0.0010668079132224,
                0.0025624603017808,
                0.0009507533420808,
                0.0007057627168554,
                0.0016627563435485,
                0.0004957642481878,
                0.0015961023637032,
                0.00498974980142,
                0.0002421724391958,
                0.0023389206336615,
                0.0010685344725525,
                0.0045800598853794,
                0.0023350685016354,
                0.0008978906913486,
                0.0009894699785985,
                0.0002909080272301,
                0.0025323574203915,
                0.0022772247584124,
                0.0005837457248497,
                0.0007386142028554,
                0.0006832084853655,
                0.00183924929426,
                0.0001377109237596,
                0.0036949056423501,
                0.0003238637099089,
                0.0081864024501662,
                0.001616995393512,
                0.0002151357366893,
                0.0001294234576456,
                0.0004279747423181,
                0.0002709093942342,
                0.0044736708589689,
                0.0001833873287083,
                0.0002745250402832,
                0.0008110738353498,
                0.0010188811499046,
                0.00430288130364,
                0.0045839678599457,
                0.0029567499830657,
                0.0001078753572369,
                0.0082366186611624,
                0.0028262036326815,
                0.0039904807031169,
                0.0025734427952663,
                9.558597658197645e-05,
                6.791535620391554e-05,
                0.0032418095086288,
                0.000761509501082,
                0.0002836316805776,
                0.0001486403458647,
                8.009820511560537e-05,
                3.778795400572872e-05,
                0.0001901082942336,
                0.0014104086640112,
                0.0002633649249512,
                0.00378252629584,
                0.0050961538461538,
                0.000341052106304,
                4.523647555810542e-05,
                0.0018537506206865,
                0.0004876076222057,
                5.8974138221455286e-05,
                0.000193458965745,
                0.0021601449099568,
                0.0015901995542714,
                0.0048621174593845,
                0.0023054648673445,
                0.0002839365589717,
                0.0020973678727689,
                0.0017256256294297,
                0.0005241509857708,
                0.0005220429837038,
                0.0044731628095818,
                0.0006040818263049,
                0.0011416478453338
               ]
              ]
             }
            ],
            "label": "CO2 Emissions per Capita (in kilotons per person)",
            "method": "update"
           }
          ],
          "direction": "up",
          "pad": {
           "r": 10,
           "t": 10
          },
          "showactive": true,
          "x": 0,
          "xanchor": "left",
          "y": -0.8,
          "yanchor": "bottom"
         }
        ],
        "width": 6000,
        "xaxis": {
         "title": {
          "text": ""
         }
        },
        "yaxis": {
         "title": {
          "text": ""
         }
        }
       }
      }
     },
     "metadata": {},
     "output_type": "display_data"
    }
   ],
   "source": [
    "# Sort by 'total_CO' (or any other initial sort criteria) and select the top 10\n",
    "merge = pd.read_csv('../graphs/graphA/merge.csv')\n",
    "years = ['2000', '2010', '2015', '2020']\n",
    "# LULUCF filter:\n",
    "# Removes all rows with 'All sectors with LULUCF' in the 'Item' column\n",
    "merge = merge[merge['Item'] != 'All sectors with LULUCF']\n",
    "\n",
    "# Calculate the average of the relative values for each country\n",
    "merge['avg_total'] = merge[[year for year in years]].mean(axis=1)\n",
    "\n",
    "# Sort by the average\n",
    "total_sort = merge.sort_values('avg_total', ascending=False)\n",
    "\n",
    "# Create a new Figure\n",
    "fig = go.Figure()\n",
    "\n",
    "for year in years:\n",
    "    fig.add_trace(go.Bar(\n",
    "        x=total_sort['Area'],\n",
    "        y=total_sort[year],\n",
    "        name=year,\n",
    "        width=0.2,\n",
    "    ))\n",
    "\n",
    "\n",
    "# Change the bar mode to group\n",
    "fig.update_layout(barmode='group')\n",
    "\n",
    "# Add labels and title\n",
    "fig.update_layout(\n",
    "    title='Emissions per Country for Selected Categories',\n",
    "    xaxis_title='',\n",
    "    yaxis_title=''\n",
    ")\n",
    "\n",
    "# Define dropdown menus for switching categories\n",
    "fig.update_layout(\n",
    "    updatemenus=[\n",
    "        dict(\n",
    "            buttons=[\n",
    "                dict(label=\"CO2 Emissions (in kilotons)\",\n",
    "                     method=\"update\",\n",
    "                     args=[{\"y\": [total_sort[year] for year in years]}]),\n",
    "                dict(label=\"CO2 Emissions per Area (in kilotons per km²)\",\n",
    "                     method=\"update\",\n",
    "                     args=[{\"y\": [total_sort[year+'/area'] for year in years]}]),\n",
    "                dict(label=\"CO2 Emissions per Capita (in kilotons per person)\",\n",
    "                     method=\"update\",\n",
    "                     args=[{\"y\": [total_sort[year+'/pop'] for year in years]}])\n",
    "            ],\n",
    "            direction=\"up\",\n",
    "            pad={\"r\": 10, \"t\": 10},\n",
    "            showactive=True,\n",
    "            x=0,\n",
    "            xanchor=\"left\",\n",
    "            y=-0.8,\n",
    "            yanchor=\"bottom\"\n",
    "        ),\n",
    "    ],\n",
    "    width=6000,\n",
    "    bargroupgap=1,\n",
    "    legend=dict(x=-0.02, y=1, xanchor='left', yanchor='top'),\n",
    ")\n",
    "\n",
    "# Show the plot\n",
    "fig.show()"
   ]
  },
  {
   "cell_type": "markdown",
   "id": "21ccd289",
   "metadata": {
    "tags": [
     "hide-input"
    ]
   },
   "source": [
    "</div>\n",
    "\n",
    "> *Figure 3: Shows the CO2 emissions per country, in total, per km² and per person.*"
   ]
  },
  {
   "cell_type": "markdown",
   "id": "3fb51e85",
   "metadata": {
    "tags": [
     "hide-input"
    ]
   },
   "source": [
    "When you look at the total CO2 emissions per country, China comes out on top by a very large margin. In fact, looking at the years before 2020, we can notice a steep increase in emissions. This is a prime example of countries that seem to not take any action towards combatting the issue of global warming and the increase of emissions. When we divide the total CO2 emissions by each country's surface area to get the emissions/km², we can see a totally different distribution. Singapore is the highest, which is to be expected. Singapore is a very small country, filled with large skyscrapers and dense infrastructure. The most interesting graph however, is when we look at CO2 emissions per Capita. We can see that this distrubution of emissions per country is the most evenly distributed, with Qatar at the highest emissions/capita in 2000. Luckily, most countries in this visualization show a gradual decrease in emissions/capita.\n"
   ]
  },
  {
   "cell_type": "code",
   "execution_count": 33,
   "id": "02734a30",
   "metadata": {
    "ExecuteTime": {
     "end_time": "2024-06-27T11:25:51.036250Z",
     "start_time": "2024-06-27T11:25:51.011909Z"
    },
    "tags": [
     "hide-input"
    ]
   },
   "outputs": [],
   "source": [
    "# Imports\n",
    "import pandas as pd\n",
    "import matplotlib.patches as mpatches\n",
    "import matplotlib.pyplot as plt\n",
    "import matplotlib.colors as mcolors\n",
    "import numpy as np\n",
    "import seaborn as sns\n",
    "import geopandas as gpd\n",
    "\n",
    "merge = pd.read_csv('../graphs/graphA/merge.csv', usecols=['Area','2020','2020/area','2020/pop'])\n",
    "gdf = gpd.read_file('../graphs/graphC/shapes/ne_110m_admin_0_countries.shp')\n",
    "\n",
    "\n",
    "def plot_emissions_by_country(data, country_col, emission_col, graph_title, unit):\n",
    "\n",
    "    # Load the world dataset\n",
    "    world = gdf\n",
    "    # Remove Antarctica and Seven seas (open ocean) from the dataset\n",
    "    world = world.loc[~world[\"ADMIN\"].isin([\"Antarctica\", \"Seven seas (open ocean)\"])]\n",
    "    \n",
    "    # Fix the name of the United States in the world dataset\n",
    "    data['Area'] = data['Area'].replace('United States', 'United States of America')\n",
    "\n",
    "    # Initialize a final empty figure\n",
    "    fig, ax = plt.subplots(figsize=(20, 10))\n",
    "    \n",
    "    # Start by plotting a map of the world\n",
    "    world.boundary.plot(ax=ax, color=\"black\", linewidth=0.5)\n",
    "    \n",
    "    # Categorize emission values into quartiles\n",
    "    data[emission_col + '_quartile'] = pd.qcut(data[emission_col], 4, labels=False)\n",
    "    \n",
    "    # Calculate min and max values for each quartile\n",
    "    quartile_ranges = data.groupby(emission_col + '_quartile')[emission_col].agg(['min', 'max'])\n",
    "    \n",
    "    # Original list of colors\n",
    "    colors = ['lightgreen', 'yellow', 'orange', 'red']\n",
    "\n",
    "    # Function to reduce saturation by 50%\n",
    "    def reduce_saturation(color):\n",
    "        # Convert color name to RGB\n",
    "        rgb = mcolors.to_rgb(color)\n",
    "        # Convert RGB to HSV\n",
    "        hsv = mcolors.rgb_to_hsv(rgb)\n",
    "        # Reduce saturation by 50%\n",
    "        hsv[1] *= 0.5\n",
    "        # Convert back to RGB\n",
    "        return mcolors.hsv_to_rgb(hsv)\n",
    "\n",
    "    # Apply the function to each color in the list\n",
    "    colors = [reduce_saturation(color) for color in colors]\n",
    "    \n",
    "    # Modify the plotting loop to use quartile information\n",
    "    for country_name in world[\"ADMIN\"].unique():\n",
    "        country = world[world[\"ADMIN\"] == country_name]\n",
    "        if country_name in data[country_col].values:\n",
    "            rel_value = data[data[country_col] == country_name][emission_col + '_quartile'].values[0]\n",
    "            color = colors[rel_value]\n",
    "        else:\n",
    "            color = 'white'\n",
    "        country.plot(ax=ax, color=color, alpha=1)\n",
    "    \n",
    "    # Turn off axis ticks\n",
    "    ax.set_xticks([])\n",
    "    ax.set_yticks([])\n",
    "    \n",
    "    # Change the background color to light blue\n",
    "    ax.set_facecolor((0.404, 0.82, 0.902))\n",
    "\n",
    "    # Set the plot title and subtitle\n",
    "    plt.title(graph_title)\n",
    "\n",
    "    # Define new labels for the quartiles\n",
    "    quartile_labels = [\"very low\", \"low\", \"medium\", \"high\"]\n",
    "\n",
    "    # Create custom legend for the quartiles and missing countries\n",
    "    legend_labels = [f'{quartile_labels[i]} ({quartile_ranges.iloc[i][\"min\"]:.2f} to {quartile_ranges.iloc[i][\"max\"]:.2f} {unit})' for i in range(4)]\n",
    "    legend_patches = [mpatches.Patch(facecolor=colors[i], edgecolor='black', label=legend_labels[i]) for i in range(4)]\n",
    "    \n",
    "    # Add the custom patch for countries missing in the dataset\n",
    "    patch_missing = mpatches.Patch(facecolor=(1, 1, 1), edgecolor='black', label='Country missing in dataset')\n",
    "    legend_patches.append(patch_missing)\n",
    "    plt.legend(handles=legend_patches, loc='lower left')\n",
    "    \n",
    "    plt.show()"
   ]
  },
  {
   "cell_type": "markdown",
   "id": "4fa1e651",
   "metadata": {
    "tags": [
     "hide-input"
    ]
   },
   "source": [
    "<div class=\"map-container\">"
   ]
  },
  {
   "cell_type": "code",
   "execution_count": 34,
   "id": "bc9f7397",
   "metadata": {
    "tags": [
     "hide-input"
    ]
   },
   "outputs": [],
   "source": [
    "plot_emissions_by_country(merge, 'Area', '2020', 'Countries of the world, colored by total CO2 emissions in 2020', 'kilotonnes')"
   ]
  },
  {
   "cell_type": "markdown",
   "id": "0457df66",
   "metadata": {
    "tags": [
     "hide-input"
    ]
   },
   "source": [
    "</div>\n",
    "\n",
    "> *Figure 4: Shows the total CO2 emissions per country.*"
   ]
  },
  {
   "cell_type": "code",
   "execution_count": null,
   "id": "79cb116a",
   "metadata": {
    "tags": [
     "hide-input"
    ]
   },
   "outputs": [
    {
     "data": {
      "image/png": "[encoded data removed]",
      "text/plain": [
       "<Figure size 2000x1000 with 1 Axes>"
      ]
     },
     "metadata": {},
     "output_type": "display_data"
    }
   ],
   "source": [
    "plot_emissions_by_country(merge, 'Area', '2020/area', 'Countries of the world, colored by CO2 emissions per km² in 2020', 'kilotonnes per km²')"
   ]
  },
  {
   "cell_type": "code",
   "execution_count": null,
   "id": "1444cec9",
   "metadata": {
    "tags": [
     "hide-input"
    ]
   },
   "outputs": [],
   "source": [
    "plot_emissions_by_country(merge, 'Area', '2020/pop', 'Countries of the world, colored by CO2 emissions per capita in 2020', 'kilotonnes per capita')"
   ]
  },
  {
   "cell_type": "markdown",
   "id": "d0a45bc3",
   "metadata": {
    "tags": [
     "hide-input"
    ]
   },
   "source": [
    "> *Figure 4: Countries of the world, colored by CO2 emissions from 2020.*"
   ]
  },
  {
   "cell_type": "markdown",
   "id": "7780e7c7",
   "metadata": {
    "tags": [
     "hide-input"
    ]
   },
   "source": [
    "## Your Second Perspective"
   ]
  },
  {
   "cell_type": "markdown",
   "id": "f860a990",
   "metadata": {
    "tags": [
     "hide-input"
    ]
   },
   "source": [
    "### The First Argument of Your Second Perspective"
   ]
  },
  {
   "cell_type": "markdown",
   "id": "1a9c7132",
   "metadata": {
    "tags": [
     "hide-input"
    ]
   },
   "source": [
    "If you look figure 2, two of these countries get loads of energy from renewable sources, yet they are still in the top 10 most emitting countries."
   ]
  },
  {
   "cell_type": "code",
   "execution_count": null,
   "id": "204e4b152a6de968",
   "metadata": {
    "ExecuteTime": {
     "end_time": "2024-06-27T11:26:13.716133Z",
     "start_time": "2024-06-27T11:26:13.633551Z"
    },
    "collapsed": false,
    "tags": [
     "hide-input"
    ]
   },
   "outputs": [
    {
     "data": {
      "application/vnd.plotly.v1+json": {
       "config": {
        "plotlyServerURL": "https://plot.ly"
       },
       "data": [
        {
         "name": "Emissions",
         "type": "scatter",
         "x": [
          2000,
          2001,
          2002,
          2003,
          2004,
          2005,
          2006,
          2007,
          2008,
          2009,
          2010,
          2011,
          2012,
          2013,
          2014,
          2015,
          2016,
          2017,
          2018,
          2019,
          2020
         ],
         "xaxis": "x",
         "y": [
          21347206.1486,
          21412244.874,
          21913463.5352,
          23120546.9752,
          24314260.0484,
          25185845.6892,
          26052130.4397,
          26934837.664499998,
          27622810.9644,
          27395336.3778,
          28720540.5106,
          29734587.477900002,
          30245922.7581,
          30515576.7109,
          30846055.3314,
          30869457.242799997,
          30739488.4561,
          31117357.1115,
          31799343.7162,
          31868825.1372,
          10054
         ],
         "yaxis": "y"
        },
        {
         "name": "Renewable energy share (%)",
         "type": "scatter",
         "x": [
          2000,
          2001,
          2002,
          2003,
          2004,
          2005,
          2006,
          2007,
          2008,
          2009,
          2010,
          2011,
          2012,
          2013,
          2014,
          2015,
          2016,
          2017,
          2018,
          2019,
          2020
         ],
         "xaxis": "x",
         "y": [
          35.372318267822266,
          34.898658752441406,
          34.83176803588867,
          34.45829391479492,
          34.27933120727539,
          34.225975036621094,
          33.9383544921875,
          33.3387336730957,
          33.42656707763672,
          33.5325927734375,
          33.332889556884766,
          32.98891830444336,
          33.0847282409668,
          33.281131744384766,
          33.06886672973633,
          32.77000045776367,
          32.549285888671875,
          32.38285446166992,
          32.4355354309082,
          32.20351028442383,
          81.9000015258789
         ],
         "yaxis": "y2"
        }
       ],
       "layout": {
        "template": {
         "data": {
          "bar": [
           {
            "error_x": {
             "color": "#2a3f5f"
            },
            "error_y": {
             "color": "#2a3f5f"
            },
            "marker": {
             "line": {
              "color": "#E5ECF6",
              "width": 0.5
             },
             "pattern": {
              "fillmode": "overlay",
              "size": 10,
              "solidity": 0.2
             }
            },
            "type": "bar"
           }
          ],
          "barpolar": [
           {
            "marker": {
             "line": {
              "color": "#E5ECF6",
              "width": 0.5
             },
             "pattern": {
              "fillmode": "overlay",
              "size": 10,
              "solidity": 0.2
             }
            },
            "type": "barpolar"
           }
          ],
          "carpet": [
           {
            "aaxis": {
             "endlinecolor": "#2a3f5f",
             "gridcolor": "white",
             "linecolor": "white",
             "minorgridcolor": "white",
             "startlinecolor": "#2a3f5f"
            },
            "baxis": {
             "endlinecolor": "#2a3f5f",
             "gridcolor": "white",
             "linecolor": "white",
             "minorgridcolor": "white",
             "startlinecolor": "#2a3f5f"
            },
            "type": "carpet"
           }
          ],
          "choropleth": [
           {
            "colorbar": {
             "outlinewidth": 0,
             "ticks": ""
            },
            "type": "choropleth"
           }
          ],
          "contour": [
           {
            "colorbar": {
             "outlinewidth": 0,
             "ticks": ""
            },
            "colorscale": [
             [
              0,
              "#0d0887"
             ],
             [
              0.1111111111111111,
              "#46039f"
             ],
             [
              0.2222222222222222,
              "#7201a8"
             ],
             [
              0.3333333333333333,
              "#9c179e"
             ],
             [
              0.4444444444444444,
              "#bd3786"
             ],
             [
              0.5555555555555556,
              "#d8576b"
             ],
             [
              0.6666666666666666,
              "#ed7953"
             ],
             [
              0.7777777777777778,
              "#fb9f3a"
             ],
             [
              0.8888888888888888,
              "#fdca26"
             ],
             [
              1,
              "#f0f921"
             ]
            ],
            "type": "contour"
           }
          ],
          "contourcarpet": [
           {
            "colorbar": {
             "outlinewidth": 0,
             "ticks": ""
            },
            "type": "contourcarpet"
           }
          ],
          "heatmap": [
           {
            "colorbar": {
             "outlinewidth": 0,
             "ticks": ""
            },
            "colorscale": [
             [
              0,
              "#0d0887"
             ],
             [
              0.1111111111111111,
              "#46039f"
             ],
             [
              0.2222222222222222,
              "#7201a8"
             ],
             [
              0.3333333333333333,
              "#9c179e"
             ],
             [
              0.4444444444444444,
              "#bd3786"
             ],
             [
              0.5555555555555556,
              "#d8576b"
             ],
             [
              0.6666666666666666,
              "#ed7953"
             ],
             [
              0.7777777777777778,
              "#fb9f3a"
             ],
             [
              0.8888888888888888,
              "#fdca26"
             ],
             [
              1,
              "#f0f921"
             ]
            ],
            "type": "heatmap"
           }
          ],
          "heatmapgl": [
           {
            "colorbar": {
             "outlinewidth": 0,
             "ticks": ""
            },
            "colorscale": [
             [
              0,
              "#0d0887"
             ],
             [
              0.1111111111111111,
              "#46039f"
             ],
             [
              0.2222222222222222,
              "#7201a8"
             ],
             [
              0.3333333333333333,
              "#9c179e"
             ],
             [
              0.4444444444444444,
              "#bd3786"
             ],
             [
              0.5555555555555556,
              "#d8576b"
             ],
             [
              0.6666666666666666,
              "#ed7953"
             ],
             [
              0.7777777777777778,
              "#fb9f3a"
             ],
             [
              0.8888888888888888,
              "#fdca26"
             ],
             [
              1,
              "#f0f921"
             ]
            ],
            "type": "heatmapgl"
           }
          ],
          "histogram": [
           {
            "marker": {
             "pattern": {
              "fillmode": "overlay",
              "size": 10,
              "solidity": 0.2
             }
            },
            "type": "histogram"
           }
          ],
          "histogram2d": [
           {
            "colorbar": {
             "outlinewidth": 0,
             "ticks": ""
            },
            "colorscale": [
             [
              0,
              "#0d0887"
             ],
             [
              0.1111111111111111,
              "#46039f"
             ],
             [
              0.2222222222222222,
              "#7201a8"
             ],
             [
              0.3333333333333333,
              "#9c179e"
             ],
             [
              0.4444444444444444,
              "#bd3786"
             ],
             [
              0.5555555555555556,
              "#d8576b"
             ],
             [
              0.6666666666666666,
              "#ed7953"
             ],
             [
              0.7777777777777778,
              "#fb9f3a"
             ],
             [
              0.8888888888888888,
              "#fdca26"
             ],
             [
              1,
              "#f0f921"
             ]
            ],
            "type": "histogram2d"
           }
          ],
          "histogram2dcontour": [
           {
            "colorbar": {
             "outlinewidth": 0,
             "ticks": ""
            },
            "colorscale": [
             [
              0,
              "#0d0887"
             ],
             [
              0.1111111111111111,
              "#46039f"
             ],
             [
              0.2222222222222222,
              "#7201a8"
             ],
             [
              0.3333333333333333,
              "#9c179e"
             ],
             [
              0.4444444444444444,
              "#bd3786"
             ],
             [
              0.5555555555555556,
              "#d8576b"
             ],
             [
              0.6666666666666666,
              "#ed7953"
             ],
             [
              0.7777777777777778,
              "#fb9f3a"
             ],
             [
              0.8888888888888888,
              "#fdca26"
             ],
             [
              1,
              "#f0f921"
             ]
            ],
            "type": "histogram2dcontour"
           }
          ],
          "mesh3d": [
           {
            "colorbar": {
             "outlinewidth": 0,
             "ticks": ""
            },
            "type": "mesh3d"
           }
          ],
          "parcoords": [
           {
            "line": {
             "colorbar": {
              "outlinewidth": 0,
              "ticks": ""
             }
            },
            "type": "parcoords"
           }
          ],
          "pie": [
           {
            "automargin": true,
            "type": "pie"
           }
          ],
          "scatter": [
           {
            "fillpattern": {
             "fillmode": "overlay",
             "size": 10,
             "solidity": 0.2
            },
            "type": "scatter"
           }
          ],
          "scatter3d": [
           {
            "line": {
             "colorbar": {
              "outlinewidth": 0,
              "ticks": ""
             }
            },
            "marker": {
             "colorbar": {
              "outlinewidth": 0,
              "ticks": ""
             }
            },
            "type": "scatter3d"
           }
          ],
          "scattercarpet": [
           {
            "marker": {
             "colorbar": {
              "outlinewidth": 0,
              "ticks": ""
             }
            },
            "type": "scattercarpet"
           }
          ],
          "scattergeo": [
           {
            "marker": {
             "colorbar": {
              "outlinewidth": 0,
              "ticks": ""
             }
            },
            "type": "scattergeo"
           }
          ],
          "scattergl": [
           {
            "marker": {
             "colorbar": {
              "outlinewidth": 0,
              "ticks": ""
             }
            },
            "type": "scattergl"
           }
          ],
          "scattermapbox": [
           {
            "marker": {
             "colorbar": {
              "outlinewidth": 0,
              "ticks": ""
             }
            },
            "type": "scattermapbox"
           }
          ],
          "scatterpolar": [
           {
            "marker": {
             "colorbar": {
              "outlinewidth": 0,
              "ticks": ""
             }
            },
            "type": "scatterpolar"
           }
          ],
          "scatterpolargl": [
           {
            "marker": {
             "colorbar": {
              "outlinewidth": 0,
              "ticks": ""
             }
            },
            "type": "scatterpolargl"
           }
          ],
          "scatterternary": [
           {
            "marker": {
             "colorbar": {
              "outlinewidth": 0,
              "ticks": ""
             }
            },
            "type": "scatterternary"
           }
          ],
          "surface": [
           {
            "colorbar": {
             "outlinewidth": 0,
             "ticks": ""
            },
            "colorscale": [
             [
              0,
              "#0d0887"
             ],
             [
              0.1111111111111111,
              "#46039f"
             ],
             [
              0.2222222222222222,
              "#7201a8"
             ],
             [
              0.3333333333333333,
              "#9c179e"
             ],
             [
              0.4444444444444444,
              "#bd3786"
             ],
             [
              0.5555555555555556,
              "#d8576b"
             ],
             [
              0.6666666666666666,
              "#ed7953"
             ],
             [
              0.7777777777777778,
              "#fb9f3a"
             ],
             [
              0.8888888888888888,
              "#fdca26"
             ],
             [
              1,
              "#f0f921"
             ]
            ],
            "type": "surface"
           }
          ],
          "table": [
           {
            "cells": {
             "fill": {
              "color": "#EBF0F8"
             },
             "line": {
              "color": "white"
             }
            },
            "header": {
             "fill": {
              "color": "#C8D4E3"
             },
             "line": {
              "color": "white"
             }
            },
            "type": "table"
           }
          ]
         },
         "layout": {
          "annotationdefaults": {
           "arrowcolor": "#2a3f5f",
           "arrowhead": 0,
           "arrowwidth": 1
          },
          "autotypenumbers": "strict",
          "coloraxis": {
           "colorbar": {
            "outlinewidth": 0,
            "ticks": ""
           }
          },
          "colorscale": {
           "diverging": [
            [
             0,
             "#8e0152"
            ],
            [
             0.1,
             "#c51b7d"
            ],
            [
             0.2,
             "#de77ae"
            ],
            [
             0.3,
             "#f1b6da"
            ],
            [
             0.4,
             "#fde0ef"
            ],
            [
             0.5,
             "#f7f7f7"
            ],
            [
             0.6,
             "#e6f5d0"
            ],
            [
             0.7,
             "#b8e186"
            ],
            [
             0.8,
             "#7fbc41"
            ],
            [
             0.9,
             "#4d9221"
            ],
            [
             1,
             "#276419"
            ]
           ],
           "sequential": [
            [
             0,
             "#0d0887"
            ],
            [
             0.1111111111111111,
             "#46039f"
            ],
            [
             0.2222222222222222,
             "#7201a8"
            ],
            [
             0.3333333333333333,
             "#9c179e"
            ],
            [
             0.4444444444444444,
             "#bd3786"
            ],
            [
             0.5555555555555556,
             "#d8576b"
            ],
            [
             0.6666666666666666,
             "#ed7953"
            ],
            [
             0.7777777777777778,
             "#fb9f3a"
            ],
            [
             0.8888888888888888,
             "#fdca26"
            ],
            [
             1,
             "#f0f921"
            ]
           ],
           "sequentialminus": [
            [
             0,
             "#0d0887"
            ],
            [
             0.1111111111111111,
             "#46039f"
            ],
            [
             0.2222222222222222,
             "#7201a8"
            ],
            [
             0.3333333333333333,
             "#9c179e"
            ],
            [
             0.4444444444444444,
             "#bd3786"
            ],
            [
             0.5555555555555556,
             "#d8576b"
            ],
            [
             0.6666666666666666,
             "#ed7953"
            ],
            [
             0.7777777777777778,
             "#fb9f3a"
            ],
            [
             0.8888888888888888,
             "#fdca26"
            ],
            [
             1,
             "#f0f921"
            ]
           ]
          },
          "colorway": [
           "#636efa",
           "#EF553B",
           "#00cc96",
           "#ab63fa",
           "#FFA15A",
           "#19d3f3",
           "#FF6692",
           "#B6E880",
           "#FF97FF",
           "#FECB52"
          ],
          "font": {
           "color": "#2a3f5f"
          },
          "geo": {
           "bgcolor": "white",
           "lakecolor": "white",
           "landcolor": "#E5ECF6",
           "showlakes": true,
           "showland": true,
           "subunitcolor": "white"
          },
          "hoverlabel": {
           "align": "left"
          },
          "hovermode": "closest",
          "mapbox": {
           "style": "light"
          },
          "paper_bgcolor": "white",
          "plot_bgcolor": "#E5ECF6",
          "polar": {
           "angularaxis": {
            "gridcolor": "white",
            "linecolor": "white",
            "ticks": ""
           },
           "bgcolor": "#E5ECF6",
           "radialaxis": {
            "gridcolor": "white",
            "linecolor": "white",
            "ticks": ""
           }
          },
          "scene": {
           "xaxis": {
            "backgroundcolor": "#E5ECF6",
            "gridcolor": "white",
            "gridwidth": 2,
            "linecolor": "white",
            "showbackground": true,
            "ticks": "",
            "zerolinecolor": "white"
           },
           "yaxis": {
            "backgroundcolor": "#E5ECF6",
            "gridcolor": "white",
            "gridwidth": 2,
            "linecolor": "white",
            "showbackground": true,
            "ticks": "",
            "zerolinecolor": "white"
           },
           "zaxis": {
            "backgroundcolor": "#E5ECF6",
            "gridcolor": "white",
            "gridwidth": 2,
            "linecolor": "white",
            "showbackground": true,
            "ticks": "",
            "zerolinecolor": "white"
           }
          },
          "shapedefaults": {
           "line": {
            "color": "#2a3f5f"
           }
          },
          "ternary": {
           "aaxis": {
            "gridcolor": "white",
            "linecolor": "white",
            "ticks": ""
           },
           "baxis": {
            "gridcolor": "white",
            "linecolor": "white",
            "ticks": ""
           },
           "bgcolor": "#E5ECF6",
           "caxis": {
            "gridcolor": "white",
            "linecolor": "white",
            "ticks": ""
           }
          },
          "title": {
           "x": 0.05
          },
          "xaxis": {
           "automargin": true,
           "gridcolor": "white",
           "linecolor": "white",
           "ticks": "",
           "title": {
            "standoff": 15
           },
           "zerolinecolor": "white",
           "zerolinewidth": 2
          },
          "yaxis": {
           "automargin": true,
           "gridcolor": "white",
           "linecolor": "white",
           "ticks": "",
           "title": {
            "standoff": 15
           },
           "zerolinecolor": "white",
           "zerolinewidth": 2
          }
         }
        },
        "title": {
         "text": "World average"
        },
        "xaxis": {
         "anchor": "y",
         "domain": [
          0,
          0.94
         ],
         "title": {
          "text": "Year"
         }
        },
        "yaxis": {
         "anchor": "x",
         "domain": [
          0,
          1
         ],
         "title": {
          "text": "<b>Emissions</b>"
         }
        },
        "yaxis2": {
         "anchor": "x",
         "overlaying": "y",
         "side": "right",
         "title": {
          "text": "<b>Renewable energy share (%)</b>"
         }
        }
       }
      }
     },
     "metadata": {},
     "output_type": "display_data"
    }
   ],
   "source": [
    "developed_countries = [\n",
    "    \"Australia\",\n",
    "    \"Austria\",\n",
    "    \"Belgium\",\n",
    "    \"Canada\",\n",
    "    \"Denmark\",\n",
    "    \"Finland\",\n",
    "    \"France\",\n",
    "    \"Germany\",\n",
    "    \"Iceland\",\n",
    "    \"Ireland\",\n",
    "    \"Israel\",\n",
    "    \"Italy\",\n",
    "    \"Japan\",\n",
    "    \"Luxembourg\",\n",
    "    \"Netherlands\",\n",
    "    \"New Zealand\",\n",
    "    \"Norway\",\n",
    "    \"Portugal\",\n",
    "    \"Singapore\",\n",
    "    \"South Korea\",\n",
    "    \"Spain\",\n",
    "    \"Sweden\",\n",
    "    \"Switzerland\",\n",
    "    \"United Kingdom\",\n",
    "    \"United States\",\n",
    "    \"Andorra\",\n",
    "    \"Cyprus\",\n",
    "    \"Czech Republic\",\n",
    "    \"Estonia\",\n",
    "    \"Greece\",\n",
    "    \"Hong Kong SAR\",\n",
    "    \"Latvia\",\n",
    "    \"Lithuania\",\n",
    "    \"Malta\",\n",
    "    \"Monaco\",\n",
    "    \"San Marino\",\n",
    "    \"Slovakia\",\n",
    "    \"Slovenia\"\n",
    "]\n",
    "\n",
    "df = pd.read_parquet(\"../graphs/small_merge.parquet\")\n",
    "countries = pd.read_csv(\"../datasets/sus.csv\")[\"Entity\"].drop_duplicates()\n",
    "world_data = df[(df['Element'] == \"Emissions (CO2)\") & (df['Item'] == \"All sectors without LULUCF\") & (df['Area'].isin(countries))].drop(columns=[\n",
    "    'Item', 'Access to electricity (% of population)',\n",
    "    'Access to clean fuels for cooking',\n",
    "    'Renewable-electricity-generating-capacity-per-capita',\n",
    "    'Financial flows to developing countries (US $)',\n",
    "    'Electricity from fossil fuels (TWh)', 'Electricity from nuclear (TWh)',\n",
    "    'Low-carbon electricity (% electricity)',\n",
    "    'Primary energy consumption per capita (kWh/person)',\n",
    "    'Energy intensity level of primary energy (MJ/$2017 PPP GDP)',\n",
    "    'Value_co2_emissions_kt_by_country',\n",
    "    'Renewables (% equivalent primary energy)', 'gdp_growth',\n",
    "    'gdp_per_capita', 'Density\\\\n(P/Km2)', 'Land Area(Km2)', 'Latitude',\n",
    "    'Longitude']).dropna()\n",
    "means = pd.concat([world_data['Renewable energy share in the total final energy consumption (%)'].groupby(world_data['Year']).mean(), world_data['Emission'].groupby(world_data['Year']).sum()], axis=1)\n",
    "\n",
    "import plotly.graph_objects as go\n",
    "from plotly.subplots import make_subplots\n",
    "\n",
    "# Create figure with secondary y-axis\n",
    "fig = make_subplots(specs=[[{\"secondary_y\": True}]])\n",
    "\n",
    "# Add traces\n",
    "fig.add_trace(\n",
    "    go.Scatter(x=means.index, y=means['Emission'], name=\"Emissions\"),\n",
    "    secondary_y=False,\n",
    ")\n",
    "\n",
    "fig.add_trace(\n",
    "    go.Scatter(x=means.index, y=means['Renewable energy share in the total final energy consumption (%)'], name=\"Renewable energy share (%)\"),\n",
    "    secondary_y=True,\n",
    ")\n",
    "\n",
    "# Add figure title\n",
    "fig.update_layout(\n",
    "    title_text=\"World average\"\n",
    ")\n",
    "\n",
    "# Set x-axis title\n",
    "fig.update_xaxes(title_text=\"Year\")\n",
    "\n",
    "# Set y-axes titles\n",
    "fig.update_yaxes(title_text=\"<b>Emissions</b>\", secondary_y=False)\n",
    "fig.update_yaxes(title_text=\"<b>Renewable energy share (%)</b>\", secondary_y=True)\n",
    "\n",
    "fig.show()\n"
   ]
  },
  {
   "cell_type": "markdown",
   "id": "8cfdd1f0b2c7954",
   "metadata": {
    "collapsed": false,
    "tags": [
     "hide-input"
    ]
   },
   "source": []
  },
  {
   "cell_type": "markdown",
   "id": "6610271ae11d17e9",
   "metadata": {
    "collapsed": false,
    "tags": [
     "hide-input"
    ]
   },
   "source": [
    "> This graph shows the sum of emissions worldwide and the means of renewable energy share over the pas two decades\n"
   ]
  },
  {
   "cell_type": "markdown",
   "id": "7330512e979f233",
   "metadata": {
    "collapsed": false,
    "tags": [
     "hide-input"
    ]
   },
   "source": [
    "When looking at the world sum of emissions, it has grown since 2000 till 2019 by almost 50%. In 2020 there is an outstanding decrease in CO2 emissions. Only in this year, there is a significant increase of sustainability.\n",
    "\n",
    "Even Though there has been an increase in renewable energy, the emissions were still on the rise for a long time. Renewable energy has not been enough to combat the emissions, until recent years. But this decline of emissions is most likely due to the COVID-19 pandemic. During the pandemic the economic activity was put on hold and there was less use of transportation. So we can predict that the emissions have rebounded to their previous levels after the pandemic.\n"
   ]
  },
  {
   "cell_type": "code",
   "execution_count": null,
   "id": "ba6dba15e3a147a9",
   "metadata": {
    "ExecuteTime": {
     "end_time": "2024-06-27T11:26:16.105179Z",
     "start_time": "2024-06-27T11:26:16.073463Z"
    },
    "collapsed": false,
    "tags": [
     "hide-input"
    ]
   },
   "outputs": [
    {
     "data": {
      "application/vnd.plotly.v1+json": {
       "config": {
        "plotlyServerURL": "https://plot.ly"
       },
       "data": [
        {
         "name": "Developed emissions",
         "type": "scatter",
         "x": [
          2000,
          2001,
          2002,
          2003,
          2004,
          2005,
          2006,
          2007,
          2008,
          2009,
          2010,
          2011,
          2012,
          2013,
          2014,
          2015,
          2016,
          2017,
          2018,
          2019,
          2020
         ],
         "xaxis": "x",
         "y": [
          11187866.872,
          11116470.862,
          11181722.806400001,
          11315342.488400001,
          11440033.5134,
          11427795.7364,
          11371431.703499999,
          11425966.416000001,
          11173220.3895,
          10482706.05,
          10727022.809,
          10468421.675999999,
          10282803.456,
          10333665.078,
          10252747.908,
          10183911.199000001,
          9981711.317,
          9982165.554000001,
          10092043.408,
          9807553.6629,
          8742283.4668
         ],
         "yaxis": "y"
        },
        {
         "name": "Developed renewable energy share (%)",
         "type": "scatter",
         "x": [
          2000,
          2001,
          2002,
          2003,
          2004,
          2005,
          2006,
          2007,
          2008,
          2009,
          2010,
          2011,
          2012,
          2013,
          2014,
          2015,
          2016,
          2017,
          2018,
          2019,
          2020
         ],
         "xaxis": "x",
         "y": [
          15.687097549438477,
          15.4751615524292,
          15.231935501098633,
          15.217418670654297,
          15.595483779907227,
          15.926128387451172,
          16.140323638916016,
          16.880321502685547,
          17.680322647094727,
          18.681289672851562,
          19.138710021972656,
          19.634193420410156,
          20.476451873779297,
          21.078710556030273,
          21.773225784301758,
          22.271289825439453,
          22.662580490112305,
          23.01419448852539,
          23.432903289794922,
          24.17774200439453,
          null
         ],
         "yaxis": "y2"
        }
       ],
       "layout": {
        "template": {
         "data": {
          "bar": [
           {
            "error_x": {
             "color": "#2a3f5f"
            },
            "error_y": {
             "color": "#2a3f5f"
            },
            "marker": {
             "line": {
              "color": "#E5ECF6",
              "width": 0.5
             },
             "pattern": {
              "fillmode": "overlay",
              "size": 10,
              "solidity": 0.2
             }
            },
            "type": "bar"
           }
          ],
          "barpolar": [
           {
            "marker": {
             "line": {
              "color": "#E5ECF6",
              "width": 0.5
             },
             "pattern": {
              "fillmode": "overlay",
              "size": 10,
              "solidity": 0.2
             }
            },
            "type": "barpolar"
           }
          ],
          "carpet": [
           {
            "aaxis": {
             "endlinecolor": "#2a3f5f",
             "gridcolor": "white",
             "linecolor": "white",
             "minorgridcolor": "white",
             "startlinecolor": "#2a3f5f"
            },
            "baxis": {
             "endlinecolor": "#2a3f5f",
             "gridcolor": "white",
             "linecolor": "white",
             "minorgridcolor": "white",
             "startlinecolor": "#2a3f5f"
            },
            "type": "carpet"
           }
          ],
          "choropleth": [
           {
            "colorbar": {
             "outlinewidth": 0,
             "ticks": ""
            },
            "type": "choropleth"
           }
          ],
          "contour": [
           {
            "colorbar": {
             "outlinewidth": 0,
             "ticks": ""
            },
            "colorscale": [
             [
              0,
              "#0d0887"
             ],
             [
              0.1111111111111111,
              "#46039f"
             ],
             [
              0.2222222222222222,
              "#7201a8"
             ],
             [
              0.3333333333333333,
              "#9c179e"
             ],
             [
              0.4444444444444444,
              "#bd3786"
             ],
             [
              0.5555555555555556,
              "#d8576b"
             ],
             [
              0.6666666666666666,
              "#ed7953"
             ],
             [
              0.7777777777777778,
              "#fb9f3a"
             ],
             [
              0.8888888888888888,
              "#fdca26"
             ],
             [
              1,
              "#f0f921"
             ]
            ],
            "type": "contour"
           }
          ],
          "contourcarpet": [
           {
            "colorbar": {
             "outlinewidth": 0,
             "ticks": ""
            },
            "type": "contourcarpet"
           }
          ],
          "heatmap": [
           {
            "colorbar": {
             "outlinewidth": 0,
             "ticks": ""
            },
            "colorscale": [
             [
              0,
              "#0d0887"
             ],
             [
              0.1111111111111111,
              "#46039f"
             ],
             [
              0.2222222222222222,
              "#7201a8"
             ],
             [
              0.3333333333333333,
              "#9c179e"
             ],
             [
              0.4444444444444444,
              "#bd3786"
             ],
             [
              0.5555555555555556,
              "#d8576b"
             ],
             [
              0.6666666666666666,
              "#ed7953"
             ],
             [
              0.7777777777777778,
              "#fb9f3a"
             ],
             [
              0.8888888888888888,
              "#fdca26"
             ],
             [
              1,
              "#f0f921"
             ]
            ],
            "type": "heatmap"
           }
          ],
          "heatmapgl": [
           {
            "colorbar": {
             "outlinewidth": 0,
             "ticks": ""
            },
            "colorscale": [
             [
              0,
              "#0d0887"
             ],
             [
              0.1111111111111111,
              "#46039f"
             ],
             [
              0.2222222222222222,
              "#7201a8"
             ],
             [
              0.3333333333333333,
              "#9c179e"
             ],
             [
              0.4444444444444444,
              "#bd3786"
             ],
             [
              0.5555555555555556,
              "#d8576b"
             ],
             [
              0.6666666666666666,
              "#ed7953"
             ],
             [
              0.7777777777777778,
              "#fb9f3a"
             ],
             [
              0.8888888888888888,
              "#fdca26"
             ],
             [
              1,
              "#f0f921"
             ]
            ],
            "type": "heatmapgl"
           }
          ],
          "histogram": [
           {
            "marker": {
             "pattern": {
              "fillmode": "overlay",
              "size": 10,
              "solidity": 0.2
             }
            },
            "type": "histogram"
           }
          ],
          "histogram2d": [
           {
            "colorbar": {
             "outlinewidth": 0,
             "ticks": ""
            },
            "colorscale": [
             [
              0,
              "#0d0887"
             ],
             [
              0.1111111111111111,
              "#46039f"
             ],
             [
              0.2222222222222222,
              "#7201a8"
             ],
             [
              0.3333333333333333,
              "#9c179e"
             ],
             [
              0.4444444444444444,
              "#bd3786"
             ],
             [
              0.5555555555555556,
              "#d8576b"
             ],
             [
              0.6666666666666666,
              "#ed7953"
             ],
             [
              0.7777777777777778,
              "#fb9f3a"
             ],
             [
              0.8888888888888888,
              "#fdca26"
             ],
             [
              1,
              "#f0f921"
             ]
            ],
            "type": "histogram2d"
           }
          ],
          "histogram2dcontour": [
           {
            "colorbar": {
             "outlinewidth": 0,
             "ticks": ""
            },
            "colorscale": [
             [
              0,
              "#0d0887"
             ],
             [
              0.1111111111111111,
              "#46039f"
             ],
             [
              0.2222222222222222,
              "#7201a8"
             ],
             [
              0.3333333333333333,
              "#9c179e"
             ],
             [
              0.4444444444444444,
              "#bd3786"
             ],
             [
              0.5555555555555556,
              "#d8576b"
             ],
             [
              0.6666666666666666,
              "#ed7953"
             ],
             [
              0.7777777777777778,
              "#fb9f3a"
             ],
             [
              0.8888888888888888,
              "#fdca26"
             ],
             [
              1,
              "#f0f921"
             ]
            ],
            "type": "histogram2dcontour"
           }
          ],
          "mesh3d": [
           {
            "colorbar": {
             "outlinewidth": 0,
             "ticks": ""
            },
            "type": "mesh3d"
           }
          ],
          "parcoords": [
           {
            "line": {
             "colorbar": {
              "outlinewidth": 0,
              "ticks": ""
             }
            },
            "type": "parcoords"
           }
          ],
          "pie": [
           {
            "automargin": true,
            "type": "pie"
           }
          ],
          "scatter": [
           {
            "fillpattern": {
             "fillmode": "overlay",
             "size": 10,
             "solidity": 0.2
            },
            "type": "scatter"
           }
          ],
          "scatter3d": [
           {
            "line": {
             "colorbar": {
              "outlinewidth": 0,
              "ticks": ""
             }
            },
            "marker": {
             "colorbar": {
              "outlinewidth": 0,
              "ticks": ""
             }
            },
            "type": "scatter3d"
           }
          ],
          "scattercarpet": [
           {
            "marker": {
             "colorbar": {
              "outlinewidth": 0,
              "ticks": ""
             }
            },
            "type": "scattercarpet"
           }
          ],
          "scattergeo": [
           {
            "marker": {
             "colorbar": {
              "outlinewidth": 0,
              "ticks": ""
             }
            },
            "type": "scattergeo"
           }
          ],
          "scattergl": [
           {
            "marker": {
             "colorbar": {
              "outlinewidth": 0,
              "ticks": ""
             }
            },
            "type": "scattergl"
           }
          ],
          "scattermapbox": [
           {
            "marker": {
             "colorbar": {
              "outlinewidth": 0,
              "ticks": ""
             }
            },
            "type": "scattermapbox"
           }
          ],
          "scatterpolar": [
           {
            "marker": {
             "colorbar": {
              "outlinewidth": 0,
              "ticks": ""
             }
            },
            "type": "scatterpolar"
           }
          ],
          "scatterpolargl": [
           {
            "marker": {
             "colorbar": {
              "outlinewidth": 0,
              "ticks": ""
             }
            },
            "type": "scatterpolargl"
           }
          ],
          "scatterternary": [
           {
            "marker": {
             "colorbar": {
              "outlinewidth": 0,
              "ticks": ""
             }
            },
            "type": "scatterternary"
           }
          ],
          "surface": [
           {
            "colorbar": {
             "outlinewidth": 0,
             "ticks": ""
            },
            "colorscale": [
             [
              0,
              "#0d0887"
             ],
             [
              0.1111111111111111,
              "#46039f"
             ],
             [
              0.2222222222222222,
              "#7201a8"
             ],
             [
              0.3333333333333333,
              "#9c179e"
             ],
             [
              0.4444444444444444,
              "#bd3786"
             ],
             [
              0.5555555555555556,
              "#d8576b"
             ],
             [
              0.6666666666666666,
              "#ed7953"
             ],
             [
              0.7777777777777778,
              "#fb9f3a"
             ],
             [
              0.8888888888888888,
              "#fdca26"
             ],
             [
              1,
              "#f0f921"
             ]
            ],
            "type": "surface"
           }
          ],
          "table": [
           {
            "cells": {
             "fill": {
              "color": "#EBF0F8"
             },
             "line": {
              "color": "white"
             }
            },
            "header": {
             "fill": {
              "color": "#C8D4E3"
             },
             "line": {
              "color": "white"
             }
            },
            "type": "table"
           }
          ]
         },
         "layout": {
          "annotationdefaults": {
           "arrowcolor": "#2a3f5f",
           "arrowhead": 0,
           "arrowwidth": 1
          },
          "autotypenumbers": "strict",
          "coloraxis": {
           "colorbar": {
            "outlinewidth": 0,
            "ticks": ""
           }
          },
          "colorscale": {
           "diverging": [
            [
             0,
             "#8e0152"
            ],
            [
             0.1,
             "#c51b7d"
            ],
            [
             0.2,
             "#de77ae"
            ],
            [
             0.3,
             "#f1b6da"
            ],
            [
             0.4,
             "#fde0ef"
            ],
            [
             0.5,
             "#f7f7f7"
            ],
            [
             0.6,
             "#e6f5d0"
            ],
            [
             0.7,
             "#b8e186"
            ],
            [
             0.8,
             "#7fbc41"
            ],
            [
             0.9,
             "#4d9221"
            ],
            [
             1,
             "#276419"
            ]
           ],
           "sequential": [
            [
             0,
             "#0d0887"
            ],
            [
             0.1111111111111111,
             "#46039f"
            ],
            [
             0.2222222222222222,
             "#7201a8"
            ],
            [
             0.3333333333333333,
             "#9c179e"
            ],
            [
             0.4444444444444444,
             "#bd3786"
            ],
            [
             0.5555555555555556,
             "#d8576b"
            ],
            [
             0.6666666666666666,
             "#ed7953"
            ],
            [
             0.7777777777777778,
             "#fb9f3a"
            ],
            [
             0.8888888888888888,
             "#fdca26"
            ],
            [
             1,
             "#f0f921"
            ]
           ],
           "sequentialminus": [
            [
             0,
             "#0d0887"
            ],
            [
             0.1111111111111111,
             "#46039f"
            ],
            [
             0.2222222222222222,
             "#7201a8"
            ],
            [
             0.3333333333333333,
             "#9c179e"
            ],
            [
             0.4444444444444444,
             "#bd3786"
            ],
            [
             0.5555555555555556,
             "#d8576b"
            ],
            [
             0.6666666666666666,
             "#ed7953"
            ],
            [
             0.7777777777777778,
             "#fb9f3a"
            ],
            [
             0.8888888888888888,
             "#fdca26"
            ],
            [
             1,
             "#f0f921"
            ]
           ]
          },
          "colorway": [
           "#636efa",
           "#EF553B",
           "#00cc96",
           "#ab63fa",
           "#FFA15A",
           "#19d3f3",
           "#FF6692",
           "#B6E880",
           "#FF97FF",
           "#FECB52"
          ],
          "font": {
           "color": "#2a3f5f"
          },
          "geo": {
           "bgcolor": "white",
           "lakecolor": "white",
           "landcolor": "#E5ECF6",
           "showlakes": true,
           "showland": true,
           "subunitcolor": "white"
          },
          "hoverlabel": {
           "align": "left"
          },
          "hovermode": "closest",
          "mapbox": {
           "style": "light"
          },
          "paper_bgcolor": "white",
          "plot_bgcolor": "#E5ECF6",
          "polar": {
           "angularaxis": {
            "gridcolor": "white",
            "linecolor": "white",
            "ticks": ""
           },
           "bgcolor": "#E5ECF6",
           "radialaxis": {
            "gridcolor": "white",
            "linecolor": "white",
            "ticks": ""
           }
          },
          "scene": {
           "xaxis": {
            "backgroundcolor": "#E5ECF6",
            "gridcolor": "white",
            "gridwidth": 2,
            "linecolor": "white",
            "showbackground": true,
            "ticks": "",
            "zerolinecolor": "white"
           },
           "yaxis": {
            "backgroundcolor": "#E5ECF6",
            "gridcolor": "white",
            "gridwidth": 2,
            "linecolor": "white",
            "showbackground": true,
            "ticks": "",
            "zerolinecolor": "white"
           },
           "zaxis": {
            "backgroundcolor": "#E5ECF6",
            "gridcolor": "white",
            "gridwidth": 2,
            "linecolor": "white",
            "showbackground": true,
            "ticks": "",
            "zerolinecolor": "white"
           }
          },
          "shapedefaults": {
           "line": {
            "color": "#2a3f5f"
           }
          },
          "ternary": {
           "aaxis": {
            "gridcolor": "white",
            "linecolor": "white",
            "ticks": ""
           },
           "baxis": {
            "gridcolor": "white",
            "linecolor": "white",
            "ticks": ""
           },
           "bgcolor": "#E5ECF6",
           "caxis": {
            "gridcolor": "white",
            "linecolor": "white",
            "ticks": ""
           }
          },
          "title": {
           "x": 0.05
          },
          "xaxis": {
           "automargin": true,
           "gridcolor": "white",
           "linecolor": "white",
           "ticks": "",
           "title": {
            "standoff": 15
           },
           "zerolinecolor": "white",
           "zerolinewidth": 2
          },
          "yaxis": {
           "automargin": true,
           "gridcolor": "white",
           "linecolor": "white",
           "ticks": "",
           "title": {
            "standoff": 15
           },
           "zerolinecolor": "white",
           "zerolinewidth": 2
          }
         }
        },
        "title": {
         "text": "Developed world average"
        },
        "xaxis": {
         "anchor": "y",
         "domain": [
          0,
          0.94
         ],
         "title": {
          "text": "Year"
         }
        },
        "yaxis": {
         "anchor": "x",
         "domain": [
          0,
          1
         ],
         "title": {
          "text": "<b>Emissions</b>"
         }
        },
        "yaxis2": {
         "anchor": "x",
         "overlaying": "y",
         "side": "right",
         "title": {
          "text": "<b>Renewable energy share (%)</b>"
         }
        }
       }
      }
     },
     "metadata": {},
     "output_type": "display_data"
    }
   ],
   "source": [
    "developed_data = df[(df['Element'] == \"Emissions (CO2)\") & (df['Item'] == \"All sectors without LULUCF\") & (df['Area'].isin(developed_countries))].drop(columns=[\n",
    "    'Item', 'Element'])\n",
    "\n",
    "developed_means = pd.concat([developed_data['Renewable energy share in the total final energy consumption (%)'].groupby(developed_data['Year']).mean(), developed_data['Emission'].groupby(developed_data['Year']).sum()], axis=1)\n",
    "\n",
    "developed_means = pd.concat([developed_data['Renewable energy share in the total final energy consumption (%)'].groupby(developed_data['Year']).mean(), developed_data['Emission'].groupby(developed_data['Year']).sum()], axis=1)\n",
    "\n",
    "# Create figure with secondary y-axis\n",
    "fig = make_subplots(specs=[[{\"secondary_y\": True}]])\n",
    "\n",
    "# Add traces\n",
    "fig.add_trace(\n",
    "    go.Scatter(x=developed_means.index, y=developed_means['Emission'], name=\"Developed emissions\"),\n",
    "    secondary_y=False,\n",
    ")\n",
    "\n",
    "fig.add_trace(\n",
    "    go.Scatter(x=developed_means.index, y=developed_means['Renewable energy share in the total final energy consumption (%)'], name=\"Developed renewable energy share (%)\"),\n",
    "    secondary_y=True,\n",
    ")\n",
    "\n",
    "# Add figure title\n",
    "fig.update_layout(\n",
    "    title_text=\"Developed world average\"\n",
    ")\n",
    "\n",
    "# Set x-axis title\n",
    "fig.update_xaxes(title_text=\"Year\")\n",
    "\n",
    "# Set y-axes titles\n",
    "fig.update_yaxes(title_text=\"<b>Emissions</b>\", secondary_y=False)\n",
    "fig.update_yaxes(title_text=\"<b>Renewable energy share (%)</b>\", secondary_y=True)\n",
    "\n",
    "fig.show()"
   ]
  },
  {
   "cell_type": "markdown",
   "id": "fc94f96d794d50bf",
   "metadata": {
    "collapsed": false,
    "tags": [
     "hide-input"
    ]
   },
   "source": [
    "> This graph shows the sum of emissions in developed countries and the means of renewable energy share over the pas two decades"
   ]
  },
  {
   "cell_type": "markdown",
   "id": "5dad8bb7c31bd260",
   "metadata": {
    "collapsed": false,
    "tags": [
     "hide-input"
    ]
   },
   "source": [
    "The emissions in developed countries show that they have been declining over the years. There has also been a steady increase of renewable energy since 2000. \n",
    "\n",
    "While the increase does correlate with the reduction of CO2 emissions, the decrease is not sheer.  So even though  renewable energy contributes to the reduction of emissions, the pace is not efficient to make big changes. Sustainability helps for the long term, but is too slow to meet urgent changes in reducing CO2 emissions.\n"
   ]
  },
  {
   "cell_type": "code",
   "execution_count": null,
   "id": "f9774213b536c71e",
   "metadata": {
    "ExecuteTime": {
     "end_time": "2024-06-27T11:41:21.490110Z",
     "start_time": "2024-06-27T11:41:21.457297Z"
    },
    "collapsed": false,
    "tags": [
     "hide-input"
    ]
   },
   "outputs": [
    {
     "data": {
      "application/vnd.plotly.v1+json": {
       "config": {
        "plotlyServerURL": "https://plot.ly"
       },
       "data": [
        {
         "name": "Developing emissions",
         "type": "scatter",
         "x": [
          2000,
          2001,
          2002,
          2003,
          2004,
          2005,
          2006,
          2007,
          2008,
          2009,
          2010,
          2011,
          2012,
          2013,
          2014,
          2015,
          2016,
          2017,
          2018,
          2019,
          2020
         ],
         "xaxis": "x",
         "y": [
          10160226.3966,
          10296668.275,
          10732644.7828,
          11806117.5058,
          12875164.599000001,
          13759003.817799998,
          14681615.3082,
          15509782.599499999,
          16450493.3249,
          16913477.7648,
          17994372.0446,
          19266991.6259,
          19963929.1501,
          20182689.6449,
          20594053.080399998,
          20686302.9898,
          20758534.4291,
          21135943.2195,
          21708038.7352,
          22061971.2443,
          10054
         ],
         "yaxis": "y"
        },
        {
         "name": "Developing renewable energy share (%)",
         "type": "scatter",
         "x": [
          2000,
          2001,
          2002,
          2003,
          2004,
          2005,
          2006,
          2007,
          2008,
          2009,
          2010,
          2011,
          2012,
          2013,
          2014,
          2015,
          2016,
          2017,
          2018,
          2019,
          2020
         ],
         "xaxis": "x",
         "y": [
          39.96059799194336,
          39.42593765258789,
          39.400150299072266,
          38.94300842285156,
          38.634212493896484,
          38.491355895996094,
          38.086769104003906,
          37.118072509765625,
          37.0423698425293,
          36.94289016723633,
          36.5922966003418,
          36.05555725097656,
          35.958675384521484,
          36.04226303100586,
          35.62481689453125,
          35.14562225341797,
          34.78642654418945,
          34.50277328491211,
          34.47262954711914,
          34.019561767578125,
          81.9000015258789
         ],
         "yaxis": "y2"
        }
       ],
       "layout": {
        "template": {
         "data": {
          "bar": [
           {
            "error_x": {
             "color": "#2a3f5f"
            },
            "error_y": {
             "color": "#2a3f5f"
            },
            "marker": {
             "line": {
              "color": "#E5ECF6",
              "width": 0.5
             },
             "pattern": {
              "fillmode": "overlay",
              "size": 10,
              "solidity": 0.2
             }
            },
            "type": "bar"
           }
          ],
          "barpolar": [
           {
            "marker": {
             "line": {
              "color": "#E5ECF6",
              "width": 0.5
             },
             "pattern": {
              "fillmode": "overlay",
              "size": 10,
              "solidity": 0.2
             }
            },
            "type": "barpolar"
           }
          ],
          "carpet": [
           {
            "aaxis": {
             "endlinecolor": "#2a3f5f",
             "gridcolor": "white",
             "linecolor": "white",
             "minorgridcolor": "white",
             "startlinecolor": "#2a3f5f"
            },
            "baxis": {
             "endlinecolor": "#2a3f5f",
             "gridcolor": "white",
             "linecolor": "white",
             "minorgridcolor": "white",
             "startlinecolor": "#2a3f5f"
            },
            "type": "carpet"
           }
          ],
          "choropleth": [
           {
            "colorbar": {
             "outlinewidth": 0,
             "ticks": ""
            },
            "type": "choropleth"
           }
          ],
          "contour": [
           {
            "colorbar": {
             "outlinewidth": 0,
             "ticks": ""
            },
            "colorscale": [
             [
              0,
              "#0d0887"
             ],
             [
              0.1111111111111111,
              "#46039f"
             ],
             [
              0.2222222222222222,
              "#7201a8"
             ],
             [
              0.3333333333333333,
              "#9c179e"
             ],
             [
              0.4444444444444444,
              "#bd3786"
             ],
             [
              0.5555555555555556,
              "#d8576b"
             ],
             [
              0.6666666666666666,
              "#ed7953"
             ],
             [
              0.7777777777777778,
              "#fb9f3a"
             ],
             [
              0.8888888888888888,
              "#fdca26"
             ],
             [
              1,
              "#f0f921"
             ]
            ],
            "type": "contour"
           }
          ],
          "contourcarpet": [
           {
            "colorbar": {
             "outlinewidth": 0,
             "ticks": ""
            },
            "type": "contourcarpet"
           }
          ],
          "heatmap": [
           {
            "colorbar": {
             "outlinewidth": 0,
             "ticks": ""
            },
            "colorscale": [
             [
              0,
              "#0d0887"
             ],
             [
              0.1111111111111111,
              "#46039f"
             ],
             [
              0.2222222222222222,
              "#7201a8"
             ],
             [
              0.3333333333333333,
              "#9c179e"
             ],
             [
              0.4444444444444444,
              "#bd3786"
             ],
             [
              0.5555555555555556,
              "#d8576b"
             ],
             [
              0.6666666666666666,
              "#ed7953"
             ],
             [
              0.7777777777777778,
              "#fb9f3a"
             ],
             [
              0.8888888888888888,
              "#fdca26"
             ],
             [
              1,
              "#f0f921"
             ]
            ],
            "type": "heatmap"
           }
          ],
          "heatmapgl": [
           {
            "colorbar": {
             "outlinewidth": 0,
             "ticks": ""
            },
            "colorscale": [
             [
              0,
              "#0d0887"
             ],
             [
              0.1111111111111111,
              "#46039f"
             ],
             [
              0.2222222222222222,
              "#7201a8"
             ],
             [
              0.3333333333333333,
              "#9c179e"
             ],
             [
              0.4444444444444444,
              "#bd3786"
             ],
             [
              0.5555555555555556,
              "#d8576b"
             ],
             [
              0.6666666666666666,
              "#ed7953"
             ],
             [
              0.7777777777777778,
              "#fb9f3a"
             ],
             [
              0.8888888888888888,
              "#fdca26"
             ],
             [
              1,
              "#f0f921"
             ]
            ],
            "type": "heatmapgl"
           }
          ],
          "histogram": [
           {
            "marker": {
             "pattern": {
              "fillmode": "overlay",
              "size": 10,
              "solidity": 0.2
             }
            },
            "type": "histogram"
           }
          ],
          "histogram2d": [
           {
            "colorbar": {
             "outlinewidth": 0,
             "ticks": ""
            },
            "colorscale": [
             [
              0,
              "#0d0887"
             ],
             [
              0.1111111111111111,
              "#46039f"
             ],
             [
              0.2222222222222222,
              "#7201a8"
             ],
             [
              0.3333333333333333,
              "#9c179e"
             ],
             [
              0.4444444444444444,
              "#bd3786"
             ],
             [
              0.5555555555555556,
              "#d8576b"
             ],
             [
              0.6666666666666666,
              "#ed7953"
             ],
             [
              0.7777777777777778,
              "#fb9f3a"
             ],
             [
              0.8888888888888888,
              "#fdca26"
             ],
             [
              1,
              "#f0f921"
             ]
            ],
            "type": "histogram2d"
           }
          ],
          "histogram2dcontour": [
           {
            "colorbar": {
             "outlinewidth": 0,
             "ticks": ""
            },
            "colorscale": [
             [
              0,
              "#0d0887"
             ],
             [
              0.1111111111111111,
              "#46039f"
             ],
             [
              0.2222222222222222,
              "#7201a8"
             ],
             [
              0.3333333333333333,
              "#9c179e"
             ],
             [
              0.4444444444444444,
              "#bd3786"
             ],
             [
              0.5555555555555556,
              "#d8576b"
             ],
             [
              0.6666666666666666,
              "#ed7953"
             ],
             [
              0.7777777777777778,
              "#fb9f3a"
             ],
             [
              0.8888888888888888,
              "#fdca26"
             ],
             [
              1,
              "#f0f921"
             ]
            ],
            "type": "histogram2dcontour"
           }
          ],
          "mesh3d": [
           {
            "colorbar": {
             "outlinewidth": 0,
             "ticks": ""
            },
            "type": "mesh3d"
           }
          ],
          "parcoords": [
           {
            "line": {
             "colorbar": {
              "outlinewidth": 0,
              "ticks": ""
             }
            },
            "type": "parcoords"
           }
          ],
          "pie": [
           {
            "automargin": true,
            "type": "pie"
           }
          ],
          "scatter": [
           {
            "fillpattern": {
             "fillmode": "overlay",
             "size": 10,
             "solidity": 0.2
            },
            "type": "scatter"
           }
          ],
          "scatter3d": [
           {
            "line": {
             "colorbar": {
              "outlinewidth": 0,
              "ticks": ""
             }
            },
            "marker": {
             "colorbar": {
              "outlinewidth": 0,
              "ticks": ""
             }
            },
            "type": "scatter3d"
           }
          ],
          "scattercarpet": [
           {
            "marker": {
             "colorbar": {
              "outlinewidth": 0,
              "ticks": ""
             }
            },
            "type": "scattercarpet"
           }
          ],
          "scattergeo": [
           {
            "marker": {
             "colorbar": {
              "outlinewidth": 0,
              "ticks": ""
             }
            },
            "type": "scattergeo"
           }
          ],
          "scattergl": [
           {
            "marker": {
             "colorbar": {
              "outlinewidth": 0,
              "ticks": ""
             }
            },
            "type": "scattergl"
           }
          ],
          "scattermapbox": [
           {
            "marker": {
             "colorbar": {
              "outlinewidth": 0,
              "ticks": ""
             }
            },
            "type": "scattermapbox"
           }
          ],
          "scatterpolar": [
           {
            "marker": {
             "colorbar": {
              "outlinewidth": 0,
              "ticks": ""
             }
            },
            "type": "scatterpolar"
           }
          ],
          "scatterpolargl": [
           {
            "marker": {
             "colorbar": {
              "outlinewidth": 0,
              "ticks": ""
             }
            },
            "type": "scatterpolargl"
           }
          ],
          "scatterternary": [
           {
            "marker": {
             "colorbar": {
              "outlinewidth": 0,
              "ticks": ""
             }
            },
            "type": "scatterternary"
           }
          ],
          "surface": [
           {
            "colorbar": {
             "outlinewidth": 0,
             "ticks": ""
            },
            "colorscale": [
             [
              0,
              "#0d0887"
             ],
             [
              0.1111111111111111,
              "#46039f"
             ],
             [
              0.2222222222222222,
              "#7201a8"
             ],
             [
              0.3333333333333333,
              "#9c179e"
             ],
             [
              0.4444444444444444,
              "#bd3786"
             ],
             [
              0.5555555555555556,
              "#d8576b"
             ],
             [
              0.6666666666666666,
              "#ed7953"
             ],
             [
              0.7777777777777778,
              "#fb9f3a"
             ],
             [
              0.8888888888888888,
              "#fdca26"
             ],
             [
              1,
              "#f0f921"
             ]
            ],
            "type": "surface"
           }
          ],
          "table": [
           {
            "cells": {
             "fill": {
              "color": "#EBF0F8"
             },
             "line": {
              "color": "white"
             }
            },
            "header": {
             "fill": {
              "color": "#C8D4E3"
             },
             "line": {
              "color": "white"
             }
            },
            "type": "table"
           }
          ]
         },
         "layout": {
          "annotationdefaults": {
           "arrowcolor": "#2a3f5f",
           "arrowhead": 0,
           "arrowwidth": 1
          },
          "autotypenumbers": "strict",
          "coloraxis": {
           "colorbar": {
            "outlinewidth": 0,
            "ticks": ""
           }
          },
          "colorscale": {
           "diverging": [
            [
             0,
             "#8e0152"
            ],
            [
             0.1,
             "#c51b7d"
            ],
            [
             0.2,
             "#de77ae"
            ],
            [
             0.3,
             "#f1b6da"
            ],
            [
             0.4,
             "#fde0ef"
            ],
            [
             0.5,
             "#f7f7f7"
            ],
            [
             0.6,
             "#e6f5d0"
            ],
            [
             0.7,
             "#b8e186"
            ],
            [
             0.8,
             "#7fbc41"
            ],
            [
             0.9,
             "#4d9221"
            ],
            [
             1,
             "#276419"
            ]
           ],
           "sequential": [
            [
             0,
             "#0d0887"
            ],
            [
             0.1111111111111111,
             "#46039f"
            ],
            [
             0.2222222222222222,
             "#7201a8"
            ],
            [
             0.3333333333333333,
             "#9c179e"
            ],
            [
             0.4444444444444444,
             "#bd3786"
            ],
            [
             0.5555555555555556,
             "#d8576b"
            ],
            [
             0.6666666666666666,
             "#ed7953"
            ],
            [
             0.7777777777777778,
             "#fb9f3a"
            ],
            [
             0.8888888888888888,
             "#fdca26"
            ],
            [
             1,
             "#f0f921"
            ]
           ],
           "sequentialminus": [
            [
             0,
             "#0d0887"
            ],
            [
             0.1111111111111111,
             "#46039f"
            ],
            [
             0.2222222222222222,
             "#7201a8"
            ],
            [
             0.3333333333333333,
             "#9c179e"
            ],
            [
             0.4444444444444444,
             "#bd3786"
            ],
            [
             0.5555555555555556,
             "#d8576b"
            ],
            [
             0.6666666666666666,
             "#ed7953"
            ],
            [
             0.7777777777777778,
             "#fb9f3a"
            ],
            [
             0.8888888888888888,
             "#fdca26"
            ],
            [
             1,
             "#f0f921"
            ]
           ]
          },
          "colorway": [
           "#636efa",
           "#EF553B",
           "#00cc96",
           "#ab63fa",
           "#FFA15A",
           "#19d3f3",
           "#FF6692",
           "#B6E880",
           "#FF97FF",
           "#FECB52"
          ],
          "font": {
           "color": "#2a3f5f"
          },
          "geo": {
           "bgcolor": "white",
           "lakecolor": "white",
           "landcolor": "#E5ECF6",
           "showlakes": true,
           "showland": true,
           "subunitcolor": "white"
          },
          "hoverlabel": {
           "align": "left"
          },
          "hovermode": "closest",
          "mapbox": {
           "style": "light"
          },
          "paper_bgcolor": "white",
          "plot_bgcolor": "#E5ECF6",
          "polar": {
           "angularaxis": {
            "gridcolor": "white",
            "linecolor": "white",
            "ticks": ""
           },
           "bgcolor": "#E5ECF6",
           "radialaxis": {
            "gridcolor": "white",
            "linecolor": "white",
            "ticks": ""
           }
          },
          "scene": {
           "xaxis": {
            "backgroundcolor": "#E5ECF6",
            "gridcolor": "white",
            "gridwidth": 2,
            "linecolor": "white",
            "showbackground": true,
            "ticks": "",
            "zerolinecolor": "white"
           },
           "yaxis": {
            "backgroundcolor": "#E5ECF6",
            "gridcolor": "white",
            "gridwidth": 2,
            "linecolor": "white",
            "showbackground": true,
            "ticks": "",
            "zerolinecolor": "white"
           },
           "zaxis": {
            "backgroundcolor": "#E5ECF6",
            "gridcolor": "white",
            "gridwidth": 2,
            "linecolor": "white",
            "showbackground": true,
            "ticks": "",
            "zerolinecolor": "white"
           }
          },
          "shapedefaults": {
           "line": {
            "color": "#2a3f5f"
           }
          },
          "ternary": {
           "aaxis": {
            "gridcolor": "white",
            "linecolor": "white",
            "ticks": ""
           },
           "baxis": {
            "gridcolor": "white",
            "linecolor": "white",
            "ticks": ""
           },
           "bgcolor": "#E5ECF6",
           "caxis": {
            "gridcolor": "white",
            "linecolor": "white",
            "ticks": ""
           }
          },
          "title": {
           "x": 0.05
          },
          "xaxis": {
           "automargin": true,
           "gridcolor": "white",
           "linecolor": "white",
           "ticks": "",
           "title": {
            "standoff": 15
           },
           "zerolinecolor": "white",
           "zerolinewidth": 2
          },
          "yaxis": {
           "automargin": true,
           "gridcolor": "white",
           "linecolor": "white",
           "ticks": "",
           "title": {
            "standoff": 15
           },
           "zerolinecolor": "white",
           "zerolinewidth": 2
          }
         }
        },
        "title": {
         "text": "Developing world average"
        },
        "xaxis": {
         "anchor": "y",
         "domain": [
          0,
          0.94
         ],
         "title": {
          "text": "Year"
         }
        },
        "yaxis": {
         "anchor": "x",
         "domain": [
          0,
          1
         ],
         "title": {
          "text": "<b>Emissions</b>"
         }
        },
        "yaxis2": {
         "anchor": "x",
         "overlaying": "y",
         "side": "right",
         "title": {
          "text": "<b>Renewable energy share (%)</b>"
         }
        }
       }
      }
     },
     "metadata": {},
     "output_type": "display_data"
    }
   ],
   "source": [
    "developing_data = df[(df['Element'] == \"Emissions (CO2)\") & (df['Item'] == \"All sectors without LULUCF\") & (~df['Area'].isin(developed_countries))].drop(columns=[\n",
    "    'Item','Access to electricity (% of population)',\n",
    "    'Access to clean fuels for cooking',\n",
    "    'Renewable-electricity-generating-capacity-per-capita',\n",
    "    'Financial flows to developing countries (US $)',\n",
    "    'Electricity from fossil fuels (TWh)', 'Electricity from nuclear (TWh)',\n",
    "    'Low-carbon electricity (% electricity)',\n",
    "    'Primary energy consumption per capita (kWh/person)',\n",
    "    'Energy intensity level of primary energy (MJ/$2017 PPP GDP)',\n",
    "    'Value_co2_emissions_kt_by_country',\n",
    "    'Renewables (% equivalent primary energy)', 'gdp_growth',\n",
    "    'gdp_per_capita', 'Density\\\\n(P/Km2)', 'Land Area(Km2)', 'Latitude',\n",
    "    'Longitude']).dropna()\n",
    "\n",
    "developing_means = pd.concat([developing_data['Renewable energy share in the total final energy consumption (%)'].groupby(developing_data['Year']).mean(), developing_data['Emission'].groupby(developing_data['Year']).sum()], axis=1)\n",
    "\n",
    "# Create figure with secondary y-axis\n",
    "fig = make_subplots(specs=[[{\"secondary_y\": True}]])\n",
    "\n",
    "# Add traces\n",
    "fig.add_trace(\n",
    "    go.Scatter(x=developing_means.index, y=developing_means['Emission'], name=\"Developing emissions\"),\n",
    "    secondary_y=False,\n",
    ")\n",
    "\n",
    "fig.add_trace(\n",
    "    go.Scatter(x=developing_means.index, y=developing_means['Renewable energy share in the total final energy consumption (%)'], name=\"Developing renewable energy share (%)\"),\n",
    "    secondary_y=True,\n",
    ")\n",
    "\n",
    "# Add figure title\n",
    "fig.update_layout(\n",
    "    title_text=\"Developing world average\"\n",
    ")\n",
    "\n",
    "# Set x-axis title\n",
    "fig.update_xaxes(title_text=\"Year\")\n",
    "\n",
    "# Set y-axes titles\n",
    "fig.update_yaxes(title_text=\"<b>Emissions</b>\", secondary_y=False)\n",
    "fig.update_yaxes(title_text=\"<b>Renewable energy share (%)</b>\", secondary_y=True)\n",
    "\n",
    "fig.show()"
   ]
  },
  {
   "cell_type": "markdown",
   "id": "3fff0d4cff31bf8a",
   "metadata": {
    "collapsed": false,
    "tags": [
     "hide-input"
    ]
   },
   "source": [
    "> This graph shows the sum of emissions in developing countries and the means of renewable energy share over the pas two decades"
   ]
  },
  {
   "cell_type": "markdown",
   "id": "2003b7a8c147869c",
   "metadata": {
    "collapsed": false,
    "tags": [
     "hide-input"
    ]
   },
   "source": [
    "The emissions in developing countries have had a steady increase over the years. In 2020 there has been a decrease of emissions, similar to the world sum emissions (previous graph). There as also been an increase of renewable energy in that year. Due to the economic growth in these countries the emissions will only increase, renewable energy is for this reason not enough to combat this issue. \n",
    "\n",
    "\n",
    "\n"
   ]
  },
  {
   "cell_type": "code",
   "execution_count": null,
   "id": "eaf43e5c22f509bd",
   "metadata": {
    "ExecuteTime": {
     "end_time": "2024-06-27T11:26:16.627329Z",
     "start_time": "2024-06-27T11:26:16.608141Z"
    },
    "collapsed": false,
    "tags": [
     "hide-input"
    ]
   },
   "outputs": [
    {
     "data": {
      "application/vnd.plotly.v1+json": {
       "config": {
        "plotlyServerURL": "https://plot.ly"
       },
       "data": [
        {
         "name": "China emissions",
         "type": "scatter",
         "x": [
          2000,
          2001,
          2002,
          2003,
          2004,
          2005,
          2006,
          2007,
          2008,
          2009,
          2010,
          2011,
          2012,
          2013,
          2014,
          2015,
          2016,
          2017,
          2018,
          2019
         ],
         "xaxis": "x",
         "y": [
          3839649.997,
          3913105.896,
          4294964.137,
          5022124.125,
          5728722.319,
          6413383.736,
          7069471.552,
          7615931.89,
          8123134.118,
          8526521.522,
          9311518.108,
          10251545.17,
          10518619.7,
          10734645.57,
          10821987.59,
          10722793.6,
          10601681.5,
          10827713.47,
          11097173.85,
          11370140.63
         ],
         "yaxis": "y"
        },
        {
         "name": "China renewable energy share (%)",
         "type": "scatter",
         "x": [
          2000,
          2001,
          2002,
          2003,
          2004,
          2005,
          2006,
          2007,
          2008,
          2009,
          2010,
          2011,
          2012,
          2013,
          2014,
          2015,
          2016,
          2017,
          2018,
          2019
         ],
         "xaxis": "x",
         "y": [
          29.6299991607666,
          28.360000610351562,
          27,
          23.860000610351562,
          20.170000076293945,
          17.440000534057617,
          16.389999389648438,
          14.880000114440918,
          14.140000343322754,
          13.430000305175781,
          12.260000228881836,
          11.34000015258789,
          11.529999732971191,
          11.449999809265137,
          11.9399995803833,
          12.180000305175781,
          12.5600004196167,
          13.130000114440918,
          13.710000038146973,
          14.449999809265137
         ],
         "yaxis": "y2"
        }
       ],
       "layout": {
        "template": {
         "data": {
          "bar": [
           {
            "error_x": {
             "color": "#2a3f5f"
            },
            "error_y": {
             "color": "#2a3f5f"
            },
            "marker": {
             "line": {
              "color": "#E5ECF6",
              "width": 0.5
             },
             "pattern": {
              "fillmode": "overlay",
              "size": 10,
              "solidity": 0.2
             }
            },
            "type": "bar"
           }
          ],
          "barpolar": [
           {
            "marker": {
             "line": {
              "color": "#E5ECF6",
              "width": 0.5
             },
             "pattern": {
              "fillmode": "overlay",
              "size": 10,
              "solidity": 0.2
             }
            },
            "type": "barpolar"
           }
          ],
          "carpet": [
           {
            "aaxis": {
             "endlinecolor": "#2a3f5f",
             "gridcolor": "white",
             "linecolor": "white",
             "minorgridcolor": "white",
             "startlinecolor": "#2a3f5f"
            },
            "baxis": {
             "endlinecolor": "#2a3f5f",
             "gridcolor": "white",
             "linecolor": "white",
             "minorgridcolor": "white",
             "startlinecolor": "#2a3f5f"
            },
            "type": "carpet"
           }
          ],
          "choropleth": [
           {
            "colorbar": {
             "outlinewidth": 0,
             "ticks": ""
            },
            "type": "choropleth"
           }
          ],
          "contour": [
           {
            "colorbar": {
             "outlinewidth": 0,
             "ticks": ""
            },
            "colorscale": [
             [
              0,
              "#0d0887"
             ],
             [
              0.1111111111111111,
              "#46039f"
             ],
             [
              0.2222222222222222,
              "#7201a8"
             ],
             [
              0.3333333333333333,
              "#9c179e"
             ],
             [
              0.4444444444444444,
              "#bd3786"
             ],
             [
              0.5555555555555556,
              "#d8576b"
             ],
             [
              0.6666666666666666,
              "#ed7953"
             ],
             [
              0.7777777777777778,
              "#fb9f3a"
             ],
             [
              0.8888888888888888,
              "#fdca26"
             ],
             [
              1,
              "#f0f921"
             ]
            ],
            "type": "contour"
           }
          ],
          "contourcarpet": [
           {
            "colorbar": {
             "outlinewidth": 0,
             "ticks": ""
            },
            "type": "contourcarpet"
           }
          ],
          "heatmap": [
           {
            "colorbar": {
             "outlinewidth": 0,
             "ticks": ""
            },
            "colorscale": [
             [
              0,
              "#0d0887"
             ],
             [
              0.1111111111111111,
              "#46039f"
             ],
             [
              0.2222222222222222,
              "#7201a8"
             ],
             [
              0.3333333333333333,
              "#9c179e"
             ],
             [
              0.4444444444444444,
              "#bd3786"
             ],
             [
              0.5555555555555556,
              "#d8576b"
             ],
             [
              0.6666666666666666,
              "#ed7953"
             ],
             [
              0.7777777777777778,
              "#fb9f3a"
             ],
             [
              0.8888888888888888,
              "#fdca26"
             ],
             [
              1,
              "#f0f921"
             ]
            ],
            "type": "heatmap"
           }
          ],
          "heatmapgl": [
           {
            "colorbar": {
             "outlinewidth": 0,
             "ticks": ""
            },
            "colorscale": [
             [
              0,
              "#0d0887"
             ],
             [
              0.1111111111111111,
              "#46039f"
             ],
             [
              0.2222222222222222,
              "#7201a8"
             ],
             [
              0.3333333333333333,
              "#9c179e"
             ],
             [
              0.4444444444444444,
              "#bd3786"
             ],
             [
              0.5555555555555556,
              "#d8576b"
             ],
             [
              0.6666666666666666,
              "#ed7953"
             ],
             [
              0.7777777777777778,
              "#fb9f3a"
             ],
             [
              0.8888888888888888,
              "#fdca26"
             ],
             [
              1,
              "#f0f921"
             ]
            ],
            "type": "heatmapgl"
           }
          ],
          "histogram": [
           {
            "marker": {
             "pattern": {
              "fillmode": "overlay",
              "size": 10,
              "solidity": 0.2
             }
            },
            "type": "histogram"
           }
          ],
          "histogram2d": [
           {
            "colorbar": {
             "outlinewidth": 0,
             "ticks": ""
            },
            "colorscale": [
             [
              0,
              "#0d0887"
             ],
             [
              0.1111111111111111,
              "#46039f"
             ],
             [
              0.2222222222222222,
              "#7201a8"
             ],
             [
              0.3333333333333333,
              "#9c179e"
             ],
             [
              0.4444444444444444,
              "#bd3786"
             ],
             [
              0.5555555555555556,
              "#d8576b"
             ],
             [
              0.6666666666666666,
              "#ed7953"
             ],
             [
              0.7777777777777778,
              "#fb9f3a"
             ],
             [
              0.8888888888888888,
              "#fdca26"
             ],
             [
              1,
              "#f0f921"
             ]
            ],
            "type": "histogram2d"
           }
          ],
          "histogram2dcontour": [
           {
            "colorbar": {
             "outlinewidth": 0,
             "ticks": ""
            },
            "colorscale": [
             [
              0,
              "#0d0887"
             ],
             [
              0.1111111111111111,
              "#46039f"
             ],
             [
              0.2222222222222222,
              "#7201a8"
             ],
             [
              0.3333333333333333,
              "#9c179e"
             ],
             [
              0.4444444444444444,
              "#bd3786"
             ],
             [
              0.5555555555555556,
              "#d8576b"
             ],
             [
              0.6666666666666666,
              "#ed7953"
             ],
             [
              0.7777777777777778,
              "#fb9f3a"
             ],
             [
              0.8888888888888888,
              "#fdca26"
             ],
             [
              1,
              "#f0f921"
             ]
            ],
            "type": "histogram2dcontour"
           }
          ],
          "mesh3d": [
           {
            "colorbar": {
             "outlinewidth": 0,
             "ticks": ""
            },
            "type": "mesh3d"
           }
          ],
          "parcoords": [
           {
            "line": {
             "colorbar": {
              "outlinewidth": 0,
              "ticks": ""
             }
            },
            "type": "parcoords"
           }
          ],
          "pie": [
           {
            "automargin": true,
            "type": "pie"
           }
          ],
          "scatter": [
           {
            "fillpattern": {
             "fillmode": "overlay",
             "size": 10,
             "solidity": 0.2
            },
            "type": "scatter"
           }
          ],
          "scatter3d": [
           {
            "line": {
             "colorbar": {
              "outlinewidth": 0,
              "ticks": ""
             }
            },
            "marker": {
             "colorbar": {
              "outlinewidth": 0,
              "ticks": ""
             }
            },
            "type": "scatter3d"
           }
          ],
          "scattercarpet": [
           {
            "marker": {
             "colorbar": {
              "outlinewidth": 0,
              "ticks": ""
             }
            },
            "type": "scattercarpet"
           }
          ],
          "scattergeo": [
           {
            "marker": {
             "colorbar": {
              "outlinewidth": 0,
              "ticks": ""
             }
            },
            "type": "scattergeo"
           }
          ],
          "scattergl": [
           {
            "marker": {
             "colorbar": {
              "outlinewidth": 0,
              "ticks": ""
             }
            },
            "type": "scattergl"
           }
          ],
          "scattermapbox": [
           {
            "marker": {
             "colorbar": {
              "outlinewidth": 0,
              "ticks": ""
             }
            },
            "type": "scattermapbox"
           }
          ],
          "scatterpolar": [
           {
            "marker": {
             "colorbar": {
              "outlinewidth": 0,
              "ticks": ""
             }
            },
            "type": "scatterpolar"
           }
          ],
          "scatterpolargl": [
           {
            "marker": {
             "colorbar": {
              "outlinewidth": 0,
              "ticks": ""
             }
            },
            "type": "scatterpolargl"
           }
          ],
          "scatterternary": [
           {
            "marker": {
             "colorbar": {
              "outlinewidth": 0,
              "ticks": ""
             }
            },
            "type": "scatterternary"
           }
          ],
          "surface": [
           {
            "colorbar": {
             "outlinewidth": 0,
             "ticks": ""
            },
            "colorscale": [
             [
              0,
              "#0d0887"
             ],
             [
              0.1111111111111111,
              "#46039f"
             ],
             [
              0.2222222222222222,
              "#7201a8"
             ],
             [
              0.3333333333333333,
              "#9c179e"
             ],
             [
              0.4444444444444444,
              "#bd3786"
             ],
             [
              0.5555555555555556,
              "#d8576b"
             ],
             [
              0.6666666666666666,
              "#ed7953"
             ],
             [
              0.7777777777777778,
              "#fb9f3a"
             ],
             [
              0.8888888888888888,
              "#fdca26"
             ],
             [
              1,
              "#f0f921"
             ]
            ],
            "type": "surface"
           }
          ],
          "table": [
           {
            "cells": {
             "fill": {
              "color": "#EBF0F8"
             },
             "line": {
              "color": "white"
             }
            },
            "header": {
             "fill": {
              "color": "#C8D4E3"
             },
             "line": {
              "color": "white"
             }
            },
            "type": "table"
           }
          ]
         },
         "layout": {
          "annotationdefaults": {
           "arrowcolor": "#2a3f5f",
           "arrowhead": 0,
           "arrowwidth": 1
          },
          "autotypenumbers": "strict",
          "coloraxis": {
           "colorbar": {
            "outlinewidth": 0,
            "ticks": ""
           }
          },
          "colorscale": {
           "diverging": [
            [
             0,
             "#8e0152"
            ],
            [
             0.1,
             "#c51b7d"
            ],
            [
             0.2,
             "#de77ae"
            ],
            [
             0.3,
             "#f1b6da"
            ],
            [
             0.4,
             "#fde0ef"
            ],
            [
             0.5,
             "#f7f7f7"
            ],
            [
             0.6,
             "#e6f5d0"
            ],
            [
             0.7,
             "#b8e186"
            ],
            [
             0.8,
             "#7fbc41"
            ],
            [
             0.9,
             "#4d9221"
            ],
            [
             1,
             "#276419"
            ]
           ],
           "sequential": [
            [
             0,
             "#0d0887"
            ],
            [
             0.1111111111111111,
             "#46039f"
            ],
            [
             0.2222222222222222,
             "#7201a8"
            ],
            [
             0.3333333333333333,
             "#9c179e"
            ],
            [
             0.4444444444444444,
             "#bd3786"
            ],
            [
             0.5555555555555556,
             "#d8576b"
            ],
            [
             0.6666666666666666,
             "#ed7953"
            ],
            [
             0.7777777777777778,
             "#fb9f3a"
            ],
            [
             0.8888888888888888,
             "#fdca26"
            ],
            [
             1,
             "#f0f921"
            ]
           ],
           "sequentialminus": [
            [
             0,
             "#0d0887"
            ],
            [
             0.1111111111111111,
             "#46039f"
            ],
            [
             0.2222222222222222,
             "#7201a8"
            ],
            [
             0.3333333333333333,
             "#9c179e"
            ],
            [
             0.4444444444444444,
             "#bd3786"
            ],
            [
             0.5555555555555556,
             "#d8576b"
            ],
            [
             0.6666666666666666,
             "#ed7953"
            ],
            [
             0.7777777777777778,
             "#fb9f3a"
            ],
            [
             0.8888888888888888,
             "#fdca26"
            ],
            [
             1,
             "#f0f921"
            ]
           ]
          },
          "colorway": [
           "#636efa",
           "#EF553B",
           "#00cc96",
           "#ab63fa",
           "#FFA15A",
           "#19d3f3",
           "#FF6692",
           "#B6E880",
           "#FF97FF",
           "#FECB52"
          ],
          "font": {
           "color": "#2a3f5f"
          },
          "geo": {
           "bgcolor": "white",
           "lakecolor": "white",
           "landcolor": "#E5ECF6",
           "showlakes": true,
           "showland": true,
           "subunitcolor": "white"
          },
          "hoverlabel": {
           "align": "left"
          },
          "hovermode": "closest",
          "mapbox": {
           "style": "light"
          },
          "paper_bgcolor": "white",
          "plot_bgcolor": "#E5ECF6",
          "polar": {
           "angularaxis": {
            "gridcolor": "white",
            "linecolor": "white",
            "ticks": ""
           },
           "bgcolor": "#E5ECF6",
           "radialaxis": {
            "gridcolor": "white",
            "linecolor": "white",
            "ticks": ""
           }
          },
          "scene": {
           "xaxis": {
            "backgroundcolor": "#E5ECF6",
            "gridcolor": "white",
            "gridwidth": 2,
            "linecolor": "white",
            "showbackground": true,
            "ticks": "",
            "zerolinecolor": "white"
           },
           "yaxis": {
            "backgroundcolor": "#E5ECF6",
            "gridcolor": "white",
            "gridwidth": 2,
            "linecolor": "white",
            "showbackground": true,
            "ticks": "",
            "zerolinecolor": "white"
           },
           "zaxis": {
            "backgroundcolor": "#E5ECF6",
            "gridcolor": "white",
            "gridwidth": 2,
            "linecolor": "white",
            "showbackground": true,
            "ticks": "",
            "zerolinecolor": "white"
           }
          },
          "shapedefaults": {
           "line": {
            "color": "#2a3f5f"
           }
          },
          "ternary": {
           "aaxis": {
            "gridcolor": "white",
            "linecolor": "white",
            "ticks": ""
           },
           "baxis": {
            "gridcolor": "white",
            "linecolor": "white",
            "ticks": ""
           },
           "bgcolor": "#E5ECF6",
           "caxis": {
            "gridcolor": "white",
            "linecolor": "white",
            "ticks": ""
           }
          },
          "title": {
           "x": 0.05
          },
          "xaxis": {
           "automargin": true,
           "gridcolor": "white",
           "linecolor": "white",
           "ticks": "",
           "title": {
            "standoff": 15
           },
           "zerolinecolor": "white",
           "zerolinewidth": 2
          },
          "yaxis": {
           "automargin": true,
           "gridcolor": "white",
           "linecolor": "white",
           "ticks": "",
           "title": {
            "standoff": 15
           },
           "zerolinecolor": "white",
           "zerolinewidth": 2
          }
         }
        },
        "title": {
         "text": "China world average"
        },
        "xaxis": {
         "anchor": "y",
         "domain": [
          0,
          0.94
         ],
         "title": {
          "text": "Year"
         }
        },
        "yaxis": {
         "anchor": "x",
         "domain": [
          0,
          1
         ],
         "title": {
          "text": "<b>China emissions</b>"
         }
        },
        "yaxis2": {
         "anchor": "x",
         "overlaying": "y",
         "side": "right",
         "title": {
          "text": "<b>China renewable energy share (%)</b>"
         }
        }
       }
      }
     },
     "metadata": {},
     "output_type": "display_data"
    }
   ],
   "source": [
    "china_data = df[(df['Element'] == \"Emissions (CO2)\") & (df['Item'] == \"All sectors without LULUCF\") & (df['Area'] == \"China\")].drop(columns=[\n",
    "    'Item', 'Element']).dropna()\n",
    "china_means = pd.concat([china_data['Renewable energy share in the total final energy consumption (%)'].groupby(china_data['Year']).mean(), china_data['Emission'].groupby(china_data['Year']).sum()], axis=1)\n",
    "\n",
    "import plotly.graph_objects as go\n",
    "from plotly.subplots import make_subplots\n",
    "\n",
    "# Create figure with secondary y-axis\n",
    "fig = make_subplots(specs=[[{\"secondary_y\": True}]])\n",
    "\n",
    "# Add traces\n",
    "fig.add_trace(\n",
    "    go.Scatter(x=china_means.index, y=china_means['Emission'], name=\"China emissions\"),\n",
    "    secondary_y=False,\n",
    ")\n",
    "\n",
    "fig.add_trace(\n",
    "    go.Scatter(x=china_means.index, y=china_means['Renewable energy share in the total final energy consumption (%)'], name=\"China renewable energy share (%)\"),\n",
    "    secondary_y=True,\n",
    ")\n",
    "\n",
    "# Add figure title\n",
    "fig.update_layout(\n",
    "    title_text=\"China world average\"\n",
    ")\n",
    "\n",
    "# Set x-axis title\n",
    "fig.update_xaxes(title_text=\"Year\")\n",
    "\n",
    "# Set y-axes titles\n",
    "fig.update_yaxes(title_text=\"<b>China emissions</b>\", secondary_y=False)\n",
    "fig.update_yaxes(title_text=\"<b>China renewable energy share (%)</b>\", secondary_y=True)\n",
    "fig.show()"
   ]
  },
  {
   "cell_type": "markdown",
   "id": "3f529d107e6b4f76",
   "metadata": {
    "collapsed": false,
    "tags": [
     "hide-input"
    ]
   },
   "source": [
    "> This graph shows the sum of emissions in China and the means of renewable energy share over the pas two decades"
   ]
  },
  {
   "cell_type": "markdown",
   "id": "328cc59ff4e24c4c",
   "metadata": {
    "collapsed": false,
    "tags": [
     "hide-input"
    ]
   },
   "source": [
    "China has only increased their emissions of CO2 and over the past 19 years. China is a good example of the challenges we face when it comes to industrializing nations. We would need more aggressive measures to combat world pollution. "
   ]
  },
  {
   "cell_type": "markdown",
   "id": "e1ee44a6a4e46b41",
   "metadata": {
    "collapsed": false,
    "tags": [
     "hide-input"
    ]
   },
   "source": [
    "The world becoming more sustainable is not being substantiated according to the graphs. When looking at the world sum of emissions, it has grown since 2000 till 2019 by almost 50%. Even though the emissions from the developed world have reduced it’s emissions, China has increased it’s emissions by almost 196.2%, in the same time period. This increase of emissions done by China offsets the reductions of emissions made by developed countries largely. \n",
    "\n",
    "You may think that there has been an improvement of sustainability in 2020 looking at the world emissions, but this is most likely due to the pandemic that occurred in that year. Even with our best efforts of becoming sustainable, it hasn’t resulted in much improvements worldwide. It turns out that world pollution is mostly driven by developing countries. Developing countries lack infrastructure to be able to implement sustainable practices. There will also be rapid increase of emissions due to the economic growth, and sustainability is too slow to be able to make significant changes. "
   ]
  },
  {
   "cell_type": "code",
   "execution_count": null,
   "id": "6b05534c84097e78",
   "metadata": {
    "collapsed": false,
    "tags": [
     "hide-input"
    ]
   },
   "outputs": [],
   "source": []
  },
  {
   "cell_type": "markdown",
   "id": "3553a1bee0b185d",
   "metadata": {
    "collapsed": false,
    "tags": [
     "hide-input"
    ]
   },
   "source": []
  },
  {
   "cell_type": "markdown",
   "id": "03142b82",
   "metadata": {
    "tags": [
     "hide-input"
    ]
   },
   "source": [
    "# Summary\n",
    "lorem ipsum"
   ]
  }
 ],
 "metadata": {
  "kernelspec": {
   "display_name": "Python 3",
   "language": "python",
   "name": "python3"
  },
  "language_info": {
   "codemirror_mode": {
    "name": "ipython",
    "version": 3
   },
   "file_extension": ".py",
   "mimetype": "text/x-python",
   "name": "python",
   "nbconvert_exporter": "python",
   "pygments_lexer": "ipython3",
   "version": "3.10.14"
  }
 },
 "nbformat": 4,
 "nbformat_minor": 5
}
