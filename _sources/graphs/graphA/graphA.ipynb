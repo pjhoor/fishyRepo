{
 "cells": [
  {
   "cell_type": "code",
   "execution_count": 18,
   "metadata": {},
   "outputs": [],
   "source": [
    "# Imports\n",
    "import pandas as pd\n",
    "import plotly.io as pio\n",
    "import plotly.graph_objs as go\n",
    "import plotly.express as px\n",
    "\n",
    "ems = pd.read_csv('../../emissions.csv')\n",
    "sus = pd.read_csv('../../sus.csv')\n"
   ]
  },
  {
   "cell_type": "code",
   "execution_count": 19,
   "metadata": {},
   "outputs": [],
   "source": [
    "## Preprocessing\n",
    "\n",
    "# Filter the dataset\n",
    "filtered_ems = ems[(ems['Item'] == 'All sectors with LULUCF') & (ems['Element'] == 'Emissions (CO2)')]\n",
    "\n",
    "# Select the required columns\n",
    "filtered_ems = filtered_ems[['Area', 'Item', '2000', '2005', '2010', '2015', '2020']]\n",
    "\n",
    "# Write to a new dataset\n",
    "filtered_ems.to_csv('emissionsYesLULUCF.csv', index=False)\n"
   ]
  },
  {
   "cell_type": "code",
   "execution_count": 20,
   "metadata": {},
   "outputs": [],
   "source": [
    "# Filter the dataset 2\n",
    "filtered_ems2 = ems[(ems['Item'] == 'All sectors without LULUCF') & (ems['Element'] == 'Emissions (CO2)')]\n",
    "\n",
    "# Select the required columns 2\n",
    "filtered_ems2 = filtered_ems2[['Area', 'Item', '2000', '2005', '2010', '2015', '2020']]\n",
    "\n",
    "# Write to a new dataset 2\n",
    "filtered_ems2.to_csv('emissionsNoLULUCF.csv', index=False)"
   ]
  },
  {
   "cell_type": "code",
   "execution_count": 21,
   "metadata": {},
   "outputs": [],
   "source": [
    "# Get unique values of 'Entity' and 'Land Area(Km2)'\n",
    "unique_values = sus[['Entity', 'Land Area(Km2)']].drop_duplicates()\n",
    "\n",
    "# Write to a new dataset\n",
    "unique_values.to_csv('landAreas.csv', index=False)"
   ]
  },
  {
   "cell_type": "code",
   "execution_count": 22,
   "metadata": {},
   "outputs": [],
   "source": [
    "# Load the new datasets\n",
    "emsY = pd.read_csv('emissionsYesLULUCF.csv')\n",
    "emsN = pd.read_csv('emissionsNoLULUCF.csv')\n",
    "area = pd.read_csv('landAreas.csv')\n",
    "\n",
    "# Select the years to calculate the relative values for\n",
    "years = ['2000', '2005', '2010', '2015', '2020']\n",
    "\n",
    "# Merge emsN with area\n",
    "mergeN = emsN.merge(area, left_on='Area', right_on='Entity', how='outer')\n",
    "\n",
    "# Remove rows with any empty cells from mergeN\n",
    "mergeN = mergeN.dropna()\n",
    "\n",
    "# Merge emsY with area\n",
    "mergeY = emsY.merge(area, left_on='Area', right_on='Entity', how='outer')\n",
    "\n",
    "# Remove rows with any empty cells from mergeY\n",
    "mergeY = mergeY.dropna()\n",
    "\n",
    "# Calculate the relative values and store them in new columns\n",
    "for year in years:\n",
    "    mergeN[year+'rel'] = (mergeN[year] / mergeN['Land Area(Km2)'])\n",
    "    mergeY[year+'rel'] = (mergeY[year] / mergeY['Land Area(Km2)'])\n",
    "\n",
    "# Write mergeN to a new CSV file\n",
    "mergeN.to_csv('mergeN.csv', index=False)\n",
    "\n",
    "# Write mergeY to a new CSV file\n",
    "mergeY.to_csv('mergeY.csv', index=False)\n"
   ]
  },
  {
   "cell_type": "code",
   "execution_count": 23,
   "metadata": {},
   "outputs": [
    {
     "data": {
      "application/vnd.plotly.v1+json": {
       "config": {
        "plotlyServerURL": "https://plot.ly"
       },
       "data": [
        {
         "name": "2000",
         "type": "bar",
         "x": [
          "Afghanistan",
          "Albania",
          "Algeria",
          "Angola",
          "Antigua and Barbuda",
          "Argentina",
          "Armenia",
          "Aruba",
          "Australia",
          "Austria",
          "Azerbaijan",
          "Bahamas",
          "Bahrain",
          "Bangladesh",
          "Barbados",
          "Belarus",
          "Belgium",
          "Belize",
          "Benin",
          "Bhutan",
          "Bosnia and Herzegovina",
          "Botswana",
          "Brazil",
          "Bulgaria",
          "Burkina Faso",
          "Burundi",
          "Cambodia",
          "Cameroon",
          "Canada",
          "Central African Republic",
          "Chad",
          "Chile",
          "China",
          "Colombia",
          "Comoros",
          "Congo",
          "Costa Rica",
          "Croatia",
          "Cuba",
          "Cyprus",
          "Czechia",
          "Denmark",
          "Djibouti",
          "Dominica",
          "Dominican Republic",
          "Ecuador",
          "Egypt",
          "El Salvador",
          "Equatorial Guinea",
          "Eritrea",
          "Estonia",
          "Eswatini",
          "Ethiopia",
          "Fiji",
          "Finland",
          "France",
          "Gabon",
          "Gambia",
          "Georgia",
          "Germany",
          "Ghana",
          "Greece",
          "Grenada",
          "Guatemala",
          "Guinea",
          "Guinea-Bissau",
          "Guyana",
          "Haiti",
          "Honduras",
          "Hungary",
          "Iceland",
          "India",
          "Indonesia",
          "Iraq",
          "Ireland",
          "Israel",
          "Italy",
          "Jamaica",
          "Japan",
          "Jordan",
          "Kazakhstan",
          "Kenya",
          "Kiribati",
          "Kuwait",
          "Kyrgyzstan",
          "Latvia",
          "Lebanon",
          "Lesotho",
          "Liberia",
          "Libya",
          "Lithuania",
          "Luxembourg",
          "Madagascar",
          "Malawi",
          "Malaysia",
          "Maldives",
          "Mali",
          "Malta",
          "Mauritania",
          "Mauritius",
          "Mexico",
          "Mongolia",
          "Morocco",
          "Mozambique",
          "Myanmar",
          "Namibia",
          "Nauru",
          "Nepal",
          "Netherlands",
          "New Zealand",
          "Nicaragua",
          "Niger",
          "Nigeria",
          "North Macedonia",
          "Norway",
          "Oman",
          "Pakistan",
          "Panama",
          "Papua New Guinea",
          "Paraguay",
          "Peru",
          "Philippines",
          "Poland",
          "Portugal",
          "Qatar",
          "Romania",
          "Rwanda",
          "Saint Kitts and Nevis",
          "Saint Lucia",
          "Saint Vincent and the Grenadines",
          "Samoa",
          "Sao Tome and Principe",
          "Saudi Arabia",
          "Senegal",
          "Seychelles",
          "Sierra Leone",
          "Singapore",
          "Slovakia",
          "Slovenia",
          "Solomon Islands",
          "Somalia",
          "South Africa",
          "Spain",
          "Sri Lanka",
          "Suriname",
          "Sweden",
          "Switzerland",
          "Tajikistan",
          "Thailand",
          "Togo",
          "Tonga",
          "Trinidad and Tobago",
          "Tunisia",
          "Turkmenistan",
          "Tuvalu",
          "Uganda",
          "Ukraine",
          "United Arab Emirates",
          "Uruguay",
          "Uzbekistan",
          "Vanuatu",
          "Yemen",
          "Zambia",
          "Zimbabwe"
         ],
         "y": [
          0.0014013461508976895,
          0.1099439961040768,
          0.03865713778282357,
          0.013415416700088233,
          0.6670880361173814,
          0.05241294418069343,
          0.12201190196012507,
          13.314525139664806,
          0.04395980220172014,
          0.7852666595128234,
          0.5018937644341801,
          0.1413802421098141,
          27.555555555555557,
          0.1991782298262158,
          2.7046511627906975,
          0.2764282273603083,
          3.937444313417191,
          0.017343028825219892,
          0.013394105947328231,
          0.011954992967651195,
          0.27391136199386684,
          0.006583294655596239,
          0.040750865746726365,
          0.42385212709349834,
          0.003963894967177244,
          0.010632411067193676,
          0.011144640539122268,
          0.012521033148241628,
          0.05596479402924683,
          0.00046052547095912574,
          0.00040708722741433025,
          0.07975179924242425,
          0.4000902365957553,
          0.05047220588106172,
          0.0469351230425056,
          0.0019622601431136316,
          0.10706457925636008,
          0.3617697989186133,
          0.24220036983582896,
          0.7643498000216192,
          1.6316149154949222,
          1.2471197846567967,
          0.015917241379310342,
          0.17723035952063915,
          0.4031284980480789,
          0.07646703883820412,
          0.1473864366668331,
          0.2726581436243525,
          0.09848525899254928,
          0.005176870748299319,
          0.37746550809233215,
          0.06992398064961991,
          0.003196249207642851,
          0.045961475320126954,
          0.15913291635245236,
          0.6088838010503246,
          0.023978137013528,
          0.02501858407079646,
          0.0817503586800574,
          2.438202687789548,
          0.027124129575362737,
          0.6984103836855945,
          0.5499169054441261,
          0.09047745869647071,
          0.0062349251800843586,
          0.004245259515570934,
          0.008158632174871725,
          0.0490990990990991,
          0.044829155143188505,
          0.6289471986928666,
          0.0286152427184466,
          0.32811490896834233,
          0.14979467795600998,
          0.1814668379278011,
          0.5080904040463866,
          2.9860375541646604,
          1.5356208933430677,
          0.937221362933309,
          3.3963232648223016,
          0.1718116899106803,
          0.04716136371976953,
          0.018182786064679764,
          0.04134401972872996,
          3.1299809181726346,
          0.02387084835784767,
          0.11042422084255832,
          1.4894503846153846,
          0.061130291549991764,
          0.003930178056730329,
          0.02822328563147186,
          0.1919019908116386,
          3.3170920340293892,
          0.0032595679007088093,
          0.007593430336585531,
          0.3942485455377796,
          1.524530201342282,
          0.0007205900376715863,
          6.812120253164557,
          0.0010907926651790045,
          1.3232773529411765,
          0.21688139993636654,
          0.004805788061755011,
          0.07493001903482253,
          0.0018489329230153369,
          0.015580760828758844,
          0.002002021128435069,
          4.03252380952381,
          0.021103267405439562,
          4.5353537298702555,
          0.13473973173435305,
          0.028779627214850043,
          0.0006154696132596685,
          0.08750032475686537,
          0.4784778127795279,
          0.14697297422498934,
          0.0721389337641357,
          0.13720724285418198,
          0.0762264651286131,
          0.006524256762596145,
          0.009266580127448666,
          0.022639564088837986,
          0.24513333333333334,
          0.9888322113308922,
          0.686634169088622,
          3.3764894010012085,
          0.4012475303178392,
          0.02075708102361607,
          0.660816091954023,
          0.5680241883116883,
          0.38060359897172236,
          0.05100671140939597,
          0.057854066985645936,
          0.14490461415366868,
          0.02019601264728907,
          1.2613626373626372,
          0.005727627543908559,
          71.54581005586593,
          0.7766370959518711,
          0.7498357421200612,
          0.007995916389811739,
          0.0007943141845851296,
          0.3834007333338802,
          0.6071393236638503,
          0.15552507239750038,
          0.013682938591136614,
          0.11943281626489302,
          0.9560869249218693,
          0.01989590562109646,
          0.350813493919551,
          0.02384598045258431,
          0.12834805890227577,
          6.686817472698908,
          0.1234032149624106,
          0.0778098750256095,
          0.2823807692307692,
          0.005978310473867191,
          0.6167344876149449,
          1.381578947368421,
          0.030276820928978803,
          0.28234242288779615,
          0.007136762654852736,
          0.029321852839566034,
          0.002420882838305754,
          0.03733266454599662
         ]
        },
        {
         "name": "2005",
         "type": "bar",
         "x": [
          "Afghanistan",
          "Albania",
          "Algeria",
          "Angola",
          "Antigua and Barbuda",
          "Argentina",
          "Armenia",
          "Aruba",
          "Australia",
          "Austria",
          "Azerbaijan",
          "Bahamas",
          "Bahrain",
          "Bangladesh",
          "Barbados",
          "Belarus",
          "Belgium",
          "Belize",
          "Benin",
          "Bhutan",
          "Bosnia and Herzegovina",
          "Botswana",
          "Brazil",
          "Bulgaria",
          "Burkina Faso",
          "Burundi",
          "Cambodia",
          "Cameroon",
          "Canada",
          "Central African Republic",
          "Chad",
          "Chile",
          "China",
          "Colombia",
          "Comoros",
          "Congo",
          "Costa Rica",
          "Croatia",
          "Cuba",
          "Cyprus",
          "Czechia",
          "Denmark",
          "Djibouti",
          "Dominica",
          "Dominican Republic",
          "Ecuador",
          "Egypt",
          "El Salvador",
          "Equatorial Guinea",
          "Eritrea",
          "Estonia",
          "Eswatini",
          "Ethiopia",
          "Fiji",
          "Finland",
          "France",
          "Gabon",
          "Gambia",
          "Georgia",
          "Germany",
          "Ghana",
          "Greece",
          "Grenada",
          "Guatemala",
          "Guinea",
          "Guinea-Bissau",
          "Guyana",
          "Haiti",
          "Honduras",
          "Hungary",
          "Iceland",
          "India",
          "Indonesia",
          "Iraq",
          "Ireland",
          "Israel",
          "Italy",
          "Jamaica",
          "Japan",
          "Jordan",
          "Kazakhstan",
          "Kenya",
          "Kiribati",
          "Kuwait",
          "Kyrgyzstan",
          "Latvia",
          "Lebanon",
          "Lesotho",
          "Liberia",
          "Libya",
          "Lithuania",
          "Luxembourg",
          "Madagascar",
          "Malawi",
          "Malaysia",
          "Maldives",
          "Mali",
          "Malta",
          "Mauritania",
          "Mauritius",
          "Mexico",
          "Mongolia",
          "Morocco",
          "Mozambique",
          "Myanmar",
          "Namibia",
          "Nauru",
          "Nepal",
          "Netherlands",
          "New Zealand",
          "Nicaragua",
          "Niger",
          "Nigeria",
          "North Macedonia",
          "Norway",
          "Oman",
          "Pakistan",
          "Panama",
          "Papua New Guinea",
          "Paraguay",
          "Peru",
          "Philippines",
          "Poland",
          "Portugal",
          "Qatar",
          "Romania",
          "Rwanda",
          "Saint Kitts and Nevis",
          "Saint Lucia",
          "Saint Vincent and the Grenadines",
          "Samoa",
          "Sao Tome and Principe",
          "Saudi Arabia",
          "Senegal",
          "Seychelles",
          "Sierra Leone",
          "Singapore",
          "Slovakia",
          "Slovenia",
          "Solomon Islands",
          "Somalia",
          "South Africa",
          "Spain",
          "Sri Lanka",
          "Suriname",
          "Sweden",
          "Switzerland",
          "Tajikistan",
          "Thailand",
          "Togo",
          "Tonga",
          "Trinidad and Tobago",
          "Tunisia",
          "Turkmenistan",
          "Tuvalu",
          "Uganda",
          "Ukraine",
          "United Arab Emirates",
          "Uruguay",
          "Uzbekistan",
          "Vanuatu",
          "Yemen",
          "Zambia",
          "Zimbabwe"
         ],
         "y": [
          0.002282937000751269,
          0.15406706553499375,
          0.04571507565264233,
          0.012650196518809657,
          0.8511060948081265,
          0.059966030067616166,
          0.1518004236290892,
          15.220670391061452,
          0.04664678177341556,
          0.9216674416663686,
          0.4838337182448037,
          0.13283960224816255,
          29.15032679738562,
          0.2779873366563384,
          3.0813953488372094,
          0.30048410404624276,
          3.7464776598532494,
          0.01849560219454846,
          0.02252855569959688,
          0.01239777048497161,
          0.32513701974725084,
          0.007103123442146701,
          0.043089937844728074,
          0.4537504847626692,
          0.004332968636032093,
          0.006392382321236076,
          0.01559096307343884,
          0.012056200572101633,
          0.058828083451931815,
          0.00040964133910341194,
          0.0007742211838006231,
          0.08324344104452344,
          0.668272425434721,
          0.05388020124505009,
          0.06317673378076062,
          0.0019078562417045384,
          0.1328375733855186,
          0.4300828179665689,
          0.24084849359552588,
          0.8017511620365366,
          1.5791545688529371,
          1.1466487213997307,
          0.017944827586206896,
          0.22077230359520642,
          0.3700495377028971,
          0.11074661184013315,
          0.1734488202106945,
          0.30511857801435294,
          0.3135360593205233,
          0.006553571428571429,
          0.42282475457681085,
          0.05840589725869615,
          0.00456013583265417,
          0.05690160884316515,
          0.16750210708423902,
          0.6471098988662646,
          0.023660686599394024,
          0.029636283185840707,
          0.08681492109038738,
          2.3303437883379736,
          0.029274775397953322,
          0.7563931432208977,
          0.6220057306590259,
          0.11176519207633462,
          0.007638993398601626,
          0.006101314878892734,
          0.007556810516865222,
          0.07484684684684685,
          0.06858060487108573,
          0.6528206561465365,
          0.031221359223300972,
          0.3902638760573766,
          0.18828984405395657,
          0.26640536415425364,
          0.5233484559529027,
          2.904670197400096,
          1.6134167385677307,
          0.9469566008552452,
          3.467259699849713,
          0.22956728078619237,
          0.06957686520606261,
          0.014750583682394071,
          0.07313070283600492,
          4.2883600853069925,
          0.02850198298583153,
          0.12346444441003886,
          1.6048269230769232,
          0.06640322846318564,
          0.006046565920498522,
          0.03112745376632529,
          0.22961301684532925,
          4.563031709203403,
          0.003049190772024441,
          0.007950440565814794,
          0.5552562248557665,
          2.0293959731543625,
          0.0007974894209928785,
          8.68264240506329,
          0.0014126612981468904,
          1.6204176470588236,
          0.24546239898186448,
          0.00552190694296331,
          0.1007501959467025,
          0.0034276564337361454,
          0.017840515062564847,
          0.0028851426436262875,
          2.987047619047619,
          0.02077034399820629,
          4.662937197602484,
          0.1337340703323191,
          0.0330444120579888,
          0.0006066298342541437,
          0.11640368577391726,
          0.45116866954458834,
          0.15472444086200826,
          0.10155088852988692,
          0.1749791168139481,
          0.08973747016706445,
          0.010966982110448534,
          0.00977557332231925,
          0.02429736324477753,
          0.24913333333333335,
          1.0041959160177174,
          0.7268630980783413,
          4.7894017607457275,
          0.42986102663271686,
          0.020643177158478247,
          0.7609961685823755,
          0.5506607142857143,
          0.5688041131105399,
          0.057375485694101024,
          0.09303947368421053,
          0.1981215896245505,
          0.02856823334451663,
          1.519032967032967,
          0.006814887092277669,
          57.78030726256983,
          0.8416641174671153,
          0.8317215015044641,
          0.010034606866002214,
          0.000980307594835468,
          0.40817330959978343,
          0.7154757900152363,
          0.18370675201950923,
          0.009963136369185692,
          0.12517349737394376,
          1.0141580056690167,
          0.022276197085357392,
          0.45858999844091053,
          0.030820128555076168,
          0.1533855421686747,
          10.31591263650546,
          0.1385612126398142,
          0.10031346035648432,
          0.42354615384615385,
          0.008861673263136933,
          0.6290254328556043,
          1.427153110047847,
          0.03292143120619698,
          0.27554760840411263,
          0.005056198211502174,
          0.03957815625189406,
          0.003036068762639214,
          0.029675731976650452
         ]
        },
        {
         "name": "2010",
         "type": "bar",
         "x": [
          "Afghanistan",
          "Albania",
          "Algeria",
          "Angola",
          "Antigua and Barbuda",
          "Argentina",
          "Armenia",
          "Aruba",
          "Australia",
          "Austria",
          "Azerbaijan",
          "Bahamas",
          "Bahrain",
          "Bangladesh",
          "Barbados",
          "Belarus",
          "Belgium",
          "Belize",
          "Benin",
          "Bhutan",
          "Bosnia and Herzegovina",
          "Botswana",
          "Brazil",
          "Bulgaria",
          "Burkina Faso",
          "Burundi",
          "Cambodia",
          "Cameroon",
          "Canada",
          "Central African Republic",
          "Chad",
          "Chile",
          "China",
          "Colombia",
          "Comoros",
          "Congo",
          "Costa Rica",
          "Croatia",
          "Cuba",
          "Cyprus",
          "Czechia",
          "Denmark",
          "Djibouti",
          "Dominica",
          "Dominican Republic",
          "Ecuador",
          "Egypt",
          "El Salvador",
          "Equatorial Guinea",
          "Eritrea",
          "Estonia",
          "Eswatini",
          "Ethiopia",
          "Fiji",
          "Finland",
          "France",
          "Gabon",
          "Gambia",
          "Georgia",
          "Germany",
          "Ghana",
          "Greece",
          "Grenada",
          "Guatemala",
          "Guinea",
          "Guinea-Bissau",
          "Guyana",
          "Haiti",
          "Honduras",
          "Hungary",
          "Iceland",
          "India",
          "Indonesia",
          "Iraq",
          "Ireland",
          "Israel",
          "Italy",
          "Jamaica",
          "Japan",
          "Jordan",
          "Kazakhstan",
          "Kenya",
          "Kiribati",
          "Kuwait",
          "Kyrgyzstan",
          "Latvia",
          "Lebanon",
          "Lesotho",
          "Liberia",
          "Libya",
          "Lithuania",
          "Luxembourg",
          "Madagascar",
          "Malawi",
          "Malaysia",
          "Maldives",
          "Mali",
          "Malta",
          "Mauritania",
          "Mauritius",
          "Mexico",
          "Mongolia",
          "Morocco",
          "Mozambique",
          "Myanmar",
          "Namibia",
          "Nauru",
          "Nepal",
          "Netherlands",
          "New Zealand",
          "Nicaragua",
          "Niger",
          "Nigeria",
          "North Macedonia",
          "Norway",
          "Oman",
          "Pakistan",
          "Panama",
          "Papua New Guinea",
          "Paraguay",
          "Peru",
          "Philippines",
          "Poland",
          "Portugal",
          "Qatar",
          "Romania",
          "Rwanda",
          "Saint Kitts and Nevis",
          "Saint Lucia",
          "Saint Vincent and the Grenadines",
          "Samoa",
          "Sao Tome and Principe",
          "Saudi Arabia",
          "Senegal",
          "Seychelles",
          "Sierra Leone",
          "Singapore",
          "Slovakia",
          "Slovenia",
          "Solomon Islands",
          "Somalia",
          "South Africa",
          "Spain",
          "Sri Lanka",
          "Suriname",
          "Sweden",
          "Switzerland",
          "Tajikistan",
          "Thailand",
          "Togo",
          "Tonga",
          "Trinidad and Tobago",
          "Tunisia",
          "Turkmenistan",
          "Tuvalu",
          "Uganda",
          "Ukraine",
          "United Arab Emirates",
          "Uruguay",
          "Uzbekistan",
          "Vanuatu",
          "Yemen",
          "Zambia",
          "Zimbabwe"
         ],
         "y": [
          0.01323152875519372,
          0.17150619173507722,
          0.050635938164561134,
          0.018796021496751424,
          1.0344018058690745,
          0.06896133649834556,
          0.14759775409340012,
          14.046648044692738,
          0.052434099534698665,
          0.8474942828868143,
          0.34907621247113163,
          0.17323980400634098,
          41.4640522875817,
          0.3765997575104405,
          3.4209302325581397,
          0.3164344894026975,
          3.8165605345911953,
          0.023468170338761647,
          0.042018948340466336,
          0.02198260144814294,
          0.4349959958591324,
          0.007861035188145703,
          0.051535210556414746,
          0.41349137347919807,
          0.007732093362509117,
          0.011645706072583544,
          0.028434335901897423,
          0.018639575971731447,
          0.05445898562496307,
          0.00045779666893531773,
          0.0008998442367601246,
          0.0958344563388776,
          0.9702570509828111,
          0.06845668226637751,
          0.07313199105145414,
          0.0023140969869221103,
          0.1485518590998043,
          0.3836100964766583,
          0.31201938480966984,
          0.8248837963463409,
          1.4818057334127879,
          1.1053466839931312,
          0.022402155172413795,
          0.24380825565912118,
          0.4247044380521882,
          0.1313783277672176,
          0.21149368615507516,
          0.3051661042726106,
          0.30847385119960075,
          0.004264455782312925,
          0.4640757937560803,
          0.05899447131997236,
          0.00581900389386942,
          0.06285597023092919,
          0.1904508420943678,
          0.5973740332804702,
          0.02203941838179529,
          0.03884070796460177,
          0.10221233859397418,
          2.2250029409952328,
          0.041566575693929145,
          0.6451687292072418,
          0.7482808022922636,
          0.10285703790098173,
          0.01034341100721151,
          0.006816055363321799,
          0.008814568612218505,
          0.07650450450450451,
          0.07184494602551521,
          0.5730532742830116,
          0.037200776699029124,
          0.5375900863423462,
          0.2347665009773865,
          0.2566407417462704,
          0.4823503630613236,
          3.4357246027924893,
          1.3780513705448993,
          0.7053953234464562,
          3.2812268484219884,
          0.2314700812607732,
          0.09530569195199824,
          0.020764225050700677,
          0.0731331689272503,
          5.235716690986643,
          0.03256797915489295,
          0.13541533388038213,
          1.9221266346153845,
          0.07530719815516389,
          0.007005540141331969,
          0.036509542266728805,
          0.221612404287902,
          4.223511214230472,
          0.0034205447319693174,
          0.008996995374902941,
          0.645322831494602,
          3.1518456375838926,
          0.0016624683919909177,
          8.24890506329114,
          0.0019677209663335597,
          1.926643137254902,
          0.25517989182309897,
          0.009012625022696525,
          0.1222707423580786,
          0.004503490204908804,
          0.019956161743361445,
          0.0038584627777535144,
          2.116761904761905,
          0.03342822782832023,
          4.80978504200467,
          0.1270750414747915,
          0.034586177801641485,
          0.0009720599842146803,
          0.12719643893271904,
          0.35146035079531757,
          0.17597216200023472,
          0.16707592891760906,
          0.20173471759023734,
          0.12071068682047202,
          0.01032197519661222,
          0.012840931329163715,
          0.03383709819983567,
          0.28173,
          1.0442010329884708,
          0.5567832820023424,
          6.842742982910409,
          0.35170727921775574,
          0.02277697623206014,
          0.8454904214559387,
          0.5995146103896104,
          0.5688555269922879,
          0.06654539032144118,
          0.11951794258373206,
          0.26175867218064,
          0.03761653500879414,
          0.9810549450549451,
          0.008451352104822972,
          88.45628491620111,
          0.7876068114612013,
          0.790877028560154,
          0.01171373200442968,
          0.001014024781347966,
          0.4329458858656867,
          0.5615687516077329,
          0.2001371742112483,
          0.014907734098400684,
          0.12835363483938306,
          0.9571965016837464,
          0.022338653712699514,
          0.5285586217648893,
          0.04633524698423879,
          0.15733199464524766,
          12.519500780031201,
          0.1714442882464397,
          0.12030321655398483,
          0.28239615384615385,
          0.015520374380803026,
          0.5554524065943169,
          1.958133971291866,
          0.03615634310359504,
          0.24646848457755924,
          0.010182131429977849,
          0.04587399236317353,
          0.00346390864954067,
          0.021445553118690133
         ]
        },
        {
         "name": "2015",
         "type": "bar",
         "x": [
          "Afghanistan",
          "Albania",
          "Algeria",
          "Angola",
          "Antigua and Barbuda",
          "Argentina",
          "Armenia",
          "Aruba",
          "Australia",
          "Austria",
          "Azerbaijan",
          "Bahamas",
          "Bahrain",
          "Bangladesh",
          "Barbados",
          "Belarus",
          "Belgium",
          "Belize",
          "Benin",
          "Bhutan",
          "Bosnia and Herzegovina",
          "Botswana",
          "Brazil",
          "Bulgaria",
          "Burkina Faso",
          "Burundi",
          "Cambodia",
          "Cameroon",
          "Canada",
          "Central African Republic",
          "Chad",
          "Chile",
          "China",
          "Colombia",
          "Comoros",
          "Congo",
          "Costa Rica",
          "Croatia",
          "Cuba",
          "Cyprus",
          "Czechia",
          "Denmark",
          "Djibouti",
          "Dominica",
          "Dominican Republic",
          "Ecuador",
          "Egypt",
          "El Salvador",
          "Equatorial Guinea",
          "Eritrea",
          "Estonia",
          "Eswatini",
          "Ethiopia",
          "Fiji",
          "Finland",
          "France",
          "Gabon",
          "Gambia",
          "Georgia",
          "Germany",
          "Ghana",
          "Greece",
          "Grenada",
          "Guatemala",
          "Guinea",
          "Guinea-Bissau",
          "Guyana",
          "Haiti",
          "Honduras",
          "Hungary",
          "Iceland",
          "India",
          "Indonesia",
          "Iraq",
          "Ireland",
          "Israel",
          "Italy",
          "Jamaica",
          "Japan",
          "Jordan",
          "Kazakhstan",
          "Kenya",
          "Kiribati",
          "Kuwait",
          "Kyrgyzstan",
          "Latvia",
          "Lebanon",
          "Lesotho",
          "Liberia",
          "Libya",
          "Lithuania",
          "Luxembourg",
          "Madagascar",
          "Malawi",
          "Malaysia",
          "Maldives",
          "Mali",
          "Malta",
          "Mauritania",
          "Mauritius",
          "Mexico",
          "Mongolia",
          "Morocco",
          "Mozambique",
          "Myanmar",
          "Namibia",
          "Nauru",
          "Nepal",
          "Netherlands",
          "New Zealand",
          "Nicaragua",
          "Niger",
          "Nigeria",
          "North Macedonia",
          "Norway",
          "Oman",
          "Pakistan",
          "Panama",
          "Papua New Guinea",
          "Paraguay",
          "Peru",
          "Philippines",
          "Poland",
          "Portugal",
          "Qatar",
          "Romania",
          "Rwanda",
          "Saint Kitts and Nevis",
          "Saint Lucia",
          "Saint Vincent and the Grenadines",
          "Samoa",
          "Sao Tome and Principe",
          "Saudi Arabia",
          "Senegal",
          "Seychelles",
          "Sierra Leone",
          "Singapore",
          "Slovakia",
          "Slovenia",
          "Solomon Islands",
          "Somalia",
          "South Africa",
          "Spain",
          "Sri Lanka",
          "Suriname",
          "Sweden",
          "Switzerland",
          "Tajikistan",
          "Thailand",
          "Togo",
          "Tonga",
          "Trinidad and Tobago",
          "Tunisia",
          "Turkmenistan",
          "Tuvalu",
          "Uganda",
          "Ukraine",
          "United Arab Emirates",
          "Uruguay",
          "Uzbekistan",
          "Vanuatu",
          "Yemen",
          "Zambia",
          "Zimbabwe"
         ],
         "y": [
          0.012547720896002944,
          0.17018923055516907,
          0.07007561275554311,
          0.023333600705863478,
          1.0906546275395035,
          0.0717022730542368,
          0.17486467404095082,
          5.044972067039106,
          0.04906261545337815,
          0.7676096982270392,
          0.407621247113164,
          0.14794530912235193,
          46.02614379084967,
          0.5049845076114778,
          2.9776744186046513,
          0.29858526011560693,
          3.378593422431866,
          0.028082382652616915,
          0.050117339418586065,
          0.03615148200239621,
          0.37730081840732854,
          0.009404019046636757,
          0.061260344044050036,
          0.42619161428223556,
          0.013917541940189643,
          0.015720445562342797,
          0.047563178390918885,
          0.021521117280834594,
          0.05749183498302898,
          0.0005048283744044791,
          0.0009587227414330218,
          0.10891480790799052,
          1.1173114819692902,
          0.07715025770254015,
          0.07677404921700223,
          0.0024805929797318935,
          0.14661448140900196,
          0.3341348870905043,
          0.2673144145769439,
          0.7192735920441033,
          1.3157928769763283,
          0.7558797048312991,
          0.018754310344827586,
          0.24049267643142477,
          0.4842903842202589,
          0.14880085766378312,
          0.23256317339857208,
          0.3240340288009125,
          0.2485829382196713,
          0.00559608843537415,
          0.45123248872379945,
          0.05671389080856945,
          0.011592094539527302,
          0.11275582795228194,
          0.13429150216623045,
          0.5315462386669173,
          0.02492004244079397,
          0.04701769911504424,
          0.15121951219512195,
          2.12974830682703,
          0.06955012513991775,
          0.5124671673348137,
          0.748137535816619,
          0.1434488332154763,
          0.010186815913315463,
          0.007960138408304498,
          0.009369825416687988,
          0.11614414414414415,
          0.09157105897047016,
          0.5104000945951757,
          0.03642388349514563,
          0.7283262702132443,
          0.2725792554640971,
          0.3875961917972609,
          0.43584653107639093,
          3.3259508907077517,
          1.1390721444215837,
          0.7299426803748522,
          3.2264832885295176,
          0.2837411295919053,
          0.08813404528606554,
          0.02865614344027142,
          0.07761159062885327,
          5.6701088786620275,
          0.052302814189476424,
          0.2330146000092895,
          2.481731278846154,
          0.07696557404052051,
          0.011008449388968205,
          0.02801300339861555,
          0.2360791730474732,
          3.545630317092034,
          0.006060905456348024,
          0.009368353532966476,
          0.7596437136005482,
          4.382214765100671,
          0.002565376973887914,
          5.308768987341772,
          0.0029068594159309207,
          2.071005882352941,
          0.25455781100859054,
          0.015028826506473945,
          0.13165379016907403,
          0.009207135530035777,
          0.03341078190541224,
          0.004729392011568716,
          2.641285714285714,
          0.04640544635516813,
          4.313918108947356,
          0.14258549758590677,
          0.04066886553654982,
          0.0017213101815311761,
          0.12145906764469001,
          0.29274297048185743,
          0.16683095224859637,
          0.23295638126009693,
          0.22158159516138148,
          0.14309201803235216,
          0.014215389767522254,
          0.0153927009578318,
          0.038762846089684534,
          0.37843666666666664,
          0.9576570670163264,
          0.5586659003166615,
          10.435010193336785,
          0.31879240407565723,
          0.03634292656997494,
          0.9028544061302682,
          0.5863996753246753,
          0.5507578406169665,
          0.08357117626280466,
          0.13758373205741625,
          0.3262330847703622,
          0.05057898964020292,
          1.0612087912087913,
          0.013069417340395875,
          100.69525139664805,
          0.6862506372998879,
          0.663049376017363,
          0.010437084717607972,
          0.001045546430134069,
          0.41809874578579104,
          0.5257929833587273,
          0.3039475689681451,
          0.016798278598461724,
          0.09177539168767142,
          0.869237832206798,
          0.03934767522553782,
          0.5856651465544123,
          0.047797481729329926,
          0.16275769745649263,
          11.680967238689547,
          0.18544098771468737,
          0.15306289694734684,
          0.42411538461538456,
          0.019552933562342868,
          0.3630339822715599,
          3.0023923444976077,
          0.03852861561161081,
          0.24170764416629414,
          0.011089506932480104,
          0.026774349960603672,
          0.005694788059812547,
          0.03258035044797662
         ]
        },
        {
         "name": "2020",
         "type": "bar",
         "x": [
          "Afghanistan",
          "Albania",
          "Algeria",
          "Angola",
          "Antigua and Barbuda",
          "Argentina",
          "Armenia",
          "Aruba",
          "Australia",
          "Austria",
          "Azerbaijan",
          "Bahamas",
          "Bahrain",
          "Bangladesh",
          "Barbados",
          "Belarus",
          "Belgium",
          "Belize",
          "Benin",
          "Bhutan",
          "Bosnia and Herzegovina",
          "Botswana",
          "Brazil",
          "Bulgaria",
          "Burkina Faso",
          "Burundi",
          "Cambodia",
          "Cameroon",
          "Canada",
          "Central African Republic",
          "Chad",
          "Chile",
          "China",
          "Colombia",
          "Comoros",
          "Congo",
          "Costa Rica",
          "Croatia",
          "Cuba",
          "Cyprus",
          "Czechia",
          "Denmark",
          "Djibouti",
          "Dominica",
          "Dominican Republic",
          "Ecuador",
          "Egypt",
          "El Salvador",
          "Equatorial Guinea",
          "Eritrea",
          "Estonia",
          "Eswatini",
          "Ethiopia",
          "Fiji",
          "Finland",
          "France",
          "Gabon",
          "Gambia",
          "Georgia",
          "Germany",
          "Ghana",
          "Greece",
          "Grenada",
          "Guatemala",
          "Guinea",
          "Guinea-Bissau",
          "Guyana",
          "Haiti",
          "Honduras",
          "Hungary",
          "Iceland",
          "India",
          "Indonesia",
          "Iraq",
          "Ireland",
          "Israel",
          "Italy",
          "Jamaica",
          "Japan",
          "Jordan",
          "Kazakhstan",
          "Kenya",
          "Kiribati",
          "Kuwait",
          "Kyrgyzstan",
          "Latvia",
          "Lebanon",
          "Lesotho",
          "Liberia",
          "Libya",
          "Lithuania",
          "Luxembourg",
          "Madagascar",
          "Malawi",
          "Malaysia",
          "Maldives",
          "Mali",
          "Malta",
          "Mauritania",
          "Mauritius",
          "Mexico",
          "Mongolia",
          "Morocco",
          "Mozambique",
          "Myanmar",
          "Namibia",
          "Nauru",
          "Nepal",
          "Netherlands",
          "New Zealand",
          "Nicaragua",
          "Niger",
          "Nigeria",
          "North Macedonia",
          "Norway",
          "Oman",
          "Pakistan",
          "Panama",
          "Papua New Guinea",
          "Paraguay",
          "Peru",
          "Philippines",
          "Poland",
          "Portugal",
          "Qatar",
          "Romania",
          "Rwanda",
          "Saint Kitts and Nevis",
          "Saint Lucia",
          "Saint Vincent and the Grenadines",
          "Samoa",
          "Sao Tome and Principe",
          "Saudi Arabia",
          "Senegal",
          "Seychelles",
          "Sierra Leone",
          "Singapore",
          "Slovakia",
          "Slovenia",
          "Solomon Islands",
          "Somalia",
          "South Africa",
          "Spain",
          "Sri Lanka",
          "Suriname",
          "Sweden",
          "Switzerland",
          "Tajikistan",
          "Thailand",
          "Togo",
          "Tonga",
          "Trinidad and Tobago",
          "Tunisia",
          "Turkmenistan",
          "Tuvalu",
          "Uganda",
          "Ukraine",
          "United Arab Emirates",
          "Uruguay",
          "Uzbekistan",
          "Vanuatu",
          "Yemen",
          "Zambia",
          "Zimbabwe"
         ],
         "y": [
          0.01447035554942275,
          0.18341623765131487,
          0.07368651755165655,
          0.021568942006898212,
          1.065981941309255,
          0.062131959430297805,
          0.21480684530813973,
          4.9044692737430164,
          0.0461161199397511,
          0.7106174124548413,
          0.4182448036951501,
          0.13425925925925927,
          35.47712418300654,
          0.6345143472989357,
          2.6048837209302325,
          0.3020101156069364,
          2.977047955974843,
          0.024253243925803362,
          0.06553221395464474,
          0.05177892379017555,
          0.4279930464675664,
          0.011084867550238083,
          0.05324192644939917,
          0.33204078319609664,
          0.016886528081692196,
          0.019863456701401362,
          0.09662385726516971,
          0.020864883055695775,
          0.054715979596721774,
          0.0005057914810011172,
          0.0012390965732087228,
          0.1019448051570171,
          1.1998944957569897,
          0.07841567814840505,
          0.10241610738255034,
          0.0021578350300523277,
          0.16001956947162427,
          0.31081033325087465,
          0.21509545372541944,
          0.6674954059020647,
          1.1312865311711529,
          0.5674506891910707,
          0.01602586206896552,
          0.2010652463382157,
          0.4752509143209369,
          0.12369289147661351,
          0.2427484447551051,
          0.3195665605246899,
          0.2605967701686214,
          0.005748299319727891,
          0.35348293092774385,
          0.05177839207555863,
          0.014055392556370552,
          0.14234978658202913,
          0.1093022224193763,
          0.43763523200492077,
          0.019999906600365377,
          0.059991150442477874,
          0.13845050215208035,
          1.6910974673829624,
          0.08325892014941329,
          0.3954472290215752,
          0.7654154727793696,
          0.12930599050409133,
          0.0145507347767198,
          0.01079529411764706,
          0.010964962389925989,
          0.11185585585585586,
          0.08585333214381301,
          0.5331083114761147,
          0.02914271844660194,
          0.760876145291691,
          0.3110220737605201,
          0.48549337579879404,
          0.3719413416093152,
          3.0948483389504093,
          0.9528572376717329,
          0.6783004276226003,
          2.7411997544609785,
          0.21053927604038414,
          0.09909548974274285,
          0.027519242134718205,
          0.09419728729963009,
          5.96363228196206,
          0.05342808988202109,
          0.10138009258542477,
          1.725,
          0.07566002306045132,
          0.012956926972496835,
          0.024421155529286063,
          0.23525038284839203,
          3.1434648105181746,
          0.00622273401687446,
          0.01110698490935485,
          0.7951389583655453,
          5.596342281879195,
          0.003138401150789555,
          7.017468354430379,
          0.0035400213447171823,
          2.350662745098039,
          0.19928730512249443,
          0.02551786120722504,
          0.1413279587952077,
          0.01134629337736746,
          0.04354841570373261,
          0.004882808519311118,
          2.6231904761904765,
          0.0988578688825324,
          3.7338083431625066,
          0.12335365536122127,
          0.038275676919536705,
          0.0020718232044198894,
          0.16086290064171957,
          0.27700773927585265,
          0.1604072210795486,
          0.2516962843295638,
          0.3302369692059365,
          0.13564041368337312,
          0.018913903292714546,
          0.01610071984894973,
          0.03648357163309514,
          0.45714333333333335,
          0.932897324783728,
          0.4292358912072181,
          9.252549326773693,
          0.30208061545947623,
          0.03998025666337611,
          0.8875134099616858,
          0.5393842532467532,
          0.6201167095115682,
          0.12072765807135287,
          0.1365311004784689,
          0.285250431457559,
          0.05896646028405567,
          0.8772967032967033,
          0.017060217451909675,
          65.42081005586593,
          0.6289793004996431,
          0.5992497410348739,
          0.011663552048726466,
          0.00097999394658884,
          0.3934902263163507,
          0.4274491956388389,
          0.3502514860539552,
          0.016578006348431207,
          0.09190641690447374,
          0.7192535794752526,
          0.04524635669673838,
          0.564816417212348,
          0.06362967332922426,
          0.243144578313253,
          8.736349453978159,
          0.14534563901961983,
          0.16939151813153042,
          0.4860346153846154,
          0.025369443822135927,
          0.3076987822052854,
          2.150717703349282,
          0.045514627018131255,
          0.2589628967367009,
          0.013403068340306834,
          0.03148296866476756,
          0.008144902194738898,
          0.025729545471994103
         ]
        }
       ],
       "layout": {
        "barmode": "group",
        "template": {
         "data": {
          "bar": [
           {
            "error_x": {
             "color": "#2a3f5f"
            },
            "error_y": {
             "color": "#2a3f5f"
            },
            "marker": {
             "line": {
              "color": "#E5ECF6",
              "width": 0.5
             },
             "pattern": {
              "fillmode": "overlay",
              "size": 10,
              "solidity": 0.2
             }
            },
            "type": "bar"
           }
          ],
          "barpolar": [
           {
            "marker": {
             "line": {
              "color": "#E5ECF6",
              "width": 0.5
             },
             "pattern": {
              "fillmode": "overlay",
              "size": 10,
              "solidity": 0.2
             }
            },
            "type": "barpolar"
           }
          ],
          "carpet": [
           {
            "aaxis": {
             "endlinecolor": "#2a3f5f",
             "gridcolor": "white",
             "linecolor": "white",
             "minorgridcolor": "white",
             "startlinecolor": "#2a3f5f"
            },
            "baxis": {
             "endlinecolor": "#2a3f5f",
             "gridcolor": "white",
             "linecolor": "white",
             "minorgridcolor": "white",
             "startlinecolor": "#2a3f5f"
            },
            "type": "carpet"
           }
          ],
          "choropleth": [
           {
            "colorbar": {
             "outlinewidth": 0,
             "ticks": ""
            },
            "type": "choropleth"
           }
          ],
          "contour": [
           {
            "colorbar": {
             "outlinewidth": 0,
             "ticks": ""
            },
            "colorscale": [
             [
              0,
              "#0d0887"
             ],
             [
              0.1111111111111111,
              "#46039f"
             ],
             [
              0.2222222222222222,
              "#7201a8"
             ],
             [
              0.3333333333333333,
              "#9c179e"
             ],
             [
              0.4444444444444444,
              "#bd3786"
             ],
             [
              0.5555555555555556,
              "#d8576b"
             ],
             [
              0.6666666666666666,
              "#ed7953"
             ],
             [
              0.7777777777777778,
              "#fb9f3a"
             ],
             [
              0.8888888888888888,
              "#fdca26"
             ],
             [
              1,
              "#f0f921"
             ]
            ],
            "type": "contour"
           }
          ],
          "contourcarpet": [
           {
            "colorbar": {
             "outlinewidth": 0,
             "ticks": ""
            },
            "type": "contourcarpet"
           }
          ],
          "heatmap": [
           {
            "colorbar": {
             "outlinewidth": 0,
             "ticks": ""
            },
            "colorscale": [
             [
              0,
              "#0d0887"
             ],
             [
              0.1111111111111111,
              "#46039f"
             ],
             [
              0.2222222222222222,
              "#7201a8"
             ],
             [
              0.3333333333333333,
              "#9c179e"
             ],
             [
              0.4444444444444444,
              "#bd3786"
             ],
             [
              0.5555555555555556,
              "#d8576b"
             ],
             [
              0.6666666666666666,
              "#ed7953"
             ],
             [
              0.7777777777777778,
              "#fb9f3a"
             ],
             [
              0.8888888888888888,
              "#fdca26"
             ],
             [
              1,
              "#f0f921"
             ]
            ],
            "type": "heatmap"
           }
          ],
          "heatmapgl": [
           {
            "colorbar": {
             "outlinewidth": 0,
             "ticks": ""
            },
            "colorscale": [
             [
              0,
              "#0d0887"
             ],
             [
              0.1111111111111111,
              "#46039f"
             ],
             [
              0.2222222222222222,
              "#7201a8"
             ],
             [
              0.3333333333333333,
              "#9c179e"
             ],
             [
              0.4444444444444444,
              "#bd3786"
             ],
             [
              0.5555555555555556,
              "#d8576b"
             ],
             [
              0.6666666666666666,
              "#ed7953"
             ],
             [
              0.7777777777777778,
              "#fb9f3a"
             ],
             [
              0.8888888888888888,
              "#fdca26"
             ],
             [
              1,
              "#f0f921"
             ]
            ],
            "type": "heatmapgl"
           }
          ],
          "histogram": [
           {
            "marker": {
             "pattern": {
              "fillmode": "overlay",
              "size": 10,
              "solidity": 0.2
             }
            },
            "type": "histogram"
           }
          ],
          "histogram2d": [
           {
            "colorbar": {
             "outlinewidth": 0,
             "ticks": ""
            },
            "colorscale": [
             [
              0,
              "#0d0887"
             ],
             [
              0.1111111111111111,
              "#46039f"
             ],
             [
              0.2222222222222222,
              "#7201a8"
             ],
             [
              0.3333333333333333,
              "#9c179e"
             ],
             [
              0.4444444444444444,
              "#bd3786"
             ],
             [
              0.5555555555555556,
              "#d8576b"
             ],
             [
              0.6666666666666666,
              "#ed7953"
             ],
             [
              0.7777777777777778,
              "#fb9f3a"
             ],
             [
              0.8888888888888888,
              "#fdca26"
             ],
             [
              1,
              "#f0f921"
             ]
            ],
            "type": "histogram2d"
           }
          ],
          "histogram2dcontour": [
           {
            "colorbar": {
             "outlinewidth": 0,
             "ticks": ""
            },
            "colorscale": [
             [
              0,
              "#0d0887"
             ],
             [
              0.1111111111111111,
              "#46039f"
             ],
             [
              0.2222222222222222,
              "#7201a8"
             ],
             [
              0.3333333333333333,
              "#9c179e"
             ],
             [
              0.4444444444444444,
              "#bd3786"
             ],
             [
              0.5555555555555556,
              "#d8576b"
             ],
             [
              0.6666666666666666,
              "#ed7953"
             ],
             [
              0.7777777777777778,
              "#fb9f3a"
             ],
             [
              0.8888888888888888,
              "#fdca26"
             ],
             [
              1,
              "#f0f921"
             ]
            ],
            "type": "histogram2dcontour"
           }
          ],
          "mesh3d": [
           {
            "colorbar": {
             "outlinewidth": 0,
             "ticks": ""
            },
            "type": "mesh3d"
           }
          ],
          "parcoords": [
           {
            "line": {
             "colorbar": {
              "outlinewidth": 0,
              "ticks": ""
             }
            },
            "type": "parcoords"
           }
          ],
          "pie": [
           {
            "automargin": true,
            "type": "pie"
           }
          ],
          "scatter": [
           {
            "fillpattern": {
             "fillmode": "overlay",
             "size": 10,
             "solidity": 0.2
            },
            "type": "scatter"
           }
          ],
          "scatter3d": [
           {
            "line": {
             "colorbar": {
              "outlinewidth": 0,
              "ticks": ""
             }
            },
            "marker": {
             "colorbar": {
              "outlinewidth": 0,
              "ticks": ""
             }
            },
            "type": "scatter3d"
           }
          ],
          "scattercarpet": [
           {
            "marker": {
             "colorbar": {
              "outlinewidth": 0,
              "ticks": ""
             }
            },
            "type": "scattercarpet"
           }
          ],
          "scattergeo": [
           {
            "marker": {
             "colorbar": {
              "outlinewidth": 0,
              "ticks": ""
             }
            },
            "type": "scattergeo"
           }
          ],
          "scattergl": [
           {
            "marker": {
             "colorbar": {
              "outlinewidth": 0,
              "ticks": ""
             }
            },
            "type": "scattergl"
           }
          ],
          "scattermapbox": [
           {
            "marker": {
             "colorbar": {
              "outlinewidth": 0,
              "ticks": ""
             }
            },
            "type": "scattermapbox"
           }
          ],
          "scatterpolar": [
           {
            "marker": {
             "colorbar": {
              "outlinewidth": 0,
              "ticks": ""
             }
            },
            "type": "scatterpolar"
           }
          ],
          "scatterpolargl": [
           {
            "marker": {
             "colorbar": {
              "outlinewidth": 0,
              "ticks": ""
             }
            },
            "type": "scatterpolargl"
           }
          ],
          "scatterternary": [
           {
            "marker": {
             "colorbar": {
              "outlinewidth": 0,
              "ticks": ""
             }
            },
            "type": "scatterternary"
           }
          ],
          "surface": [
           {
            "colorbar": {
             "outlinewidth": 0,
             "ticks": ""
            },
            "colorscale": [
             [
              0,
              "#0d0887"
             ],
             [
              0.1111111111111111,
              "#46039f"
             ],
             [
              0.2222222222222222,
              "#7201a8"
             ],
             [
              0.3333333333333333,
              "#9c179e"
             ],
             [
              0.4444444444444444,
              "#bd3786"
             ],
             [
              0.5555555555555556,
              "#d8576b"
             ],
             [
              0.6666666666666666,
              "#ed7953"
             ],
             [
              0.7777777777777778,
              "#fb9f3a"
             ],
             [
              0.8888888888888888,
              "#fdca26"
             ],
             [
              1,
              "#f0f921"
             ]
            ],
            "type": "surface"
           }
          ],
          "table": [
           {
            "cells": {
             "fill": {
              "color": "#EBF0F8"
             },
             "line": {
              "color": "white"
             }
            },
            "header": {
             "fill": {
              "color": "#C8D4E3"
             },
             "line": {
              "color": "white"
             }
            },
            "type": "table"
           }
          ]
         },
         "layout": {
          "annotationdefaults": {
           "arrowcolor": "#2a3f5f",
           "arrowhead": 0,
           "arrowwidth": 1
          },
          "autotypenumbers": "strict",
          "coloraxis": {
           "colorbar": {
            "outlinewidth": 0,
            "ticks": ""
           }
          },
          "colorscale": {
           "diverging": [
            [
             0,
             "#8e0152"
            ],
            [
             0.1,
             "#c51b7d"
            ],
            [
             0.2,
             "#de77ae"
            ],
            [
             0.3,
             "#f1b6da"
            ],
            [
             0.4,
             "#fde0ef"
            ],
            [
             0.5,
             "#f7f7f7"
            ],
            [
             0.6,
             "#e6f5d0"
            ],
            [
             0.7,
             "#b8e186"
            ],
            [
             0.8,
             "#7fbc41"
            ],
            [
             0.9,
             "#4d9221"
            ],
            [
             1,
             "#276419"
            ]
           ],
           "sequential": [
            [
             0,
             "#0d0887"
            ],
            [
             0.1111111111111111,
             "#46039f"
            ],
            [
             0.2222222222222222,
             "#7201a8"
            ],
            [
             0.3333333333333333,
             "#9c179e"
            ],
            [
             0.4444444444444444,
             "#bd3786"
            ],
            [
             0.5555555555555556,
             "#d8576b"
            ],
            [
             0.6666666666666666,
             "#ed7953"
            ],
            [
             0.7777777777777778,
             "#fb9f3a"
            ],
            [
             0.8888888888888888,
             "#fdca26"
            ],
            [
             1,
             "#f0f921"
            ]
           ],
           "sequentialminus": [
            [
             0,
             "#0d0887"
            ],
            [
             0.1111111111111111,
             "#46039f"
            ],
            [
             0.2222222222222222,
             "#7201a8"
            ],
            [
             0.3333333333333333,
             "#9c179e"
            ],
            [
             0.4444444444444444,
             "#bd3786"
            ],
            [
             0.5555555555555556,
             "#d8576b"
            ],
            [
             0.6666666666666666,
             "#ed7953"
            ],
            [
             0.7777777777777778,
             "#fb9f3a"
            ],
            [
             0.8888888888888888,
             "#fdca26"
            ],
            [
             1,
             "#f0f921"
            ]
           ]
          },
          "colorway": [
           "#636efa",
           "#EF553B",
           "#00cc96",
           "#ab63fa",
           "#FFA15A",
           "#19d3f3",
           "#FF6692",
           "#B6E880",
           "#FF97FF",
           "#FECB52"
          ],
          "font": {
           "color": "#2a3f5f"
          },
          "geo": {
           "bgcolor": "white",
           "lakecolor": "white",
           "landcolor": "#E5ECF6",
           "showlakes": true,
           "showland": true,
           "subunitcolor": "white"
          },
          "hoverlabel": {
           "align": "left"
          },
          "hovermode": "closest",
          "mapbox": {
           "style": "light"
          },
          "paper_bgcolor": "white",
          "plot_bgcolor": "#E5ECF6",
          "polar": {
           "angularaxis": {
            "gridcolor": "white",
            "linecolor": "white",
            "ticks": ""
           },
           "bgcolor": "#E5ECF6",
           "radialaxis": {
            "gridcolor": "white",
            "linecolor": "white",
            "ticks": ""
           }
          },
          "scene": {
           "xaxis": {
            "backgroundcolor": "#E5ECF6",
            "gridcolor": "white",
            "gridwidth": 2,
            "linecolor": "white",
            "showbackground": true,
            "ticks": "",
            "zerolinecolor": "white"
           },
           "yaxis": {
            "backgroundcolor": "#E5ECF6",
            "gridcolor": "white",
            "gridwidth": 2,
            "linecolor": "white",
            "showbackground": true,
            "ticks": "",
            "zerolinecolor": "white"
           },
           "zaxis": {
            "backgroundcolor": "#E5ECF6",
            "gridcolor": "white",
            "gridwidth": 2,
            "linecolor": "white",
            "showbackground": true,
            "ticks": "",
            "zerolinecolor": "white"
           }
          },
          "shapedefaults": {
           "line": {
            "color": "#2a3f5f"
           }
          },
          "ternary": {
           "aaxis": {
            "gridcolor": "white",
            "linecolor": "white",
            "ticks": ""
           },
           "baxis": {
            "gridcolor": "white",
            "linecolor": "white",
            "ticks": ""
           },
           "bgcolor": "#E5ECF6",
           "caxis": {
            "gridcolor": "white",
            "linecolor": "white",
            "ticks": ""
           }
          },
          "title": {
           "x": 0.05
          },
          "xaxis": {
           "automargin": true,
           "gridcolor": "white",
           "linecolor": "white",
           "ticks": "",
           "title": {
            "standoff": 15
           },
           "zerolinecolor": "white",
           "zerolinewidth": 2
          },
          "yaxis": {
           "automargin": true,
           "gridcolor": "white",
           "linecolor": "white",
           "ticks": "",
           "title": {
            "standoff": 15
           },
           "zerolinecolor": "white",
           "zerolinewidth": 2
          }
         }
        },
        "title": {
         "text": "Values for the years 2000-2005-2010-2015-2020"
        },
        "xaxis": {
         "title": {
          "text": "Country"
         }
        },
        "yaxis": {
         "title": {
          "text": "Value"
         }
        }
       }
      }
     },
     "metadata": {},
     "output_type": "display_data"
    }
   ],
   "source": [
    "# Plotting the graph\n",
    "\n",
    "# Select the years to plot\n",
    "years = ['2000', '2005', '2010', '2015', '2020']\n",
    "\n",
    "# Create a new Figure\n",
    "fig = go.Figure()\n",
    "\n",
    "# Add a bar for each year\n",
    "for year in years:\n",
    "    fig.add_trace(go.Bar(\n",
    "        x=mergeN['Area'],\n",
    "        y=mergeN[year+'rel'],\n",
    "        name=year\n",
    "    ))\n",
    "\n",
    "# Change the bar mode to group\n",
    "fig.update_layout(barmode='group')\n",
    "\n",
    "# Add labels and title\n",
    "fig.update_layout(\n",
    "    title='Values for the years 2000-2005-2010-2015-2020',\n",
    "    xaxis_title='Country',\n",
    "    yaxis_title='Value'\n",
    ")\n",
    "\n",
    "# Show the plot\n",
    "fig.show()"
   ]
  },
  {
   "cell_type": "code",
   "execution_count": 24,
   "metadata": {},
   "outputs": [
    {
     "data": {
      "application/vnd.plotly.v1+json": {
       "config": {
        "plotlyServerURL": "https://plot.ly"
       },
       "data": [
        {
         "name": "2000",
         "type": "bar",
         "x": [
          "Singapore",
          "Bahrain",
          "Aruba",
          "Trinidad and Tobago",
          "Malta",
          "Qatar",
          "Kuwait",
          "Netherlands",
          "Luxembourg",
          "Belgium"
         ],
         "y": [
          71.54581005586593,
          27.555555555555557,
          13.314525139664806,
          6.686817472698908,
          6.812120253164557,
          3.3764894010012085,
          3.1299809181726346,
          4.5353537298702555,
          3.3170920340293892,
          3.937444313417191
         ]
        },
        {
         "name": "2005",
         "type": "bar",
         "x": [
          "Singapore",
          "Bahrain",
          "Aruba",
          "Trinidad and Tobago",
          "Malta",
          "Qatar",
          "Kuwait",
          "Netherlands",
          "Luxembourg",
          "Belgium"
         ],
         "y": [
          57.78030726256983,
          29.15032679738562,
          15.220670391061452,
          10.31591263650546,
          8.68264240506329,
          4.7894017607457275,
          4.2883600853069925,
          4.662937197602484,
          4.563031709203403,
          3.7464776598532494
         ]
        },
        {
         "name": "2010",
         "type": "bar",
         "x": [
          "Singapore",
          "Bahrain",
          "Aruba",
          "Trinidad and Tobago",
          "Malta",
          "Qatar",
          "Kuwait",
          "Netherlands",
          "Luxembourg",
          "Belgium"
         ],
         "y": [
          88.45628491620111,
          41.4640522875817,
          14.046648044692738,
          12.519500780031201,
          8.24890506329114,
          6.842742982910409,
          5.235716690986643,
          4.80978504200467,
          4.223511214230472,
          3.8165605345911953
         ]
        },
        {
         "name": "2015",
         "type": "bar",
         "x": [
          "Singapore",
          "Bahrain",
          "Aruba",
          "Trinidad and Tobago",
          "Malta",
          "Qatar",
          "Kuwait",
          "Netherlands",
          "Luxembourg",
          "Belgium"
         ],
         "y": [
          100.69525139664805,
          46.02614379084967,
          5.044972067039106,
          11.680967238689547,
          5.308768987341772,
          10.435010193336785,
          5.6701088786620275,
          4.313918108947356,
          3.545630317092034,
          3.378593422431866
         ]
        },
        {
         "name": "2020",
         "type": "bar",
         "x": [
          "Singapore",
          "Bahrain",
          "Aruba",
          "Trinidad and Tobago",
          "Malta",
          "Qatar",
          "Kuwait",
          "Netherlands",
          "Luxembourg",
          "Belgium"
         ],
         "y": [
          65.42081005586593,
          35.47712418300654,
          4.9044692737430164,
          8.736349453978159,
          7.017468354430379,
          9.252549326773693,
          5.96363228196206,
          3.7338083431625066,
          3.1434648105181746,
          2.977047955974843
         ]
        }
       ],
       "layout": {
        "barmode": "group",
        "template": {
         "data": {
          "bar": [
           {
            "error_x": {
             "color": "#2a3f5f"
            },
            "error_y": {
             "color": "#2a3f5f"
            },
            "marker": {
             "line": {
              "color": "#E5ECF6",
              "width": 0.5
             },
             "pattern": {
              "fillmode": "overlay",
              "size": 10,
              "solidity": 0.2
             }
            },
            "type": "bar"
           }
          ],
          "barpolar": [
           {
            "marker": {
             "line": {
              "color": "#E5ECF6",
              "width": 0.5
             },
             "pattern": {
              "fillmode": "overlay",
              "size": 10,
              "solidity": 0.2
             }
            },
            "type": "barpolar"
           }
          ],
          "carpet": [
           {
            "aaxis": {
             "endlinecolor": "#2a3f5f",
             "gridcolor": "white",
             "linecolor": "white",
             "minorgridcolor": "white",
             "startlinecolor": "#2a3f5f"
            },
            "baxis": {
             "endlinecolor": "#2a3f5f",
             "gridcolor": "white",
             "linecolor": "white",
             "minorgridcolor": "white",
             "startlinecolor": "#2a3f5f"
            },
            "type": "carpet"
           }
          ],
          "choropleth": [
           {
            "colorbar": {
             "outlinewidth": 0,
             "ticks": ""
            },
            "type": "choropleth"
           }
          ],
          "contour": [
           {
            "colorbar": {
             "outlinewidth": 0,
             "ticks": ""
            },
            "colorscale": [
             [
              0,
              "#0d0887"
             ],
             [
              0.1111111111111111,
              "#46039f"
             ],
             [
              0.2222222222222222,
              "#7201a8"
             ],
             [
              0.3333333333333333,
              "#9c179e"
             ],
             [
              0.4444444444444444,
              "#bd3786"
             ],
             [
              0.5555555555555556,
              "#d8576b"
             ],
             [
              0.6666666666666666,
              "#ed7953"
             ],
             [
              0.7777777777777778,
              "#fb9f3a"
             ],
             [
              0.8888888888888888,
              "#fdca26"
             ],
             [
              1,
              "#f0f921"
             ]
            ],
            "type": "contour"
           }
          ],
          "contourcarpet": [
           {
            "colorbar": {
             "outlinewidth": 0,
             "ticks": ""
            },
            "type": "contourcarpet"
           }
          ],
          "heatmap": [
           {
            "colorbar": {
             "outlinewidth": 0,
             "ticks": ""
            },
            "colorscale": [
             [
              0,
              "#0d0887"
             ],
             [
              0.1111111111111111,
              "#46039f"
             ],
             [
              0.2222222222222222,
              "#7201a8"
             ],
             [
              0.3333333333333333,
              "#9c179e"
             ],
             [
              0.4444444444444444,
              "#bd3786"
             ],
             [
              0.5555555555555556,
              "#d8576b"
             ],
             [
              0.6666666666666666,
              "#ed7953"
             ],
             [
              0.7777777777777778,
              "#fb9f3a"
             ],
             [
              0.8888888888888888,
              "#fdca26"
             ],
             [
              1,
              "#f0f921"
             ]
            ],
            "type": "heatmap"
           }
          ],
          "heatmapgl": [
           {
            "colorbar": {
             "outlinewidth": 0,
             "ticks": ""
            },
            "colorscale": [
             [
              0,
              "#0d0887"
             ],
             [
              0.1111111111111111,
              "#46039f"
             ],
             [
              0.2222222222222222,
              "#7201a8"
             ],
             [
              0.3333333333333333,
              "#9c179e"
             ],
             [
              0.4444444444444444,
              "#bd3786"
             ],
             [
              0.5555555555555556,
              "#d8576b"
             ],
             [
              0.6666666666666666,
              "#ed7953"
             ],
             [
              0.7777777777777778,
              "#fb9f3a"
             ],
             [
              0.8888888888888888,
              "#fdca26"
             ],
             [
              1,
              "#f0f921"
             ]
            ],
            "type": "heatmapgl"
           }
          ],
          "histogram": [
           {
            "marker": {
             "pattern": {
              "fillmode": "overlay",
              "size": 10,
              "solidity": 0.2
             }
            },
            "type": "histogram"
           }
          ],
          "histogram2d": [
           {
            "colorbar": {
             "outlinewidth": 0,
             "ticks": ""
            },
            "colorscale": [
             [
              0,
              "#0d0887"
             ],
             [
              0.1111111111111111,
              "#46039f"
             ],
             [
              0.2222222222222222,
              "#7201a8"
             ],
             [
              0.3333333333333333,
              "#9c179e"
             ],
             [
              0.4444444444444444,
              "#bd3786"
             ],
             [
              0.5555555555555556,
              "#d8576b"
             ],
             [
              0.6666666666666666,
              "#ed7953"
             ],
             [
              0.7777777777777778,
              "#fb9f3a"
             ],
             [
              0.8888888888888888,
              "#fdca26"
             ],
             [
              1,
              "#f0f921"
             ]
            ],
            "type": "histogram2d"
           }
          ],
          "histogram2dcontour": [
           {
            "colorbar": {
             "outlinewidth": 0,
             "ticks": ""
            },
            "colorscale": [
             [
              0,
              "#0d0887"
             ],
             [
              0.1111111111111111,
              "#46039f"
             ],
             [
              0.2222222222222222,
              "#7201a8"
             ],
             [
              0.3333333333333333,
              "#9c179e"
             ],
             [
              0.4444444444444444,
              "#bd3786"
             ],
             [
              0.5555555555555556,
              "#d8576b"
             ],
             [
              0.6666666666666666,
              "#ed7953"
             ],
             [
              0.7777777777777778,
              "#fb9f3a"
             ],
             [
              0.8888888888888888,
              "#fdca26"
             ],
             [
              1,
              "#f0f921"
             ]
            ],
            "type": "histogram2dcontour"
           }
          ],
          "mesh3d": [
           {
            "colorbar": {
             "outlinewidth": 0,
             "ticks": ""
            },
            "type": "mesh3d"
           }
          ],
          "parcoords": [
           {
            "line": {
             "colorbar": {
              "outlinewidth": 0,
              "ticks": ""
             }
            },
            "type": "parcoords"
           }
          ],
          "pie": [
           {
            "automargin": true,
            "type": "pie"
           }
          ],
          "scatter": [
           {
            "fillpattern": {
             "fillmode": "overlay",
             "size": 10,
             "solidity": 0.2
            },
            "type": "scatter"
           }
          ],
          "scatter3d": [
           {
            "line": {
             "colorbar": {
              "outlinewidth": 0,
              "ticks": ""
             }
            },
            "marker": {
             "colorbar": {
              "outlinewidth": 0,
              "ticks": ""
             }
            },
            "type": "scatter3d"
           }
          ],
          "scattercarpet": [
           {
            "marker": {
             "colorbar": {
              "outlinewidth": 0,
              "ticks": ""
             }
            },
            "type": "scattercarpet"
           }
          ],
          "scattergeo": [
           {
            "marker": {
             "colorbar": {
              "outlinewidth": 0,
              "ticks": ""
             }
            },
            "type": "scattergeo"
           }
          ],
          "scattergl": [
           {
            "marker": {
             "colorbar": {
              "outlinewidth": 0,
              "ticks": ""
             }
            },
            "type": "scattergl"
           }
          ],
          "scattermapbox": [
           {
            "marker": {
             "colorbar": {
              "outlinewidth": 0,
              "ticks": ""
             }
            },
            "type": "scattermapbox"
           }
          ],
          "scatterpolar": [
           {
            "marker": {
             "colorbar": {
              "outlinewidth": 0,
              "ticks": ""
             }
            },
            "type": "scatterpolar"
           }
          ],
          "scatterpolargl": [
           {
            "marker": {
             "colorbar": {
              "outlinewidth": 0,
              "ticks": ""
             }
            },
            "type": "scatterpolargl"
           }
          ],
          "scatterternary": [
           {
            "marker": {
             "colorbar": {
              "outlinewidth": 0,
              "ticks": ""
             }
            },
            "type": "scatterternary"
           }
          ],
          "surface": [
           {
            "colorbar": {
             "outlinewidth": 0,
             "ticks": ""
            },
            "colorscale": [
             [
              0,
              "#0d0887"
             ],
             [
              0.1111111111111111,
              "#46039f"
             ],
             [
              0.2222222222222222,
              "#7201a8"
             ],
             [
              0.3333333333333333,
              "#9c179e"
             ],
             [
              0.4444444444444444,
              "#bd3786"
             ],
             [
              0.5555555555555556,
              "#d8576b"
             ],
             [
              0.6666666666666666,
              "#ed7953"
             ],
             [
              0.7777777777777778,
              "#fb9f3a"
             ],
             [
              0.8888888888888888,
              "#fdca26"
             ],
             [
              1,
              "#f0f921"
             ]
            ],
            "type": "surface"
           }
          ],
          "table": [
           {
            "cells": {
             "fill": {
              "color": "#EBF0F8"
             },
             "line": {
              "color": "white"
             }
            },
            "header": {
             "fill": {
              "color": "#C8D4E3"
             },
             "line": {
              "color": "white"
             }
            },
            "type": "table"
           }
          ]
         },
         "layout": {
          "annotationdefaults": {
           "arrowcolor": "#2a3f5f",
           "arrowhead": 0,
           "arrowwidth": 1
          },
          "autotypenumbers": "strict",
          "coloraxis": {
           "colorbar": {
            "outlinewidth": 0,
            "ticks": ""
           }
          },
          "colorscale": {
           "diverging": [
            [
             0,
             "#8e0152"
            ],
            [
             0.1,
             "#c51b7d"
            ],
            [
             0.2,
             "#de77ae"
            ],
            [
             0.3,
             "#f1b6da"
            ],
            [
             0.4,
             "#fde0ef"
            ],
            [
             0.5,
             "#f7f7f7"
            ],
            [
             0.6,
             "#e6f5d0"
            ],
            [
             0.7,
             "#b8e186"
            ],
            [
             0.8,
             "#7fbc41"
            ],
            [
             0.9,
             "#4d9221"
            ],
            [
             1,
             "#276419"
            ]
           ],
           "sequential": [
            [
             0,
             "#0d0887"
            ],
            [
             0.1111111111111111,
             "#46039f"
            ],
            [
             0.2222222222222222,
             "#7201a8"
            ],
            [
             0.3333333333333333,
             "#9c179e"
            ],
            [
             0.4444444444444444,
             "#bd3786"
            ],
            [
             0.5555555555555556,
             "#d8576b"
            ],
            [
             0.6666666666666666,
             "#ed7953"
            ],
            [
             0.7777777777777778,
             "#fb9f3a"
            ],
            [
             0.8888888888888888,
             "#fdca26"
            ],
            [
             1,
             "#f0f921"
            ]
           ],
           "sequentialminus": [
            [
             0,
             "#0d0887"
            ],
            [
             0.1111111111111111,
             "#46039f"
            ],
            [
             0.2222222222222222,
             "#7201a8"
            ],
            [
             0.3333333333333333,
             "#9c179e"
            ],
            [
             0.4444444444444444,
             "#bd3786"
            ],
            [
             0.5555555555555556,
             "#d8576b"
            ],
            [
             0.6666666666666666,
             "#ed7953"
            ],
            [
             0.7777777777777778,
             "#fb9f3a"
            ],
            [
             0.8888888888888888,
             "#fdca26"
            ],
            [
             1,
             "#f0f921"
            ]
           ]
          },
          "colorway": [
           "#636efa",
           "#EF553B",
           "#00cc96",
           "#ab63fa",
           "#FFA15A",
           "#19d3f3",
           "#FF6692",
           "#B6E880",
           "#FF97FF",
           "#FECB52"
          ],
          "font": {
           "color": "#2a3f5f"
          },
          "geo": {
           "bgcolor": "white",
           "lakecolor": "white",
           "landcolor": "#E5ECF6",
           "showlakes": true,
           "showland": true,
           "subunitcolor": "white"
          },
          "hoverlabel": {
           "align": "left"
          },
          "hovermode": "closest",
          "mapbox": {
           "style": "light"
          },
          "paper_bgcolor": "white",
          "plot_bgcolor": "#E5ECF6",
          "polar": {
           "angularaxis": {
            "gridcolor": "white",
            "linecolor": "white",
            "ticks": ""
           },
           "bgcolor": "#E5ECF6",
           "radialaxis": {
            "gridcolor": "white",
            "linecolor": "white",
            "ticks": ""
           }
          },
          "scene": {
           "xaxis": {
            "backgroundcolor": "#E5ECF6",
            "gridcolor": "white",
            "gridwidth": 2,
            "linecolor": "white",
            "showbackground": true,
            "ticks": "",
            "zerolinecolor": "white"
           },
           "yaxis": {
            "backgroundcolor": "#E5ECF6",
            "gridcolor": "white",
            "gridwidth": 2,
            "linecolor": "white",
            "showbackground": true,
            "ticks": "",
            "zerolinecolor": "white"
           },
           "zaxis": {
            "backgroundcolor": "#E5ECF6",
            "gridcolor": "white",
            "gridwidth": 2,
            "linecolor": "white",
            "showbackground": true,
            "ticks": "",
            "zerolinecolor": "white"
           }
          },
          "shapedefaults": {
           "line": {
            "color": "#2a3f5f"
           }
          },
          "ternary": {
           "aaxis": {
            "gridcolor": "white",
            "linecolor": "white",
            "ticks": ""
           },
           "baxis": {
            "gridcolor": "white",
            "linecolor": "white",
            "ticks": ""
           },
           "bgcolor": "#E5ECF6",
           "caxis": {
            "gridcolor": "white",
            "linecolor": "white",
            "ticks": ""
           }
          },
          "title": {
           "x": 0.05
          },
          "xaxis": {
           "automargin": true,
           "gridcolor": "white",
           "linecolor": "white",
           "ticks": "",
           "title": {
            "standoff": 15
           },
           "zerolinecolor": "white",
           "zerolinewidth": 2
          },
          "yaxis": {
           "automargin": true,
           "gridcolor": "white",
           "linecolor": "white",
           "ticks": "",
           "title": {
            "standoff": 15
           },
           "zerolinecolor": "white",
           "zerolinewidth": 2
          }
         }
        },
        "title": {
         "text": "Total CO2 emission per Country for the years 2000-2005-2010-2015-2020 (without LULUCF) for the top 10 most emitting countries"
        },
        "xaxis": {
         "title": {
          "text": "Country"
         }
        },
        "yaxis": {
         "title": {
          "text": "Value"
         }
        }
       }
      }
     },
     "metadata": {},
     "output_type": "display_data"
    }
   ],
   "source": [
    "# Calculate the average of the relative values for each country\n",
    "mergeN['avg'] = mergeN[[year+'rel' for year in years]].mean(axis=1)\n",
    "\n",
    "# Sort by the average and select the top 10\n",
    "top_countries = mergeN.sort_values('avg', ascending=False).head(10)\n",
    "\n",
    "# Create a new Figure\n",
    "fig = go.Figure()\n",
    "\n",
    "# Add a bar for each year\n",
    "for year in years:\n",
    "    fig.add_trace(go.Bar(\n",
    "        x=top_countries['Area'],\n",
    "        y=top_countries[year+'rel'],\n",
    "        name=year\n",
    "    ))\n",
    "\n",
    "# Change the bar mode to group\n",
    "fig.update_layout(barmode='group')\n",
    "\n",
    "# Add labels and title\n",
    "fig.update_layout(\n",
    "    title='Total CO2 emission per Country for the years 2000-2005-2010-2015-2020 (without LULUCF) for the top 10 most emitting countries',\n",
    "    xaxis_title='Country',\n",
    "    yaxis_title='Value'\n",
    ")\n",
    "\n",
    "# Show the plot\n",
    "fig.show()"
   ]
  },
  {
   "cell_type": "code",
   "execution_count": 25,
   "metadata": {},
   "outputs": [
    {
     "data": {
      "application/vnd.plotly.v1+json": {
       "config": {
        "plotlyServerURL": "https://plot.ly"
       },
       "data": [
        {
         "name": "2000",
         "type": "bar",
         "x": [
          "Central African Republic",
          "Chad",
          "Somalia",
          "Niger",
          "Mali",
          "Congo",
          "Mauritania",
          "Namibia",
          "Madagascar",
          "Zambia"
         ],
         "y": [
          0.00046052547095912574,
          0.00040708722741433025,
          0.0007943141845851296,
          0.0006154696132596685,
          0.0007205900376715863,
          0.0019622601431136316,
          0.0010907926651790045,
          0.002002021128435069,
          0.0032595679007088093,
          0.002420882838305754
         ]
        },
        {
         "name": "2005",
         "type": "bar",
         "x": [
          "Central African Republic",
          "Chad",
          "Somalia",
          "Niger",
          "Mali",
          "Congo",
          "Mauritania",
          "Namibia",
          "Madagascar",
          "Zambia"
         ],
         "y": [
          0.00040964133910341194,
          0.0007742211838006231,
          0.000980307594835468,
          0.0006066298342541437,
          0.0007974894209928785,
          0.0019078562417045384,
          0.0014126612981468904,
          0.0028851426436262875,
          0.003049190772024441,
          0.003036068762639214
         ]
        },
        {
         "name": "2010",
         "type": "bar",
         "x": [
          "Central African Republic",
          "Chad",
          "Somalia",
          "Niger",
          "Mali",
          "Congo",
          "Mauritania",
          "Namibia",
          "Madagascar",
          "Zambia"
         ],
         "y": [
          0.00045779666893531773,
          0.0008998442367601246,
          0.001014024781347966,
          0.0009720599842146803,
          0.0016624683919909177,
          0.0023140969869221103,
          0.0019677209663335597,
          0.0038584627777535144,
          0.0034205447319693174,
          0.00346390864954067
         ]
        },
        {
         "name": "2015",
         "type": "bar",
         "x": [
          "Central African Republic",
          "Chad",
          "Somalia",
          "Niger",
          "Mali",
          "Congo",
          "Mauritania",
          "Namibia",
          "Madagascar",
          "Zambia"
         ],
         "y": [
          0.0005048283744044791,
          0.0009587227414330218,
          0.001045546430134069,
          0.0017213101815311761,
          0.002565376973887914,
          0.0024805929797318935,
          0.0029068594159309207,
          0.004729392011568716,
          0.006060905456348024,
          0.005694788059812547
         ]
        },
        {
         "name": "2020",
         "type": "bar",
         "x": [
          "Central African Republic",
          "Chad",
          "Somalia",
          "Niger",
          "Mali",
          "Congo",
          "Mauritania",
          "Namibia",
          "Madagascar",
          "Zambia"
         ],
         "y": [
          0.0005057914810011172,
          0.0012390965732087228,
          0.00097999394658884,
          0.0020718232044198894,
          0.003138401150789555,
          0.0021578350300523277,
          0.0035400213447171823,
          0.004882808519311118,
          0.00622273401687446,
          0.008144902194738898
         ]
        }
       ],
       "layout": {
        "barmode": "group",
        "template": {
         "data": {
          "bar": [
           {
            "error_x": {
             "color": "#2a3f5f"
            },
            "error_y": {
             "color": "#2a3f5f"
            },
            "marker": {
             "line": {
              "color": "#E5ECF6",
              "width": 0.5
             },
             "pattern": {
              "fillmode": "overlay",
              "size": 10,
              "solidity": 0.2
             }
            },
            "type": "bar"
           }
          ],
          "barpolar": [
           {
            "marker": {
             "line": {
              "color": "#E5ECF6",
              "width": 0.5
             },
             "pattern": {
              "fillmode": "overlay",
              "size": 10,
              "solidity": 0.2
             }
            },
            "type": "barpolar"
           }
          ],
          "carpet": [
           {
            "aaxis": {
             "endlinecolor": "#2a3f5f",
             "gridcolor": "white",
             "linecolor": "white",
             "minorgridcolor": "white",
             "startlinecolor": "#2a3f5f"
            },
            "baxis": {
             "endlinecolor": "#2a3f5f",
             "gridcolor": "white",
             "linecolor": "white",
             "minorgridcolor": "white",
             "startlinecolor": "#2a3f5f"
            },
            "type": "carpet"
           }
          ],
          "choropleth": [
           {
            "colorbar": {
             "outlinewidth": 0,
             "ticks": ""
            },
            "type": "choropleth"
           }
          ],
          "contour": [
           {
            "colorbar": {
             "outlinewidth": 0,
             "ticks": ""
            },
            "colorscale": [
             [
              0,
              "#0d0887"
             ],
             [
              0.1111111111111111,
              "#46039f"
             ],
             [
              0.2222222222222222,
              "#7201a8"
             ],
             [
              0.3333333333333333,
              "#9c179e"
             ],
             [
              0.4444444444444444,
              "#bd3786"
             ],
             [
              0.5555555555555556,
              "#d8576b"
             ],
             [
              0.6666666666666666,
              "#ed7953"
             ],
             [
              0.7777777777777778,
              "#fb9f3a"
             ],
             [
              0.8888888888888888,
              "#fdca26"
             ],
             [
              1,
              "#f0f921"
             ]
            ],
            "type": "contour"
           }
          ],
          "contourcarpet": [
           {
            "colorbar": {
             "outlinewidth": 0,
             "ticks": ""
            },
            "type": "contourcarpet"
           }
          ],
          "heatmap": [
           {
            "colorbar": {
             "outlinewidth": 0,
             "ticks": ""
            },
            "colorscale": [
             [
              0,
              "#0d0887"
             ],
             [
              0.1111111111111111,
              "#46039f"
             ],
             [
              0.2222222222222222,
              "#7201a8"
             ],
             [
              0.3333333333333333,
              "#9c179e"
             ],
             [
              0.4444444444444444,
              "#bd3786"
             ],
             [
              0.5555555555555556,
              "#d8576b"
             ],
             [
              0.6666666666666666,
              "#ed7953"
             ],
             [
              0.7777777777777778,
              "#fb9f3a"
             ],
             [
              0.8888888888888888,
              "#fdca26"
             ],
             [
              1,
              "#f0f921"
             ]
            ],
            "type": "heatmap"
           }
          ],
          "heatmapgl": [
           {
            "colorbar": {
             "outlinewidth": 0,
             "ticks": ""
            },
            "colorscale": [
             [
              0,
              "#0d0887"
             ],
             [
              0.1111111111111111,
              "#46039f"
             ],
             [
              0.2222222222222222,
              "#7201a8"
             ],
             [
              0.3333333333333333,
              "#9c179e"
             ],
             [
              0.4444444444444444,
              "#bd3786"
             ],
             [
              0.5555555555555556,
              "#d8576b"
             ],
             [
              0.6666666666666666,
              "#ed7953"
             ],
             [
              0.7777777777777778,
              "#fb9f3a"
             ],
             [
              0.8888888888888888,
              "#fdca26"
             ],
             [
              1,
              "#f0f921"
             ]
            ],
            "type": "heatmapgl"
           }
          ],
          "histogram": [
           {
            "marker": {
             "pattern": {
              "fillmode": "overlay",
              "size": 10,
              "solidity": 0.2
             }
            },
            "type": "histogram"
           }
          ],
          "histogram2d": [
           {
            "colorbar": {
             "outlinewidth": 0,
             "ticks": ""
            },
            "colorscale": [
             [
              0,
              "#0d0887"
             ],
             [
              0.1111111111111111,
              "#46039f"
             ],
             [
              0.2222222222222222,
              "#7201a8"
             ],
             [
              0.3333333333333333,
              "#9c179e"
             ],
             [
              0.4444444444444444,
              "#bd3786"
             ],
             [
              0.5555555555555556,
              "#d8576b"
             ],
             [
              0.6666666666666666,
              "#ed7953"
             ],
             [
              0.7777777777777778,
              "#fb9f3a"
             ],
             [
              0.8888888888888888,
              "#fdca26"
             ],
             [
              1,
              "#f0f921"
             ]
            ],
            "type": "histogram2d"
           }
          ],
          "histogram2dcontour": [
           {
            "colorbar": {
             "outlinewidth": 0,
             "ticks": ""
            },
            "colorscale": [
             [
              0,
              "#0d0887"
             ],
             [
              0.1111111111111111,
              "#46039f"
             ],
             [
              0.2222222222222222,
              "#7201a8"
             ],
             [
              0.3333333333333333,
              "#9c179e"
             ],
             [
              0.4444444444444444,
              "#bd3786"
             ],
             [
              0.5555555555555556,
              "#d8576b"
             ],
             [
              0.6666666666666666,
              "#ed7953"
             ],
             [
              0.7777777777777778,
              "#fb9f3a"
             ],
             [
              0.8888888888888888,
              "#fdca26"
             ],
             [
              1,
              "#f0f921"
             ]
            ],
            "type": "histogram2dcontour"
           }
          ],
          "mesh3d": [
           {
            "colorbar": {
             "outlinewidth": 0,
             "ticks": ""
            },
            "type": "mesh3d"
           }
          ],
          "parcoords": [
           {
            "line": {
             "colorbar": {
              "outlinewidth": 0,
              "ticks": ""
             }
            },
            "type": "parcoords"
           }
          ],
          "pie": [
           {
            "automargin": true,
            "type": "pie"
           }
          ],
          "scatter": [
           {
            "fillpattern": {
             "fillmode": "overlay",
             "size": 10,
             "solidity": 0.2
            },
            "type": "scatter"
           }
          ],
          "scatter3d": [
           {
            "line": {
             "colorbar": {
              "outlinewidth": 0,
              "ticks": ""
             }
            },
            "marker": {
             "colorbar": {
              "outlinewidth": 0,
              "ticks": ""
             }
            },
            "type": "scatter3d"
           }
          ],
          "scattercarpet": [
           {
            "marker": {
             "colorbar": {
              "outlinewidth": 0,
              "ticks": ""
             }
            },
            "type": "scattercarpet"
           }
          ],
          "scattergeo": [
           {
            "marker": {
             "colorbar": {
              "outlinewidth": 0,
              "ticks": ""
             }
            },
            "type": "scattergeo"
           }
          ],
          "scattergl": [
           {
            "marker": {
             "colorbar": {
              "outlinewidth": 0,
              "ticks": ""
             }
            },
            "type": "scattergl"
           }
          ],
          "scattermapbox": [
           {
            "marker": {
             "colorbar": {
              "outlinewidth": 0,
              "ticks": ""
             }
            },
            "type": "scattermapbox"
           }
          ],
          "scatterpolar": [
           {
            "marker": {
             "colorbar": {
              "outlinewidth": 0,
              "ticks": ""
             }
            },
            "type": "scatterpolar"
           }
          ],
          "scatterpolargl": [
           {
            "marker": {
             "colorbar": {
              "outlinewidth": 0,
              "ticks": ""
             }
            },
            "type": "scatterpolargl"
           }
          ],
          "scatterternary": [
           {
            "marker": {
             "colorbar": {
              "outlinewidth": 0,
              "ticks": ""
             }
            },
            "type": "scatterternary"
           }
          ],
          "surface": [
           {
            "colorbar": {
             "outlinewidth": 0,
             "ticks": ""
            },
            "colorscale": [
             [
              0,
              "#0d0887"
             ],
             [
              0.1111111111111111,
              "#46039f"
             ],
             [
              0.2222222222222222,
              "#7201a8"
             ],
             [
              0.3333333333333333,
              "#9c179e"
             ],
             [
              0.4444444444444444,
              "#bd3786"
             ],
             [
              0.5555555555555556,
              "#d8576b"
             ],
             [
              0.6666666666666666,
              "#ed7953"
             ],
             [
              0.7777777777777778,
              "#fb9f3a"
             ],
             [
              0.8888888888888888,
              "#fdca26"
             ],
             [
              1,
              "#f0f921"
             ]
            ],
            "type": "surface"
           }
          ],
          "table": [
           {
            "cells": {
             "fill": {
              "color": "#EBF0F8"
             },
             "line": {
              "color": "white"
             }
            },
            "header": {
             "fill": {
              "color": "#C8D4E3"
             },
             "line": {
              "color": "white"
             }
            },
            "type": "table"
           }
          ]
         },
         "layout": {
          "annotationdefaults": {
           "arrowcolor": "#2a3f5f",
           "arrowhead": 0,
           "arrowwidth": 1
          },
          "autotypenumbers": "strict",
          "coloraxis": {
           "colorbar": {
            "outlinewidth": 0,
            "ticks": ""
           }
          },
          "colorscale": {
           "diverging": [
            [
             0,
             "#8e0152"
            ],
            [
             0.1,
             "#c51b7d"
            ],
            [
             0.2,
             "#de77ae"
            ],
            [
             0.3,
             "#f1b6da"
            ],
            [
             0.4,
             "#fde0ef"
            ],
            [
             0.5,
             "#f7f7f7"
            ],
            [
             0.6,
             "#e6f5d0"
            ],
            [
             0.7,
             "#b8e186"
            ],
            [
             0.8,
             "#7fbc41"
            ],
            [
             0.9,
             "#4d9221"
            ],
            [
             1,
             "#276419"
            ]
           ],
           "sequential": [
            [
             0,
             "#0d0887"
            ],
            [
             0.1111111111111111,
             "#46039f"
            ],
            [
             0.2222222222222222,
             "#7201a8"
            ],
            [
             0.3333333333333333,
             "#9c179e"
            ],
            [
             0.4444444444444444,
             "#bd3786"
            ],
            [
             0.5555555555555556,
             "#d8576b"
            ],
            [
             0.6666666666666666,
             "#ed7953"
            ],
            [
             0.7777777777777778,
             "#fb9f3a"
            ],
            [
             0.8888888888888888,
             "#fdca26"
            ],
            [
             1,
             "#f0f921"
            ]
           ],
           "sequentialminus": [
            [
             0,
             "#0d0887"
            ],
            [
             0.1111111111111111,
             "#46039f"
            ],
            [
             0.2222222222222222,
             "#7201a8"
            ],
            [
             0.3333333333333333,
             "#9c179e"
            ],
            [
             0.4444444444444444,
             "#bd3786"
            ],
            [
             0.5555555555555556,
             "#d8576b"
            ],
            [
             0.6666666666666666,
             "#ed7953"
            ],
            [
             0.7777777777777778,
             "#fb9f3a"
            ],
            [
             0.8888888888888888,
             "#fdca26"
            ],
            [
             1,
             "#f0f921"
            ]
           ]
          },
          "colorway": [
           "#636efa",
           "#EF553B",
           "#00cc96",
           "#ab63fa",
           "#FFA15A",
           "#19d3f3",
           "#FF6692",
           "#B6E880",
           "#FF97FF",
           "#FECB52"
          ],
          "font": {
           "color": "#2a3f5f"
          },
          "geo": {
           "bgcolor": "white",
           "lakecolor": "white",
           "landcolor": "#E5ECF6",
           "showlakes": true,
           "showland": true,
           "subunitcolor": "white"
          },
          "hoverlabel": {
           "align": "left"
          },
          "hovermode": "closest",
          "mapbox": {
           "style": "light"
          },
          "paper_bgcolor": "white",
          "plot_bgcolor": "#E5ECF6",
          "polar": {
           "angularaxis": {
            "gridcolor": "white",
            "linecolor": "white",
            "ticks": ""
           },
           "bgcolor": "#E5ECF6",
           "radialaxis": {
            "gridcolor": "white",
            "linecolor": "white",
            "ticks": ""
           }
          },
          "scene": {
           "xaxis": {
            "backgroundcolor": "#E5ECF6",
            "gridcolor": "white",
            "gridwidth": 2,
            "linecolor": "white",
            "showbackground": true,
            "ticks": "",
            "zerolinecolor": "white"
           },
           "yaxis": {
            "backgroundcolor": "#E5ECF6",
            "gridcolor": "white",
            "gridwidth": 2,
            "linecolor": "white",
            "showbackground": true,
            "ticks": "",
            "zerolinecolor": "white"
           },
           "zaxis": {
            "backgroundcolor": "#E5ECF6",
            "gridcolor": "white",
            "gridwidth": 2,
            "linecolor": "white",
            "showbackground": true,
            "ticks": "",
            "zerolinecolor": "white"
           }
          },
          "shapedefaults": {
           "line": {
            "color": "#2a3f5f"
           }
          },
          "ternary": {
           "aaxis": {
            "gridcolor": "white",
            "linecolor": "white",
            "ticks": ""
           },
           "baxis": {
            "gridcolor": "white",
            "linecolor": "white",
            "ticks": ""
           },
           "bgcolor": "#E5ECF6",
           "caxis": {
            "gridcolor": "white",
            "linecolor": "white",
            "ticks": ""
           }
          },
          "title": {
           "x": 0.05
          },
          "xaxis": {
           "automargin": true,
           "gridcolor": "white",
           "linecolor": "white",
           "ticks": "",
           "title": {
            "standoff": 15
           },
           "zerolinecolor": "white",
           "zerolinewidth": 2
          },
          "yaxis": {
           "automargin": true,
           "gridcolor": "white",
           "linecolor": "white",
           "ticks": "",
           "title": {
            "standoff": 15
           },
           "zerolinecolor": "white",
           "zerolinewidth": 2
          }
         }
        },
        "title": {
         "text": "Total CO2 emission per Country for the years 2000-2005-2010-2015-2020 (without LULUCF) for the top 10 least emitting countries"
        },
        "xaxis": {
         "title": {
          "text": "Country"
         }
        },
        "yaxis": {
         "title": {
          "text": "Value"
         }
        }
       }
      }
     },
     "metadata": {},
     "output_type": "display_data"
    }
   ],
   "source": [
    "# Calculate the average of the relative values for each country\n",
    "mergeN['avg'] = mergeN[[year+'rel' for year in years]].mean(axis=1)\n",
    "\n",
    "# Sort by the average and select the bottom 10\n",
    "top_countries = mergeN.sort_values('avg', ascending=True).head(10)\n",
    "\n",
    "# Create a new Figure\n",
    "fig = go.Figure()\n",
    "\n",
    "# Add a bar for each year\n",
    "for year in years:\n",
    "    fig.add_trace(go.Bar(\n",
    "        x=top_countries['Area'],\n",
    "        y=top_countries[year+'rel'],\n",
    "        name=year\n",
    "    ))\n",
    "\n",
    "# Change the bar mode to group\n",
    "fig.update_layout(barmode='group')\n",
    "\n",
    "# Add labels and title\n",
    "fig.update_layout(\n",
    "    title='Total CO2 emission per Country for the years 2000-2005-2010-2015-2020 (without LULUCF) for the top 10 least emitting countries',\n",
    "    xaxis_title='Country',\n",
    "    yaxis_title='Value'\n",
    ")\n",
    "\n",
    "# Show the plot\n",
    "fig.show()"
   ]
  }
 ],
 "metadata": {
  "kernelspec": {
   "display_name": "jupyterbook",
   "language": "python",
   "name": "python3"
  },
  "language_info": {
   "codemirror_mode": {
    "name": "ipython",
    "version": 3
   },
   "file_extension": ".py",
   "mimetype": "text/x-python",
   "name": "python",
   "nbconvert_exporter": "python",
   "pygments_lexer": "ipython3",
   "version": "3.10.14"
  }
 },
 "nbformat": 4,
 "nbformat_minor": 2
}
