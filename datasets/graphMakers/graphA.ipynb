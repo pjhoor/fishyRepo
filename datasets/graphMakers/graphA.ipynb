{
 "cells": [
  {
   "cell_type": "code",
   "execution_count": 4,
   "metadata": {},
   "outputs": [],
   "source": [
    "# Imports\n",
    "import pandas as pd\n",
    "import plotly.graph_objs as go\n",
    "import plotly.express as px\n",
    "\n",
    "ems = pd.read_csv('../../datasets/totalEmissionsPerCountry2000-2020.csv')\n",
    "egy = pd.read_csv('../../datasets/globalDataOnSustainableEnergy2000-2020.csv')\n"
   ]
  },
  {
   "cell_type": "code",
   "execution_count": 13,
   "metadata": {},
   "outputs": [],
   "source": [
    "## Preprocessing\n",
    "\n",
    "# Filter the dataset\n",
    "filtered_ems = ems[(ems['Item'] == 'All sectors with LULUCF') & (ems['Element'] == 'Emissions (CO2)')]\n",
    "\n",
    "# Select the required columns\n",
    "filtered_ems = filtered_ems[['Area', 'Item', '2000', '2005', '2010', '2015', '2020']]\n",
    "\n",
    "# Write to a new dataset\n",
    "filtered_ems.to_csv('../../datasets/graphB/emissionsYesLULUCF.csv', index=False)\n"
   ]
  },
  {
   "cell_type": "code",
   "execution_count": 14,
   "metadata": {},
   "outputs": [],
   "source": [
    "# Filter the dataset 2\n",
    "filtered_ems2 = ems[(ems['Item'] == 'All sectors without LULUCF') & (ems['Element'] == 'Emissions (CO2)')]\n",
    "\n",
    "# Select the required columns 2\n",
    "filtered_ems2 = filtered_ems2[['Area', 'Item', '2000', '2005', '2010', '2015', '2020']]\n",
    "\n",
    "# Write to a new dataset 2\n",
    "filtered_ems2.to_csv('../../datasets/graphB/emissionsNoLULUCF', index=False)"
   ]
  },
  {
   "cell_type": "code",
   "execution_count": 16,
   "metadata": {},
   "outputs": [],
   "source": [
    "# Get unique values of 'Entity' and 'Land Area(Km2)'\n",
    "unique_values = ems[['Entity', 'Land Area(Km2)']].drop_duplicates()\n",
    "\n",
    "# Write to a new dataset\n",
    "unique_values.to_csv('../../datasets/graphB/landAreas.csv', index=False)"
   ]
  },
  {
   "cell_type": "code",
   "execution_count": null,
   "metadata": {},
   "outputs": [],
   "source": []
  }
 ],
 "metadata": {
  "kernelspec": {
   "display_name": "jupyterbook",
   "language": "python",
   "name": "python3"
  },
  "language_info": {
   "codemirror_mode": {
    "name": "ipython",
    "version": 3
   },
   "file_extension": ".py",
   "mimetype": "text/x-python",
   "name": "python",
   "nbconvert_exporter": "python",
   "pygments_lexer": "ipython3",
   "version": "3.10.14"
  }
 },
 "nbformat": 4,
 "nbformat_minor": 2
}
