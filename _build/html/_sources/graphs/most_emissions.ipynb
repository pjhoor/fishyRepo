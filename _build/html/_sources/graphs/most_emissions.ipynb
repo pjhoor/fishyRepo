{
 "cells": [
  {
   "cell_type": "code",
   "execution_count": 69,
   "id": "initial_id",
   "metadata": {
    "collapsed": true,
    "ExecuteTime": {
     "end_time": "2024-06-25T13:37:08.584133Z",
     "start_time": "2024-06-25T13:37:08.580938Z"
    }
   },
   "outputs": [],
   "source": [
    "import pandas as pd"
   ]
  },
  {
   "cell_type": "code",
   "outputs": [],
   "source": [
    "\n",
    "df = pd.read_csv(\"../datasets/emissions.csv\")"
   ],
   "metadata": {
    "collapsed": false,
    "ExecuteTime": {
     "end_time": "2024-06-25T13:37:08.670576Z",
     "start_time": "2024-06-25T13:37:08.585845Z"
    }
   },
   "id": "b8ae1e04996f4460",
   "execution_count": 70
  },
  {
   "cell_type": "code",
   "outputs": [
    {
     "data": {
      "text/plain": "          Area           Item                           Element        Unit  \\\n0  Afghanistan  Crop Residues            Direct emissions (N2O)  kilotonnes   \n1  Afghanistan  Crop Residues          Indirect emissions (N2O)  kilotonnes   \n2  Afghanistan  Crop Residues                   Emissions (N2O)  kilotonnes   \n3  Afghanistan  Crop Residues  Emissions (CO2eq) from N2O (AR5)  kilotonnes   \n4  Afghanistan  Crop Residues           Emissions (CO2eq) (AR5)  kilotonnes   \n\n      2000      2001      2002      2003      2004      2005  ...      2011  \\\n0    0.520    0.5267    0.8200    0.9988    0.8225    1.1821  ...    1.0321   \n1    0.117    0.1185    0.1845    0.2247    0.1851    0.2660  ...    0.2322   \n2    0.637    0.6452    1.0045    1.2235    1.0075    1.4481  ...    1.2643   \n3  168.807  170.9884  266.1975  324.2195  266.9995  383.7498  ...  335.0379   \n4  168.807  170.9884  266.1975  324.2195  266.9995  383.7498  ...  335.0379   \n\n       2012      2013      2014      2015      2016      2017      2018  \\\n0    1.3726    1.4018    1.4584    1.2424    1.1940    1.0617    0.8988   \n1    0.3088    0.3154    0.3281    0.2795    0.2687    0.2389    0.2022   \n2    1.6815    1.7173    1.7865    1.5220    1.4627    1.3005    1.1011   \n3  445.5958  455.0727  473.4174  403.3181  387.6130  344.6447  291.7838   \n4  445.5958  455.0727  473.4174  403.3181  387.6130  344.6447  291.7838   \n\n       2019      2020  \n0    1.2176    1.3170  \n1    0.2740    0.2963  \n2    1.4916    1.6133  \n3  395.2689  427.5284  \n4  395.2689  427.5284  \n\n[5 rows x 25 columns]",
      "text/html": "<div>\n<style scoped>\n    .dataframe tbody tr th:only-of-type {\n        vertical-align: middle;\n    }\n\n    .dataframe tbody tr th {\n        vertical-align: top;\n    }\n\n    .dataframe thead th {\n        text-align: right;\n    }\n</style>\n<table border=\"1\" class=\"dataframe\">\n  <thead>\n    <tr style=\"text-align: right;\">\n      <th></th>\n      <th>Area</th>\n      <th>Item</th>\n      <th>Element</th>\n      <th>Unit</th>\n      <th>2000</th>\n      <th>2001</th>\n      <th>2002</th>\n      <th>2003</th>\n      <th>2004</th>\n      <th>2005</th>\n      <th>...</th>\n      <th>2011</th>\n      <th>2012</th>\n      <th>2013</th>\n      <th>2014</th>\n      <th>2015</th>\n      <th>2016</th>\n      <th>2017</th>\n      <th>2018</th>\n      <th>2019</th>\n      <th>2020</th>\n    </tr>\n  </thead>\n  <tbody>\n    <tr>\n      <th>0</th>\n      <td>Afghanistan</td>\n      <td>Crop Residues</td>\n      <td>Direct emissions (N2O)</td>\n      <td>kilotonnes</td>\n      <td>0.520</td>\n      <td>0.5267</td>\n      <td>0.8200</td>\n      <td>0.9988</td>\n      <td>0.8225</td>\n      <td>1.1821</td>\n      <td>...</td>\n      <td>1.0321</td>\n      <td>1.3726</td>\n      <td>1.4018</td>\n      <td>1.4584</td>\n      <td>1.2424</td>\n      <td>1.1940</td>\n      <td>1.0617</td>\n      <td>0.8988</td>\n      <td>1.2176</td>\n      <td>1.3170</td>\n    </tr>\n    <tr>\n      <th>1</th>\n      <td>Afghanistan</td>\n      <td>Crop Residues</td>\n      <td>Indirect emissions (N2O)</td>\n      <td>kilotonnes</td>\n      <td>0.117</td>\n      <td>0.1185</td>\n      <td>0.1845</td>\n      <td>0.2247</td>\n      <td>0.1851</td>\n      <td>0.2660</td>\n      <td>...</td>\n      <td>0.2322</td>\n      <td>0.3088</td>\n      <td>0.3154</td>\n      <td>0.3281</td>\n      <td>0.2795</td>\n      <td>0.2687</td>\n      <td>0.2389</td>\n      <td>0.2022</td>\n      <td>0.2740</td>\n      <td>0.2963</td>\n    </tr>\n    <tr>\n      <th>2</th>\n      <td>Afghanistan</td>\n      <td>Crop Residues</td>\n      <td>Emissions (N2O)</td>\n      <td>kilotonnes</td>\n      <td>0.637</td>\n      <td>0.6452</td>\n      <td>1.0045</td>\n      <td>1.2235</td>\n      <td>1.0075</td>\n      <td>1.4481</td>\n      <td>...</td>\n      <td>1.2643</td>\n      <td>1.6815</td>\n      <td>1.7173</td>\n      <td>1.7865</td>\n      <td>1.5220</td>\n      <td>1.4627</td>\n      <td>1.3005</td>\n      <td>1.1011</td>\n      <td>1.4916</td>\n      <td>1.6133</td>\n    </tr>\n    <tr>\n      <th>3</th>\n      <td>Afghanistan</td>\n      <td>Crop Residues</td>\n      <td>Emissions (CO2eq) from N2O (AR5)</td>\n      <td>kilotonnes</td>\n      <td>168.807</td>\n      <td>170.9884</td>\n      <td>266.1975</td>\n      <td>324.2195</td>\n      <td>266.9995</td>\n      <td>383.7498</td>\n      <td>...</td>\n      <td>335.0379</td>\n      <td>445.5958</td>\n      <td>455.0727</td>\n      <td>473.4174</td>\n      <td>403.3181</td>\n      <td>387.6130</td>\n      <td>344.6447</td>\n      <td>291.7838</td>\n      <td>395.2689</td>\n      <td>427.5284</td>\n    </tr>\n    <tr>\n      <th>4</th>\n      <td>Afghanistan</td>\n      <td>Crop Residues</td>\n      <td>Emissions (CO2eq) (AR5)</td>\n      <td>kilotonnes</td>\n      <td>168.807</td>\n      <td>170.9884</td>\n      <td>266.1975</td>\n      <td>324.2195</td>\n      <td>266.9995</td>\n      <td>383.7498</td>\n      <td>...</td>\n      <td>335.0379</td>\n      <td>445.5958</td>\n      <td>455.0727</td>\n      <td>473.4174</td>\n      <td>403.3181</td>\n      <td>387.6130</td>\n      <td>344.6447</td>\n      <td>291.7838</td>\n      <td>395.2689</td>\n      <td>427.5284</td>\n    </tr>\n  </tbody>\n</table>\n<p>5 rows × 25 columns</p>\n</div>"
     },
     "execution_count": 71,
     "metadata": {},
     "output_type": "execute_result"
    }
   ],
   "source": [
    "df.head()"
   ],
   "metadata": {
    "collapsed": false,
    "ExecuteTime": {
     "end_time": "2024-06-25T13:37:08.678644Z",
     "start_time": "2024-06-25T13:37:08.671545Z"
    }
   },
   "id": "680bf649bb4aeeb7",
   "execution_count": 71
  },
  {
   "cell_type": "code",
   "outputs": [
    {
     "data": {
      "text/plain": "              Area                         Item          Element        Unit  \\\n48     Afghanistan  Drained organic soils (CO2)  Emissions (CO2)  kilotonnes   \n55     Afghanistan           On-farm energy use  Emissions (CO2)  kilotonnes   \n59     Afghanistan                   Forestland  Emissions (CO2)  kilotonnes   \n61     Afghanistan        Net Forest conversion  Emissions (CO2)  kilotonnes   \n69     Afghanistan       Fires in organic soils  Emissions (CO2)  kilotonnes   \n...            ...                          ...              ...         ...   \n58722         OECD            Agri-food systems  Emissions (CO2)  kilotonnes   \n58741         OECD                       LULUCF  Emissions (CO2)  kilotonnes   \n58747         OECD                        AFOLU  Emissions (CO2)  kilotonnes   \n58753         OECD      All sectors with LULUCF  Emissions (CO2)  kilotonnes   \n58760         OECD   All sectors without LULUCF  Emissions (CO2)  kilotonnes   \n\n               2000          2001          2002          2003          2004  \\\n48     0.000000e+00  0.000000e+00  0.000000e+00  0.000000e+00  0.000000e+00   \n55     2.505850e+01  2.853610e+01  3.747700e+01  3.871230e+01  4.161290e+01   \n59    -2.388803e+03  1.219016e+02  1.219016e+02  1.219016e+02  1.219016e+02   \n61     0.000000e+00  0.000000e+00  0.000000e+00  0.000000e+00  0.000000e+00   \n69     0.000000e+00  0.000000e+00  0.000000e+00  0.000000e+00  0.000000e+00   \n...             ...           ...           ...           ...           ...   \n58722  1.899433e+06  1.863324e+06  1.866430e+06  1.891530e+06  1.906577e+06   \n58741 -6.169099e+05 -5.953943e+05 -5.955402e+05 -5.958026e+05 -5.956964e+05   \n58747 -6.169099e+05 -5.953943e+05 -5.955402e+05 -5.958026e+05 -5.956964e+05   \n58753  1.272637e+07  1.266766e+07  1.273425e+07  1.292657e+07  1.307081e+07   \n58760  1.334328e+07  1.326305e+07  1.332979e+07  1.352237e+07  1.366651e+07   \n\n               2005  ...          2011          2012          2013  \\\n48     0.000000e+00  ...  0.000000e+00  0.000000e+00  0.000000e+00   \n55     5.471410e+01  ...  3.930081e+02  3.632833e+02  2.560833e+02   \n59     1.219016e+02  ... -2.462191e+02 -2.462191e+02 -2.462191e+02   \n61     0.000000e+00  ...  0.000000e+00  0.000000e+00  0.000000e+00   \n69     0.000000e+00  ...  0.000000e+00  0.000000e+00  0.000000e+00   \n...             ...  ...           ...           ...           ...   \n58722  1.918157e+06  ...  1.762764e+06  1.743015e+06  1.778369e+06   \n58741 -5.956050e+05  ... -7.315450e+05 -7.314916e+05 -7.316108e+05   \n58747 -5.956050e+05  ... -7.315450e+05 -7.314916e+05 -7.316108e+05   \n58753  1.309921e+07  ...  1.216647e+07  1.196997e+07  1.201081e+07   \n58760  1.369481e+07  ...  1.289801e+07  1.270146e+07  1.274243e+07   \n\n               2014          2015          2016          2017          2018  \\\n48     0.000000e+00  0.000000e+00  0.000000e+00  0.000000e+00  0.000000e+00   \n55     2.116509e+02  2.318452e+02  1.816056e+02  1.327927e+02  1.328417e+02   \n59    -2.462191e+02 -2.462191e+02  1.546574e+02  1.546574e+02  1.546574e+02   \n61     0.000000e+00  0.000000e+00  0.000000e+00  0.000000e+00  0.000000e+00   \n69     0.000000e+00  0.000000e+00  0.000000e+00  0.000000e+00  0.000000e+00   \n...             ...           ...           ...           ...           ...   \n58722  1.763314e+06  1.776992e+06  1.850725e+06  1.858191e+06  1.859871e+06   \n58741 -7.317735e+05 -7.318264e+05 -4.332621e+05 -4.330293e+05 -4.316775e+05   \n58747 -7.317735e+05 -7.318264e+05 -4.332621e+05 -4.330293e+05 -4.316775e+05   \n58753  1.188487e+07  1.180118e+07  1.197901e+07  1.200355e+07  1.211516e+07   \n58760  1.261664e+07  1.253301e+07  1.241227e+07  1.243658e+07  1.254684e+07   \n\n               2019          2020  \n48     0.000000e+00  0.000000e+00  \n55     1.170798e+02  1.170798e+02  \n59     1.546574e+02  1.546574e+02  \n61     0.000000e+00  0.000000e+00  \n69     0.000000e+00  0.000000e+00  \n...             ...           ...  \n58722  1.886488e+06  1.759777e+06  \n58741 -4.312161e+05 -4.309865e+05  \n58747 -4.312161e+05 -4.309865e+05  \n58753  1.173948e+07  1.045820e+07  \n58760  1.217070e+07  1.088919e+07  \n\n[6677 rows x 25 columns]",
      "text/html": "<div>\n<style scoped>\n    .dataframe tbody tr th:only-of-type {\n        vertical-align: middle;\n    }\n\n    .dataframe tbody tr th {\n        vertical-align: top;\n    }\n\n    .dataframe thead th {\n        text-align: right;\n    }\n</style>\n<table border=\"1\" class=\"dataframe\">\n  <thead>\n    <tr style=\"text-align: right;\">\n      <th></th>\n      <th>Area</th>\n      <th>Item</th>\n      <th>Element</th>\n      <th>Unit</th>\n      <th>2000</th>\n      <th>2001</th>\n      <th>2002</th>\n      <th>2003</th>\n      <th>2004</th>\n      <th>2005</th>\n      <th>...</th>\n      <th>2011</th>\n      <th>2012</th>\n      <th>2013</th>\n      <th>2014</th>\n      <th>2015</th>\n      <th>2016</th>\n      <th>2017</th>\n      <th>2018</th>\n      <th>2019</th>\n      <th>2020</th>\n    </tr>\n  </thead>\n  <tbody>\n    <tr>\n      <th>48</th>\n      <td>Afghanistan</td>\n      <td>Drained organic soils (CO2)</td>\n      <td>Emissions (CO2)</td>\n      <td>kilotonnes</td>\n      <td>0.000000e+00</td>\n      <td>0.000000e+00</td>\n      <td>0.000000e+00</td>\n      <td>0.000000e+00</td>\n      <td>0.000000e+00</td>\n      <td>0.000000e+00</td>\n      <td>...</td>\n      <td>0.000000e+00</td>\n      <td>0.000000e+00</td>\n      <td>0.000000e+00</td>\n      <td>0.000000e+00</td>\n      <td>0.000000e+00</td>\n      <td>0.000000e+00</td>\n      <td>0.000000e+00</td>\n      <td>0.000000e+00</td>\n      <td>0.000000e+00</td>\n      <td>0.000000e+00</td>\n    </tr>\n    <tr>\n      <th>55</th>\n      <td>Afghanistan</td>\n      <td>On-farm energy use</td>\n      <td>Emissions (CO2)</td>\n      <td>kilotonnes</td>\n      <td>2.505850e+01</td>\n      <td>2.853610e+01</td>\n      <td>3.747700e+01</td>\n      <td>3.871230e+01</td>\n      <td>4.161290e+01</td>\n      <td>5.471410e+01</td>\n      <td>...</td>\n      <td>3.930081e+02</td>\n      <td>3.632833e+02</td>\n      <td>2.560833e+02</td>\n      <td>2.116509e+02</td>\n      <td>2.318452e+02</td>\n      <td>1.816056e+02</td>\n      <td>1.327927e+02</td>\n      <td>1.328417e+02</td>\n      <td>1.170798e+02</td>\n      <td>1.170798e+02</td>\n    </tr>\n    <tr>\n      <th>59</th>\n      <td>Afghanistan</td>\n      <td>Forestland</td>\n      <td>Emissions (CO2)</td>\n      <td>kilotonnes</td>\n      <td>-2.388803e+03</td>\n      <td>1.219016e+02</td>\n      <td>1.219016e+02</td>\n      <td>1.219016e+02</td>\n      <td>1.219016e+02</td>\n      <td>1.219016e+02</td>\n      <td>...</td>\n      <td>-2.462191e+02</td>\n      <td>-2.462191e+02</td>\n      <td>-2.462191e+02</td>\n      <td>-2.462191e+02</td>\n      <td>-2.462191e+02</td>\n      <td>1.546574e+02</td>\n      <td>1.546574e+02</td>\n      <td>1.546574e+02</td>\n      <td>1.546574e+02</td>\n      <td>1.546574e+02</td>\n    </tr>\n    <tr>\n      <th>61</th>\n      <td>Afghanistan</td>\n      <td>Net Forest conversion</td>\n      <td>Emissions (CO2)</td>\n      <td>kilotonnes</td>\n      <td>0.000000e+00</td>\n      <td>0.000000e+00</td>\n      <td>0.000000e+00</td>\n      <td>0.000000e+00</td>\n      <td>0.000000e+00</td>\n      <td>0.000000e+00</td>\n      <td>...</td>\n      <td>0.000000e+00</td>\n      <td>0.000000e+00</td>\n      <td>0.000000e+00</td>\n      <td>0.000000e+00</td>\n      <td>0.000000e+00</td>\n      <td>0.000000e+00</td>\n      <td>0.000000e+00</td>\n      <td>0.000000e+00</td>\n      <td>0.000000e+00</td>\n      <td>0.000000e+00</td>\n    </tr>\n    <tr>\n      <th>69</th>\n      <td>Afghanistan</td>\n      <td>Fires in organic soils</td>\n      <td>Emissions (CO2)</td>\n      <td>kilotonnes</td>\n      <td>0.000000e+00</td>\n      <td>0.000000e+00</td>\n      <td>0.000000e+00</td>\n      <td>0.000000e+00</td>\n      <td>0.000000e+00</td>\n      <td>0.000000e+00</td>\n      <td>...</td>\n      <td>0.000000e+00</td>\n      <td>0.000000e+00</td>\n      <td>0.000000e+00</td>\n      <td>0.000000e+00</td>\n      <td>0.000000e+00</td>\n      <td>0.000000e+00</td>\n      <td>0.000000e+00</td>\n      <td>0.000000e+00</td>\n      <td>0.000000e+00</td>\n      <td>0.000000e+00</td>\n    </tr>\n    <tr>\n      <th>...</th>\n      <td>...</td>\n      <td>...</td>\n      <td>...</td>\n      <td>...</td>\n      <td>...</td>\n      <td>...</td>\n      <td>...</td>\n      <td>...</td>\n      <td>...</td>\n      <td>...</td>\n      <td>...</td>\n      <td>...</td>\n      <td>...</td>\n      <td>...</td>\n      <td>...</td>\n      <td>...</td>\n      <td>...</td>\n      <td>...</td>\n      <td>...</td>\n      <td>...</td>\n      <td>...</td>\n    </tr>\n    <tr>\n      <th>58722</th>\n      <td>OECD</td>\n      <td>Agri-food systems</td>\n      <td>Emissions (CO2)</td>\n      <td>kilotonnes</td>\n      <td>1.899433e+06</td>\n      <td>1.863324e+06</td>\n      <td>1.866430e+06</td>\n      <td>1.891530e+06</td>\n      <td>1.906577e+06</td>\n      <td>1.918157e+06</td>\n      <td>...</td>\n      <td>1.762764e+06</td>\n      <td>1.743015e+06</td>\n      <td>1.778369e+06</td>\n      <td>1.763314e+06</td>\n      <td>1.776992e+06</td>\n      <td>1.850725e+06</td>\n      <td>1.858191e+06</td>\n      <td>1.859871e+06</td>\n      <td>1.886488e+06</td>\n      <td>1.759777e+06</td>\n    </tr>\n    <tr>\n      <th>58741</th>\n      <td>OECD</td>\n      <td>LULUCF</td>\n      <td>Emissions (CO2)</td>\n      <td>kilotonnes</td>\n      <td>-6.169099e+05</td>\n      <td>-5.953943e+05</td>\n      <td>-5.955402e+05</td>\n      <td>-5.958026e+05</td>\n      <td>-5.956964e+05</td>\n      <td>-5.956050e+05</td>\n      <td>...</td>\n      <td>-7.315450e+05</td>\n      <td>-7.314916e+05</td>\n      <td>-7.316108e+05</td>\n      <td>-7.317735e+05</td>\n      <td>-7.318264e+05</td>\n      <td>-4.332621e+05</td>\n      <td>-4.330293e+05</td>\n      <td>-4.316775e+05</td>\n      <td>-4.312161e+05</td>\n      <td>-4.309865e+05</td>\n    </tr>\n    <tr>\n      <th>58747</th>\n      <td>OECD</td>\n      <td>AFOLU</td>\n      <td>Emissions (CO2)</td>\n      <td>kilotonnes</td>\n      <td>-6.169099e+05</td>\n      <td>-5.953943e+05</td>\n      <td>-5.955402e+05</td>\n      <td>-5.958026e+05</td>\n      <td>-5.956964e+05</td>\n      <td>-5.956050e+05</td>\n      <td>...</td>\n      <td>-7.315450e+05</td>\n      <td>-7.314916e+05</td>\n      <td>-7.316108e+05</td>\n      <td>-7.317735e+05</td>\n      <td>-7.318264e+05</td>\n      <td>-4.332621e+05</td>\n      <td>-4.330293e+05</td>\n      <td>-4.316775e+05</td>\n      <td>-4.312161e+05</td>\n      <td>-4.309865e+05</td>\n    </tr>\n    <tr>\n      <th>58753</th>\n      <td>OECD</td>\n      <td>All sectors with LULUCF</td>\n      <td>Emissions (CO2)</td>\n      <td>kilotonnes</td>\n      <td>1.272637e+07</td>\n      <td>1.266766e+07</td>\n      <td>1.273425e+07</td>\n      <td>1.292657e+07</td>\n      <td>1.307081e+07</td>\n      <td>1.309921e+07</td>\n      <td>...</td>\n      <td>1.216647e+07</td>\n      <td>1.196997e+07</td>\n      <td>1.201081e+07</td>\n      <td>1.188487e+07</td>\n      <td>1.180118e+07</td>\n      <td>1.197901e+07</td>\n      <td>1.200355e+07</td>\n      <td>1.211516e+07</td>\n      <td>1.173948e+07</td>\n      <td>1.045820e+07</td>\n    </tr>\n    <tr>\n      <th>58760</th>\n      <td>OECD</td>\n      <td>All sectors without LULUCF</td>\n      <td>Emissions (CO2)</td>\n      <td>kilotonnes</td>\n      <td>1.334328e+07</td>\n      <td>1.326305e+07</td>\n      <td>1.332979e+07</td>\n      <td>1.352237e+07</td>\n      <td>1.366651e+07</td>\n      <td>1.369481e+07</td>\n      <td>...</td>\n      <td>1.289801e+07</td>\n      <td>1.270146e+07</td>\n      <td>1.274243e+07</td>\n      <td>1.261664e+07</td>\n      <td>1.253301e+07</td>\n      <td>1.241227e+07</td>\n      <td>1.243658e+07</td>\n      <td>1.254684e+07</td>\n      <td>1.217070e+07</td>\n      <td>1.088919e+07</td>\n    </tr>\n  </tbody>\n</table>\n<p>6677 rows × 25 columns</p>\n</div>"
     },
     "execution_count": 72,
     "metadata": {},
     "output_type": "execute_result"
    }
   ],
   "source": [
    "df[df['Element'] == 'Emissions (CO2)']"
   ],
   "metadata": {
    "collapsed": false,
    "ExecuteTime": {
     "end_time": "2024-06-25T13:37:08.691741Z",
     "start_time": "2024-06-25T13:37:08.679211Z"
    }
   },
   "id": "2a55f394e1ce1c66",
   "execution_count": 72
  },
  {
   "cell_type": "code",
   "outputs": [
    {
     "data": {
      "text/plain": "                        Area          2011\n50939                  World  3.554947e+07\n58538  Non-Annex I countries  2.194034e+07\n53482                   Asia  1.827977e+07\n58263      Annex I countries  1.247130e+07\n58753                   OECD  1.216647e+07\n...                      ...           ...\n7223                 Burundi -1.430676e+03\n16308                   Fiji -1.566882e+03\n9012                   Chile -1.760956e+03\n41695        Solomon Islands -1.747123e+04\n37636                Romania -1.953694e+05\n\n[271 rows x 2 columns]",
      "text/html": "<div>\n<style scoped>\n    .dataframe tbody tr th:only-of-type {\n        vertical-align: middle;\n    }\n\n    .dataframe tbody tr th {\n        vertical-align: top;\n    }\n\n    .dataframe thead th {\n        text-align: right;\n    }\n</style>\n<table border=\"1\" class=\"dataframe\">\n  <thead>\n    <tr style=\"text-align: right;\">\n      <th></th>\n      <th>Area</th>\n      <th>2011</th>\n    </tr>\n  </thead>\n  <tbody>\n    <tr>\n      <th>50939</th>\n      <td>World</td>\n      <td>3.554947e+07</td>\n    </tr>\n    <tr>\n      <th>58538</th>\n      <td>Non-Annex I countries</td>\n      <td>2.194034e+07</td>\n    </tr>\n    <tr>\n      <th>53482</th>\n      <td>Asia</td>\n      <td>1.827977e+07</td>\n    </tr>\n    <tr>\n      <th>58263</th>\n      <td>Annex I countries</td>\n      <td>1.247130e+07</td>\n    </tr>\n    <tr>\n      <th>58753</th>\n      <td>OECD</td>\n      <td>1.216647e+07</td>\n    </tr>\n    <tr>\n      <th>...</th>\n      <td>...</td>\n      <td>...</td>\n    </tr>\n    <tr>\n      <th>7223</th>\n      <td>Burundi</td>\n      <td>-1.430676e+03</td>\n    </tr>\n    <tr>\n      <th>16308</th>\n      <td>Fiji</td>\n      <td>-1.566882e+03</td>\n    </tr>\n    <tr>\n      <th>9012</th>\n      <td>Chile</td>\n      <td>-1.760956e+03</td>\n    </tr>\n    <tr>\n      <th>41695</th>\n      <td>Solomon Islands</td>\n      <td>-1.747123e+04</td>\n    </tr>\n    <tr>\n      <th>37636</th>\n      <td>Romania</td>\n      <td>-1.953694e+05</td>\n    </tr>\n  </tbody>\n</table>\n<p>271 rows × 2 columns</p>\n</div>"
     },
     "execution_count": 73,
     "metadata": {},
     "output_type": "execute_result"
    }
   ],
   "source": [
    "df[(df['Element'] == 'Emissions (CO2)') & (df['Item'] == 'All sectors with LULUCF')].sort_values('2011',\n",
    "                                                                                                 ascending=False)[\n",
    "    ['Area', '2011']].dropna()"
   ],
   "metadata": {
    "collapsed": false,
    "ExecuteTime": {
     "end_time": "2024-06-25T13:37:08.701367Z",
     "start_time": "2024-06-25T13:37:08.692910Z"
    }
   },
   "id": "634faf25476049cd",
   "execution_count": 73
  },
  {
   "cell_type": "code",
   "outputs": [
    {
     "data": {
      "text/plain": "                                 Item         2011\n37451     Drained organic soils (CO2)     541.5399\n37461              On-farm energy use    1000.4525\n37465                      Forestland -287048.9424\n37466                      Forestland  -25798.8458\n37469           Net Forest conversion    1343.3200\n37470           Net Forest conversion     872.5241\n37479          Fires in organic soils       0.0000\n37494       Waste - agri-food systems      23.1798\n37499       Fertilizers Manufacturing    1232.6626\n37504         On-farm electricity use     379.5043\n37510                 Food Processing    1923.3486\n37516                  Food Packaging     768.7074\n37522                     Food Retail     759.4280\n37529      Food Household Consumption    1657.2647\n37535                  Food Transport    1107.7550\n37541                          Energy   81300.0000\n37547                            IPPU    8490.0000\n37554                           Waste       4.6700\n37565             Farm-gate emissions    1541.9924\n37571                 Land Use change    1343.3200\n37577  Emissions on agricultural land    2885.3124\n37583       Pre- and post- production    7851.8504\n37590               Agri-food systems   10737.1628\n37601                IPCC Agriculture      90.6501\n37622                          LULUCF -285164.0825\n37623                          LULUCF  -29287.1052\n37630                           AFOLU -285164.0825\n37636         All sectors with LULUCF -195369.4125\n37643      All sectors without LULUCF   89794.6700",
      "text/html": "<div>\n<style scoped>\n    .dataframe tbody tr th:only-of-type {\n        vertical-align: middle;\n    }\n\n    .dataframe tbody tr th {\n        vertical-align: top;\n    }\n\n    .dataframe thead th {\n        text-align: right;\n    }\n</style>\n<table border=\"1\" class=\"dataframe\">\n  <thead>\n    <tr style=\"text-align: right;\">\n      <th></th>\n      <th>Item</th>\n      <th>2011</th>\n    </tr>\n  </thead>\n  <tbody>\n    <tr>\n      <th>37451</th>\n      <td>Drained organic soils (CO2)</td>\n      <td>541.5399</td>\n    </tr>\n    <tr>\n      <th>37461</th>\n      <td>On-farm energy use</td>\n      <td>1000.4525</td>\n    </tr>\n    <tr>\n      <th>37465</th>\n      <td>Forestland</td>\n      <td>-287048.9424</td>\n    </tr>\n    <tr>\n      <th>37466</th>\n      <td>Forestland</td>\n      <td>-25798.8458</td>\n    </tr>\n    <tr>\n      <th>37469</th>\n      <td>Net Forest conversion</td>\n      <td>1343.3200</td>\n    </tr>\n    <tr>\n      <th>37470</th>\n      <td>Net Forest conversion</td>\n      <td>872.5241</td>\n    </tr>\n    <tr>\n      <th>37479</th>\n      <td>Fires in organic soils</td>\n      <td>0.0000</td>\n    </tr>\n    <tr>\n      <th>37494</th>\n      <td>Waste - agri-food systems</td>\n      <td>23.1798</td>\n    </tr>\n    <tr>\n      <th>37499</th>\n      <td>Fertilizers Manufacturing</td>\n      <td>1232.6626</td>\n    </tr>\n    <tr>\n      <th>37504</th>\n      <td>On-farm electricity use</td>\n      <td>379.5043</td>\n    </tr>\n    <tr>\n      <th>37510</th>\n      <td>Food Processing</td>\n      <td>1923.3486</td>\n    </tr>\n    <tr>\n      <th>37516</th>\n      <td>Food Packaging</td>\n      <td>768.7074</td>\n    </tr>\n    <tr>\n      <th>37522</th>\n      <td>Food Retail</td>\n      <td>759.4280</td>\n    </tr>\n    <tr>\n      <th>37529</th>\n      <td>Food Household Consumption</td>\n      <td>1657.2647</td>\n    </tr>\n    <tr>\n      <th>37535</th>\n      <td>Food Transport</td>\n      <td>1107.7550</td>\n    </tr>\n    <tr>\n      <th>37541</th>\n      <td>Energy</td>\n      <td>81300.0000</td>\n    </tr>\n    <tr>\n      <th>37547</th>\n      <td>IPPU</td>\n      <td>8490.0000</td>\n    </tr>\n    <tr>\n      <th>37554</th>\n      <td>Waste</td>\n      <td>4.6700</td>\n    </tr>\n    <tr>\n      <th>37565</th>\n      <td>Farm-gate emissions</td>\n      <td>1541.9924</td>\n    </tr>\n    <tr>\n      <th>37571</th>\n      <td>Land Use change</td>\n      <td>1343.3200</td>\n    </tr>\n    <tr>\n      <th>37577</th>\n      <td>Emissions on agricultural land</td>\n      <td>2885.3124</td>\n    </tr>\n    <tr>\n      <th>37583</th>\n      <td>Pre- and post- production</td>\n      <td>7851.8504</td>\n    </tr>\n    <tr>\n      <th>37590</th>\n      <td>Agri-food systems</td>\n      <td>10737.1628</td>\n    </tr>\n    <tr>\n      <th>37601</th>\n      <td>IPCC Agriculture</td>\n      <td>90.6501</td>\n    </tr>\n    <tr>\n      <th>37622</th>\n      <td>LULUCF</td>\n      <td>-285164.0825</td>\n    </tr>\n    <tr>\n      <th>37623</th>\n      <td>LULUCF</td>\n      <td>-29287.1052</td>\n    </tr>\n    <tr>\n      <th>37630</th>\n      <td>AFOLU</td>\n      <td>-285164.0825</td>\n    </tr>\n    <tr>\n      <th>37636</th>\n      <td>All sectors with LULUCF</td>\n      <td>-195369.4125</td>\n    </tr>\n    <tr>\n      <th>37643</th>\n      <td>All sectors without LULUCF</td>\n      <td>89794.6700</td>\n    </tr>\n  </tbody>\n</table>\n</div>"
     },
     "execution_count": 74,
     "metadata": {},
     "output_type": "execute_result"
    }
   ],
   "source": [
    "df[(df['Element'] == 'Emissions (CO2)') & (df['Area'] == 'Romania')][['Item', '2011']]"
   ],
   "metadata": {
    "collapsed": false,
    "ExecuteTime": {
     "end_time": "2024-06-25T13:37:08.710104Z",
     "start_time": "2024-06-25T13:37:08.702098Z"
    }
   },
   "id": "9ffe1eebb9a047d5",
   "execution_count": 74
  },
  {
   "cell_type": "code",
   "outputs": [
    {
     "name": "stdout",
     "output_type": "stream",
     "text": [
      "1234065\n"
     ]
    },
    {
     "data": {
      "text/plain": "          Area           Item                           Element        Unit  \\\n0  Afghanistan  Crop Residues            Direct emissions (N2O)  kilotonnes   \n1  Afghanistan  Crop Residues          Indirect emissions (N2O)  kilotonnes   \n2  Afghanistan  Crop Residues                   Emissions (N2O)  kilotonnes   \n3  Afghanistan  Crop Residues  Emissions (CO2eq) from N2O (AR5)  kilotonnes   \n4  Afghanistan  Crop Residues           Emissions (CO2eq) (AR5)  kilotonnes   \n\n   Year  Emission  \n0  2000     0.520  \n1  2000     0.117  \n2  2000     0.637  \n3  2000   168.807  \n4  2000   168.807  ",
      "text/html": "<div>\n<style scoped>\n    .dataframe tbody tr th:only-of-type {\n        vertical-align: middle;\n    }\n\n    .dataframe tbody tr th {\n        vertical-align: top;\n    }\n\n    .dataframe thead th {\n        text-align: right;\n    }\n</style>\n<table border=\"1\" class=\"dataframe\">\n  <thead>\n    <tr style=\"text-align: right;\">\n      <th></th>\n      <th>Area</th>\n      <th>Item</th>\n      <th>Element</th>\n      <th>Unit</th>\n      <th>Year</th>\n      <th>Emission</th>\n    </tr>\n  </thead>\n  <tbody>\n    <tr>\n      <th>0</th>\n      <td>Afghanistan</td>\n      <td>Crop Residues</td>\n      <td>Direct emissions (N2O)</td>\n      <td>kilotonnes</td>\n      <td>2000</td>\n      <td>0.520</td>\n    </tr>\n    <tr>\n      <th>1</th>\n      <td>Afghanistan</td>\n      <td>Crop Residues</td>\n      <td>Indirect emissions (N2O)</td>\n      <td>kilotonnes</td>\n      <td>2000</td>\n      <td>0.117</td>\n    </tr>\n    <tr>\n      <th>2</th>\n      <td>Afghanistan</td>\n      <td>Crop Residues</td>\n      <td>Emissions (N2O)</td>\n      <td>kilotonnes</td>\n      <td>2000</td>\n      <td>0.637</td>\n    </tr>\n    <tr>\n      <th>3</th>\n      <td>Afghanistan</td>\n      <td>Crop Residues</td>\n      <td>Emissions (CO2eq) from N2O (AR5)</td>\n      <td>kilotonnes</td>\n      <td>2000</td>\n      <td>168.807</td>\n    </tr>\n    <tr>\n      <th>4</th>\n      <td>Afghanistan</td>\n      <td>Crop Residues</td>\n      <td>Emissions (CO2eq) (AR5)</td>\n      <td>kilotonnes</td>\n      <td>2000</td>\n      <td>168.807</td>\n    </tr>\n  </tbody>\n</table>\n</div>"
     },
     "execution_count": 75,
     "metadata": {},
     "output_type": "execute_result"
    }
   ],
   "source": [
    "df_melt = df.melt(id_vars=['Area', 'Item', 'Element', 'Unit'], var_name='Year', value_name='Emission')\n",
    "df_melt['Year']=pd.to_numeric(df_melt['Year'])\n",
    "print(len(df_melt))\n",
    "df_melt.head()"
   ],
   "metadata": {
    "collapsed": false,
    "ExecuteTime": {
     "end_time": "2024-06-25T13:37:08.980523Z",
     "start_time": "2024-06-25T13:37:08.710782Z"
    }
   },
   "id": "22645a998da53d94",
   "execution_count": 75
  },
  {
   "cell_type": "code",
   "outputs": [
    {
     "data": {
      "text/plain": "        Entity  Year  Access to electricity (% of population)  \\\n0  Afghanistan  2000                                 1.613591   \n1  Afghanistan  2001                                 4.074574   \n2  Afghanistan  2002                                 9.409158   \n3  Afghanistan  2003                                14.738506   \n4  Afghanistan  2004                                20.064968   \n\n   Access to clean fuels for cooking  \\\n0                                6.2   \n1                                7.2   \n2                                8.2   \n3                                9.5   \n4                               10.9   \n\n   Renewable-electricity-generating-capacity-per-capita  \\\n0                                               9.22      \n1                                               8.86      \n2                                               8.47      \n3                                               8.09      \n4                                               7.75      \n\n   Financial flows to developing countries (US $)  \\\n0                                         20000.0   \n1                                        130000.0   \n2                                       3950000.0   \n3                                      25970000.0   \n4                                             NaN   \n\n   Renewable energy share in the total final energy consumption (%)  \\\n0                                              44.99                  \n1                                              45.60                  \n2                                              37.83                  \n3                                              36.66                  \n4                                              44.24                  \n\n   Electricity from fossil fuels (TWh)  Electricity from nuclear (TWh)  \\\n0                                 0.16                             0.0   \n1                                 0.09                             0.0   \n2                                 0.13                             0.0   \n3                                 0.31                             0.0   \n4                                 0.33                             0.0   \n\n   Electricity from renewables (TWh)  ...  \\\n0                               0.31  ...   \n1                               0.50  ...   \n2                               0.56  ...   \n3                               0.63  ...   \n4                               0.56  ...   \n\n   Primary energy consumption per capita (kWh/person)  \\\n0                                          302.59482    \n1                                          236.89185    \n2                                          210.86215    \n3                                          229.96822    \n4                                          204.23125    \n\n   Energy intensity level of primary energy (MJ/$2017 PPP GDP)  \\\n0                                               1.64             \n1                                               1.74             \n2                                               1.40             \n3                                               1.40             \n4                                               1.20             \n\n   Value_co2_emissions_kt_by_country  \\\n0                         760.000000   \n1                         730.000000   \n2                        1029.999971   \n3                        1220.000029   \n4                        1029.999971   \n\n   Renewables (% equivalent primary energy)  gdp_growth  gdp_per_capita  \\\n0                                       NaN         NaN             NaN   \n1                                       NaN         NaN             NaN   \n2                                       NaN         NaN      179.426579   \n3                                       NaN    8.832278      190.683814   \n4                                       NaN    1.414118      211.382074   \n\n   Density\\n(P/Km2) Land Area(Km2)  Latitude  Longitude  \n0                60       652230.0  33.93911  67.709953  \n1                60       652230.0  33.93911  67.709953  \n2                60       652230.0  33.93911  67.709953  \n3                60       652230.0  33.93911  67.709953  \n4                60       652230.0  33.93911  67.709953  \n\n[5 rows x 21 columns]",
      "text/html": "<div>\n<style scoped>\n    .dataframe tbody tr th:only-of-type {\n        vertical-align: middle;\n    }\n\n    .dataframe tbody tr th {\n        vertical-align: top;\n    }\n\n    .dataframe thead th {\n        text-align: right;\n    }\n</style>\n<table border=\"1\" class=\"dataframe\">\n  <thead>\n    <tr style=\"text-align: right;\">\n      <th></th>\n      <th>Entity</th>\n      <th>Year</th>\n      <th>Access to electricity (% of population)</th>\n      <th>Access to clean fuels for cooking</th>\n      <th>Renewable-electricity-generating-capacity-per-capita</th>\n      <th>Financial flows to developing countries (US $)</th>\n      <th>Renewable energy share in the total final energy consumption (%)</th>\n      <th>Electricity from fossil fuels (TWh)</th>\n      <th>Electricity from nuclear (TWh)</th>\n      <th>Electricity from renewables (TWh)</th>\n      <th>...</th>\n      <th>Primary energy consumption per capita (kWh/person)</th>\n      <th>Energy intensity level of primary energy (MJ/$2017 PPP GDP)</th>\n      <th>Value_co2_emissions_kt_by_country</th>\n      <th>Renewables (% equivalent primary energy)</th>\n      <th>gdp_growth</th>\n      <th>gdp_per_capita</th>\n      <th>Density\\n(P/Km2)</th>\n      <th>Land Area(Km2)</th>\n      <th>Latitude</th>\n      <th>Longitude</th>\n    </tr>\n  </thead>\n  <tbody>\n    <tr>\n      <th>0</th>\n      <td>Afghanistan</td>\n      <td>2000</td>\n      <td>1.613591</td>\n      <td>6.2</td>\n      <td>9.22</td>\n      <td>20000.0</td>\n      <td>44.99</td>\n      <td>0.16</td>\n      <td>0.0</td>\n      <td>0.31</td>\n      <td>...</td>\n      <td>302.59482</td>\n      <td>1.64</td>\n      <td>760.000000</td>\n      <td>NaN</td>\n      <td>NaN</td>\n      <td>NaN</td>\n      <td>60</td>\n      <td>652230.0</td>\n      <td>33.93911</td>\n      <td>67.709953</td>\n    </tr>\n    <tr>\n      <th>1</th>\n      <td>Afghanistan</td>\n      <td>2001</td>\n      <td>4.074574</td>\n      <td>7.2</td>\n      <td>8.86</td>\n      <td>130000.0</td>\n      <td>45.60</td>\n      <td>0.09</td>\n      <td>0.0</td>\n      <td>0.50</td>\n      <td>...</td>\n      <td>236.89185</td>\n      <td>1.74</td>\n      <td>730.000000</td>\n      <td>NaN</td>\n      <td>NaN</td>\n      <td>NaN</td>\n      <td>60</td>\n      <td>652230.0</td>\n      <td>33.93911</td>\n      <td>67.709953</td>\n    </tr>\n    <tr>\n      <th>2</th>\n      <td>Afghanistan</td>\n      <td>2002</td>\n      <td>9.409158</td>\n      <td>8.2</td>\n      <td>8.47</td>\n      <td>3950000.0</td>\n      <td>37.83</td>\n      <td>0.13</td>\n      <td>0.0</td>\n      <td>0.56</td>\n      <td>...</td>\n      <td>210.86215</td>\n      <td>1.40</td>\n      <td>1029.999971</td>\n      <td>NaN</td>\n      <td>NaN</td>\n      <td>179.426579</td>\n      <td>60</td>\n      <td>652230.0</td>\n      <td>33.93911</td>\n      <td>67.709953</td>\n    </tr>\n    <tr>\n      <th>3</th>\n      <td>Afghanistan</td>\n      <td>2003</td>\n      <td>14.738506</td>\n      <td>9.5</td>\n      <td>8.09</td>\n      <td>25970000.0</td>\n      <td>36.66</td>\n      <td>0.31</td>\n      <td>0.0</td>\n      <td>0.63</td>\n      <td>...</td>\n      <td>229.96822</td>\n      <td>1.40</td>\n      <td>1220.000029</td>\n      <td>NaN</td>\n      <td>8.832278</td>\n      <td>190.683814</td>\n      <td>60</td>\n      <td>652230.0</td>\n      <td>33.93911</td>\n      <td>67.709953</td>\n    </tr>\n    <tr>\n      <th>4</th>\n      <td>Afghanistan</td>\n      <td>2004</td>\n      <td>20.064968</td>\n      <td>10.9</td>\n      <td>7.75</td>\n      <td>NaN</td>\n      <td>44.24</td>\n      <td>0.33</td>\n      <td>0.0</td>\n      <td>0.56</td>\n      <td>...</td>\n      <td>204.23125</td>\n      <td>1.20</td>\n      <td>1029.999971</td>\n      <td>NaN</td>\n      <td>1.414118</td>\n      <td>211.382074</td>\n      <td>60</td>\n      <td>652230.0</td>\n      <td>33.93911</td>\n      <td>67.709953</td>\n    </tr>\n  </tbody>\n</table>\n<p>5 rows × 21 columns</p>\n</div>"
     },
     "execution_count": 76,
     "metadata": {},
     "output_type": "execute_result"
    }
   ],
   "source": [
    "df2 = pd.read_csv('../datasets/sus.csv')\n",
    "df2.head()"
   ],
   "metadata": {
    "collapsed": false,
    "ExecuteTime": {
     "end_time": "2024-06-25T13:37:08.992783Z",
     "start_time": "2024-06-25T13:37:08.981273Z"
    }
   },
   "id": "ccbcb44b70634f1f",
   "execution_count": 76
  },
  {
   "cell_type": "markdown",
   "source": [],
   "metadata": {
    "collapsed": false
   },
   "id": "a2af1902dfaa71dc"
  },
  {
   "cell_type": "code",
   "outputs": [],
   "source": [
    "merged = pd.merge(df_melt, df2, left_on=['Area', 'Year'], right_on=['Entity', 'Year'], how='left')"
   ],
   "metadata": {
    "collapsed": false,
    "ExecuteTime": {
     "end_time": "2024-06-25T13:37:09.183284Z",
     "start_time": "2024-06-25T13:37:08.993436Z"
    }
   },
   "id": "7561f8ac73481ba8",
   "execution_count": 77
  },
  {
   "cell_type": "code",
   "outputs": [],
   "source": [
    "merged.to_csv('merged_to_csv', index=False)"
   ],
   "metadata": {
    "collapsed": false,
    "ExecuteTime": {
     "end_time": "2024-06-25T13:37:15.507578Z",
     "start_time": "2024-06-25T13:37:09.183927Z"
    }
   },
   "id": "d5c0e62ab91808b2",
   "execution_count": 78
  },
  {
   "cell_type": "code",
   "outputs": [],
   "source": [],
   "metadata": {
    "collapsed": false,
    "ExecuteTime": {
     "end_time": "2024-06-25T13:37:15.510590Z",
     "start_time": "2024-06-25T13:37:15.509285Z"
    }
   },
   "id": "d8f011f941ad4113",
   "execution_count": 78
  },
  {
   "cell_type": "code",
   "outputs": [
    {
     "data": {
      "text/plain": "0                                    Afghanistan\n224                                      Albania\n463                                      Algeria\n698                               American Samoa\n799                                      Andorra\n                          ...                   \n57570          Low Income Food Deficit Countries\n57785    Net Food Importing Developing Countries\n57999                          Annex I countries\n58275                      Non-Annex I countries\n58550                                       OECD\nName: Area, Length: 280, dtype: object"
     },
     "execution_count": 79,
     "metadata": {},
     "output_type": "execute_result"
    }
   ],
   "source": [
    "df = pd.read_csv(\"../datasets/emissions.csv\")\n",
    "df[\"Area\"]. drop_duplicates()"
   ],
   "metadata": {
    "collapsed": false,
    "ExecuteTime": {
     "end_time": "2024-06-25T13:37:15.575531Z",
     "start_time": "2024-06-25T13:37:15.511213Z"
    }
   },
   "id": "506dace190fe8ffc",
   "execution_count": 79
  },
  {
   "cell_type": "code",
   "outputs": [],
   "source": [],
   "metadata": {
    "collapsed": false,
    "ExecuteTime": {
     "end_time": "2024-06-25T13:37:15.577267Z",
     "start_time": "2024-06-25T13:37:15.576120Z"
    }
   },
   "id": "a56fdfb07db5fdda",
   "execution_count": 79
  }
 ],
 "metadata": {
  "kernelspec": {
   "display_name": "Python 3",
   "language": "python",
   "name": "python3"
  },
  "language_info": {
   "codemirror_mode": {
    "name": "ipython",
    "version": 2
   },
   "file_extension": ".py",
   "mimetype": "text/x-python",
   "name": "python",
   "nbconvert_exporter": "python",
   "pygments_lexer": "ipython2",
   "version": "2.7.6"
  }
 },
 "nbformat": 4,
 "nbformat_minor": 5
}
